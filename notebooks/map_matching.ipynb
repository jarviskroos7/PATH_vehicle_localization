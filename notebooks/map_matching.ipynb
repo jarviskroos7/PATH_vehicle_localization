{
 "cells": [
  {
   "cell_type": "code",
   "execution_count": 93,
   "metadata": {},
   "outputs": [],
   "source": [
    "import numpy as np\n",
    "import pandas as pd\n",
    "import sys\n",
    "import matplotlib.pyplot as plt\n",
    "import seaborn as sns\n",
    "import geopy\n",
    "from pprint import pprint\n",
    "from geopy.distance import geodesic\n",
    "from tqdm import tqdm\n",
    "plt.rcParams[\"figure.dpi\"] = 100\n",
    "\n",
    "sys.path.insert(1, '/Users/jarvis/PATH_vehicle_localization/src')\n",
    "from util import *"
   ]
  },
  {
   "cell_type": "markdown",
   "metadata": {},
   "source": [
    "### Data Loading\n",
    "- 100Hz\n",
    "- Ground truth RTK-GPS coordinates with augmented left and right lane markings"
   ]
  },
  {
   "cell_type": "code",
   "execution_count": 55,
   "metadata": {},
   "outputs": [],
   "source": [
    "ll_marks = pd.read_csv('../data/acm_track/augmented_lane_line/ll_lane.csv.gzip', compression='gzip', index_col=0)\n",
    "rl_marks = pd.read_csv('../data/acm_track/augmented_lane_line/rl_lane.csv.gzip', compression='gzip', index_col=0)\n",
    "\n",
    "ll_marks = ll_marks[['y', 'x', 'Vx', 'left_mark_lat', 'left_mark_lon', 'right_mark_lat', 'right_mark_lon', 'Distance horizontal (m)']]\n",
    "rl_marks = rl_marks[['y', 'x', 'Vx', 'left_mark_lat', 'left_mark_lon', 'right_mark_lat', 'right_mark_lon', 'Distance horizontal (m)']]"
   ]
  },
  {
   "cell_type": "code",
   "execution_count": 56,
   "metadata": {},
   "outputs": [
    {
     "data": {
      "text/html": [
       "<div>\n",
       "<style scoped>\n",
       "    .dataframe tbody tr th:only-of-type {\n",
       "        vertical-align: middle;\n",
       "    }\n",
       "\n",
       "    .dataframe tbody tr th {\n",
       "        vertical-align: top;\n",
       "    }\n",
       "\n",
       "    .dataframe thead th {\n",
       "        text-align: right;\n",
       "    }\n",
       "</style>\n",
       "<table border=\"1\" class=\"dataframe\">\n",
       "  <thead>\n",
       "    <tr style=\"text-align: right;\">\n",
       "      <th></th>\n",
       "      <th>y</th>\n",
       "      <th>x</th>\n",
       "      <th>Vx</th>\n",
       "      <th>left_mark_lat</th>\n",
       "      <th>left_mark_lon</th>\n",
       "      <th>right_mark_lat</th>\n",
       "      <th>right_mark_lon</th>\n",
       "      <th>Distance horizontal (m)</th>\n",
       "    </tr>\n",
       "  </thead>\n",
       "  <tbody>\n",
       "    <tr>\n",
       "      <th>0</th>\n",
       "      <td>42.238643</td>\n",
       "      <td>-83.557448</td>\n",
       "      <td>0.01</td>\n",
       "      <td>-83.557432</td>\n",
       "      <td>42.238624</td>\n",
       "      <td>-83.557465</td>\n",
       "      <td>42.238662</td>\n",
       "      <td>0.0</td>\n",
       "    </tr>\n",
       "    <tr>\n",
       "      <th>1</th>\n",
       "      <td>42.238643</td>\n",
       "      <td>-83.557448</td>\n",
       "      <td>0.01</td>\n",
       "      <td>-83.557432</td>\n",
       "      <td>42.238624</td>\n",
       "      <td>-83.557465</td>\n",
       "      <td>42.238662</td>\n",
       "      <td>0.0</td>\n",
       "    </tr>\n",
       "    <tr>\n",
       "      <th>2</th>\n",
       "      <td>42.238643</td>\n",
       "      <td>-83.557448</td>\n",
       "      <td>0.01</td>\n",
       "      <td>-83.557432</td>\n",
       "      <td>42.238624</td>\n",
       "      <td>-83.557465</td>\n",
       "      <td>42.238662</td>\n",
       "      <td>0.0</td>\n",
       "    </tr>\n",
       "    <tr>\n",
       "      <th>3</th>\n",
       "      <td>42.238643</td>\n",
       "      <td>-83.557448</td>\n",
       "      <td>0.01</td>\n",
       "      <td>-83.557432</td>\n",
       "      <td>42.238624</td>\n",
       "      <td>-83.557465</td>\n",
       "      <td>42.238662</td>\n",
       "      <td>0.0</td>\n",
       "    </tr>\n",
       "    <tr>\n",
       "      <th>4</th>\n",
       "      <td>42.238643</td>\n",
       "      <td>-83.557448</td>\n",
       "      <td>0.01</td>\n",
       "      <td>-83.557432</td>\n",
       "      <td>42.238624</td>\n",
       "      <td>-83.557465</td>\n",
       "      <td>42.238662</td>\n",
       "      <td>0.0</td>\n",
       "    </tr>\n",
       "  </tbody>\n",
       "</table>\n",
       "</div>"
      ],
      "text/plain": [
       "           y          x    Vx  left_mark_lat  left_mark_lon  right_mark_lat  \\\n",
       "0  42.238643 -83.557448  0.01     -83.557432      42.238624      -83.557465   \n",
       "1  42.238643 -83.557448  0.01     -83.557432      42.238624      -83.557465   \n",
       "2  42.238643 -83.557448  0.01     -83.557432      42.238624      -83.557465   \n",
       "3  42.238643 -83.557448  0.01     -83.557432      42.238624      -83.557465   \n",
       "4  42.238643 -83.557448  0.01     -83.557432      42.238624      -83.557465   \n",
       "\n",
       "   right_mark_lon  Distance horizontal (m)  \n",
       "0       42.238662                      0.0  \n",
       "1       42.238662                      0.0  \n",
       "2       42.238662                      0.0  \n",
       "3       42.238662                      0.0  \n",
       "4       42.238662                      0.0  "
      ]
     },
     "execution_count": 56,
     "metadata": {},
     "output_type": "execute_result"
    }
   ],
   "source": [
    "ll_marks.head()"
   ]
  },
  {
   "cell_type": "code",
   "execution_count": 52,
   "metadata": {},
   "outputs": [
    {
     "data": {
      "text/plain": [
       "(19.111790358365297, 21.909061145434567)"
      ]
     },
     "execution_count": 52,
     "metadata": {},
     "output_type": "execute_result"
    }
   ],
   "source": [
    "# points per meter ~= 20\n",
    "ll_marks.shape[0] / ll_marks['Distance horizontal (m)'].values[-1], rl_marks.shape[0] / rl_marks['Distance horizontal (m)'].values[-1]"
   ]
  },
  {
   "cell_type": "markdown",
   "metadata": {},
   "source": [
    "### Lon. Speed Integration"
   ]
  },
  {
   "cell_type": "code",
   "execution_count": null,
   "metadata": {},
   "outputs": [],
   "source": []
  },
  {
   "cell_type": "markdown",
   "metadata": {},
   "source": [
    "### GPS Sampling\n",
    "\n",
    "- 100Hz to 10Hz"
   ]
  },
  {
   "cell_type": "code",
   "execution_count": 47,
   "metadata": {},
   "outputs": [
    {
     "name": "stdout",
     "output_type": "stream",
     "text": [
      "(7082, 7)\n"
     ]
    }
   ],
   "source": [
    "ll_sampled_noise = sample_gps(ll_marks, sampling_rate=10)\n",
    "rl_sampled_noise = sample_gps(rl_marks, sampling_rate=10)\n",
    "\n",
    "print(ll_sampled_noise.shape)"
   ]
  },
  {
   "cell_type": "code",
   "execution_count": 49,
   "metadata": {},
   "outputs": [
    {
     "data": {
      "text/plain": [
       "20"
      ]
     },
     "execution_count": 49,
     "metadata": {},
     "output_type": "execute_result"
    }
   ],
   "source": [
    "ll_sampled_noise[(ll_sampled_noise['Distance horizontal (m)'] >= 100) & (ll_sampled_noise['Distance horizontal (m)'] <= 110)].shape[0]"
   ]
  },
  {
   "cell_type": "markdown",
   "metadata": {},
   "source": [
    "### GPS Noise Augmentation\n",
    "\n",
    "- https://wiki.gis.com/wiki/index.php/Decimal_degrees\n",
    "- 5 decimal places corresponds to an accuracy of 11.1 meters (+/- 5.55m) at the equator"
   ]
  },
  {
   "cell_type": "markdown",
   "metadata": {},
   "source": [
    "#### scratch work"
   ]
  },
  {
   "cell_type": "code",
   "execution_count": 6,
   "metadata": {},
   "outputs": [
    {
     "name": "stdout",
     "output_type": "stream",
     "text": [
      "3\n",
      "4\n",
      "2\n"
     ]
    }
   ],
   "source": [
    "np.random.seed(0)\n",
    "seeds = np.random.randint(10, size=3)\n",
    "\n",
    "for seed in seeds:\n",
    "    np.random.seed(seed)\n",
    "    print(np.random.randint(5))"
   ]
  },
  {
   "cell_type": "code",
   "execution_count": 7,
   "metadata": {},
   "outputs": [
    {
     "data": {
      "text/plain": [
       "(array([ 1.,  5.,  7., 13., 17., 18., 16., 11.,  7.,  5.]),\n",
       " array([-1.27649491e-05, -1.03535769e-05, -7.94220464e-06, -5.53083242e-06,\n",
       "        -3.11946020e-06, -7.08087980e-07,  1.70328424e-06,  4.11465646e-06,\n",
       "         6.52602868e-06,  8.93740090e-06,  1.13487731e-05]),\n",
       " <BarContainer object of 10 artists>)"
      ]
     },
     "execution_count": 7,
     "metadata": {},
     "output_type": "execute_result"
    },
    {
     "data": {
      "image/png": "[encoded data removed]",
      "text/plain": [
       "<Figure size 432x288 with 1 Axes>"
      ]
     },
     "metadata": {
      "needs_background": "light"
     },
     "output_type": "display_data"
    }
   ],
   "source": [
    "np.random.seed(0)\n",
    "plt.hist(0.00001 * 0.5 * np.random.randn(100))"
   ]
  },
  {
   "cell_type": "code",
   "execution_count": 257,
   "metadata": {},
   "outputs": [
    {
     "name": "stdout",
     "output_type": "stream",
     "text": [
      "Random seeds = [5 8 9 5]\n",
      "Random seeds = [8 8 6 2]\n"
     ]
    }
   ],
   "source": [
    "colns = ['left_mark_lat', 'left_mark_lon', 'right_mark_lat', 'right_mark_lon']\n",
    "ll_sampled_noise = gps_noise_augmentation(ll_sampled_noise, 0.000005, colns, seed=1)\n",
    "rl_sampled_noise = gps_noise_augmentation(rl_sampled_noise, 0.000005, colns, seed=2)"
   ]
  },
  {
   "cell_type": "code",
   "execution_count": 12,
   "metadata": {},
   "outputs": [
    {
     "data": {
      "text/html": [
       "<div>\n",
       "<style scoped>\n",
       "    .dataframe tbody tr th:only-of-type {\n",
       "        vertical-align: middle;\n",
       "    }\n",
       "\n",
       "    .dataframe tbody tr th {\n",
       "        vertical-align: top;\n",
       "    }\n",
       "\n",
       "    .dataframe thead th {\n",
       "        text-align: right;\n",
       "    }\n",
       "</style>\n",
       "<table border=\"1\" class=\"dataframe\">\n",
       "  <thead>\n",
       "    <tr style=\"text-align: right;\">\n",
       "      <th></th>\n",
       "      <th>y</th>\n",
       "      <th>x</th>\n",
       "      <th>left_mark_lat</th>\n",
       "      <th>left_mark_lon</th>\n",
       "      <th>right_mark_lat</th>\n",
       "      <th>right_mark_lon</th>\n",
       "      <th>left_mark_lat_noise</th>\n",
       "      <th>left_mark_lon_noise</th>\n",
       "      <th>right_mark_lat_noise</th>\n",
       "      <th>right_mark_lon_noise</th>\n",
       "    </tr>\n",
       "  </thead>\n",
       "  <tbody>\n",
       "    <tr>\n",
       "      <th>0</th>\n",
       "      <td>42.238584</td>\n",
       "      <td>-83.557726</td>\n",
       "      <td>-83.557709</td>\n",
       "      <td>42.238566</td>\n",
       "      <td>-83.557742</td>\n",
       "      <td>42.238601</td>\n",
       "      <td>-83.557709</td>\n",
       "      <td>42.238566</td>\n",
       "      <td>-83.557743</td>\n",
       "      <td>42.238599</td>\n",
       "    </tr>\n",
       "    <tr>\n",
       "      <th>10</th>\n",
       "      <td>42.238584</td>\n",
       "      <td>-83.557726</td>\n",
       "      <td>-83.557709</td>\n",
       "      <td>42.238566</td>\n",
       "      <td>-83.557742</td>\n",
       "      <td>42.238601</td>\n",
       "      <td>-83.557704</td>\n",
       "      <td>42.238571</td>\n",
       "      <td>-83.557738</td>\n",
       "      <td>42.238601</td>\n",
       "    </tr>\n",
       "    <tr>\n",
       "      <th>20</th>\n",
       "      <td>42.238584</td>\n",
       "      <td>-83.557726</td>\n",
       "      <td>-83.557709</td>\n",
       "      <td>42.238566</td>\n",
       "      <td>-83.557742</td>\n",
       "      <td>42.238601</td>\n",
       "      <td>-83.557719</td>\n",
       "      <td>42.238556</td>\n",
       "      <td>-83.557741</td>\n",
       "      <td>42.238591</td>\n",
       "    </tr>\n",
       "    <tr>\n",
       "      <th>30</th>\n",
       "      <td>42.238584</td>\n",
       "      <td>-83.557726</td>\n",
       "      <td>-83.557709</td>\n",
       "      <td>42.238566</td>\n",
       "      <td>-83.557742</td>\n",
       "      <td>42.238601</td>\n",
       "      <td>-83.557716</td>\n",
       "      <td>42.238559</td>\n",
       "      <td>-83.557746</td>\n",
       "      <td>42.238610</td>\n",
       "    </tr>\n",
       "    <tr>\n",
       "      <th>40</th>\n",
       "      <td>42.238584</td>\n",
       "      <td>-83.557726</td>\n",
       "      <td>-83.557709</td>\n",
       "      <td>42.238566</td>\n",
       "      <td>-83.557742</td>\n",
       "      <td>42.238601</td>\n",
       "      <td>-83.557721</td>\n",
       "      <td>42.238554</td>\n",
       "      <td>-83.557754</td>\n",
       "      <td>42.238592</td>\n",
       "    </tr>\n",
       "  </tbody>\n",
       "</table>\n",
       "</div>"
      ],
      "text/plain": [
       "            y          x  left_mark_lat  left_mark_lon  right_mark_lat  \\\n",
       "0   42.238584 -83.557726     -83.557709      42.238566      -83.557742   \n",
       "10  42.238584 -83.557726     -83.557709      42.238566      -83.557742   \n",
       "20  42.238584 -83.557726     -83.557709      42.238566      -83.557742   \n",
       "30  42.238584 -83.557726     -83.557709      42.238566      -83.557742   \n",
       "40  42.238584 -83.557726     -83.557709      42.238566      -83.557742   \n",
       "\n",
       "    right_mark_lon  left_mark_lat_noise  left_mark_lon_noise  \\\n",
       "0        42.238601           -83.557709            42.238566   \n",
       "10       42.238601           -83.557704            42.238571   \n",
       "20       42.238601           -83.557719            42.238556   \n",
       "30       42.238601           -83.557716            42.238559   \n",
       "40       42.238601           -83.557721            42.238554   \n",
       "\n",
       "    right_mark_lat_noise  right_mark_lon_noise  \n",
       "0             -83.557743             42.238599  \n",
       "10            -83.557738             42.238601  \n",
       "20            -83.557741             42.238591  \n",
       "30            -83.557746             42.238610  \n",
       "40            -83.557754             42.238592  "
      ]
     },
     "execution_count": 12,
     "metadata": {},
     "output_type": "execute_result"
    }
   ],
   "source": [
    "rl_sampled_noise.head()"
   ]
  },
  {
   "cell_type": "code",
   "execution_count": 90,
   "metadata": {},
   "outputs": [],
   "source": [
    "def traj_gps_error(traj_df, colns1, colns2) -> np.ndarray:\n",
    "    \"\"\"\n",
    "    calculates the GPS coordinate error between (colns1.lat, colns1.lon) and (colns2.lat, colns2.lon)\n",
    "    distance metric: geodesic\n",
    "    \"\"\"\n",
    "    error = []\n",
    "    lat1 = traj_df[colns1[0]].values\n",
    "    lon1 = traj_df[colns1[1]].values\n",
    "\n",
    "    if type(colns2[0]) == str:    \n",
    "        lat2 = traj_df[colns2[0]].values\n",
    "        lon2 = traj_df[colns2[1]].values\n",
    "    else:\n",
    "        lat2 = colns2[0] * np.ones_like(lat1)\n",
    "        lon2 = colns2[1] * np.ones_like(lon1)\n",
    "\n",
    "    def get_distance(lat1, lon1, lat2, lon2):\n",
    "        point1 = (lat1, lon1)\n",
    "        point2 = (lat2, lon2)\n",
    "        return geodesic(point1, point2).meters\n",
    "    \n",
    "    error = np.vectorize(get_distance)(\n",
    "        lat1, lon1, lat2, lon2\n",
    "    )\n",
    "    return error"
   ]
  },
  {
   "cell_type": "code",
   "execution_count": 258,
   "metadata": {},
   "outputs": [
    {
     "name": "stdout",
     "output_type": "stream",
     "text": [
      "0.2283798921294963\n",
      "0.16373160031940776\n"
     ]
    }
   ],
   "source": [
    "# left lane, left lanemark\n",
    "\n",
    "ll_mark_error_l = traj_gps_error(\n",
    "    ll_sampled_noise, \n",
    "    colns1=['left_mark_lat', 'left_mark_lon'], colns2=['left_mark_lat_noise', 'left_mark_lon_noise']\n",
    ")\n",
    "\n",
    "pprint(ll_mark_error_l.mean())\n",
    "pprint(ll_mark_error_l.std())"
   ]
  },
  {
   "cell_type": "code",
   "execution_count": 259,
   "metadata": {},
   "outputs": [
    {
     "name": "stdout",
     "output_type": "stream",
     "text": [
      "0.2267288010150975\n",
      "0.1683601904470513\n"
     ]
    }
   ],
   "source": [
    "# left lane, right lanemark\n",
    "\n",
    "ll_mark_error_r = traj_gps_error(\n",
    "    ll_sampled_noise, \n",
    "    colns1=['right_mark_lat', 'right_mark_lon'], colns2=['right_mark_lat_noise', 'right_mark_lon_noise']\n",
    ")\n",
    "\n",
    "pprint(ll_mark_error_r.mean())\n",
    "pprint(ll_mark_error_r.std())"
   ]
  },
  {
   "cell_type": "code",
   "execution_count": 38,
   "metadata": {},
   "outputs": [
    {
     "data": {
      "image/png": "[encoded data removed]",
      "text/plain": [
       "<Figure size 700x400 with 1 Axes>"
      ]
     },
     "metadata": {
      "needs_background": "light"
     },
     "output_type": "display_data"
    }
   ],
   "source": [
    "plt.figure(figsize=(7, 4), dpi=100)\n",
    "sns.histplot(ll_mark_error_l, binwidth=0.05, label='left lanemark', kde=True, color='red', element = \"step\")\n",
    "sns.histplot(ll_mark_error_r, binwidth=0.05, label='right lanemark', kde=True, element = \"step\")\n",
    "plt.legend()\n",
    "plt.xlabel('error [m]')\n",
    "plt.title('Lanemark Error, Ground Truth vs. Augmented Noise, Left Lane')\n",
    "plt.show()"
   ]
  },
  {
   "cell_type": "markdown",
   "metadata": {},
   "source": [
    "## Map-Matching"
   ]
  },
  {
   "cell_type": "markdown",
   "metadata": {},
   "source": [
    "### Building Local Map\n",
    "- Using unsampled ground truth reference data \n",
    "- Separate local search map for left and right lanemark\n",
    "\n",
    "\n",
    "Method 1: Sliding windows\\\n",
    "Method 2: Buffer"
   ]
  },
  {
   "cell_type": "code",
   "execution_count": 160,
   "metadata": {},
   "outputs": [],
   "source": [
    "m = 2 # [m]"
   ]
  },
  {
   "cell_type": "markdown",
   "metadata": {},
   "source": [
    "#### Sample Test"
   ]
  },
  {
   "cell_type": "code",
   "execution_count": 169,
   "metadata": {},
   "outputs": [
    {
     "data": {
      "text/html": [
       "<div>\n",
       "<style scoped>\n",
       "    .dataframe tbody tr th:only-of-type {\n",
       "        vertical-align: middle;\n",
       "    }\n",
       "\n",
       "    .dataframe tbody tr th {\n",
       "        vertical-align: top;\n",
       "    }\n",
       "\n",
       "    .dataframe thead th {\n",
       "        text-align: right;\n",
       "    }\n",
       "</style>\n",
       "<table border=\"1\" class=\"dataframe\">\n",
       "  <thead>\n",
       "    <tr style=\"text-align: right;\">\n",
       "      <th></th>\n",
       "      <th>y</th>\n",
       "      <th>x</th>\n",
       "      <th>left_mark_lat</th>\n",
       "      <th>left_mark_lon</th>\n",
       "      <th>right_mark_lat</th>\n",
       "      <th>right_mark_lon</th>\n",
       "      <th>Distance horizontal (m)</th>\n",
       "      <th>left_mark_lat_noise</th>\n",
       "      <th>left_mark_lon_noise</th>\n",
       "      <th>right_mark_lat_noise</th>\n",
       "      <th>right_mark_lon_noise</th>\n",
       "    </tr>\n",
       "  </thead>\n",
       "  <tbody>\n",
       "    <tr>\n",
       "      <th>16440</th>\n",
       "      <td>42.241908</td>\n",
       "      <td>-83.551636</td>\n",
       "      <td>-83.551632</td>\n",
       "      <td>42.241768</td>\n",
       "      <td>-83.551641</td>\n",
       "      <td>42.242049</td>\n",
       "      <td>668.577</td>\n",
       "      <td>-83.551632</td>\n",
       "      <td>42.241769</td>\n",
       "      <td>-83.551641</td>\n",
       "      <td>42.242048</td>\n",
       "    </tr>\n",
       "  </tbody>\n",
       "</table>\n",
       "</div>"
      ],
      "text/plain": [
       "               y          x  left_mark_lat  left_mark_lon  right_mark_lat  \\\n",
       "16440  42.241908 -83.551636     -83.551632      42.241768      -83.551641   \n",
       "\n",
       "       right_mark_lon  Distance horizontal (m)  left_mark_lat_noise  \\\n",
       "16440       42.242049                  668.577           -83.551632   \n",
       "\n",
       "       left_mark_lon_noise  right_mark_lat_noise  right_mark_lon_noise  \n",
       "16440            42.241769            -83.551641             42.242048  "
      ]
     },
     "execution_count": 169,
     "metadata": {},
     "output_type": "execute_result"
    }
   ],
   "source": [
    "rl_sampled_noise.sample()"
   ]
  },
  {
   "cell_type": "code",
   "execution_count": 276,
   "metadata": {},
   "outputs": [],
   "source": [
    "def build_m(lane_ref, point, m) -> pd.DataFrame:\n",
    "    \n",
    "    bound1 = geodesic(meters=m/2).destination(\n",
    "        point, bearing=45\n",
    "    )\n",
    "    bound2 = geodesic(meters=m/2).destination(\n",
    "        point, bearing=225\n",
    "    )\n",
    "\n",
    "    local_map = lane_ref[\n",
    "        (lane_ref['left_mark_lat'] <= bound1.latitude) &\\\n",
    "        (lane_ref['left_mark_lat'] >= bound2.latitude) &\\\n",
    "        (lane_ref['left_mark_lon'] <= bound1.longitude) &\\\n",
    "        (lane_ref['left_mark_lon'] >= bound2.longitude)\n",
    "    ]\n",
    "\n",
    "    # pprint(f'{local_map.shape[0]} references points are found in the local search map')\n",
    "\n",
    "    return local_map"
   ]
  },
  {
   "cell_type": "code",
   "execution_count": 277,
   "metadata": {},
   "outputs": [],
   "source": [
    "def get_cloest_ref(local_map, point: geopy.Point) -> np.ndarray:\n",
    "    \n",
    "    error = traj_gps_error(local_map, ['left_mark_lat', 'left_mark_lon'], [point.latitude, point.longitude])\n",
    "    idx = np.argmin(error)\n",
    "    cloest_ref = np.array([\n",
    "        local_map['left_mark_lat'].values[idx], local_map['left_mark_lon'].values[idx]\n",
    "    ])\n",
    "    \n",
    "    return cloest_ref"
   ]
  },
  {
   "cell_type": "code",
   "execution_count": 275,
   "metadata": {},
   "outputs": [],
   "source": [
    "def map_matching(lane_ref, est, m):\n",
    "\n",
    "    # left lanemark\n",
    "    ref_opt_lat = []\n",
    "    ref_opt_lon = []\n",
    "    local_map_size = []\n",
    "\n",
    "    for idx in tqdm(range(est.shape[0])):\n",
    "        est_point = geopy.Point(est['left_mark_lat_noise'].values[idx], est['left_mark_lon_noise'].values[idx])\n",
    "        local_map = build_m(lane_ref, est_point, m)\n",
    "        local_map_size.append(local_map.shape[0])\n",
    "        ref_opt = get_cloest_ref(local_map, est_point)\n",
    "        ref_opt_lat.append(ref_opt[0])\n",
    "        ref_opt_lon.append(ref_opt[1])\n",
    "\n",
    "    est['ref_opt_lat'] = ref_opt_lat\n",
    "    est['ref_opt_lon'] = ref_opt_lon\n",
    "\n",
    "    return est, local_map_size"
   ]
  },
  {
   "cell_type": "code",
   "execution_count": 278,
   "metadata": {},
   "outputs": [
    {
     "name": "stderr",
     "output_type": "stream",
     "text": [
      "100%|██████████| 7082/7082 [00:55<00:00, 126.57it/s]\n"
     ]
    }
   ],
   "source": [
    "ll_mapmatch, local_map_sizes = map_matching(ll_marks, ll_sampled_noise, m=2)"
   ]
  },
  {
   "cell_type": "code",
   "execution_count": 280,
   "metadata": {},
   "outputs": [
    {
     "data": {
      "text/plain": [
       "54.39508613386049"
      ]
     },
     "execution_count": 280,
     "metadata": {},
     "output_type": "execute_result"
    }
   ],
   "source": [
    "np.average(local_map_sizes)"
   ]
  },
  {
   "cell_type": "code",
   "execution_count": 184,
   "metadata": {},
   "outputs": [
    {
     "data": {
      "text/html": [
       "<div>\n",
       "<style scoped>\n",
       "    .dataframe tbody tr th:only-of-type {\n",
       "        vertical-align: middle;\n",
       "    }\n",
       "\n",
       "    .dataframe tbody tr th {\n",
       "        vertical-align: top;\n",
       "    }\n",
       "\n",
       "    .dataframe thead th {\n",
       "        text-align: right;\n",
       "    }\n",
       "</style>\n",
       "<table border=\"1\" class=\"dataframe\">\n",
       "  <thead>\n",
       "    <tr style=\"text-align: right;\">\n",
       "      <th></th>\n",
       "      <th>y</th>\n",
       "      <th>x</th>\n",
       "      <th>left_mark_lat</th>\n",
       "      <th>left_mark_lon</th>\n",
       "      <th>right_mark_lat</th>\n",
       "      <th>right_mark_lon</th>\n",
       "      <th>Distance horizontal (m)</th>\n",
       "      <th>left_mark_lat_noise</th>\n",
       "      <th>left_mark_lon_noise</th>\n",
       "      <th>right_mark_lat_noise</th>\n",
       "      <th>right_mark_lon_noise</th>\n",
       "      <th>ref_opt_lat</th>\n",
       "      <th>ref_opt_lon</th>\n",
       "    </tr>\n",
       "  </thead>\n",
       "  <tbody>\n",
       "    <tr>\n",
       "      <th>0</th>\n",
       "      <td>42.238643</td>\n",
       "      <td>-83.557448</td>\n",
       "      <td>-83.557432</td>\n",
       "      <td>42.238624</td>\n",
       "      <td>-83.557465</td>\n",
       "      <td>42.238662</td>\n",
       "      <td>0.000</td>\n",
       "      <td>-83.557431</td>\n",
       "      <td>42.238624</td>\n",
       "      <td>-83.557465</td>\n",
       "      <td>42.238663</td>\n",
       "      <td>-83.557431</td>\n",
       "      <td>42.238624</td>\n",
       "    </tr>\n",
       "    <tr>\n",
       "      <th>10</th>\n",
       "      <td>42.238643</td>\n",
       "      <td>-83.557448</td>\n",
       "      <td>-83.557432</td>\n",
       "      <td>42.238624</td>\n",
       "      <td>-83.557465</td>\n",
       "      <td>42.238662</td>\n",
       "      <td>0.001</td>\n",
       "      <td>-83.557433</td>\n",
       "      <td>42.238626</td>\n",
       "      <td>-83.557465</td>\n",
       "      <td>42.238661</td>\n",
       "      <td>-83.557433</td>\n",
       "      <td>42.238627</td>\n",
       "    </tr>\n",
       "    <tr>\n",
       "      <th>20</th>\n",
       "      <td>42.238643</td>\n",
       "      <td>-83.557448</td>\n",
       "      <td>-83.557432</td>\n",
       "      <td>42.238624</td>\n",
       "      <td>-83.557464</td>\n",
       "      <td>42.238662</td>\n",
       "      <td>0.002</td>\n",
       "      <td>-83.557426</td>\n",
       "      <td>42.238619</td>\n",
       "      <td>-83.557467</td>\n",
       "      <td>42.238668</td>\n",
       "      <td>-83.557426</td>\n",
       "      <td>42.238624</td>\n",
       "    </tr>\n",
       "    <tr>\n",
       "      <th>30</th>\n",
       "      <td>42.238643</td>\n",
       "      <td>-83.557448</td>\n",
       "      <td>-83.557432</td>\n",
       "      <td>42.238624</td>\n",
       "      <td>-83.557464</td>\n",
       "      <td>42.238662</td>\n",
       "      <td>0.003</td>\n",
       "      <td>-83.557433</td>\n",
       "      <td>42.238620</td>\n",
       "      <td>-83.557465</td>\n",
       "      <td>42.238662</td>\n",
       "      <td>-83.557432</td>\n",
       "      <td>42.238624</td>\n",
       "    </tr>\n",
       "    <tr>\n",
       "      <th>40</th>\n",
       "      <td>42.238643</td>\n",
       "      <td>-83.557448</td>\n",
       "      <td>-83.557432</td>\n",
       "      <td>42.238624</td>\n",
       "      <td>-83.557464</td>\n",
       "      <td>42.238662</td>\n",
       "      <td>0.004</td>\n",
       "      <td>-83.557432</td>\n",
       "      <td>42.238618</td>\n",
       "      <td>-83.557465</td>\n",
       "      <td>42.238663</td>\n",
       "      <td>-83.557432</td>\n",
       "      <td>42.238624</td>\n",
       "    </tr>\n",
       "    <tr>\n",
       "      <th>...</th>\n",
       "      <td>...</td>\n",
       "      <td>...</td>\n",
       "      <td>...</td>\n",
       "      <td>...</td>\n",
       "      <td>...</td>\n",
       "      <td>...</td>\n",
       "      <td>...</td>\n",
       "      <td>...</td>\n",
       "      <td>...</td>\n",
       "      <td>...</td>\n",
       "      <td>...</td>\n",
       "      <td>...</td>\n",
       "      <td>...</td>\n",
       "    </tr>\n",
       "    <tr>\n",
       "      <th>70770</th>\n",
       "      <td>42.238652</td>\n",
       "      <td>-83.557370</td>\n",
       "      <td>-83.557354</td>\n",
       "      <td>42.238634</td>\n",
       "      <td>-83.557387</td>\n",
       "      <td>42.238670</td>\n",
       "      <td>3704.185</td>\n",
       "      <td>-83.557351</td>\n",
       "      <td>42.238627</td>\n",
       "      <td>-83.557389</td>\n",
       "      <td>42.238673</td>\n",
       "      <td>-83.557352</td>\n",
       "      <td>42.238633</td>\n",
       "    </tr>\n",
       "    <tr>\n",
       "      <th>70780</th>\n",
       "      <td>42.238652</td>\n",
       "      <td>-83.557367</td>\n",
       "      <td>-83.557351</td>\n",
       "      <td>42.238634</td>\n",
       "      <td>-83.557383</td>\n",
       "      <td>42.238670</td>\n",
       "      <td>3704.467</td>\n",
       "      <td>-83.557348</td>\n",
       "      <td>42.238636</td>\n",
       "      <td>-83.557381</td>\n",
       "      <td>42.238673</td>\n",
       "      <td>-83.557348</td>\n",
       "      <td>42.238634</td>\n",
       "    </tr>\n",
       "    <tr>\n",
       "      <th>70790</th>\n",
       "      <td>42.238652</td>\n",
       "      <td>-83.557364</td>\n",
       "      <td>-83.557347</td>\n",
       "      <td>42.238634</td>\n",
       "      <td>-83.557380</td>\n",
       "      <td>42.238670</td>\n",
       "      <td>3704.740</td>\n",
       "      <td>-83.557346</td>\n",
       "      <td>42.238634</td>\n",
       "      <td>-83.557380</td>\n",
       "      <td>42.238672</td>\n",
       "      <td>-83.557346</td>\n",
       "      <td>42.238633</td>\n",
       "    </tr>\n",
       "    <tr>\n",
       "      <th>70800</th>\n",
       "      <td>42.238653</td>\n",
       "      <td>-83.557360</td>\n",
       "      <td>-83.557344</td>\n",
       "      <td>42.238635</td>\n",
       "      <td>-83.557377</td>\n",
       "      <td>42.238671</td>\n",
       "      <td>3705.004</td>\n",
       "      <td>-83.557346</td>\n",
       "      <td>42.238633</td>\n",
       "      <td>-83.557380</td>\n",
       "      <td>42.238669</td>\n",
       "      <td>-83.557345</td>\n",
       "      <td>42.238633</td>\n",
       "    </tr>\n",
       "    <tr>\n",
       "      <th>70810</th>\n",
       "      <td>42.238653</td>\n",
       "      <td>-83.557357</td>\n",
       "      <td>-83.557341</td>\n",
       "      <td>42.238635</td>\n",
       "      <td>-83.557374</td>\n",
       "      <td>42.238671</td>\n",
       "      <td>3705.260</td>\n",
       "      <td>-83.557344</td>\n",
       "      <td>42.238635</td>\n",
       "      <td>-83.557377</td>\n",
       "      <td>42.238668</td>\n",
       "      <td>-83.557344</td>\n",
       "      <td>42.238635</td>\n",
       "    </tr>\n",
       "  </tbody>\n",
       "</table>\n",
       "<p>7082 rows × 13 columns</p>\n",
       "</div>"
      ],
      "text/plain": [
       "               y          x  left_mark_lat  left_mark_lon  right_mark_lat  \\\n",
       "0      42.238643 -83.557448     -83.557432      42.238624      -83.557465   \n",
       "10     42.238643 -83.557448     -83.557432      42.238624      -83.557465   \n",
       "20     42.238643 -83.557448     -83.557432      42.238624      -83.557464   \n",
       "30     42.238643 -83.557448     -83.557432      42.238624      -83.557464   \n",
       "40     42.238643 -83.557448     -83.557432      42.238624      -83.557464   \n",
       "...          ...        ...            ...            ...             ...   \n",
       "70770  42.238652 -83.557370     -83.557354      42.238634      -83.557387   \n",
       "70780  42.238652 -83.557367     -83.557351      42.238634      -83.557383   \n",
       "70790  42.238652 -83.557364     -83.557347      42.238634      -83.557380   \n",
       "70800  42.238653 -83.557360     -83.557344      42.238635      -83.557377   \n",
       "70810  42.238653 -83.557357     -83.557341      42.238635      -83.557374   \n",
       "\n",
       "       right_mark_lon  Distance horizontal (m)  left_mark_lat_noise  \\\n",
       "0           42.238662                    0.000           -83.557431   \n",
       "10          42.238662                    0.001           -83.557433   \n",
       "20          42.238662                    0.002           -83.557426   \n",
       "30          42.238662                    0.003           -83.557433   \n",
       "40          42.238662                    0.004           -83.557432   \n",
       "...               ...                      ...                  ...   \n",
       "70770       42.238670                 3704.185           -83.557351   \n",
       "70780       42.238670                 3704.467           -83.557348   \n",
       "70790       42.238670                 3704.740           -83.557346   \n",
       "70800       42.238671                 3705.004           -83.557346   \n",
       "70810       42.238671                 3705.260           -83.557344   \n",
       "\n",
       "       left_mark_lon_noise  right_mark_lat_noise  right_mark_lon_noise  \\\n",
       "0                42.238624            -83.557465             42.238663   \n",
       "10               42.238626            -83.557465             42.238661   \n",
       "20               42.238619            -83.557467             42.238668   \n",
       "30               42.238620            -83.557465             42.238662   \n",
       "40               42.238618            -83.557465             42.238663   \n",
       "...                    ...                   ...                   ...   \n",
       "70770            42.238627            -83.557389             42.238673   \n",
       "70780            42.238636            -83.557381             42.238673   \n",
       "70790            42.238634            -83.557380             42.238672   \n",
       "70800            42.238633            -83.557380             42.238669   \n",
       "70810            42.238635            -83.557377             42.238668   \n",
       "\n",
       "       ref_opt_lat  ref_opt_lon  \n",
       "0       -83.557431    42.238624  \n",
       "10      -83.557433    42.238627  \n",
       "20      -83.557426    42.238624  \n",
       "30      -83.557432    42.238624  \n",
       "40      -83.557432    42.238624  \n",
       "...            ...          ...  \n",
       "70770   -83.557352    42.238633  \n",
       "70780   -83.557348    42.238634  \n",
       "70790   -83.557346    42.238633  \n",
       "70800   -83.557345    42.238633  \n",
       "70810   -83.557344    42.238635  \n",
       "\n",
       "[7082 rows x 13 columns]"
      ]
     },
     "execution_count": 184,
     "metadata": {},
     "output_type": "execute_result"
    }
   ],
   "source": [
    "ll_mapmatch"
   ]
  },
  {
   "cell_type": "code",
   "execution_count": 120,
   "metadata": {},
   "outputs": [
    {
     "name": "stdout",
     "output_type": "stream",
     "text": [
      "0.2086307813619389 0.16286320633636495\n"
     ]
    }
   ],
   "source": [
    "ll_mapmatch_error_l = traj_gps_error(\n",
    "    ll_mapmatch, \n",
    "    colns1=['left_mark_lat', 'left_mark_lon'], colns2=['ref_opt_lat', 'ref_opt_lon']\n",
    ")\n",
    "print(ll_mapmatch_error_l.mean(), ll_mapmatch_error_l.std())"
   ]
  },
  {
   "cell_type": "code",
   "execution_count": 150,
   "metadata": {},
   "outputs": [
    {
     "data": {
      "image/png": "[encoded data removed]",
      "text/plain": [
       "<Figure size 700x400 with 1 Axes>"
      ]
     },
     "metadata": {
      "needs_background": "light"
     },
     "output_type": "display_data"
    }
   ],
   "source": [
    "plt.figure(figsize=(7, 4), dpi=100)\n",
    "sns.histplot(ll_mark_error_l, binwidth=0.05, label='noisy', kde=True, color='red', element = \"step\")\n",
    "sns.histplot(ll_mapmatch_error_l, binwidth=0.05, label='map-matched', kde=True, element = \"step\")\n",
    "plt.legend()\n",
    "plt.xlabel('error [m]')\n",
    "plt.title('MapMatching Error, left lane, left lanemark')\n",
    "plt.show()"
   ]
  },
  {
   "cell_type": "code",
   "execution_count": 227,
   "metadata": {},
   "outputs": [
    {
     "data": {
      "text/html": [
       "<div>\n",
       "<style scoped>\n",
       "    .dataframe tbody tr th:only-of-type {\n",
       "        vertical-align: middle;\n",
       "    }\n",
       "\n",
       "    .dataframe tbody tr th {\n",
       "        vertical-align: top;\n",
       "    }\n",
       "\n",
       "    .dataframe thead th {\n",
       "        text-align: right;\n",
       "    }\n",
       "</style>\n",
       "<table border=\"1\" class=\"dataframe\">\n",
       "  <thead>\n",
       "    <tr style=\"text-align: right;\">\n",
       "      <th></th>\n",
       "      <th>y</th>\n",
       "      <th>x</th>\n",
       "      <th>left_mark_lat</th>\n",
       "      <th>left_mark_lon</th>\n",
       "      <th>right_mark_lat</th>\n",
       "      <th>right_mark_lon</th>\n",
       "      <th>Distance horizontal (m)</th>\n",
       "      <th>left_mark_lat_noise</th>\n",
       "      <th>left_mark_lon_noise</th>\n",
       "      <th>right_mark_lat_noise</th>\n",
       "      <th>right_mark_lon_noise</th>\n",
       "      <th>ref_opt_lat</th>\n",
       "      <th>ref_opt_lon</th>\n",
       "    </tr>\n",
       "  </thead>\n",
       "  <tbody>\n",
       "    <tr>\n",
       "      <th>60450</th>\n",
       "      <td>42.239178</td>\n",
       "      <td>-83.563451</td>\n",
       "      <td>-83.563439</td>\n",
       "      <td>42.239283</td>\n",
       "      <td>-83.563462</td>\n",
       "      <td>42.239074</td>\n",
       "      <td>3176.102</td>\n",
       "      <td>-83.563436</td>\n",
       "      <td>42.239279</td>\n",
       "      <td>-83.56346</td>\n",
       "      <td>42.239078</td>\n",
       "      <td>-83.563435</td>\n",
       "      <td>42.239279</td>\n",
       "    </tr>\n",
       "  </tbody>\n",
       "</table>\n",
       "</div>"
      ],
      "text/plain": [
       "               y          x  left_mark_lat  left_mark_lon  right_mark_lat  \\\n",
       "60450  42.239178 -83.563451     -83.563439      42.239283      -83.563462   \n",
       "\n",
       "       right_mark_lon  Distance horizontal (m)  left_mark_lat_noise  \\\n",
       "60450       42.239074                 3176.102           -83.563436   \n",
       "\n",
       "       left_mark_lon_noise  right_mark_lat_noise  right_mark_lon_noise  \\\n",
       "60450            42.239279             -83.56346             42.239078   \n",
       "\n",
       "       ref_opt_lat  ref_opt_lon  \n",
       "60450   -83.563435    42.239279  "
      ]
     },
     "execution_count": 227,
     "metadata": {},
     "output_type": "execute_result"
    }
   ],
   "source": [
    "ll_mapmatch.sample()"
   ]
  },
  {
   "cell_type": "code",
   "execution_count": 266,
   "metadata": {},
   "outputs": [
    {
     "data": {
      "text/plain": [
       "(61, 8)"
      ]
     },
     "execution_count": 266,
     "metadata": {},
     "output_type": "execute_result"
    }
   ],
   "source": [
    "m = 2\n",
    "sample = ll_mapmatch.sample()\n",
    "point = geopy.Point(sample['left_mark_lat_noise'].iloc[0], sample['left_mark_lon_noise'].iloc[0])\n",
    "point_gt = geopy.Point(sample['left_mark_lat'].iloc[0], sample['left_mark_lon'].iloc[0])\n",
    "point_mm = geopy.Point(sample['ref_opt_lat'].iloc[0], sample['ref_opt_lon'].iloc[0])\n",
    "\n",
    "bound1 = geodesic(meters=m/2).destination(\n",
    "        point, bearing=45\n",
    "    )\n",
    "\n",
    "bound2 = geodesic(meters=m/2).destination(\n",
    "        point, bearing=225\n",
    "    )\n",
    "\n",
    "local_map = ll_marks[(ll_marks['left_mark_lat'] <= bound1.latitude) &\\\n",
    "        (ll_marks['left_mark_lat'] >= bound2.latitude) &\\\n",
    "        (ll_marks['left_mark_lon'] <= bound1.longitude) &\\\n",
    "        (ll_marks['left_mark_lon'] >= bound2.longitude)]\n",
    "\n",
    "local_map.shape"
   ]
  },
  {
   "cell_type": "code",
   "execution_count": 267,
   "metadata": {},
   "outputs": [
    {
     "data": {
      "image/png": "[encoded data removed]",
      "text/plain": [
       "<Figure size 500x500 with 1 Axes>"
      ]
     },
     "metadata": {
      "needs_background": "light"
     },
     "output_type": "display_data"
    }
   ],
   "source": [
    "error = geodesic(point_mm, point_gt).meters\n",
    "plt.figure(figsize=(5, 5))\n",
    "plt.scatter(point.longitude, point.latitude, s=100, label=r'$^OL_{est}$')\n",
    "plt.scatter(point_gt.longitude, point.latitude, s=100, label=r'$^OL_{ground truth}$')\n",
    "plt.scatter(point_mm.longitude, point_mm.latitude, s=100, label=r'$^OL_{mapmatched}$')\n",
    "\n",
    "plt.hlines(y=bound1.latitude, xmin=bound2.longitude, xmax=bound1.longitude, linestyles='--', label=r'local search map, $m$')\n",
    "plt.vlines(x=bound2.longitude, ymin=bound2.latitude, ymax=bound1.latitude, linestyles='--')\n",
    "plt.hlines(y=bound2.latitude, xmin=bound2.longitude, xmax=bound1.longitude, linestyles='--')\n",
    "plt.vlines(x=bound1.longitude, ymin=bound2.latitude, ymax=bound1.latitude, linestyles='--')\n",
    "\n",
    "plt.scatter(bound1.longitude, bound1.latitude, color='red')\n",
    "plt.scatter(bound2.longitude, bound2.latitude, color='black')\n",
    "\n",
    "plt.scatter(local_map['left_mark_lon'], local_map['left_mark_lat'])\n",
    "plt.xlabel('lon')\n",
    "plt.ylabel('lat')\n",
    "\n",
    "plt.title(f'MapMatching Error = {round(error, 4)} m', loc='right')\n",
    "plt.legend()\n",
    "plt.show()\n"
   ]
  },
  {
   "cell_type": "code",
   "execution_count": null,
   "metadata": {},
   "outputs": [],
   "source": []
  }
 ],
 "metadata": {
  "kernelspec": {
   "display_name": "geo_env",
   "language": "python",
   "name": "python3"
  },
  "language_info": {
   "codemirror_mode": {
    "name": "ipython",
    "version": 3
   },
   "file_extension": ".py",
   "mimetype": "text/x-python",
   "name": "python",
   "nbconvert_exporter": "python",
   "pygments_lexer": "ipython3",
   "version": "3.8.16"
  },
  "orig_nbformat": 4
 },
 "nbformat": 4,
 "nbformat_minor": 2
}
