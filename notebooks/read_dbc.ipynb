{
 "cells": [
  {
   "cell_type": "code",
   "execution_count": 3,
   "metadata": {},
   "outputs": [],
   "source": [
    "import cantools \n",
    "import numpy as np\n",
    "from pprint import pprint"
   ]
  },
  {
   "cell_type": "code",
   "execution_count": 7,
   "metadata": {},
   "outputs": [
    {
     "name": "stdout",
     "output_type": "stream",
     "text": [
      "[signal('Lane_Type', 0, 4, 'little_endian', False, None, 1, 0, None, None, 'None', False, None, {6: 'invalid', 5: 'Bott's Dots', 4: 'Double Lane', 3: 'Road Edge', 2: 'undecided', 1: 'Solid', 0: 'Dashed'}, None, None),\n",
      " signal('Quality', 4, 2, 'little_endian', False, None, 1, 0, None, None, 'None', False, None, {3: 'High quality', 2: 'High quality', 1: 'Low quality', 0: 'Low quality'}, None, None),\n",
      " signal('Model_Degree', 6, 2, 'little_endian', False, None, 1, 0, None, None, 'None', False, None, {2: '3rd-degree model', 1: 'Linear model', 0: 'Parabolic model'}, None, None),\n",
      " signal('Position', 8, 16, 'little_endian', True, None, 0.00390625, 0, -128, 127, 'meter', False, None, None, None, None),\n",
      " signal('Curvature', 24, 16, 'little_endian', False, None, 9.765625e-07, -0.031999023438, -0.02, 0.02, '1/meter', False, None, None, None, None),\n",
      " signal('Curvature_Derivative', 40, 16, 'little_endian', False, None, 3.7252902985e-09, -0.00012206658721, -0.00012, 0.00012, '1/meter^2', False, None, None, None, None),\n",
      " signal('Lane_mark_width', 56, 8, 'little_endian', False, None, 0.01, 0, 0, 2.5, 'meter', False, None, None, None, None)]\n"
     ]
    }
   ],
   "source": [
    "db = cantools.database.load_file('/Users/jarvis/Library/Mobile Documents/com~apple~CloudDocs/Desktop/mobileye/doc/Mobileye/FromWeStat/Mobileye Data Description for PATH (1)/LKA_dbc_0.96.dbc')\n",
    "db.messages\n",
    "\n",
    "# example_message = db.get_message_by_name('ExampleMessage')\n",
    "pprint(db.get_message_by_name('Next_Lane_A').signals)"
   ]
  },
  {
   "cell_type": "code",
   "execution_count": null,
   "metadata": {},
   "outputs": [],
   "source": []
  }
 ],
 "metadata": {
  "kernelspec": {
   "display_name": "geo_env",
   "language": "python",
   "name": "python3"
  },
  "language_info": {
   "codemirror_mode": {
    "name": "ipython",
    "version": 3
   },
   "file_extension": ".py",
   "mimetype": "text/x-python",
   "name": "python",
   "nbconvert_exporter": "python",
   "pygments_lexer": "ipython3",
   "version": "3.8.16"
  },
  "orig_nbformat": 4
 },
 "nbformat": 4,
 "nbformat_minor": 2
}
