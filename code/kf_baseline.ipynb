{
 "cells": [
  {
   "cell_type": "code",
   "execution_count": 111,
   "metadata": {},
   "outputs": [],
   "source": [
    "import pandas as pd\n",
    "import numpy as np\n",
    "import matplotlib.pyplot as plt\n",
    "plt.rcParams[\"figure.dpi\"] = 100\n",
    "import seaborn as sns\n",
    "import warnings\n",
    "warnings.filterwarnings('ignore')\n",
    "from numpy.random import randn\n",
    "np.random.seed(0)\n",
    "import pickle\n",
    "import gzip\n",
    "from sklearn.preprocessing import MinMaxScaler\n",
    "from sklearn import decomposition\n",
    "from sklearn.preprocessing import scale\n",
    "from sklearn.metrics import mean_squared_error\n",
    "from geopy.distance import great_circle"
   ]
  },
  {
   "cell_type": "code",
   "execution_count": 255,
   "metadata": {},
   "outputs": [
    {
     "name": "stdout",
     "output_type": "stream",
     "text": [
      "500\n",
      "77\n"
     ]
    },
    {
     "data": {
      "text/html": [
       "<div>\n",
       "<style scoped>\n",
       "    .dataframe tbody tr th:only-of-type {\n",
       "        vertical-align: middle;\n",
       "    }\n",
       "\n",
       "    .dataframe tbody tr th {\n",
       "        vertical-align: top;\n",
       "    }\n",
       "\n",
       "    .dataframe thead th {\n",
       "        text-align: right;\n",
       "    }\n",
       "</style>\n",
       "<table border=\"1\" class=\"dataframe\">\n",
       "  <thead>\n",
       "    <tr style=\"text-align: right;\">\n",
       "      <th></th>\n",
       "      <th>y</th>\n",
       "      <th>x</th>\n",
       "      <th>y_norm</th>\n",
       "      <th>x_norm</th>\n",
       "      <th>Vy_norm</th>\n",
       "      <th>Vx_norm</th>\n",
       "      <th>theta_norm</th>\n",
       "      <th>psi_norm</th>\n",
       "      <th>phi_norm</th>\n",
       "      <th>omega_Xv_norm</th>\n",
       "      <th>omega_Yv_norm</th>\n",
       "      <th>alpha_Xv_norm</th>\n",
       "      <th>alpha_Yv_norm</th>\n",
       "      <th>y_norm_noise</th>\n",
       "      <th>x_norm_noise</th>\n",
       "    </tr>\n",
       "  </thead>\n",
       "  <tbody>\n",
       "    <tr>\n",
       "      <th>43567</th>\n",
       "      <td>42.246179</td>\n",
       "      <td>-83.563086</td>\n",
       "      <td>0.786530</td>\n",
       "      <td>0.206384</td>\n",
       "      <td>0.764706</td>\n",
       "      <td>0.778120</td>\n",
       "      <td>0.659098</td>\n",
       "      <td>0.423909</td>\n",
       "      <td>0.453957</td>\n",
       "      <td>0.466896</td>\n",
       "      <td>0.411583</td>\n",
       "      <td>0.508045</td>\n",
       "      <td>0.593818</td>\n",
       "      <td>0.795350</td>\n",
       "      <td>0.203490</td>\n",
       "    </tr>\n",
       "    <tr>\n",
       "      <th>43617</th>\n",
       "      <td>42.246167</td>\n",
       "      <td>-83.563112</td>\n",
       "      <td>0.785304</td>\n",
       "      <td>0.204631</td>\n",
       "      <td>0.764706</td>\n",
       "      <td>0.771957</td>\n",
       "      <td>0.658926</td>\n",
       "      <td>0.425454</td>\n",
       "      <td>0.448492</td>\n",
       "      <td>0.418745</td>\n",
       "      <td>0.388417</td>\n",
       "      <td>0.478467</td>\n",
       "      <td>0.536334</td>\n",
       "      <td>0.787305</td>\n",
       "      <td>0.203073</td>\n",
       "    </tr>\n",
       "    <tr>\n",
       "      <th>43667</th>\n",
       "      <td>42.246155</td>\n",
       "      <td>-83.563137</td>\n",
       "      <td>0.784089</td>\n",
       "      <td>0.202890</td>\n",
       "      <td>0.764706</td>\n",
       "      <td>0.764253</td>\n",
       "      <td>0.658731</td>\n",
       "      <td>0.431827</td>\n",
       "      <td>0.465695</td>\n",
       "      <td>0.474635</td>\n",
       "      <td>0.473359</td>\n",
       "      <td>0.473024</td>\n",
       "      <td>0.564262</td>\n",
       "      <td>0.788982</td>\n",
       "      <td>0.203170</td>\n",
       "    </tr>\n",
       "    <tr>\n",
       "      <th>43717</th>\n",
       "      <td>42.246143</td>\n",
       "      <td>-83.563163</td>\n",
       "      <td>0.782877</td>\n",
       "      <td>0.201164</td>\n",
       "      <td>0.764706</td>\n",
       "      <td>0.758089</td>\n",
       "      <td>0.658551</td>\n",
       "      <td>0.429316</td>\n",
       "      <td>0.485732</td>\n",
       "      <td>0.501290</td>\n",
       "      <td>0.439382</td>\n",
       "      <td>0.472314</td>\n",
       "      <td>0.590835</td>\n",
       "      <td>0.794082</td>\n",
       "      <td>0.195338</td>\n",
       "    </tr>\n",
       "    <tr>\n",
       "      <th>43767</th>\n",
       "      <td>42.246131</td>\n",
       "      <td>-83.563188</td>\n",
       "      <td>0.781676</td>\n",
       "      <td>0.199454</td>\n",
       "      <td>0.705882</td>\n",
       "      <td>0.753467</td>\n",
       "      <td>0.658312</td>\n",
       "      <td>0.419467</td>\n",
       "      <td>0.495041</td>\n",
       "      <td>0.423044</td>\n",
       "      <td>0.462548</td>\n",
       "      <td>0.519404</td>\n",
       "      <td>0.539588</td>\n",
       "      <td>0.791014</td>\n",
       "      <td>0.203958</td>\n",
       "    </tr>\n",
       "  </tbody>\n",
       "</table>\n",
       "</div>"
      ],
      "text/plain": [
       "               y          x    y_norm    x_norm   Vy_norm   Vx_norm  \\\n",
       "43567  42.246179 -83.563086  0.786530  0.206384  0.764706  0.778120   \n",
       "43617  42.246167 -83.563112  0.785304  0.204631  0.764706  0.771957   \n",
       "43667  42.246155 -83.563137  0.784089  0.202890  0.764706  0.764253   \n",
       "43717  42.246143 -83.563163  0.782877  0.201164  0.764706  0.758089   \n",
       "43767  42.246131 -83.563188  0.781676  0.199454  0.705882  0.753467   \n",
       "\n",
       "       theta_norm  psi_norm  phi_norm  omega_Xv_norm  omega_Yv_norm  \\\n",
       "43567    0.659098  0.423909  0.453957       0.466896       0.411583   \n",
       "43617    0.658926  0.425454  0.448492       0.418745       0.388417   \n",
       "43667    0.658731  0.431827  0.465695       0.474635       0.473359   \n",
       "43717    0.658551  0.429316  0.485732       0.501290       0.439382   \n",
       "43767    0.658312  0.419467  0.495041       0.423044       0.462548   \n",
       "\n",
       "       alpha_Xv_norm  alpha_Yv_norm  y_norm_noise  x_norm_noise  \n",
       "43567       0.508045       0.593818      0.795350      0.203490  \n",
       "43617       0.478467       0.536334      0.787305      0.203073  \n",
       "43667       0.473024       0.564262      0.788982      0.203170  \n",
       "43717       0.472314       0.590835      0.794082      0.195338  \n",
       "43767       0.519404       0.539588      0.791014      0.203958  "
      ]
     },
     "execution_count": 255,
     "metadata": {},
     "output_type": "execute_result"
    }
   ],
   "source": [
    "# data loading\n",
    "\n",
    "# NOISE\n",
    "with gzip.open('../data/segment_with_noise/ll_seg_500_noise.pkl.gzip', 'rb') as f:\n",
    "    ll_seg_gps_noise = pickle.load(f)\n",
    "with gzip.open('../data/segment_with_noise/rl_seg_500_noise.pkl.gzip', 'rb') as f:\n",
    "    rl_seg_gps_noise = pickle.load(f)\n",
    "\n",
    "# GROUND TRUTH\n",
    "with gzip.open('../data/segment_groud_truth/rl_seg_gt_500.pkl.gzip', 'rb') as f:\n",
    "    ll_seg_gps_gt = pickle.load(f)\n",
    "with gzip.open('../data/segment_groud_truth/ll_seg_gt_500.pkl.gzip', 'rb') as f:\n",
    "    rl_seg_gps_gt = pickle.load(f)\n",
    "\n",
    "print(len(ll_seg_gps_noise))\n",
    "print(ll_seg_gps_noise[0].shape[0])\n",
    "ll_seg_gps_noise[0].head()"
   ]
  },
  {
   "cell_type": "code",
   "execution_count": 282,
   "metadata": {},
   "outputs": [
    {
     "name": "stdout",
     "output_type": "stream",
     "text": [
      "(77, 15)\n"
     ]
    }
   ],
   "source": [
    "# example segment\n",
    "exp_rl_seg_gps_noise = rl_seg_gps_noise[91]\n",
    "print(exp_rl_seg_gps_noise.shape)"
   ]
  },
  {
   "cell_type": "code",
   "execution_count": 53,
   "metadata": {},
   "outputs": [
    {
     "data": {
      "text/html": [
       "<div>\n",
       "<style scoped>\n",
       "    .dataframe tbody tr th:only-of-type {\n",
       "        vertical-align: middle;\n",
       "    }\n",
       "\n",
       "    .dataframe tbody tr th {\n",
       "        vertical-align: top;\n",
       "    }\n",
       "\n",
       "    .dataframe thead th {\n",
       "        text-align: right;\n",
       "    }\n",
       "</style>\n",
       "<table border=\"1\" class=\"dataframe\">\n",
       "  <thead>\n",
       "    <tr style=\"text-align: right;\">\n",
       "      <th></th>\n",
       "      <th>y</th>\n",
       "      <th>x</th>\n",
       "      <th>y_norm</th>\n",
       "      <th>x_norm</th>\n",
       "      <th>Vy_norm</th>\n",
       "      <th>Vx_norm</th>\n",
       "      <th>theta_norm</th>\n",
       "      <th>psi_norm</th>\n",
       "      <th>phi_norm</th>\n",
       "      <th>omega_Xv_norm</th>\n",
       "      <th>omega_Yv_norm</th>\n",
       "      <th>alpha_Xv_norm</th>\n",
       "      <th>alpha_Yv_norm</th>\n",
       "      <th>y_norm_noise</th>\n",
       "      <th>x_norm_noise</th>\n",
       "    </tr>\n",
       "  </thead>\n",
       "  <tbody>\n",
       "    <tr>\n",
       "      <th>42613</th>\n",
       "      <td>42.246421</td>\n",
       "      <td>-83.562563</td>\n",
       "      <td>0.810921</td>\n",
       "      <td>0.242018</td>\n",
       "      <td>0.823529</td>\n",
       "      <td>0.847458</td>\n",
       "      <td>0.662273</td>\n",
       "      <td>0.322518</td>\n",
       "      <td>0.460231</td>\n",
       "      <td>0.440241</td>\n",
       "      <td>0.444788</td>\n",
       "      <td>0.475154</td>\n",
       "      <td>0.553688</td>\n",
       "      <td>0.810429</td>\n",
       "      <td>0.239551</td>\n",
       "    </tr>\n",
       "    <tr>\n",
       "      <th>42663</th>\n",
       "      <td>42.246408</td>\n",
       "      <td>-83.562592</td>\n",
       "      <td>0.809619</td>\n",
       "      <td>0.240080</td>\n",
       "      <td>0.764706</td>\n",
       "      <td>0.847458</td>\n",
       "      <td>0.661768</td>\n",
       "      <td>0.297026</td>\n",
       "      <td>0.433920</td>\n",
       "      <td>0.404987</td>\n",
       "      <td>0.426255</td>\n",
       "      <td>0.445102</td>\n",
       "      <td>0.560466</td>\n",
       "      <td>0.806302</td>\n",
       "      <td>0.237365</td>\n",
       "    </tr>\n",
       "    <tr>\n",
       "      <th>42713</th>\n",
       "      <td>42.246395</td>\n",
       "      <td>-83.562620</td>\n",
       "      <td>0.808307</td>\n",
       "      <td>0.238144</td>\n",
       "      <td>0.764706</td>\n",
       "      <td>0.847458</td>\n",
       "      <td>0.661351</td>\n",
       "      <td>0.298185</td>\n",
       "      <td>0.399109</td>\n",
       "      <td>0.404987</td>\n",
       "      <td>0.447876</td>\n",
       "      <td>0.505442</td>\n",
       "      <td>0.606020</td>\n",
       "      <td>0.813940</td>\n",
       "      <td>0.240224</td>\n",
       "    </tr>\n",
       "    <tr>\n",
       "      <th>42763</th>\n",
       "      <td>42.246382</td>\n",
       "      <td>-83.562649</td>\n",
       "      <td>0.806994</td>\n",
       "      <td>0.236207</td>\n",
       "      <td>0.764706</td>\n",
       "      <td>0.847458</td>\n",
       "      <td>0.661087</td>\n",
       "      <td>0.333720</td>\n",
       "      <td>0.380085</td>\n",
       "      <td>0.380052</td>\n",
       "      <td>0.449421</td>\n",
       "      <td>0.469475</td>\n",
       "      <td>0.579176</td>\n",
       "      <td>0.801594</td>\n",
       "      <td>0.230426</td>\n",
       "    </tr>\n",
       "    <tr>\n",
       "      <th>42813</th>\n",
       "      <td>42.246369</td>\n",
       "      <td>-83.562677</td>\n",
       "      <td>0.805682</td>\n",
       "      <td>0.234273</td>\n",
       "      <td>0.764706</td>\n",
       "      <td>0.844376</td>\n",
       "      <td>0.661029</td>\n",
       "      <td>0.345500</td>\n",
       "      <td>0.390204</td>\n",
       "      <td>0.442820</td>\n",
       "      <td>0.442471</td>\n",
       "      <td>0.472788</td>\n",
       "      <td>0.518709</td>\n",
       "      <td>0.799944</td>\n",
       "      <td>0.238179</td>\n",
       "    </tr>\n",
       "  </tbody>\n",
       "</table>\n",
       "</div>"
      ],
      "text/plain": [
       "               y          x    y_norm    x_norm   Vy_norm   Vx_norm  \\\n",
       "42613  42.246421 -83.562563  0.810921  0.242018  0.823529  0.847458   \n",
       "42663  42.246408 -83.562592  0.809619  0.240080  0.764706  0.847458   \n",
       "42713  42.246395 -83.562620  0.808307  0.238144  0.764706  0.847458   \n",
       "42763  42.246382 -83.562649  0.806994  0.236207  0.764706  0.847458   \n",
       "42813  42.246369 -83.562677  0.805682  0.234273  0.764706  0.844376   \n",
       "\n",
       "       theta_norm  psi_norm  phi_norm  omega_Xv_norm  omega_Yv_norm  \\\n",
       "42613    0.662273  0.322518  0.460231       0.440241       0.444788   \n",
       "42663    0.661768  0.297026  0.433920       0.404987       0.426255   \n",
       "42713    0.661351  0.298185  0.399109       0.404987       0.447876   \n",
       "42763    0.661087  0.333720  0.380085       0.380052       0.449421   \n",
       "42813    0.661029  0.345500  0.390204       0.442820       0.442471   \n",
       "\n",
       "       alpha_Xv_norm  alpha_Yv_norm  y_norm_noise  x_norm_noise  \n",
       "42613       0.475154       0.553688      0.810429      0.239551  \n",
       "42663       0.445102       0.560466      0.806302      0.237365  \n",
       "42713       0.505442       0.606020      0.813940      0.240224  \n",
       "42763       0.469475       0.579176      0.801594      0.230426  \n",
       "42813       0.472788       0.518709      0.799944      0.238179  "
      ]
     },
     "execution_count": 53,
     "metadata": {},
     "output_type": "execute_result"
    }
   ],
   "source": [
    "exp_rl_seg_gps_noise.head()"
   ]
  },
  {
   "cell_type": "code",
   "execution_count": 123,
   "metadata": {},
   "outputs": [
    {
     "data": {
      "text/plain": [
       "array([ 0.        ,  0.50657895,  1.01315789,  1.51973684,  2.02631579,\n",
       "        2.53289474,  3.03947368,  3.54605263,  4.05263158,  4.55921053,\n",
       "        5.06578947,  5.57236842,  6.07894737,  6.58552632,  7.09210526,\n",
       "        7.59868421,  8.10526316,  8.61184211,  9.11842105,  9.625     ,\n",
       "       10.13157895, 10.63815789, 11.14473684, 11.65131579, 12.15789474,\n",
       "       12.66447368, 13.17105263, 13.67763158, 14.18421053, 14.69078947,\n",
       "       15.19736842, 15.70394737, 16.21052632, 16.71710526, 17.22368421,\n",
       "       17.73026316, 18.23684211, 18.74342105, 19.25      , 19.75657895,\n",
       "       20.26315789, 20.76973684, 21.27631579, 21.78289474, 22.28947368,\n",
       "       22.79605263, 23.30263158, 23.80921053, 24.31578947, 24.82236842,\n",
       "       25.32894737, 25.83552632, 26.34210526, 26.84868421, 27.35526316,\n",
       "       27.86184211, 28.36842105, 28.875     , 29.38157895, 29.88815789,\n",
       "       30.39473684, 30.90131579, 31.40789474, 31.91447368, 32.42105263,\n",
       "       32.92763158, 33.43421053, 33.94078947, 34.44736842, 34.95394737,\n",
       "       35.46052632, 35.96710526, 36.47368421, 36.98026316, 37.48684211,\n",
       "       37.99342105, 38.5       ])"
      ]
     },
     "execution_count": 123,
     "metadata": {},
     "output_type": "execute_result"
    }
   ],
   "source": [
    "np.linspace(0, exp_rl_seg_gps_noise.shape[0] * 50 * 0.01, num=exp_rl_seg_gps_noise.shape[0])"
   ]
  },
  {
   "cell_type": "code",
   "execution_count": 235,
   "metadata": {},
   "outputs": [
    {
     "data": {
      "text/plain": [
       "0.013157894736842105"
      ]
     },
     "execution_count": 235,
     "metadata": {},
     "output_type": "execute_result"
    }
   ],
   "source": [
    "t_norm = MinMaxScaler().fit_transform(np.linspace(0, exp_rl_seg_gps_noise.shape[0] * 50 * 0.01, num=exp_rl_seg_gps_noise.shape[0]).reshape(-1,1)).flatten()\n",
    "dt = t_norm[1] - t_norm[0]\n",
    "dt"
   ]
  },
  {
   "cell_type": "code",
   "execution_count": 283,
   "metadata": {},
   "outputs": [],
   "source": [
    "x_noise = exp_rl_seg_gps_noise['x_norm_noise'].values\n",
    "y_noise = exp_rl_seg_gps_noise['y_norm_noise'].values\n",
    "Vx = exp_rl_seg_gps_noise['Vx_norm'].values\n",
    "Vy = exp_rl_seg_gps_noise['Vy_norm'].values\n",
    "alpha_Xv = exp_rl_seg_gps_noise['alpha_Xv_norm'].values\n",
    "alpha_Yv = exp_rl_seg_gps_noise['alpha_Yv_norm'].values\n",
    "\n",
    "gps_sig = 0.005\n",
    "# dt = (exp_ll_seg_gps_noise.index[2] - exp_ll_seg_gps_noise.index[1]) * 0.01\n",
    "d3xdt3 = np.gradient(exp_rl_seg_gps_noise['alpha_Xv_norm'], dt)\n",
    "d3ydt3 = np.gradient(exp_rl_seg_gps_noise['alpha_Yv_norm'], dt)\n",
    "\n",
    "A = np.array([\n",
    "    [1, dt, (dt**2)/2, 0, 0, 0],\n",
    "    [0, 1, dt, 0, 0, 0],\n",
    "    [0, 0, 1, 0, 0, 0],\n",
    "    [0, 0, 0, 1, dt, (dt**2)/2],\n",
    "    [0, 0, 0, 0, 1, dt],\n",
    "    [0, 0, 0, 0, 0, 1],\n",
    "    ])\n",
    "\n",
    "Q1 = np.array([(dt**3)/6, (dt**2)/2, dt, 0, 0, 0])\n",
    "Q1 = np.expand_dims(Q1, 1)\n",
    "Q2 = np.array([0, 0, 0, (dt**3)/6, (dt**2)/2, dt])\n",
    "Q2 = np.expand_dims(Q2, 1)\n",
    "\n",
    "j_var = max(np.var(d3xdt3), np.var(d3ydt3))\n",
    "Q = j_var * (Q1 @ Q1.T + Q2 @ Q2.T)\n",
    "\n",
    "H = np.array([\n",
    "    [1, 0, 0, 0, 0, 0],\n",
    "    [0, 0, 0, 1, 0, 0],\n",
    "    ])\n",
    "\n",
    "R = np.diag(np.array([gps_sig**2, gps_sig**2]))\n",
    "\n",
    "x_init = np.array([x_noise[0], Vx[0], alpha_Xv[0], y_noise[0], Vy[0], alpha_Yv[0]])\n",
    "P_init = 0.1 * np.eye(len(x_init))  # small initial prediction error"
   ]
  },
  {
   "cell_type": "code",
   "execution_count": 284,
   "metadata": {},
   "outputs": [],
   "source": [
    "# create an observation vector of noisy GPS signals\n",
    "observations = np.array([x_noise, y_noise]).T\n",
    "\n",
    "# matrix dimensions\n",
    "nx = Q.shape[0]\n",
    "ny = R.shape[0]     \n",
    "nt = observations.shape[0]\n",
    "\n",
    "# allocate identity matrix for re-use\n",
    "Inx = np.eye(nx)\n",
    "\n",
    "# allocate result matrices\n",
    "x_pred = np.zeros((nt, nx))      # prediction of state vector\n",
    "P_pred = np.zeros((nt, nx, nx))  # prediction error covariance matrix\n",
    "x_est = np.zeros((nt, nx))       # estimation of state vector\n",
    "P_est = np.zeros((nt, nx, nx))   # estimation error covariance matrix\n",
    "K = np.zeros((nt, nx, ny))       # Kalman Gain\n",
    "\n",
    "# set initial prediction\n",
    "x_pred[0] = x_init\n",
    "P_pred[0] = P_init\n",
    "\n",
    "for i in range(nt):\n",
    "\n",
    "    # prediction stage\n",
    "    if i > 0:\n",
    "        x_pred[i] = A @ x_est[i-1]\n",
    "        P_pred[i] = A @ P_est[i-1] @ A.T + Q\n",
    "\n",
    "    # estimation stage\n",
    "    y_obs = observations[i]\n",
    "    K[i] = P_pred[i] @ H.T @ np.linalg.inv((H @ P_pred[i] @ H.T) + R)\n",
    "    x_est[i] = x_pred[i] + K[i] @ (y_obs - H @ x_pred[i])\n",
    "    P_est[i] = (Inx - K[i] @ H) @ P_pred[i]"
   ]
  },
  {
   "cell_type": "code",
   "execution_count": 298,
   "metadata": {},
   "outputs": [
    {
     "data": {
      "text/plain": [
       "<matplotlib.legend.Legend at 0x7f9688776460>"
      ]
     },
     "execution_count": 298,
     "metadata": {},
     "output_type": "execute_result"
    },
    {
     "data": {
      "image/png": "[encoded data removed]",
      "text/plain": [
       "<Figure size 780x357.5 with 1 Axes>"
      ]
     },
     "metadata": {
      "needs_background": "light"
     },
     "output_type": "display_data"
    }
   ],
   "source": [
    "plt.figure(dpi=130, figsize=(6, 2.75))\n",
    "\n",
    "plt.plot(exp_rl_seg_gps_noise['y_norm'].values, exp_rl_seg_gps_noise['x_norm'].values, label='ground truth, 5hz')\n",
    "plt.plot(y_noise, x_noise, '-o', label='0.5% noise, 5hz', ms=3)\n",
    "plt.plot(x_est[:, 3], x_est[:, 0], '-', linewidth=3, label='kf baseline prediction', c='green')\n",
    "plt.scatter( x_est[:, 3][0], x_est[:, 0][0], label='start', s=60, c='green')\n",
    "\n",
    "plt.legend()"
   ]
  },
  {
   "cell_type": "code",
   "execution_count": 240,
   "metadata": {},
   "outputs": [],
   "source": [
    "x_max = -83.55144472\n",
    "y_max = 42.24829894\n",
    "x_min = -83.56611364\n",
    "y_min = 42.23836889\n",
    "\n",
    "y_exp_test_scale = []\n",
    "y_exp_noise_scale = []\n",
    "y_exp_pred_scale = []\n",
    "\n",
    "# estimation\n",
    "y_scale = x_est[:, 3] * (y_max - y_min) + y_min\n",
    "x_scale = x_est[:, 0] * (x_max - x_min) + x_min\n",
    "\n",
    "coord_scale = np.append(\n",
    "    y_scale.reshape(77, 1), x_scale.reshape(77, 1), axis=1\n",
    ")\n",
    "y_exp_pred_scale.append(coord_scale)\n",
    "\n",
    "# gt\n",
    "y_scale = exp_rl_seg_gps_noise['y_norm'].values * (y_max - y_min) + y_min\n",
    "x_scale = exp_rl_seg_gps_noise['x_norm'].values * (x_max - x_min) + x_min\n",
    "coord_scale = np.append(\n",
    "    y_scale.reshape(77, 1), x_scale.reshape(77, 1), axis=1\n",
    ")\n",
    "y_exp_test_scale.append(coord_scale)\n",
    "\n",
    "# noise\n",
    "y_scale = y_noise * (y_max - y_min) + y_min\n",
    "x_scale = x_noise * (x_max - x_min) + x_min\n",
    "coord_scale = np.append(\n",
    "    y_scale.reshape(77, 1), x_scale.reshape(77, 1), axis=1\n",
    ")\n",
    "y_exp_noise_scale.append(coord_scale)\n",
    "\n",
    "y_test_scale = np.asarray(y_exp_test_scale)\n",
    "y_pred_scale = np.asarray(y_exp_pred_scale)\n",
    "y_exp_noise_scale = np.asarray(y_exp_noise_scale)\n",
    "\n",
    "great_circie_err = []\n",
    "great_circie_noise_err = []\n",
    "\n",
    "for traj_i in np.arange(77):\n",
    "    pred_coord = (y_pred_scale[0][traj_i][0], y_pred_scale[0][traj_i][1])\n",
    "    actual_coord = (y_test_scale[0][traj_i][0], y_test_scale[0][traj_i][1])\n",
    "    noise_coord = (y_exp_noise_scale[0][traj_i][0], y_exp_noise_scale[0][traj_i][1])\n",
    "\n",
    "    great_circie_err.append(great_circle(pred_coord, actual_coord).miles * 1609.34) # meter\n",
    "    great_circie_noise_err.append(great_circle(noise_coord, actual_coord).miles * 1609.34) # meter"
   ]
  },
  {
   "cell_type": "code",
   "execution_count": 241,
   "metadata": {},
   "outputs": [
    {
     "data": {
      "text/plain": [
       "<matplotlib.legend.Legend at 0x7f96cd58f0d0>"
      ]
     },
     "execution_count": 241,
     "metadata": {},
     "output_type": "execute_result"
    },
    {
     "data": {
      "image/png": "[encoded data removed]",
      "text/plain": [
       "<Figure size 600x400 with 1 Axes>"
      ]
     },
     "metadata": {
      "needs_background": "light"
     },
     "output_type": "display_data"
    }
   ],
   "source": [
    "ax = sns.histplot(great_circie_noise_err)\n",
    "ax.axvline(np.average(great_circie_noise_err), color='k', lw=2, label='mean')\n",
    "ax.axvline(np.median(great_circie_noise_err), color='red', ls='--', lw=2, label='median')\n",
    "plt.xlabel('noise error distance [m]')\n",
    "plt.legend()"
   ]
  },
  {
   "cell_type": "code",
   "execution_count": 242,
   "metadata": {},
   "outputs": [
    {
     "data": {
      "text/plain": [
       "<matplotlib.legend.Legend at 0x7f965f910a90>"
      ]
     },
     "execution_count": 242,
     "metadata": {},
     "output_type": "execute_result"
    },
    {
     "data": {
      "image/png": "[encoded data removed]",
      "text/plain": [
       "<Figure size 600x400 with 1 Axes>"
      ]
     },
     "metadata": {
      "needs_background": "light"
     },
     "output_type": "display_data"
    }
   ],
   "source": [
    "ax = sns.histplot(great_circie_err)\n",
    "ax.axvline(np.average(great_circie_err), color='k', lw=2, label='mean')\n",
    "ax.axvline(np.median(great_circie_err), color='red', ls='--', lw=2, label='median')\n",
    "plt.xlabel('error distance [m]')\n",
    "plt.legend()"
   ]
  },
  {
   "cell_type": "code",
   "execution_count": 251,
   "metadata": {},
   "outputs": [],
   "source": [
    "noise = np.random.normal(0, 1, size=(1000, 2)) * 0.005\n",
    "noise[:,0] = noise[:,0] * (x_max - x_min) + x_min\n",
    "noise[:,1] = noise[:,1] * (y_max - y_min) + y_min\n",
    "noise = list(zip(noise[:,0], noise[:,1]))\n",
    "\n",
    "zeros = np.zeros((1000, 2))\n",
    "zeros[:,0] = zeros[:,0] * (x_max - x_min) + x_min\n",
    "zeros[:,1] = zeros[:,1] * (y_max - y_min) + y_min\n",
    "zeros = list(zip(zeros[:,0], zeros[:,1]))"
   ]
  },
  {
   "cell_type": "code",
   "execution_count": 277,
   "metadata": {},
   "outputs": [
    {
     "data": {
      "image/png": "[encoded data removed]",
      "text/plain": [
       "<Figure size 500x500 with 1 Axes>"
      ]
     },
     "metadata": {
      "needs_background": "light"
     },
     "output_type": "display_data"
    }
   ],
   "source": [
    "# augmented noise distribution in meters\n",
    "\n",
    "distances = [great_circle(noise[i], zeros[i]).miles * 1609.34 for i in np.arange(1000)]\n",
    "sns.displot(distances)\n",
    "plt.xlabel('augmented error [m]')\n",
    "plt.show()"
   ]
  },
  {
   "cell_type": "code",
   "execution_count": null,
   "metadata": {},
   "outputs": [],
   "source": []
  }
 ],
 "metadata": {
  "kernelspec": {
   "display_name": "geo_env",
   "language": "python",
   "name": "python3"
  },
  "language_info": {
   "codemirror_mode": {
    "name": "ipython",
    "version": 3
   },
   "file_extension": ".py",
   "mimetype": "text/x-python",
   "name": "python",
   "nbconvert_exporter": "python",
   "pygments_lexer": "ipython3",
   "version": "3.8.3"
  },
  "orig_nbformat": 4,
  "vscode": {
   "interpreter": {
    "hash": "5275a7a5c7ca3fd70a65904e3b242eaffc13bff6b4373249ccb4466ff1d4eda1"
   }
  }
 },
 "nbformat": 4,
 "nbformat_minor": 2
}
