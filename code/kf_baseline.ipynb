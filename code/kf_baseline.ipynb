{
 "cells": [
  {
   "cell_type": "code",
   "execution_count": 152,
   "metadata": {},
   "outputs": [],
   "source": [
    "import pandas as pd\n",
    "import numpy as np\n",
    "import math\n",
    "import matplotlib.pyplot as plt\n",
    "plt.rcParams[\"figure.dpi\"] = 100\n",
    "import seaborn as sns\n",
    "import warnings\n",
    "warnings.filterwarnings('ignore')\n",
    "from numpy.random import randn\n",
    "np.random.seed(0)\n",
    "import pickle\n",
    "import gzip\n",
    "from sklearn.preprocessing import MinMaxScaler\n",
    "from sklearn import decomposition\n",
    "from sklearn.preprocessing import scale\n",
    "from sklearn.metrics import mean_squared_error\n",
    "from geopy.distance import great_circle\n",
    "from tqdm import tqdm"
   ]
  },
  {
   "cell_type": "code",
   "execution_count": 146,
   "metadata": {},
   "outputs": [
    {
     "name": "stdout",
     "output_type": "stream",
     "text": [
      "500\n",
      "153\n"
     ]
    },
    {
     "data": {
      "text/html": [
       "<div>\n",
       "<style scoped>\n",
       "    .dataframe tbody tr th:only-of-type {\n",
       "        vertical-align: middle;\n",
       "    }\n",
       "\n",
       "    .dataframe tbody tr th {\n",
       "        vertical-align: top;\n",
       "    }\n",
       "\n",
       "    .dataframe thead th {\n",
       "        text-align: right;\n",
       "    }\n",
       "</style>\n",
       "<table border=\"1\" class=\"dataframe\">\n",
       "  <thead>\n",
       "    <tr style=\"text-align: right;\">\n",
       "      <th></th>\n",
       "      <th>y</th>\n",
       "      <th>x</th>\n",
       "      <th>Vy</th>\n",
       "      <th>Vx</th>\n",
       "      <th>theta</th>\n",
       "      <th>psi</th>\n",
       "      <th>phi</th>\n",
       "      <th>omega_Xv</th>\n",
       "      <th>omega_Yv</th>\n",
       "      <th>alpha_Xv</th>\n",
       "      <th>alpha_Yv</th>\n",
       "      <th>y_noise</th>\n",
       "      <th>x_noise</th>\n",
       "    </tr>\n",
       "  </thead>\n",
       "  <tbody>\n",
       "    <tr>\n",
       "      <th>43567</th>\n",
       "      <td>5.197928e+06</td>\n",
       "      <td>-9.302200e+06</td>\n",
       "      <td>0.03</td>\n",
       "      <td>5.06</td>\n",
       "      <td>237.273</td>\n",
       "      <td>0.538</td>\n",
       "      <td>-1.124</td>\n",
       "      <td>0.26</td>\n",
       "      <td>-0.65</td>\n",
       "      <td>0.114</td>\n",
       "      <td>0.264</td>\n",
       "      <td>5.197928e+06</td>\n",
       "      <td>-9.302200e+06</td>\n",
       "    </tr>\n",
       "    <tr>\n",
       "      <th>43592</th>\n",
       "      <td>5.197927e+06</td>\n",
       "      <td>-9.302202e+06</td>\n",
       "      <td>0.02</td>\n",
       "      <td>5.04</td>\n",
       "      <td>237.252</td>\n",
       "      <td>0.586</td>\n",
       "      <td>-1.127</td>\n",
       "      <td>-0.78</td>\n",
       "      <td>0.25</td>\n",
       "      <td>0.002</td>\n",
       "      <td>0.074</td>\n",
       "      <td>5.197927e+06</td>\n",
       "      <td>-9.302202e+06</td>\n",
       "    </tr>\n",
       "    <tr>\n",
       "      <th>43617</th>\n",
       "      <td>5.197926e+06</td>\n",
       "      <td>-9.302203e+06</td>\n",
       "      <td>0.03</td>\n",
       "      <td>5.02</td>\n",
       "      <td>237.211</td>\n",
       "      <td>0.546</td>\n",
       "      <td>-1.151</td>\n",
       "      <td>-0.30</td>\n",
       "      <td>-0.95</td>\n",
       "      <td>-0.011</td>\n",
       "      <td>0.052</td>\n",
       "      <td>5.197926e+06</td>\n",
       "      <td>-9.302203e+06</td>\n",
       "    </tr>\n",
       "    <tr>\n",
       "      <th>43642</th>\n",
       "      <td>5.197925e+06</td>\n",
       "      <td>-9.302204e+06</td>\n",
       "      <td>0.03</td>\n",
       "      <td>4.99</td>\n",
       "      <td>237.188</td>\n",
       "      <td>0.583</td>\n",
       "      <td>-1.095</td>\n",
       "      <td>0.74</td>\n",
       "      <td>0.48</td>\n",
       "      <td>0.125</td>\n",
       "      <td>0.037</td>\n",
       "      <td>5.197925e+06</td>\n",
       "      <td>-9.302204e+06</td>\n",
       "    </tr>\n",
       "    <tr>\n",
       "      <th>43667</th>\n",
       "      <td>5.197924e+06</td>\n",
       "      <td>-9.302206e+06</td>\n",
       "      <td>0.03</td>\n",
       "      <td>4.97</td>\n",
       "      <td>237.141</td>\n",
       "      <td>0.579</td>\n",
       "      <td>-1.066</td>\n",
       "      <td>0.35</td>\n",
       "      <td>0.15</td>\n",
       "      <td>-0.034</td>\n",
       "      <td>0.155</td>\n",
       "      <td>5.197924e+06</td>\n",
       "      <td>-9.302206e+06</td>\n",
       "    </tr>\n",
       "  </tbody>\n",
       "</table>\n",
       "</div>"
      ],
      "text/plain": [
       "                  y             x    Vy    Vx    theta    psi    phi  \\\n",
       "43567  5.197928e+06 -9.302200e+06  0.03  5.06  237.273  0.538 -1.124   \n",
       "43592  5.197927e+06 -9.302202e+06  0.02  5.04  237.252  0.586 -1.127   \n",
       "43617  5.197926e+06 -9.302203e+06  0.03  5.02  237.211  0.546 -1.151   \n",
       "43642  5.197925e+06 -9.302204e+06  0.03  4.99  237.188  0.583 -1.095   \n",
       "43667  5.197924e+06 -9.302206e+06  0.03  4.97  237.141  0.579 -1.066   \n",
       "\n",
       "       omega_Xv  omega_Yv  alpha_Xv  alpha_Yv       y_noise       x_noise  \n",
       "43567      0.26     -0.65     0.114     0.264  5.197928e+06 -9.302200e+06  \n",
       "43592     -0.78      0.25     0.002     0.074  5.197927e+06 -9.302202e+06  \n",
       "43617     -0.30     -0.95    -0.011     0.052  5.197926e+06 -9.302203e+06  \n",
       "43642      0.74      0.48     0.125     0.037  5.197925e+06 -9.302204e+06  \n",
       "43667      0.35      0.15    -0.034     0.155  5.197924e+06 -9.302206e+06  "
      ]
     },
     "execution_count": 146,
     "metadata": {},
     "output_type": "execute_result"
    }
   ],
   "source": [
    "# data loading\n",
    "\n",
    "# NOISE\n",
    "with gzip.open('../data/segment_with_noise_v3/ll_seg_500_noise_v3.pkl.gzip', 'rb') as f:\n",
    "    ll_seg_noise = pickle.load(f)\n",
    "with gzip.open('../data/segment_with_noise_v3/rl_seg_500_noise_v3.pkl.gzip', 'rb') as f:\n",
    "    rl_seg_noise = pickle.load(f)\n",
    "\n",
    "# GROUND TRUTH\n",
    "with gzip.open('../data/segment_groud_truth_v2/rl_seg_gt_500_v2.pkl.gzip', 'rb') as f:\n",
    "    ll_seg_gps_gt = pickle.load(f)\n",
    "with gzip.open('../data/segment_groud_truth_v2/ll_seg_gt_500_v2.pkl.gzip', 'rb') as f:\n",
    "    rl_seg_gps_gt = pickle.load(f)\n",
    "\n",
    "print(len(ll_seg_noise))\n",
    "print(ll_seg_noise[0].shape[0])\n",
    "ll_seg_noise[0].head()"
   ]
  },
  {
   "cell_type": "code",
   "execution_count": 147,
   "metadata": {},
   "outputs": [
    {
     "data": {
      "text/plain": [
       "((3822, 11), (153, 13))"
      ]
     },
     "execution_count": 147,
     "metadata": {},
     "output_type": "execute_result"
    }
   ],
   "source": [
    "rl_seg_gps_gt[0].shape, rl_seg_noise[0].shape"
   ]
  },
  {
   "cell_type": "code",
   "execution_count": 118,
   "metadata": {},
   "outputs": [
    {
     "name": "stdout",
     "output_type": "stream",
     "text": [
      "(153, 16)\n"
     ]
    },
    {
     "data": {
      "text/html": [
       "<div>\n",
       "<style scoped>\n",
       "    .dataframe tbody tr th:only-of-type {\n",
       "        vertical-align: middle;\n",
       "    }\n",
       "\n",
       "    .dataframe tbody tr th {\n",
       "        vertical-align: top;\n",
       "    }\n",
       "\n",
       "    .dataframe thead th {\n",
       "        text-align: right;\n",
       "    }\n",
       "</style>\n",
       "<table border=\"1\" class=\"dataframe\">\n",
       "  <thead>\n",
       "    <tr style=\"text-align: right;\">\n",
       "      <th></th>\n",
       "      <th>y</th>\n",
       "      <th>x</th>\n",
       "      <th>y_norm</th>\n",
       "      <th>x_norm</th>\n",
       "      <th>Vy_norm</th>\n",
       "      <th>Vx_norm</th>\n",
       "      <th>theta_norm</th>\n",
       "      <th>psi_norm</th>\n",
       "      <th>phi_norm</th>\n",
       "      <th>omega_Xv_norm</th>\n",
       "      <th>omega_Yv_norm</th>\n",
       "      <th>alpha_Xv_norm</th>\n",
       "      <th>alpha_Yv_norm</th>\n",
       "      <th>lane</th>\n",
       "      <th>y_norm_noise</th>\n",
       "      <th>x_norm_noise</th>\n",
       "    </tr>\n",
       "  </thead>\n",
       "  <tbody>\n",
       "    <tr>\n",
       "      <th>21752</th>\n",
       "      <td>42.246163</td>\n",
       "      <td>-83.551625</td>\n",
       "      <td>0.784951</td>\n",
       "      <td>0.987688</td>\n",
       "      <td>0.588235</td>\n",
       "      <td>0.779661</td>\n",
       "      <td>0.990650</td>\n",
       "      <td>0.877752</td>\n",
       "      <td>0.460231</td>\n",
       "      <td>0.494411</td>\n",
       "      <td>0.415444</td>\n",
       "      <td>0.621865</td>\n",
       "      <td>0.549620</td>\n",
       "      <td>1</td>\n",
       "      <td>0.784921</td>\n",
       "      <td>0.987621</td>\n",
       "    </tr>\n",
       "    <tr>\n",
       "      <th>21777</th>\n",
       "      <td>42.246175</td>\n",
       "      <td>-83.551626</td>\n",
       "      <td>0.786100</td>\n",
       "      <td>0.987625</td>\n",
       "      <td>0.588235</td>\n",
       "      <td>0.782743</td>\n",
       "      <td>0.990425</td>\n",
       "      <td>0.872731</td>\n",
       "      <td>0.468933</td>\n",
       "      <td>0.456578</td>\n",
       "      <td>0.522780</td>\n",
       "      <td>0.610506</td>\n",
       "      <td>0.554772</td>\n",
       "      <td>1</td>\n",
       "      <td>0.786229</td>\n",
       "      <td>0.987435</td>\n",
       "    </tr>\n",
       "    <tr>\n",
       "      <th>21802</th>\n",
       "      <td>42.246186</td>\n",
       "      <td>-83.551627</td>\n",
       "      <td>0.787251</td>\n",
       "      <td>0.987559</td>\n",
       "      <td>0.588235</td>\n",
       "      <td>0.784284</td>\n",
       "      <td>0.989972</td>\n",
       "      <td>0.878138</td>\n",
       "      <td>0.469338</td>\n",
       "      <td>0.427343</td>\n",
       "      <td>0.514286</td>\n",
       "      <td>0.623284</td>\n",
       "      <td>0.552603</td>\n",
       "      <td>1</td>\n",
       "      <td>0.787260</td>\n",
       "      <td>0.987523</td>\n",
       "    </tr>\n",
       "    <tr>\n",
       "      <th>21827</th>\n",
       "      <td>42.246198</td>\n",
       "      <td>-83.551628</td>\n",
       "      <td>0.788407</td>\n",
       "      <td>0.987491</td>\n",
       "      <td>0.529412</td>\n",
       "      <td>0.785824</td>\n",
       "      <td>0.989547</td>\n",
       "      <td>0.879490</td>\n",
       "      <td>0.463064</td>\n",
       "      <td>0.486672</td>\n",
       "      <td>0.474903</td>\n",
       "      <td>0.607903</td>\n",
       "      <td>0.548265</td>\n",
       "      <td>1</td>\n",
       "      <td>0.788534</td>\n",
       "      <td>0.987065</td>\n",
       "    </tr>\n",
       "    <tr>\n",
       "      <th>21852</th>\n",
       "      <td>42.246209</td>\n",
       "      <td>-83.551629</td>\n",
       "      <td>0.789565</td>\n",
       "      <td>0.987419</td>\n",
       "      <td>0.588235</td>\n",
       "      <td>0.788906</td>\n",
       "      <td>0.989108</td>\n",
       "      <td>0.883353</td>\n",
       "      <td>0.466707</td>\n",
       "      <td>0.463457</td>\n",
       "      <td>0.528185</td>\n",
       "      <td>0.631093</td>\n",
       "      <td>0.568872</td>\n",
       "      <td>1</td>\n",
       "      <td>0.789452</td>\n",
       "      <td>0.987495</td>\n",
       "    </tr>\n",
       "  </tbody>\n",
       "</table>\n",
       "</div>"
      ],
      "text/plain": [
       "               y          x    y_norm    x_norm   Vy_norm   Vx_norm  \\\n",
       "21752  42.246163 -83.551625  0.784951  0.987688  0.588235  0.779661   \n",
       "21777  42.246175 -83.551626  0.786100  0.987625  0.588235  0.782743   \n",
       "21802  42.246186 -83.551627  0.787251  0.987559  0.588235  0.784284   \n",
       "21827  42.246198 -83.551628  0.788407  0.987491  0.529412  0.785824   \n",
       "21852  42.246209 -83.551629  0.789565  0.987419  0.588235  0.788906   \n",
       "\n",
       "       theta_norm  psi_norm  phi_norm  omega_Xv_norm  omega_Yv_norm  \\\n",
       "21752    0.990650  0.877752  0.460231       0.494411       0.415444   \n",
       "21777    0.990425  0.872731  0.468933       0.456578       0.522780   \n",
       "21802    0.989972  0.878138  0.469338       0.427343       0.514286   \n",
       "21827    0.989547  0.879490  0.463064       0.486672       0.474903   \n",
       "21852    0.989108  0.883353  0.466707       0.463457       0.528185   \n",
       "\n",
       "       alpha_Xv_norm  alpha_Yv_norm  lane  y_norm_noise  x_norm_noise  \n",
       "21752       0.621865       0.549620     1      0.784921      0.987621  \n",
       "21777       0.610506       0.554772     1      0.786229      0.987435  \n",
       "21802       0.623284       0.552603     1      0.787260      0.987523  \n",
       "21827       0.607903       0.548265     1      0.788534      0.987065  \n",
       "21852       0.631093       0.568872     1      0.789452      0.987495  "
      ]
     },
     "execution_count": 118,
     "metadata": {},
     "output_type": "execute_result"
    }
   ],
   "source": [
    "# example segment\n",
    "exp_rl_seg_noise = ll_seg_noise[91]\n",
    "print(exp_rl_seg_noise.shape)\n",
    "exp_rl_seg_noise.head()"
   ]
  },
  {
   "cell_type": "code",
   "execution_count": 119,
   "metadata": {},
   "outputs": [
    {
     "data": {
      "text/plain": [
       "0.006578947368421052"
      ]
     },
     "execution_count": 119,
     "metadata": {},
     "output_type": "execute_result"
    }
   ],
   "source": [
    "# normalize time for calculating dt\n",
    "\n",
    "t_norm = MinMaxScaler().fit_transform(np.linspace(0, exp_rl_seg_noise.shape[0] * 50 * 0.01, num=exp_rl_seg_noise.shape[0]).reshape(-1,1)).flatten()\n",
    "dt = t_norm[1] - t_norm[0]\n",
    "dt"
   ]
  },
  {
   "attachments": {},
   "cell_type": "markdown",
   "metadata": {},
   "source": [
    "## linear kalman filter design"
   ]
  },
  {
   "attachments": {},
   "cell_type": "markdown",
   "metadata": {},
   "source": [
    "### scratch work"
   ]
  },
  {
   "cell_type": "code",
   "execution_count": 16,
   "metadata": {},
   "outputs": [],
   "source": [
    "x_noise = exp_rl_seg_noise['x_norm_noise'].values\n",
    "y_noise = exp_rl_seg_noise['y_norm_noise'].values\n",
    "Vx = exp_rl_seg_noise['Vx_norm'].values\n",
    "Vy = exp_rl_seg_noise['Vy_norm'].values\n",
    "alpha_Xv = exp_rl_seg_noise['alpha_Xv_norm'].values\n",
    "alpha_Yv = exp_rl_seg_noise['alpha_Yv_norm'].values\n",
    "\n",
    "gps_sig = 0.005\n",
    "# dt = (exp_ll_seg_gps_noise.index[2] - exp_ll_seg_gps_noise.index[1]) * 0.01\n",
    "d3xdt3 = np.gradient(exp_rl_seg_noise['alpha_Xv_norm'], dt)\n",
    "d3ydt3 = np.gradient(exp_rl_seg_noise['alpha_Yv_norm'], dt)\n",
    "\n",
    "A = np.array([ \n",
    "    [1, dt, (dt**2)/2, 0, 0, 0],\n",
    "    [0, 1, dt, 0, 0, 0],\n",
    "    [0, 0, 1, 0, 0, 0],\n",
    "    [0, 0, 0, 1, dt, (dt**2)/2],\n",
    "    [0, 0, 0, 0, 1, dt],\n",
    "    [0, 0, 0, 0, 0, 1],\n",
    "    ])\n",
    "\n",
    "Q1 = np.array([(dt**3)/6, (dt**2)/2, dt, 0, 0, 0])\n",
    "Q1 = np.expand_dims(Q1, 1)\n",
    "Q2 = np.array([0, 0, 0, (dt**3)/6, (dt**2)/2, dt])\n",
    "Q2 = np.expand_dims(Q2, 1)\n",
    "\n",
    "j_var = max(np.var(d3xdt3), np.var(d3ydt3))\n",
    "Q = j_var * (Q1 @ Q1.T + Q2 @ Q2.T)\n",
    "\n",
    "H = np.array([\n",
    "    [1, 0, 0, 0, 0, 0],\n",
    "    [0, 0, 0, 1, 0, 0],\n",
    "    ])\n",
    "\n",
    "R = np.diag(np.array([gps_sig**2, gps_sig**2]))\n",
    "\n",
    "x_init = np.array([x_noise[0], Vx[0], alpha_Xv[0], y_noise[0], Vy[0], alpha_Yv[0]])\n",
    "P_init = 0.001 * np.eye(len(x_init))  # small initial prediction error"
   ]
  },
  {
   "cell_type": "code",
   "execution_count": 17,
   "metadata": {},
   "outputs": [],
   "source": [
    "# create an observation vector of noisy GPS signals\n",
    "observations = np.array([x_noise, y_noise]).T\n",
    "\n",
    "# matrix dimensions, nxm\n",
    "nx = Q.shape[0]\n",
    "ny = R.shape[0]     \n",
    "nt = observations.shape[0]\n",
    "\n",
    "# allocate identity matrix for re-use\n",
    "Inx = np.eye(nx)\n",
    "\n",
    "# allocate result matrices\n",
    "x_pred = np.zeros((nt, nx))      # prediction of state vector\n",
    "P_pred = np.zeros((nt, nx, nx))  # prediction error covariance matrix\n",
    "x_est = np.zeros((nt, nx))       # estimation of state vector\n",
    "P_est = np.zeros((nt, nx, nx))   # estimation error covariance matrix\n",
    "K = np.zeros((nt, nx, ny))       # Kalman Gain\n",
    "\n",
    "# set initial prediction\n",
    "x_pred[0] = x_init\n",
    "P_pred[0] = P_init\n",
    "\n",
    "for i in range(nt):\n",
    "\n",
    "    # prediction stage\n",
    "    if i > 0:\n",
    "        x_pred[i] = A @ x_est[i-1]\n",
    "        P_pred[i] = A @ P_est[i-1] @ A.T + Q\n",
    "\n",
    "    # estimation stage\n",
    "    y_obs = observations[i]\n",
    "    K[i] = P_pred[i] @ H.T @ np.linalg.inv((H @ P_pred[i] @ H.T) + R)\n",
    "    x_est[i] = x_pred[i] + K[i] @ (y_obs - H @ x_pred[i])\n",
    "    P_est[i] = (Inx - K[i] @ H) @ P_pred[i]"
   ]
  },
  {
   "attachments": {},
   "cell_type": "markdown",
   "metadata": {},
   "source": [
    "### kf()"
   ]
  },
  {
   "cell_type": "code",
   "execution_count": 171,
   "metadata": {},
   "outputs": [],
   "source": [
    "def kf(segment_df):\n",
    "\n",
    "    # states\n",
    "    x_noise = segment_df['x_noise'].values\n",
    "    y_noise = segment_df['y_noise'].values\n",
    "    Vx = segment_df['Vx'].values\n",
    "    Vy = segment_df['Vy'].values\n",
    "    alpha_Xv = segment_df['alpha_Xv'].values\n",
    "    alpha_Yv = segment_df['alpha_Yv'].values\n",
    "    d3xdt3 = np.gradient(segment_df['alpha_Xv'], dt)\n",
    "    d3ydt3 = np.gradient(segment_df['alpha_Yv'], dt)\n",
    "\n",
    "    gps_sig = 0.0002\n",
    "\n",
    "    # initialization\n",
    "    A = np.array([\n",
    "        [1, dt, (dt**2)/2, 0, 0, 0],\n",
    "        [0, 1, dt, 0, 0, 0],\n",
    "        [0, 0, 1, 0, 0, 0],\n",
    "        [0, 0, 0, 1, dt, (dt**2)/2],\n",
    "        [0, 0, 0, 0, 1, dt],\n",
    "        [0, 0, 0, 0, 0, 1],\n",
    "        ])\n",
    "\n",
    "    H = np.array([\n",
    "        [1, 0, 0, 0, 0, 0],\n",
    "        [0, 0, 0, 1, 0, 0],\n",
    "        ])\n",
    "\n",
    "    Q1 = np.array([(dt**3)/6, (dt**2)/2, dt, 0, 0, 0])\n",
    "    Q1 = np.expand_dims(Q1, 1)\n",
    "    Q2 = np.array([0, 0, 0, (dt**3)/6, (dt**2)/2, dt])\n",
    "    Q2 = np.expand_dims(Q2, 1)\n",
    "\n",
    "    j_var = max(np.var(d3xdt3), np.var(d3ydt3))\n",
    "    Q = j_var * (Q1 @ Q1.T + Q2 @ Q2.T)\n",
    "    R = np.diag(np.array([gps_sig**2, gps_sig**2]))\n",
    "\n",
    "    x_init = np.array([x_noise[0], Vx[0], alpha_Xv[0], y_noise[0], Vy[0], alpha_Yv[0]])\n",
    "    P_init = 1 * np.eye(len(x_init))  # small initial prediction error\n",
    "\n",
    "    # state vector\n",
    "    observations = np.array([x_noise, y_noise]).T\n",
    "\n",
    "    # matrix dimensions, nxm\n",
    "    nx = Q.shape[0]\n",
    "    ny = R.shape[0]     \n",
    "    nt = observations.shape[0]\n",
    "\n",
    "    # allocate identity matrix for re-use\n",
    "    Inx = np.eye(nx)\n",
    "\n",
    "    # allocate result matrices\n",
    "    x_pred = np.zeros((nt, nx))      # prediction of state vector\n",
    "    P_pred = np.zeros((nt, nx, nx))  # prediction error covariance matrix\n",
    "    x_est = np.zeros((nt, nx))       # estimation of state vector\n",
    "    P_est = np.zeros((nt, nx, nx))   # estimation error covariance matrix\n",
    "    K = np.zeros((nt, nx, ny))       # Kalman Gain\n",
    "\n",
    "    # set initial prediction\n",
    "    x_pred[0] = x_init\n",
    "    P_pred[0] = P_init\n",
    "\n",
    "    for i in range(nt):\n",
    "\n",
    "        # prediction stage\n",
    "        if i > 0:\n",
    "            x_pred[i] = A @ x_est[i-1]\n",
    "            P_pred[i] = A @ P_est[i-1] @ A.T + Q\n",
    "\n",
    "        # estimation stage\n",
    "        y_obs = observations[i]\n",
    "        K[i] = P_pred[i] @ H.T @ np.linalg.inv((H @ P_pred[i] @ H.T) + R)\n",
    "        x_est[i] = x_pred[i] + K[i] @ (y_obs - H @ x_pred[i])\n",
    "        P_est[i] = (Inx - K[i] @ H) @ P_pred[i]\n",
    "    \n",
    "    return x_est, x_noise, y_noise, segment_df['x'].values, segment_df['y'].values"
   ]
  },
  {
   "attachments": {},
   "cell_type": "markdown",
   "metadata": {},
   "source": [
    "### example estimation"
   ]
  },
  {
   "cell_type": "code",
   "execution_count": 236,
   "metadata": {},
   "outputs": [
    {
     "ename": "KeyError",
     "evalue": "'x_noise'",
     "output_type": "error",
     "traceback": [
      "\u001b[0;31m---------------------------------------------------------------------------\u001b[0m",
      "\u001b[0;31mKeyError\u001b[0m                                  Traceback (most recent call last)",
      "\u001b[0;32m~/opt/anaconda3/envs/geo_env/lib/python3.8/site-packages/pandas/core/indexes/base.py\u001b[0m in \u001b[0;36mget_loc\u001b[0;34m(self, key, method, tolerance)\u001b[0m\n\u001b[1;32m   3079\u001b[0m             \u001b[0;32mtry\u001b[0m\u001b[0;34m:\u001b[0m\u001b[0;34m\u001b[0m\u001b[0;34m\u001b[0m\u001b[0m\n\u001b[0;32m-> 3080\u001b[0;31m                 \u001b[0;32mreturn\u001b[0m \u001b[0mself\u001b[0m\u001b[0;34m.\u001b[0m\u001b[0m_engine\u001b[0m\u001b[0;34m.\u001b[0m\u001b[0mget_loc\u001b[0m\u001b[0;34m(\u001b[0m\u001b[0mcasted_key\u001b[0m\u001b[0;34m)\u001b[0m\u001b[0;34m\u001b[0m\u001b[0;34m\u001b[0m\u001b[0m\n\u001b[0m\u001b[1;32m   3081\u001b[0m             \u001b[0;32mexcept\u001b[0m \u001b[0mKeyError\u001b[0m \u001b[0;32mas\u001b[0m \u001b[0merr\u001b[0m\u001b[0;34m:\u001b[0m\u001b[0;34m\u001b[0m\u001b[0;34m\u001b[0m\u001b[0m\n",
      "\u001b[0;32mpandas/_libs/index.pyx\u001b[0m in \u001b[0;36mpandas._libs.index.IndexEngine.get_loc\u001b[0;34m()\u001b[0m\n",
      "\u001b[0;32mpandas/_libs/index.pyx\u001b[0m in \u001b[0;36mpandas._libs.index.IndexEngine.get_loc\u001b[0;34m()\u001b[0m\n",
      "\u001b[0;32mpandas/_libs/hashtable_class_helper.pxi\u001b[0m in \u001b[0;36mpandas._libs.hashtable.PyObjectHashTable.get_item\u001b[0;34m()\u001b[0m\n",
      "\u001b[0;32mpandas/_libs/hashtable_class_helper.pxi\u001b[0m in \u001b[0;36mpandas._libs.hashtable.PyObjectHashTable.get_item\u001b[0;34m()\u001b[0m\n",
      "\u001b[0;31mKeyError\u001b[0m: 'x_noise'",
      "\nThe above exception was the direct cause of the following exception:\n",
      "\u001b[0;31mKeyError\u001b[0m                                  Traceback (most recent call last)",
      "\u001b[0;32m<ipython-input-236-b54e3077e81a>\u001b[0m in \u001b[0;36m<module>\u001b[0;34m\u001b[0m\n\u001b[1;32m      2\u001b[0m \u001b[0my_noise\u001b[0m \u001b[0;34m=\u001b[0m \u001b[0mexp_rl_seg_noise\u001b[0m\u001b[0;34m[\u001b[0m\u001b[0;34m'y_norm_noise'\u001b[0m\u001b[0;34m]\u001b[0m\u001b[0;34m.\u001b[0m\u001b[0mvalues\u001b[0m\u001b[0;34m\u001b[0m\u001b[0;34m\u001b[0m\u001b[0m\n\u001b[1;32m      3\u001b[0m \u001b[0;34m\u001b[0m\u001b[0m\n\u001b[0;32m----> 4\u001b[0;31m \u001b[0mx_est_sample\u001b[0m\u001b[0;34m,\u001b[0m \u001b[0mx_noise\u001b[0m\u001b[0;34m,\u001b[0m \u001b[0my_noise\u001b[0m\u001b[0;34m,\u001b[0m \u001b[0mx\u001b[0m\u001b[0;34m,\u001b[0m \u001b[0my\u001b[0m  \u001b[0;34m=\u001b[0m \u001b[0mkf\u001b[0m\u001b[0;34m(\u001b[0m\u001b[0mexp_rl_seg_noise\u001b[0m\u001b[0;34m)\u001b[0m\u001b[0;34m\u001b[0m\u001b[0;34m\u001b[0m\u001b[0m\n\u001b[0m",
      "\u001b[0;32m<ipython-input-171-10c804ddf8e9>\u001b[0m in \u001b[0;36mkf\u001b[0;34m(segment_df)\u001b[0m\n\u001b[1;32m      2\u001b[0m \u001b[0;34m\u001b[0m\u001b[0m\n\u001b[1;32m      3\u001b[0m     \u001b[0;31m# states\u001b[0m\u001b[0;34m\u001b[0m\u001b[0;34m\u001b[0m\u001b[0;34m\u001b[0m\u001b[0m\n\u001b[0;32m----> 4\u001b[0;31m     \u001b[0mx_noise\u001b[0m \u001b[0;34m=\u001b[0m \u001b[0msegment_df\u001b[0m\u001b[0;34m[\u001b[0m\u001b[0;34m'x_noise'\u001b[0m\u001b[0;34m]\u001b[0m\u001b[0;34m.\u001b[0m\u001b[0mvalues\u001b[0m\u001b[0;34m\u001b[0m\u001b[0;34m\u001b[0m\u001b[0m\n\u001b[0m\u001b[1;32m      5\u001b[0m     \u001b[0my_noise\u001b[0m \u001b[0;34m=\u001b[0m \u001b[0msegment_df\u001b[0m\u001b[0;34m[\u001b[0m\u001b[0;34m'y_noise'\u001b[0m\u001b[0;34m]\u001b[0m\u001b[0;34m.\u001b[0m\u001b[0mvalues\u001b[0m\u001b[0;34m\u001b[0m\u001b[0;34m\u001b[0m\u001b[0m\n\u001b[1;32m      6\u001b[0m     \u001b[0mVx\u001b[0m \u001b[0;34m=\u001b[0m \u001b[0msegment_df\u001b[0m\u001b[0;34m[\u001b[0m\u001b[0;34m'Vx'\u001b[0m\u001b[0;34m]\u001b[0m\u001b[0;34m.\u001b[0m\u001b[0mvalues\u001b[0m\u001b[0;34m\u001b[0m\u001b[0;34m\u001b[0m\u001b[0m\n",
      "\u001b[0;32m~/opt/anaconda3/envs/geo_env/lib/python3.8/site-packages/pandas/core/frame.py\u001b[0m in \u001b[0;36m__getitem__\u001b[0;34m(self, key)\u001b[0m\n\u001b[1;32m   3022\u001b[0m             \u001b[0;32mif\u001b[0m \u001b[0mself\u001b[0m\u001b[0;34m.\u001b[0m\u001b[0mcolumns\u001b[0m\u001b[0;34m.\u001b[0m\u001b[0mnlevels\u001b[0m \u001b[0;34m>\u001b[0m \u001b[0;36m1\u001b[0m\u001b[0;34m:\u001b[0m\u001b[0;34m\u001b[0m\u001b[0;34m\u001b[0m\u001b[0m\n\u001b[1;32m   3023\u001b[0m                 \u001b[0;32mreturn\u001b[0m \u001b[0mself\u001b[0m\u001b[0;34m.\u001b[0m\u001b[0m_getitem_multilevel\u001b[0m\u001b[0;34m(\u001b[0m\u001b[0mkey\u001b[0m\u001b[0;34m)\u001b[0m\u001b[0;34m\u001b[0m\u001b[0;34m\u001b[0m\u001b[0m\n\u001b[0;32m-> 3024\u001b[0;31m             \u001b[0mindexer\u001b[0m \u001b[0;34m=\u001b[0m \u001b[0mself\u001b[0m\u001b[0;34m.\u001b[0m\u001b[0mcolumns\u001b[0m\u001b[0;34m.\u001b[0m\u001b[0mget_loc\u001b[0m\u001b[0;34m(\u001b[0m\u001b[0mkey\u001b[0m\u001b[0;34m)\u001b[0m\u001b[0;34m\u001b[0m\u001b[0;34m\u001b[0m\u001b[0m\n\u001b[0m\u001b[1;32m   3025\u001b[0m             \u001b[0;32mif\u001b[0m \u001b[0mis_integer\u001b[0m\u001b[0;34m(\u001b[0m\u001b[0mindexer\u001b[0m\u001b[0;34m)\u001b[0m\u001b[0;34m:\u001b[0m\u001b[0;34m\u001b[0m\u001b[0;34m\u001b[0m\u001b[0m\n\u001b[1;32m   3026\u001b[0m                 \u001b[0mindexer\u001b[0m \u001b[0;34m=\u001b[0m \u001b[0;34m[\u001b[0m\u001b[0mindexer\u001b[0m\u001b[0;34m]\u001b[0m\u001b[0;34m\u001b[0m\u001b[0;34m\u001b[0m\u001b[0m\n",
      "\u001b[0;32m~/opt/anaconda3/envs/geo_env/lib/python3.8/site-packages/pandas/core/indexes/base.py\u001b[0m in \u001b[0;36mget_loc\u001b[0;34m(self, key, method, tolerance)\u001b[0m\n\u001b[1;32m   3080\u001b[0m                 \u001b[0;32mreturn\u001b[0m \u001b[0mself\u001b[0m\u001b[0;34m.\u001b[0m\u001b[0m_engine\u001b[0m\u001b[0;34m.\u001b[0m\u001b[0mget_loc\u001b[0m\u001b[0;34m(\u001b[0m\u001b[0mcasted_key\u001b[0m\u001b[0;34m)\u001b[0m\u001b[0;34m\u001b[0m\u001b[0;34m\u001b[0m\u001b[0m\n\u001b[1;32m   3081\u001b[0m             \u001b[0;32mexcept\u001b[0m \u001b[0mKeyError\u001b[0m \u001b[0;32mas\u001b[0m \u001b[0merr\u001b[0m\u001b[0;34m:\u001b[0m\u001b[0;34m\u001b[0m\u001b[0;34m\u001b[0m\u001b[0m\n\u001b[0;32m-> 3082\u001b[0;31m                 \u001b[0;32mraise\u001b[0m \u001b[0mKeyError\u001b[0m\u001b[0;34m(\u001b[0m\u001b[0mkey\u001b[0m\u001b[0;34m)\u001b[0m \u001b[0;32mfrom\u001b[0m \u001b[0merr\u001b[0m\u001b[0;34m\u001b[0m\u001b[0;34m\u001b[0m\u001b[0m\n\u001b[0m\u001b[1;32m   3083\u001b[0m \u001b[0;34m\u001b[0m\u001b[0m\n\u001b[1;32m   3084\u001b[0m         \u001b[0;32mif\u001b[0m \u001b[0mtolerance\u001b[0m \u001b[0;32mis\u001b[0m \u001b[0;32mnot\u001b[0m \u001b[0;32mNone\u001b[0m\u001b[0;34m:\u001b[0m\u001b[0;34m\u001b[0m\u001b[0;34m\u001b[0m\u001b[0m\n",
      "\u001b[0;31mKeyError\u001b[0m: 'x_noise'"
     ]
    }
   ],
   "source": [
    "x_noise = exp_rl_seg_noise['x_norm_noise'].values\n",
    "y_noise = exp_rl_seg_noise['y_norm_noise'].values\n",
    "\n",
    "x_est_sample, x_noise, y_noise, x, y  = kf(exp_rl_seg_noise)"
   ]
  },
  {
   "cell_type": "code",
   "execution_count": 235,
   "metadata": {},
   "outputs": [
    {
     "data": {
      "text/plain": [
       "<matplotlib.legend.Legend at 0x7fcb66cf1a00>"
      ]
     },
     "execution_count": 235,
     "metadata": {},
     "output_type": "execute_result"
    },
    {
     "data": {
      "image/png": "[encoded data removed]",
      "text/plain": [
       "<Figure size 600x275 with 1 Axes>"
      ]
     },
     "metadata": {
      "needs_background": "light"
     },
     "output_type": "display_data"
    }
   ],
   "source": [
    "plt.figure(dpi=100, figsize=(6, 2.75))\n",
    "\n",
    "plt.plot(y_noise, x_noise, '-o', label='0.02% noise, 10hz', ms=3, c='orange')\n",
    "plt.plot(x_est_sample[:, 3], x_est_sample[:, 0], '-', linewidth=1, label='kf baseline prediction', c='green')\n",
    "plt.scatter(x_est_sample[:, 3][0], x_est_sample[:, 0][0], label='start', s=60, c='green')\n",
    "plt.plot(exp_rl_seg_noise['y_norm'].values, exp_rl_seg_noise['x_norm'].values, label='ground truth, 10hz', c='blue')\n",
    "\n",
    "plt.legend()"
   ]
  },
  {
   "attachments": {},
   "cell_type": "markdown",
   "metadata": {},
   "source": [
    "### batch estimation"
   ]
  },
  {
   "cell_type": "code",
   "execution_count": 237,
   "metadata": {},
   "outputs": [],
   "source": [
    "# list of dataframe\n",
    "rl_seg_pred = []\n",
    "\n",
    "for df in rl_seg_noise:\n",
    "    x_est_sample, x_noise, y_noise, x, y = kf(df)\n",
    "    x_est_df = pd.DataFrame(\n",
    "        {'x_est': x_est_sample[:, 0],\n",
    "        'y_est': x_est_sample[:, 3],\n",
    "        'Vx_est': x_est_sample[:, 1],\n",
    "        'Vy_est': x_est_sample[:, 4],\n",
    "        'x_noise': x_noise,\n",
    "        'y_noise': y_noise,\n",
    "        'x': x,\n",
    "        'y': y\n",
    "        }\n",
    "    )\n",
    "    rl_seg_pred.append(x_est_df)    "
   ]
  },
  {
   "cell_type": "code",
   "execution_count": 238,
   "metadata": {},
   "outputs": [
    {
     "data": {
      "text/plain": [
       "<matplotlib.legend.Legend at 0x7fcb154ab550>"
      ]
     },
     "execution_count": 238,
     "metadata": {},
     "output_type": "execute_result"
    },
    {
     "data": {
      "image/png": "[encoded data removed]",
      "text/plain": [
       "<Figure size 600x300 with 1 Axes>"
      ]
     },
     "metadata": {
      "needs_background": "light"
     },
     "output_type": "display_data"
    }
   ],
   "source": [
    "sample = 4\n",
    "plt.figure(dpi=100, figsize=(6, 3))\n",
    "\n",
    "plt.plot(rl_seg_pred[sample]['y_noise'], rl_seg_pred[sample]['x_noise'], '-o', label='0.02% noise, 10hz', ms=3, c='orange')\n",
    "plt.plot(rl_seg_pred[sample]['y_est'], rl_seg_pred[sample]['x_est'], '-', linewidth=1, label='kf baseline prediction', c='green')\n",
    "plt.scatter(rl_seg_pred[sample]['y_est'][0], rl_seg_pred[sample]['x_est'][0], label='start', s=60, c='green')\n",
    "plt.plot(rl_seg_pred[sample]['y'], rl_seg_pred[sample]['x'], label='ground truth, 10hz', c='blue')\n",
    "\n",
    "plt.legend()"
   ]
  },
  {
   "cell_type": "code",
   "execution_count": 114,
   "metadata": {},
   "outputs": [],
   "source": [
    "def inv_normalize_df(df_lst):\n",
    "    # inverse normalize the GPS coordinates in rl_seg_pred\n",
    "\n",
    "    # constants\n",
    "    x_max = -83.55144472\n",
    "    y_max = 42.24829894\n",
    "    x_min = -83.56611364\n",
    "    y_min = 42.23836889\n",
    "\n",
    "    for df in df_lst:\n",
    "\n",
    "        df['y_est'] = df['y_est'] * (y_max - y_min) + y_min\n",
    "        df['x_est'] = df['x_est'] * (x_max - x_min) + x_min\n",
    "\n",
    "        df['y'] = df['y'] * (y_max - y_min) + y_min\n",
    "        df['x'] = df['x'] * (x_max - x_min) + x_min\n",
    "    \n",
    "        df['y_noise'] = df['y_noise'] * (y_max - y_min) + y_min\n",
    "        df['x_noise'] = df['x_noise'] * (x_max - x_min) + x_min\n",
    "        \n",
    "    return df_lst  "
   ]
  },
  {
   "cell_type": "code",
   "execution_count": 175,
   "metadata": {},
   "outputs": [],
   "source": [
    "# calculate prediction error in meters\n",
    "\n",
    "x_max = -83.55144472\n",
    "y_max = 42.24829894\n",
    "x_min = -83.56611364\n",
    "y_min = 42.23836889\n",
    "\n",
    "y_pred_scale = []\n",
    "y_gt_scale = []\n",
    "y_noise_scale = []\n",
    "\n",
    "rl_seg_pred_scaled = rl_seg_pred\n",
    "# inv_normalize_df(rl_seg_pred)\n",
    "\n",
    "# estimation\n",
    "for df in rl_seg_pred_scaled:\n",
    "\n",
    "    y_pred_scale.append(\n",
    "        np.append(df['y_est'].values.reshape(153, 1), df['x_est'].values.reshape(153, 1), axis=1\n",
    "    ))\n",
    "    y_gt_scale.append(\n",
    "        np.append(df['y'].values.reshape(153, 1), df['x'].values.reshape(153, 1), axis=1\n",
    "    ))\n",
    "    y_noise_scale.append(\n",
    "        np.append(df['y_noise'].values.reshape(153, 1), df['x_noise'].values.reshape(153, 1), axis=1\n",
    "    ))\n",
    "\n",
    "y_pred_scale = np.asarray(y_pred_scale)\n",
    "y_gt_scale = np.asarray(y_gt_scale)\n",
    "y_noise_scale = np.asarray(y_noise_scale)\n",
    "\n",
    "great_circie_err = []\n",
    "great_circie_noise_err = []\n",
    "\n",
    "for i in np.arange(len(rl_seg_pred)):\n",
    "    for traj_i in np.arange(153):\n",
    "        pred_coord = (y_pred_scale[i][traj_i][0], y_pred_scale[i][traj_i][1])\n",
    "        actual_coord = (y_gt_scale[i][traj_i][0], y_gt_scale[i][traj_i][1])\n",
    "        noise_coord = (y_noise_scale[i][traj_i][0], y_noise_scale[i][traj_i][1])\n",
    "\n",
    "        great_circie_err.append(math.dist(pred_coord, actual_coord)) # meter\n",
    "        great_circie_noise_err.append(math.dist(noise_coord, actual_coord)) # meter\n",
    "        \n",
    "\n",
    "        # great_circie_err.append(great_circle(pred_coord, actual_coord).miles * 1609.34) # meter\n",
    "        # great_circie_noise_err.append(great_circle(noise_coord, actual_coord).miles * 1609.34) # meter"
   ]
  },
  {
   "cell_type": "code",
   "execution_count": 176,
   "metadata": {},
   "outputs": [
    {
     "data": {
      "image/png": "[encoded data removed]",
      "text/plain": [
       "<Figure size 600x400 with 1 Axes>"
      ]
     },
     "metadata": {
      "needs_background": "light"
     },
     "output_type": "display_data"
    }
   ],
   "source": [
    "plt.figure(dpi=100)\n",
    "ax = sns.histplot(\n",
    "    great_circie_noise_err,\n",
    "    bins=50, label='spatial noise', color='red', kde=True)\n",
    "sns.histplot(\n",
    "    great_circie_err, \n",
    "    bins=50, label='kf_baseline pred error', kde=True)\n",
    "\n",
    "plt.xlabel('error distance [m]')\n",
    "plt.legend()\n",
    "plt.show()"
   ]
  },
  {
   "cell_type": "code",
   "execution_count": 122,
   "metadata": {},
   "outputs": [
    {
     "data": {
      "image/png": "[encoded data removed]",
      "text/plain": [
       "<Figure size 600x400 with 1 Axes>"
      ]
     },
     "metadata": {
      "needs_background": "light"
     },
     "output_type": "display_data"
    }
   ],
   "source": [
    "plt.figure(dpi=100)\n",
    "ax = sns.histplot(\n",
    "    great_circie_noise_err,\n",
    "    bins=50, label='spatial noise', color='red', kde=True)\n",
    "sns.histplot(\n",
    "    great_circie_err, \n",
    "    bins=50, label='kf_baseline pred error', kde=True)\n",
    "\n",
    "plt.xlabel('error distance [m]')\n",
    "plt.legend()\n",
    "plt.show()"
   ]
  },
  {
   "cell_type": "code",
   "execution_count": 46,
   "metadata": {},
   "outputs": [],
   "source": [
    "# prediction error of single trajectory\n",
    "\n",
    "x_max = -83.55144472\n",
    "y_max = 42.24829894\n",
    "x_min = -83.56611364\n",
    "y_min = 42.23836889\n",
    "\n",
    "y_exp_test_scale = []\n",
    "y_exp_noise_scale = []\n",
    "y_exp_pred_scale = []\n",
    "\n",
    "# estimation\n",
    "y_scale = x_est_sample[:, 3] * (y_max - y_min) + y_min\n",
    "x_scale = x_est_sample[:, 0] * (x_max - x_min) + x_min\n",
    "\n",
    "coord_scale = np.append(\n",
    "    y_scale.reshape(153, 1), x_scale.reshape(153, 1), axis=1\n",
    ")\n",
    "y_exp_pred_scale.append(coord_scale)\n",
    "\n",
    "# gt\n",
    "y_scale = exp_rl_seg_noise['y_norm'].values * (y_max - y_min) + y_min\n",
    "x_scale = exp_rl_seg_noise['x_norm'].values * (x_max - x_min) + x_min\n",
    "coord_scale = np.append(\n",
    "    y_scale.reshape(153, 1), x_scale.reshape(153, 1), axis=1\n",
    ")\n",
    "y_exp_test_scale.append(coord_scale)\n",
    "\n",
    "# noise\n",
    "y_scale = y_noise * (y_max - y_min) + y_min\n",
    "x_scale = x_noise * (x_max - x_min) + x_min\n",
    "coord_scale = np.append(\n",
    "    y_scale.reshape(153, 1), x_scale.reshape(153, 1), axis=1\n",
    ")\n",
    "y_exp_noise_scale.append(coord_scale)\n",
    "\n",
    "y_test_scale = np.asarray(y_exp_test_scale)\n",
    "y_pred_scale = np.asarray(y_exp_pred_scale)\n",
    "y_exp_noise_scale = np.asarray(y_exp_noise_scale)\n",
    "\n",
    "great_circie_err = []\n",
    "great_circie_noise_err = []\n",
    "\n",
    "for traj_i in np.arange(153):\n",
    "    pred_coord = (y_pred_scale[0][traj_i][0], y_pred_scale[0][traj_i][1])\n",
    "    actual_coord = (y_test_scale[0][traj_i][0], y_test_scale[0][traj_i][1])\n",
    "    noise_coord = (y_exp_noise_scale[0][traj_i][0], y_exp_noise_scale[0][traj_i][1])\n",
    "\n",
    "    great_circie_err.append(great_circle(pred_coord, actual_coord).miles * 1609.34) # meter\n",
    "    great_circie_noise_err.append(great_circle(noise_coord, actual_coord).miles * 1609.34) # meter"
   ]
  },
  {
   "cell_type": "code",
   "execution_count": 177,
   "metadata": {},
   "outputs": [],
   "source": [
    "def traj_distances(df):\n",
    "    # calculate \n",
    "\n",
    "    length_m = 0\n",
    "    length_m_pred = 0\n",
    "    length_m_noise = 0\n",
    "\n",
    "    for index, row in df.iterrows():\n",
    "        try:\n",
    "            # actual\n",
    "            start = (row['y'], row['x'])\n",
    "            end = (df.iloc[index+1]['y'], df.iloc[index+1]['x'])\n",
    "            length_m += great_circle(start, end).meters\n",
    "\n",
    "            # predicted\n",
    "            start = (row['y_est'], row['x_est'])\n",
    "            end = (df.iloc[index+1]['y_est'], df.iloc[index+1]['x_est'])\n",
    "            length_m_pred += great_circle(start, end).meters\n",
    "\n",
    "            # noise\n",
    "            start = (row['y_noise'], row['x_noise'])\n",
    "            end = (df.iloc[index+1]['y_noise'], df.iloc[index+1]['x_noise'])\n",
    "            length_m_noise += great_circle(start, end).meters\n",
    "\n",
    "        except:\n",
    "            pass\n",
    "    \n",
    "    return length_m, length_m_pred, length_m_noise"
   ]
  },
  {
   "cell_type": "code",
   "execution_count": 220,
   "metadata": {},
   "outputs": [],
   "source": [
    "def traj_distances_gpd(df):\n",
    "    # calculate \n",
    "\n",
    "    length_m = 0\n",
    "    length_m_pred = 0\n",
    "    length_m_noise = 0\n",
    "\n",
    "    for index, row in df.iterrows():\n",
    "        try:\n",
    "            # actual\n",
    "            start = (row['y'], row['x'])\n",
    "            end = (df.iloc[index+1]['y'], df.iloc[index+1]['x'])\n",
    "            length_m += math.dist(start, end)\n",
    "\n",
    "            # predicted\n",
    "            start = (row['y_est'], row['x_est'])\n",
    "            end = (df.iloc[index+1]['y_est'], df.iloc[index+1]['x_est'])\n",
    "            length_m_pred += math.dist(start, end)\n",
    "\n",
    "            # noise\n",
    "            start = (row['y_noise'], row['x_noise'])\n",
    "            end = (df.iloc[index+1]['y_noise'], df.iloc[index+1]['x_noise'])\n",
    "            length_m_noise += math.dist(start, end)\n",
    "\n",
    "        except:\n",
    "            pass\n",
    "    \n",
    "    return length_m, length_m_pred, length_m_noise"
   ]
  },
  {
   "cell_type": "code",
   "execution_count": 221,
   "metadata": {},
   "outputs": [
    {
     "name": "stderr",
     "output_type": "stream",
     "text": [
      "100%|██████████| 500/500 [00:33<00:00, 15.03it/s]\n"
     ]
    }
   ],
   "source": [
    "length_m_500 = []\n",
    "length_m_pred_500 = []\n",
    "length_m_noise_500 = []\n",
    "\n",
    "for df in tqdm(rl_seg_pred_scaled):\n",
    "    length_m, length_m_pred, length_m_noise = traj_distances_gpd(df)\n",
    "    length_m_500.append(length_m)\n",
    "    length_m_pred_500.append(length_m_pred)\n",
    "    length_m_noise_500.append(length_m_noise)"
   ]
  },
  {
   "cell_type": "code",
   "execution_count": 223,
   "metadata": {},
   "outputs": [
    {
     "data": {
      "text/plain": [
       "<matplotlib.legend.Legend at 0x7fcb430f4160>"
      ]
     },
     "execution_count": 223,
     "metadata": {},
     "output_type": "execute_result"
    },
    {
     "data": {
      "image/png": "[encoded data removed]",
      "text/plain": [
       "<Figure size 600x400 with 1 Axes>"
      ]
     },
     "metadata": {
      "needs_background": "light"
     },
     "output_type": "display_data"
    }
   ],
   "source": [
    "plt.figure(dpi=100)\n",
    "sns.histplot(np.array(length_m_500) - np.array(length_m_pred_500), label='truth - pred')\n",
    "sns.histplot(np.array(length_m_500) - np.array(length_m_noise_500), label='truth - noise', color='red')\n",
    "plt.xlabel('total trajectory length error [m]')\n",
    "plt.legend()"
   ]
  },
  {
   "cell_type": "code",
   "execution_count": 47,
   "metadata": {},
   "outputs": [
    {
     "data": {
      "text/plain": [
       "<matplotlib.legend.Legend at 0x7fcb23c154c0>"
      ]
     },
     "execution_count": 47,
     "metadata": {},
     "output_type": "execute_result"
    },
    {
     "data": {
      "image/png": "[encoded data removed]",
      "text/plain": [
       "<Figure size 600x400 with 1 Axes>"
      ]
     },
     "metadata": {
      "needs_background": "light"
     },
     "output_type": "display_data"
    }
   ],
   "source": [
    "plt.figure(dpi=100)\n",
    "sns.histplot(np.array(length_m_500) - np.array(length_m_pred_500), label='truth - pred')\n",
    "sns.histplot(np.array(length_m_500) - np.array(length_m_noise_500), label='truth - noise', color='red')\n",
    "plt.xlabel('error per trajectory sample [m]')\n",
    "plt.legend()"
   ]
  },
  {
   "cell_type": "code",
   "execution_count": 53,
   "metadata": {},
   "outputs": [
    {
     "data": {
      "text/plain": [
       "<matplotlib.legend.Legend at 0x7fcab28e6a30>"
      ]
     },
     "execution_count": 53,
     "metadata": {},
     "output_type": "execute_result"
    },
    {
     "data": {
      "image/png": "[encoded data removed]",
      "text/plain": [
       "<Figure size 600x400 with 1 Axes>"
      ]
     },
     "metadata": {
      "needs_background": "light"
     },
     "output_type": "display_data"
    }
   ],
   "source": [
    "ax = sns.histplot(great_circie_noise_err)\n",
    "ax.axvline(np.average(great_circie_noise_err), color='k', lw=2, label='mean')\n",
    "ax.axvline(np.median(great_circie_noise_err), color='red', ls='--', lw=2, label='median')\n",
    "plt.xlabel('noise error distance [m]')\n",
    "plt.legend()"
   ]
  },
  {
   "cell_type": "code",
   "execution_count": 54,
   "metadata": {},
   "outputs": [
    {
     "data": {
      "text/plain": [
       "<matplotlib.legend.Legend at 0x7fcb53d9dc40>"
      ]
     },
     "execution_count": 54,
     "metadata": {},
     "output_type": "execute_result"
    },
    {
     "data": {
      "image/png": "[encoded data removed]",
      "text/plain": [
       "<Figure size 600x400 with 1 Axes>"
      ]
     },
     "metadata": {
      "needs_background": "light"
     },
     "output_type": "display_data"
    }
   ],
   "source": [
    "ax = sns.histplot(great_circie_err)\n",
    "ax.axvline(np.average(great_circie_err), color='k', lw=2, label='mean')\n",
    "ax.axvline(np.median(great_circie_err), color='red', ls='--', lw=2, label='median')\n",
    "plt.xlabel('error distance [m]')\n",
    "plt.legend()"
   ]
  },
  {
   "cell_type": "code",
   "execution_count": 47,
   "metadata": {},
   "outputs": [
    {
     "data": {
      "text/plain": [
       "<matplotlib.legend.Legend at 0x7ffdb42cad30>"
      ]
     },
     "execution_count": 47,
     "metadata": {},
     "output_type": "execute_result"
    },
    {
     "data": {
      "image/png": "[encoded data removed]",
      "text/plain": [
       "<Figure size 432x288 with 1 Axes>"
      ]
     },
     "metadata": {
      "needs_background": "light"
     },
     "output_type": "display_data"
    }
   ],
   "source": [
    "ax = sns.histplot(great_circie_noise_err)\n",
    "ax.axvline(np.average(great_circie_noise_err), color='k', lw=2, label='mean')\n",
    "ax.axvline(np.median(great_circie_noise_err), color='red', ls='--', lw=2, label='median')\n",
    "plt.xlabel('noise error distance [m]')\n",
    "plt.legend()"
   ]
  },
  {
   "cell_type": "code",
   "execution_count": 48,
   "metadata": {},
   "outputs": [
    {
     "data": {
      "text/plain": [
       "<matplotlib.legend.Legend at 0x7ffdc8899e20>"
      ]
     },
     "execution_count": 48,
     "metadata": {},
     "output_type": "execute_result"
    },
    {
     "data": {
      "image/png": "[encoded data removed]",
      "text/plain": [
       "<Figure size 432x288 with 1 Axes>"
      ]
     },
     "metadata": {
      "needs_background": "light"
     },
     "output_type": "display_data"
    }
   ],
   "source": [
    "ax = sns.histplot(great_circie_err)\n",
    "ax.axvline(np.average(great_circie_err), color='k', lw=2, label='mean')\n",
    "ax.axvline(np.median(great_circie_err), color='red', ls='--', lw=2, label='median')\n",
    "plt.xlabel('error distance [m]')\n",
    "plt.legend()"
   ]
  },
  {
   "cell_type": "code",
   "execution_count": 10,
   "metadata": {},
   "outputs": [],
   "source": [
    "noise = np.random.normal(0, 1, size=(1000, 2)) * 0.0001\n",
    "noise[:,0] = noise[:,0] * (x_max - x_min) + x_min\n",
    "noise[:,1] = noise[:,1] * (y_max - y_min) + y_min\n",
    "noise = list(zip(noise[:,0], noise[:,1]))\n",
    "\n",
    "zeros = np.zeros((1000, 2))\n",
    "zeros[:,0] = zeros[:,0] * (x_max - x_min) + x_min\n",
    "zeros[:,1] = zeros[:,1] * (y_max - y_min) + y_min\n",
    "zeros = list(zip(zeros[:,0], zeros[:,1]))"
   ]
  },
  {
   "cell_type": "code",
   "execution_count": 11,
   "metadata": {},
   "outputs": [
    {
     "data": {
      "image/png": "[encoded data removed]",
      "text/plain": [
       "<Figure size 500x500 with 1 Axes>"
      ]
     },
     "metadata": {
      "needs_background": "light"
     },
     "output_type": "display_data"
    }
   ],
   "source": [
    "# augmented noise distribution in meters\n",
    "\n",
    "distances = [great_circle(noise[i], zeros[i]).miles * 1609.34 for i in np.arange(1000)]\n",
    "sns.displot(distances)\n",
    "plt.xlabel('augmented error [m]')\n",
    "plt.show()"
   ]
  },
  {
   "attachments": {},
   "cell_type": "markdown",
   "metadata": {},
   "source": [
    "## EKF design"
   ]
  },
  {
   "attachments": {},
   "cell_type": "markdown",
   "metadata": {},
   "source": [
    "### ekf()"
   ]
  },
  {
   "cell_type": "code",
   "execution_count": 202,
   "metadata": {},
   "outputs": [],
   "source": [
    "def eval_h(x_pred):\n",
    "\n",
    "    # expand prediction of state vector\n",
    "    px, vx, ax, py, vy, ay = x_pred\n",
    "\n",
    "    # compute angular vel\n",
    "    w = (vx*ay - vy*ax) / (vx**2 + vy**2)\n",
    "\n",
    "    # compute speed\n",
    "    s = np.sqrt(vx**2 + vy**2)\n",
    "\n",
    "    return np.array([px, py, w, s])\n",
    "\n",
    "def eval_H(x_pred):\n",
    "\n",
    "    # expand prediction of state vector\n",
    "    px, vx, ax, py, vy, ay = x_pred\n",
    "    V2 = vx**2 + vy**2\n",
    "\n",
    "    # angular vel partial derivs\n",
    "    dwdvx = (V2*ay - 2*vx*(vx*ay-vy*ax)) / (V2**2)\n",
    "    dwdax = -vy / V2\n",
    "    dwdvy = (-V2*ax - 2*vy*(vx*ay-vy*ax)) / (V2**2)\n",
    "    dwday = vx / V2\n",
    "\n",
    "    # speed partial derivs\n",
    "    dsdvx = vx / np.sqrt(V2)\n",
    "    dsdvy = vy / np.sqrt(V2)\n",
    "\n",
    "    return np.array([\n",
    "        [1, 0, 0, 0, 0, 0],\n",
    "        [0, 0, 0, 1, 0, 0],\n",
    "        [0, dwdvx, dwdax, 0, dwdvy, dwday],\n",
    "        [0, dsdvx, 0, 0, dsdvy, 0],\n",
    "        ])"
   ]
  },
  {
   "cell_type": "code",
   "execution_count": 203,
   "metadata": {},
   "outputs": [],
   "source": [
    "def ekf(segment_df):\n",
    "\n",
    "    # states\n",
    "\n",
    "    # position with noise\n",
    "    x_noise = segment_df['x_noise'].values\n",
    "    y_noise = segment_df['y_noise'].values\n",
    "\n",
    "    # speed\n",
    "    Vx = segment_df['Vx'].values\n",
    "    Vy = segment_df['Vy'].values\n",
    "\n",
    "    # accel\n",
    "    alpha_Xv = segment_df['alpha_Xv'].values\n",
    "    alpha_Yv = segment_df['alpha_Yv'].values\n",
    "\n",
    "    # jerk\n",
    "    d3xdt3 = np.gradient(segment_df['alpha_Xv'], dt)\n",
    "    d3ydt3 = np.gradient(segment_df['alpha_Yv'], dt)\n",
    "\n",
    "    # angular rate\n",
    "    omega_Xv = segment_df['omega_Xv'].values * np.pi/180 # [deg/s] to [rad/s]\n",
    "\n",
    "    gps_sig = 0.0002\n",
    "    omega_sig = 0 # assume no added noise\n",
    "    speed_sig = 0 # assume no added noise\n",
    "\n",
    "    # initialization\n",
    "    A = np.array([\n",
    "        [1, dt, (dt**2)/2, 0, 0, 0],\n",
    "        [0, 1, dt, 0, 0, 0],\n",
    "        [0, 0, 1, 0, 0, 0],\n",
    "        [0, 0, 0, 1, dt, (dt**2)/2],\n",
    "        [0, 0, 0, 0, 1, dt],\n",
    "        [0, 0, 0, 0, 0, 1],\n",
    "        ])\n",
    "\n",
    "    H = np.array([\n",
    "        [1, 0, 0, 0, 0, 0],\n",
    "        [0, 0, 0, 1, 0, 0],\n",
    "        ])\n",
    "\n",
    "    Q1 = np.array([(dt**3)/6, (dt**2)/2, dt, 0, 0, 0])\n",
    "    Q1 = np.expand_dims(Q1, 1)\n",
    "    Q2 = np.array([0, 0, 0, (dt**3)/6, (dt**2)/2, dt])\n",
    "    Q2 = np.expand_dims(Q2, 1)\n",
    "\n",
    "    j_var = max(np.var(d3xdt3), np.var(d3ydt3))\n",
    "    Q = j_var * (Q1 @ Q1.T + Q2 @ Q2.T)\n",
    "\n",
    "    # R = np.diag(np.array([gps_sig**2, gps_sig**2]))\n",
    "    R = np.diag(np.array([gps_sig**2, gps_sig**2, omega_sig**2, speed_sig**2]))\n",
    "\n",
    "    x_init = np.array([x_noise[0], Vx[0], alpha_Xv[0], y_noise[0], Vy[0], alpha_Yv[0]])\n",
    "    P_init = 1 * np.eye(len(x_init))  # small initial prediction error\n",
    "\n",
    "    # state vector\n",
    "    observations = np.array([x_noise, y_noise, omega_Xv, Vx]).T\n",
    "\n",
    "    # matrix dimensions, nxm\n",
    "    nx = Q.shape[0]\n",
    "    ny = R.shape[0]     \n",
    "    nt = observations.shape[0]\n",
    "\n",
    "    # allocate identity matrix for re-use\n",
    "    Inx = np.eye(nx)\n",
    "\n",
    "    # allocate result matrices\n",
    "    x_pred = np.zeros((nt, nx))      # prediction of state vector\n",
    "    P_pred = np.zeros((nt, nx, nx))  # prediction error covariance matrix\n",
    "    x_est = np.zeros((nt, nx))       # estimation of state vector\n",
    "    P_est = np.zeros((nt, nx, nx))   # estimation error covariance matrix\n",
    "    K = np.zeros((nt, nx, ny))       # Kalman Gain\n",
    "\n",
    "    # set initial prediction\n",
    "    x_pred[0] = x_init\n",
    "    P_pred[0] = P_init\n",
    "\n",
    "    for i in range(nt):\n",
    "\n",
    "        # prediction stage\n",
    "        if i > 0:\n",
    "            x_pred[i] = A @ x_est[i-1]\n",
    "            P_pred[i] = A @ P_est[i-1] @ A.T + Q\n",
    "\n",
    "        # estimation stage\n",
    "        y_obs = observations[i]\n",
    "        y_pred = eval_h(x_pred[i])\n",
    "        H_pred = eval_H(x_pred[i])\n",
    "        K[i] = P_pred[i] @ H_pred.T @ np.linalg.inv((H_pred @ P_pred[i] @ H_pred.T) + R) # H_pred\n",
    "        x_est[i] = x_pred[i] + K[i] @ (y_obs - y_pred) # y_pred\n",
    "        P_est[i] = (Inx - K[i] @ H_pred) @ P_pred[i]\n",
    "    \n",
    "    return x_est, x_noise, y_noise, segment_df['x'].values, segment_df['y'].values"
   ]
  },
  {
   "cell_type": "code",
   "execution_count": 213,
   "metadata": {},
   "outputs": [],
   "source": [
    "# list of dataframe\n",
    "rl_seg_pred_ekf = []\n",
    "\n",
    "for df in rl_seg_noise:\n",
    "    x_est_sample, x_noise, y_noise, x, y = ekf(df)\n",
    "    x_est_df = pd.DataFrame(\n",
    "        {'x_est': x_est_sample[:, 0],\n",
    "        'y_est': x_est_sample[:, 3],\n",
    "        'Vx_est': x_est_sample[:, 1],\n",
    "        'Vy_est': x_est_sample[:, 4],\n",
    "        'x_noise': x_noise,\n",
    "        'y_noise': y_noise,\n",
    "        'x': x,\n",
    "        'y': y\n",
    "        }\n",
    "    )\n",
    "    rl_seg_pred_ekf.append(x_est_df)  "
   ]
  },
  {
   "cell_type": "code",
   "execution_count": 205,
   "metadata": {},
   "outputs": [],
   "source": [
    "# calculate prediction error in meters\n",
    "\n",
    "x_max = -83.55144472\n",
    "y_max = 42.24829894\n",
    "x_min = -83.56611364\n",
    "y_min = 42.23836889\n",
    "\n",
    "y_pred_ekf_scale = []\n",
    "rl_seg_pred_ekf_scaled = rl_seg_pred_ekf\n",
    "# rl_seg_pred_ekf_scaled = inv_normalize_df(rl_seg_pred_ekf)\n",
    "\n",
    "# estimation\n",
    "for df in rl_seg_pred_ekf_scaled:\n",
    "\n",
    "    y_pred_ekf_scale.append(\n",
    "        np.append(df['y_est'].values.reshape(153, 1), df['x_est'].values.reshape(153, 1), axis=1\n",
    "    ))\n",
    "\n",
    "y_pred_ekf_scale = np.asarray(y_pred_ekf_scale)\n",
    "great_circie_ekf_err = []\n",
    "\n",
    "for i in np.arange(len(y_pred_ekf_scale)):\n",
    "    for traj_i in np.arange(153):\n",
    "        pred_coord = (y_pred_ekf_scale[i][traj_i][0], y_pred_ekf_scale[i][traj_i][1])\n",
    "        actual_coord = (y_gt_scale[i][traj_i][0], y_gt_scale[i][traj_i][1])\n",
    "\n",
    "        great_circie_ekf_err.append(math.dist(pred_coord, actual_coord)) # meter\n",
    "        # great_circie_ekf_err.append(great_circle(pred_coord, actual_coord).miles * 1609.34) # meter"
   ]
  },
  {
   "cell_type": "code",
   "execution_count": 240,
   "metadata": {},
   "outputs": [
    {
     "data": {
      "text/html": [
       "<div>\n",
       "<style scoped>\n",
       "    .dataframe tbody tr th:only-of-type {\n",
       "        vertical-align: middle;\n",
       "    }\n",
       "\n",
       "    .dataframe tbody tr th {\n",
       "        vertical-align: top;\n",
       "    }\n",
       "\n",
       "    .dataframe thead th {\n",
       "        text-align: right;\n",
       "    }\n",
       "</style>\n",
       "<table border=\"1\" class=\"dataframe\">\n",
       "  <thead>\n",
       "    <tr style=\"text-align: right;\">\n",
       "      <th></th>\n",
       "      <th>x_est</th>\n",
       "      <th>y_est</th>\n",
       "      <th>Vx_est</th>\n",
       "      <th>Vy_est</th>\n",
       "      <th>x_noise</th>\n",
       "      <th>y_noise</th>\n",
       "      <th>x</th>\n",
       "      <th>y</th>\n",
       "    </tr>\n",
       "  </thead>\n",
       "  <tbody>\n",
       "    <tr>\n",
       "      <th>0</th>\n",
       "      <td>-9.302200e+06</td>\n",
       "      <td>5.197928e+06</td>\n",
       "      <td>5.060000</td>\n",
       "      <td>0.030000</td>\n",
       "      <td>-9.302200e+06</td>\n",
       "      <td>5.197928e+06</td>\n",
       "      <td>-9.302200e+06</td>\n",
       "      <td>5.197928e+06</td>\n",
       "    </tr>\n",
       "    <tr>\n",
       "      <th>1</th>\n",
       "      <td>-9.302202e+06</td>\n",
       "      <td>5.197927e+06</td>\n",
       "      <td>-189.914748</td>\n",
       "      <td>-190.678912</td>\n",
       "      <td>-9.302202e+06</td>\n",
       "      <td>5.197927e+06</td>\n",
       "      <td>-9.302202e+06</td>\n",
       "      <td>5.197927e+06</td>\n",
       "    </tr>\n",
       "    <tr>\n",
       "      <th>2</th>\n",
       "      <td>-9.302203e+06</td>\n",
       "      <td>5.197926e+06</td>\n",
       "      <td>-214.787907</td>\n",
       "      <td>-153.364468</td>\n",
       "      <td>-9.302203e+06</td>\n",
       "      <td>5.197926e+06</td>\n",
       "      <td>-9.302203e+06</td>\n",
       "      <td>5.197926e+06</td>\n",
       "    </tr>\n",
       "    <tr>\n",
       "      <th>3</th>\n",
       "      <td>-9.302204e+06</td>\n",
       "      <td>5.197925e+06</td>\n",
       "      <td>-195.646814</td>\n",
       "      <td>-127.693510</td>\n",
       "      <td>-9.302204e+06</td>\n",
       "      <td>5.197925e+06</td>\n",
       "      <td>-9.302204e+06</td>\n",
       "      <td>5.197925e+06</td>\n",
       "    </tr>\n",
       "    <tr>\n",
       "      <th>4</th>\n",
       "      <td>-9.302206e+06</td>\n",
       "      <td>5.197924e+06</td>\n",
       "      <td>-219.366406</td>\n",
       "      <td>-126.472958</td>\n",
       "      <td>-9.302206e+06</td>\n",
       "      <td>5.197924e+06</td>\n",
       "      <td>-9.302206e+06</td>\n",
       "      <td>5.197924e+06</td>\n",
       "    </tr>\n",
       "    <tr>\n",
       "      <th>...</th>\n",
       "      <td>...</td>\n",
       "      <td>...</td>\n",
       "      <td>...</td>\n",
       "      <td>...</td>\n",
       "      <td>...</td>\n",
       "      <td>...</td>\n",
       "      <td>...</td>\n",
       "      <td>...</td>\n",
       "    </tr>\n",
       "    <tr>\n",
       "      <th>148</th>\n",
       "      <td>-9.302395e+06</td>\n",
       "      <td>5.197778e+06</td>\n",
       "      <td>-203.612572</td>\n",
       "      <td>-195.440026</td>\n",
       "      <td>-9.302394e+06</td>\n",
       "      <td>5.197778e+06</td>\n",
       "      <td>-9.302395e+06</td>\n",
       "      <td>5.197778e+06</td>\n",
       "    </tr>\n",
       "    <tr>\n",
       "      <th>149</th>\n",
       "      <td>-9.302396e+06</td>\n",
       "      <td>5.197777e+06</td>\n",
       "      <td>-204.796655</td>\n",
       "      <td>-198.841635</td>\n",
       "      <td>-9.302396e+06</td>\n",
       "      <td>5.197777e+06</td>\n",
       "      <td>-9.302396e+06</td>\n",
       "      <td>5.197777e+06</td>\n",
       "    </tr>\n",
       "    <tr>\n",
       "      <th>150</th>\n",
       "      <td>-9.302397e+06</td>\n",
       "      <td>5.197775e+06</td>\n",
       "      <td>-207.672131</td>\n",
       "      <td>-198.912161</td>\n",
       "      <td>-9.302397e+06</td>\n",
       "      <td>5.197775e+06</td>\n",
       "      <td>-9.302397e+06</td>\n",
       "      <td>5.197776e+06</td>\n",
       "    </tr>\n",
       "    <tr>\n",
       "      <th>151</th>\n",
       "      <td>-9.302399e+06</td>\n",
       "      <td>5.197774e+06</td>\n",
       "      <td>-202.902670</td>\n",
       "      <td>-190.515270</td>\n",
       "      <td>-9.302398e+06</td>\n",
       "      <td>5.197775e+06</td>\n",
       "      <td>-9.302399e+06</td>\n",
       "      <td>5.197774e+06</td>\n",
       "    </tr>\n",
       "    <tr>\n",
       "      <th>152</th>\n",
       "      <td>-9.302400e+06</td>\n",
       "      <td>5.197773e+06</td>\n",
       "      <td>-204.176400</td>\n",
       "      <td>-195.760910</td>\n",
       "      <td>-9.302400e+06</td>\n",
       "      <td>5.197773e+06</td>\n",
       "      <td>-9.302400e+06</td>\n",
       "      <td>5.197773e+06</td>\n",
       "    </tr>\n",
       "  </tbody>\n",
       "</table>\n",
       "<p>153 rows × 8 columns</p>\n",
       "</div>"
      ],
      "text/plain": [
       "            x_est         y_est      Vx_est      Vy_est       x_noise  \\\n",
       "0   -9.302200e+06  5.197928e+06    5.060000    0.030000 -9.302200e+06   \n",
       "1   -9.302202e+06  5.197927e+06 -189.914748 -190.678912 -9.302202e+06   \n",
       "2   -9.302203e+06  5.197926e+06 -214.787907 -153.364468 -9.302203e+06   \n",
       "3   -9.302204e+06  5.197925e+06 -195.646814 -127.693510 -9.302204e+06   \n",
       "4   -9.302206e+06  5.197924e+06 -219.366406 -126.472958 -9.302206e+06   \n",
       "..            ...           ...         ...         ...           ...   \n",
       "148 -9.302395e+06  5.197778e+06 -203.612572 -195.440026 -9.302394e+06   \n",
       "149 -9.302396e+06  5.197777e+06 -204.796655 -198.841635 -9.302396e+06   \n",
       "150 -9.302397e+06  5.197775e+06 -207.672131 -198.912161 -9.302397e+06   \n",
       "151 -9.302399e+06  5.197774e+06 -202.902670 -190.515270 -9.302398e+06   \n",
       "152 -9.302400e+06  5.197773e+06 -204.176400 -195.760910 -9.302400e+06   \n",
       "\n",
       "          y_noise             x             y  \n",
       "0    5.197928e+06 -9.302200e+06  5.197928e+06  \n",
       "1    5.197927e+06 -9.302202e+06  5.197927e+06  \n",
       "2    5.197926e+06 -9.302203e+06  5.197926e+06  \n",
       "3    5.197925e+06 -9.302204e+06  5.197925e+06  \n",
       "4    5.197924e+06 -9.302206e+06  5.197924e+06  \n",
       "..            ...           ...           ...  \n",
       "148  5.197778e+06 -9.302395e+06  5.197778e+06  \n",
       "149  5.197777e+06 -9.302396e+06  5.197777e+06  \n",
       "150  5.197775e+06 -9.302397e+06  5.197776e+06  \n",
       "151  5.197775e+06 -9.302399e+06  5.197774e+06  \n",
       "152  5.197773e+06 -9.302400e+06  5.197773e+06  \n",
       "\n",
       "[153 rows x 8 columns]"
      ]
     },
     "execution_count": 240,
     "metadata": {},
     "output_type": "execute_result"
    }
   ],
   "source": [
    "rl_seg_pred[0]"
   ]
  },
  {
   "cell_type": "code",
   "execution_count": 207,
   "metadata": {},
   "outputs": [
    {
     "data": {
      "text/html": [
       "<div>\n",
       "<style scoped>\n",
       "    .dataframe tbody tr th:only-of-type {\n",
       "        vertical-align: middle;\n",
       "    }\n",
       "\n",
       "    .dataframe tbody tr th {\n",
       "        vertical-align: top;\n",
       "    }\n",
       "\n",
       "    .dataframe thead th {\n",
       "        text-align: right;\n",
       "    }\n",
       "</style>\n",
       "<table border=\"1\" class=\"dataframe\">\n",
       "  <thead>\n",
       "    <tr style=\"text-align: right;\">\n",
       "      <th></th>\n",
       "      <th>x_est</th>\n",
       "      <th>y_est</th>\n",
       "      <th>x_noise</th>\n",
       "      <th>y_noise</th>\n",
       "      <th>x</th>\n",
       "      <th>y</th>\n",
       "    </tr>\n",
       "  </thead>\n",
       "  <tbody>\n",
       "    <tr>\n",
       "      <th>0</th>\n",
       "      <td>-9.302200e+06</td>\n",
       "      <td>5.197928e+06</td>\n",
       "      <td>-9.302200e+06</td>\n",
       "      <td>5.197928e+06</td>\n",
       "      <td>-9.302200e+06</td>\n",
       "      <td>5.197928e+06</td>\n",
       "    </tr>\n",
       "    <tr>\n",
       "      <th>1</th>\n",
       "      <td>-9.302201e+06</td>\n",
       "      <td>5.197927e+06</td>\n",
       "      <td>-9.302202e+06</td>\n",
       "      <td>5.197927e+06</td>\n",
       "      <td>-9.302202e+06</td>\n",
       "      <td>5.197927e+06</td>\n",
       "    </tr>\n",
       "    <tr>\n",
       "      <th>2</th>\n",
       "      <td>-9.302202e+06</td>\n",
       "      <td>5.197927e+06</td>\n",
       "      <td>-9.302203e+06</td>\n",
       "      <td>5.197926e+06</td>\n",
       "      <td>-9.302203e+06</td>\n",
       "      <td>5.197926e+06</td>\n",
       "    </tr>\n",
       "    <tr>\n",
       "      <th>3</th>\n",
       "      <td>-9.302202e+06</td>\n",
       "      <td>5.197926e+06</td>\n",
       "      <td>-9.302204e+06</td>\n",
       "      <td>5.197925e+06</td>\n",
       "      <td>-9.302204e+06</td>\n",
       "      <td>5.197925e+06</td>\n",
       "    </tr>\n",
       "    <tr>\n",
       "      <th>4</th>\n",
       "      <td>-9.302203e+06</td>\n",
       "      <td>5.197926e+06</td>\n",
       "      <td>-9.302206e+06</td>\n",
       "      <td>5.197924e+06</td>\n",
       "      <td>-9.302206e+06</td>\n",
       "      <td>5.197924e+06</td>\n",
       "    </tr>\n",
       "    <tr>\n",
       "      <th>...</th>\n",
       "      <td>...</td>\n",
       "      <td>...</td>\n",
       "      <td>...</td>\n",
       "      <td>...</td>\n",
       "      <td>...</td>\n",
       "      <td>...</td>\n",
       "    </tr>\n",
       "    <tr>\n",
       "      <th>148</th>\n",
       "      <td>-9.302298e+06</td>\n",
       "      <td>5.197854e+06</td>\n",
       "      <td>-9.302394e+06</td>\n",
       "      <td>5.197778e+06</td>\n",
       "      <td>-9.302395e+06</td>\n",
       "      <td>5.197778e+06</td>\n",
       "    </tr>\n",
       "    <tr>\n",
       "      <th>149</th>\n",
       "      <td>-9.302299e+06</td>\n",
       "      <td>5.197854e+06</td>\n",
       "      <td>-9.302396e+06</td>\n",
       "      <td>5.197777e+06</td>\n",
       "      <td>-9.302396e+06</td>\n",
       "      <td>5.197777e+06</td>\n",
       "    </tr>\n",
       "    <tr>\n",
       "      <th>150</th>\n",
       "      <td>-9.302300e+06</td>\n",
       "      <td>5.197853e+06</td>\n",
       "      <td>-9.302397e+06</td>\n",
       "      <td>5.197775e+06</td>\n",
       "      <td>-9.302397e+06</td>\n",
       "      <td>5.197776e+06</td>\n",
       "    </tr>\n",
       "    <tr>\n",
       "      <th>151</th>\n",
       "      <td>-9.302300e+06</td>\n",
       "      <td>5.197853e+06</td>\n",
       "      <td>-9.302398e+06</td>\n",
       "      <td>5.197775e+06</td>\n",
       "      <td>-9.302399e+06</td>\n",
       "      <td>5.197774e+06</td>\n",
       "    </tr>\n",
       "    <tr>\n",
       "      <th>152</th>\n",
       "      <td>-9.302301e+06</td>\n",
       "      <td>5.197852e+06</td>\n",
       "      <td>-9.302400e+06</td>\n",
       "      <td>5.197773e+06</td>\n",
       "      <td>-9.302400e+06</td>\n",
       "      <td>5.197773e+06</td>\n",
       "    </tr>\n",
       "  </tbody>\n",
       "</table>\n",
       "<p>153 rows × 6 columns</p>\n",
       "</div>"
      ],
      "text/plain": [
       "            x_est         y_est       x_noise       y_noise             x  \\\n",
       "0   -9.302200e+06  5.197928e+06 -9.302200e+06  5.197928e+06 -9.302200e+06   \n",
       "1   -9.302201e+06  5.197927e+06 -9.302202e+06  5.197927e+06 -9.302202e+06   \n",
       "2   -9.302202e+06  5.197927e+06 -9.302203e+06  5.197926e+06 -9.302203e+06   \n",
       "3   -9.302202e+06  5.197926e+06 -9.302204e+06  5.197925e+06 -9.302204e+06   \n",
       "4   -9.302203e+06  5.197926e+06 -9.302206e+06  5.197924e+06 -9.302206e+06   \n",
       "..            ...           ...           ...           ...           ...   \n",
       "148 -9.302298e+06  5.197854e+06 -9.302394e+06  5.197778e+06 -9.302395e+06   \n",
       "149 -9.302299e+06  5.197854e+06 -9.302396e+06  5.197777e+06 -9.302396e+06   \n",
       "150 -9.302300e+06  5.197853e+06 -9.302397e+06  5.197775e+06 -9.302397e+06   \n",
       "151 -9.302300e+06  5.197853e+06 -9.302398e+06  5.197775e+06 -9.302399e+06   \n",
       "152 -9.302301e+06  5.197852e+06 -9.302400e+06  5.197773e+06 -9.302400e+06   \n",
       "\n",
       "                y  \n",
       "0    5.197928e+06  \n",
       "1    5.197927e+06  \n",
       "2    5.197926e+06  \n",
       "3    5.197925e+06  \n",
       "4    5.197924e+06  \n",
       "..            ...  \n",
       "148  5.197778e+06  \n",
       "149  5.197777e+06  \n",
       "150  5.197776e+06  \n",
       "151  5.197774e+06  \n",
       "152  5.197773e+06  \n",
       "\n",
       "[153 rows x 6 columns]"
      ]
     },
     "execution_count": 207,
     "metadata": {},
     "output_type": "execute_result"
    }
   ],
   "source": [
    "rl_seg_pred_ekf_scaled[0]"
   ]
  },
  {
   "cell_type": "code",
   "execution_count": 209,
   "metadata": {},
   "outputs": [
    {
     "data": {
      "text/html": [
       "<div>\n",
       "<style scoped>\n",
       "    .dataframe tbody tr th:only-of-type {\n",
       "        vertical-align: middle;\n",
       "    }\n",
       "\n",
       "    .dataframe tbody tr th {\n",
       "        vertical-align: top;\n",
       "    }\n",
       "\n",
       "    .dataframe thead th {\n",
       "        text-align: right;\n",
       "    }\n",
       "</style>\n",
       "<table border=\"1\" class=\"dataframe\">\n",
       "  <thead>\n",
       "    <tr style=\"text-align: right;\">\n",
       "      <th></th>\n",
       "      <th>y</th>\n",
       "      <th>x</th>\n",
       "      <th>Vy</th>\n",
       "      <th>Vx</th>\n",
       "      <th>theta</th>\n",
       "      <th>psi</th>\n",
       "      <th>phi</th>\n",
       "      <th>omega_Xv</th>\n",
       "      <th>omega_Yv</th>\n",
       "      <th>alpha_Xv</th>\n",
       "      <th>alpha_Yv</th>\n",
       "      <th>y_noise</th>\n",
       "      <th>x_noise</th>\n",
       "    </tr>\n",
       "  </thead>\n",
       "  <tbody>\n",
       "    <tr>\n",
       "      <th>43567</th>\n",
       "      <td>5.197928e+06</td>\n",
       "      <td>-9.302200e+06</td>\n",
       "      <td>0.03</td>\n",
       "      <td>5.06</td>\n",
       "      <td>237.273</td>\n",
       "      <td>0.538</td>\n",
       "      <td>-1.124</td>\n",
       "      <td>0.26</td>\n",
       "      <td>-0.65</td>\n",
       "      <td>0.114</td>\n",
       "      <td>0.264</td>\n",
       "      <td>5.197928e+06</td>\n",
       "      <td>-9.302200e+06</td>\n",
       "    </tr>\n",
       "    <tr>\n",
       "      <th>43592</th>\n",
       "      <td>5.197927e+06</td>\n",
       "      <td>-9.302202e+06</td>\n",
       "      <td>0.02</td>\n",
       "      <td>5.04</td>\n",
       "      <td>237.252</td>\n",
       "      <td>0.586</td>\n",
       "      <td>-1.127</td>\n",
       "      <td>-0.78</td>\n",
       "      <td>0.25</td>\n",
       "      <td>0.002</td>\n",
       "      <td>0.074</td>\n",
       "      <td>5.197927e+06</td>\n",
       "      <td>-9.302202e+06</td>\n",
       "    </tr>\n",
       "    <tr>\n",
       "      <th>43617</th>\n",
       "      <td>5.197926e+06</td>\n",
       "      <td>-9.302203e+06</td>\n",
       "      <td>0.03</td>\n",
       "      <td>5.02</td>\n",
       "      <td>237.211</td>\n",
       "      <td>0.546</td>\n",
       "      <td>-1.151</td>\n",
       "      <td>-0.30</td>\n",
       "      <td>-0.95</td>\n",
       "      <td>-0.011</td>\n",
       "      <td>0.052</td>\n",
       "      <td>5.197926e+06</td>\n",
       "      <td>-9.302203e+06</td>\n",
       "    </tr>\n",
       "    <tr>\n",
       "      <th>43642</th>\n",
       "      <td>5.197925e+06</td>\n",
       "      <td>-9.302204e+06</td>\n",
       "      <td>0.03</td>\n",
       "      <td>4.99</td>\n",
       "      <td>237.188</td>\n",
       "      <td>0.583</td>\n",
       "      <td>-1.095</td>\n",
       "      <td>0.74</td>\n",
       "      <td>0.48</td>\n",
       "      <td>0.125</td>\n",
       "      <td>0.037</td>\n",
       "      <td>5.197925e+06</td>\n",
       "      <td>-9.302204e+06</td>\n",
       "    </tr>\n",
       "    <tr>\n",
       "      <th>43667</th>\n",
       "      <td>5.197924e+06</td>\n",
       "      <td>-9.302206e+06</td>\n",
       "      <td>0.03</td>\n",
       "      <td>4.97</td>\n",
       "      <td>237.141</td>\n",
       "      <td>0.579</td>\n",
       "      <td>-1.066</td>\n",
       "      <td>0.35</td>\n",
       "      <td>0.15</td>\n",
       "      <td>-0.034</td>\n",
       "      <td>0.155</td>\n",
       "      <td>5.197924e+06</td>\n",
       "      <td>-9.302206e+06</td>\n",
       "    </tr>\n",
       "  </tbody>\n",
       "</table>\n",
       "</div>"
      ],
      "text/plain": [
       "                  y             x    Vy    Vx    theta    psi    phi  \\\n",
       "43567  5.197928e+06 -9.302200e+06  0.03  5.06  237.273  0.538 -1.124   \n",
       "43592  5.197927e+06 -9.302202e+06  0.02  5.04  237.252  0.586 -1.127   \n",
       "43617  5.197926e+06 -9.302203e+06  0.03  5.02  237.211  0.546 -1.151   \n",
       "43642  5.197925e+06 -9.302204e+06  0.03  4.99  237.188  0.583 -1.095   \n",
       "43667  5.197924e+06 -9.302206e+06  0.03  4.97  237.141  0.579 -1.066   \n",
       "\n",
       "       omega_Xv  omega_Yv  alpha_Xv  alpha_Yv       y_noise       x_noise  \n",
       "43567      0.26     -0.65     0.114     0.264  5.197928e+06 -9.302200e+06  \n",
       "43592     -0.78      0.25     0.002     0.074  5.197927e+06 -9.302202e+06  \n",
       "43617     -0.30     -0.95    -0.011     0.052  5.197926e+06 -9.302203e+06  \n",
       "43642      0.74      0.48     0.125     0.037  5.197925e+06 -9.302204e+06  \n",
       "43667      0.35      0.15    -0.034     0.155  5.197924e+06 -9.302206e+06  "
      ]
     },
     "execution_count": 209,
     "metadata": {},
     "output_type": "execute_result"
    }
   ],
   "source": [
    "ll_seg_noise[0].head()"
   ]
  },
  {
   "cell_type": "code",
   "execution_count": 242,
   "metadata": {},
   "outputs": [
    {
     "data": {
      "text/plain": [
       "<matplotlib.legend.Legend at 0x7fcaa01c8490>"
      ]
     },
     "execution_count": 242,
     "metadata": {},
     "output_type": "execute_result"
    },
    {
     "data": {
      "image/png": "[encoded data removed]",
      "text/plain": [
       "<Figure size 600x400 with 1 Axes>"
      ]
     },
     "metadata": {
      "needs_background": "light"
     },
     "output_type": "display_data"
    }
   ],
   "source": [
    "plt.plot(ll_seg_noise[0].reset_index()['Vx'], label='ground truth')\n",
    "# plt.plot(rl_seg_pred[0].reset_index()['Vx_est'], label='predicted kf_baseline')\n",
    "plt.plot(rl_seg_pred_ekf[0].reset_index()['Vx_est'], label='ekf predicted')\n",
    "plt.ylabel('Vx (m/s)')\n",
    "plt.legend()"
   ]
  },
  {
   "cell_type": "code",
   "execution_count": 212,
   "metadata": {},
   "outputs": [
    {
     "data": {
      "text/html": [
       "<div>\n",
       "<style scoped>\n",
       "    .dataframe tbody tr th:only-of-type {\n",
       "        vertical-align: middle;\n",
       "    }\n",
       "\n",
       "    .dataframe tbody tr th {\n",
       "        vertical-align: top;\n",
       "    }\n",
       "\n",
       "    .dataframe thead th {\n",
       "        text-align: right;\n",
       "    }\n",
       "</style>\n",
       "<table border=\"1\" class=\"dataframe\">\n",
       "  <thead>\n",
       "    <tr style=\"text-align: right;\">\n",
       "      <th></th>\n",
       "      <th>x_est</th>\n",
       "      <th>y_est</th>\n",
       "      <th>Xv_est</th>\n",
       "      <th>Yv_est</th>\n",
       "      <th>x_noise</th>\n",
       "      <th>y_noise</th>\n",
       "      <th>x</th>\n",
       "      <th>y</th>\n",
       "    </tr>\n",
       "  </thead>\n",
       "  <tbody>\n",
       "    <tr>\n",
       "      <th>0</th>\n",
       "      <td>-9.302200e+06</td>\n",
       "      <td>5.197928e+06</td>\n",
       "      <td>5.059879</td>\n",
       "      <td>0.035486</td>\n",
       "      <td>-9.302200e+06</td>\n",
       "      <td>5.197928e+06</td>\n",
       "      <td>-9.302200e+06</td>\n",
       "      <td>5.197928e+06</td>\n",
       "    </tr>\n",
       "    <tr>\n",
       "      <th>1</th>\n",
       "      <td>-9.302201e+06</td>\n",
       "      <td>5.197927e+06</td>\n",
       "      <td>6.374148</td>\n",
       "      <td>-189.409865</td>\n",
       "      <td>-9.302202e+06</td>\n",
       "      <td>5.197927e+06</td>\n",
       "      <td>-9.302202e+06</td>\n",
       "      <td>5.197927e+06</td>\n",
       "    </tr>\n",
       "    <tr>\n",
       "      <th>2</th>\n",
       "      <td>-9.302202e+06</td>\n",
       "      <td>5.197927e+06</td>\n",
       "      <td>4.949868</td>\n",
       "      <td>-4.851408</td>\n",
       "      <td>-9.302203e+06</td>\n",
       "      <td>5.197926e+06</td>\n",
       "      <td>-9.302203e+06</td>\n",
       "      <td>5.197926e+06</td>\n",
       "    </tr>\n",
       "    <tr>\n",
       "      <th>3</th>\n",
       "      <td>-9.302202e+06</td>\n",
       "      <td>5.197926e+06</td>\n",
       "      <td>3.827705</td>\n",
       "      <td>-3.232260</td>\n",
       "      <td>-9.302204e+06</td>\n",
       "      <td>5.197925e+06</td>\n",
       "      <td>-9.302204e+06</td>\n",
       "      <td>5.197925e+06</td>\n",
       "    </tr>\n",
       "    <tr>\n",
       "      <th>4</th>\n",
       "      <td>-9.302203e+06</td>\n",
       "      <td>5.197926e+06</td>\n",
       "      <td>4.113897</td>\n",
       "      <td>-2.789110</td>\n",
       "      <td>-9.302206e+06</td>\n",
       "      <td>5.197924e+06</td>\n",
       "      <td>-9.302206e+06</td>\n",
       "      <td>5.197924e+06</td>\n",
       "    </tr>\n",
       "    <tr>\n",
       "      <th>...</th>\n",
       "      <td>...</td>\n",
       "      <td>...</td>\n",
       "      <td>...</td>\n",
       "      <td>...</td>\n",
       "      <td>...</td>\n",
       "      <td>...</td>\n",
       "      <td>...</td>\n",
       "      <td>...</td>\n",
       "    </tr>\n",
       "    <tr>\n",
       "      <th>148</th>\n",
       "      <td>-9.302298e+06</td>\n",
       "      <td>5.197854e+06</td>\n",
       "      <td>1.488732</td>\n",
       "      <td>-5.274127</td>\n",
       "      <td>-9.302394e+06</td>\n",
       "      <td>5.197778e+06</td>\n",
       "      <td>-9.302395e+06</td>\n",
       "      <td>5.197778e+06</td>\n",
       "    </tr>\n",
       "    <tr>\n",
       "      <th>149</th>\n",
       "      <td>-9.302299e+06</td>\n",
       "      <td>5.197854e+06</td>\n",
       "      <td>1.509793</td>\n",
       "      <td>-5.247192</td>\n",
       "      <td>-9.302396e+06</td>\n",
       "      <td>5.197777e+06</td>\n",
       "      <td>-9.302396e+06</td>\n",
       "      <td>5.197777e+06</td>\n",
       "    </tr>\n",
       "    <tr>\n",
       "      <th>150</th>\n",
       "      <td>-9.302300e+06</td>\n",
       "      <td>5.197853e+06</td>\n",
       "      <td>1.511103</td>\n",
       "      <td>-5.215509</td>\n",
       "      <td>-9.302397e+06</td>\n",
       "      <td>5.197775e+06</td>\n",
       "      <td>-9.302397e+06</td>\n",
       "      <td>5.197776e+06</td>\n",
       "    </tr>\n",
       "    <tr>\n",
       "      <th>151</th>\n",
       "      <td>-9.302300e+06</td>\n",
       "      <td>5.197853e+06</td>\n",
       "      <td>1.492890</td>\n",
       "      <td>-5.189546</td>\n",
       "      <td>-9.302398e+06</td>\n",
       "      <td>5.197775e+06</td>\n",
       "      <td>-9.302399e+06</td>\n",
       "      <td>5.197774e+06</td>\n",
       "    </tr>\n",
       "    <tr>\n",
       "      <th>152</th>\n",
       "      <td>-9.302301e+06</td>\n",
       "      <td>5.197852e+06</td>\n",
       "      <td>1.456567</td>\n",
       "      <td>-5.158359</td>\n",
       "      <td>-9.302400e+06</td>\n",
       "      <td>5.197773e+06</td>\n",
       "      <td>-9.302400e+06</td>\n",
       "      <td>5.197773e+06</td>\n",
       "    </tr>\n",
       "  </tbody>\n",
       "</table>\n",
       "<p>153 rows × 8 columns</p>\n",
       "</div>"
      ],
      "text/plain": [
       "            x_est         y_est    Xv_est      Yv_est       x_noise  \\\n",
       "0   -9.302200e+06  5.197928e+06  5.059879    0.035486 -9.302200e+06   \n",
       "1   -9.302201e+06  5.197927e+06  6.374148 -189.409865 -9.302202e+06   \n",
       "2   -9.302202e+06  5.197927e+06  4.949868   -4.851408 -9.302203e+06   \n",
       "3   -9.302202e+06  5.197926e+06  3.827705   -3.232260 -9.302204e+06   \n",
       "4   -9.302203e+06  5.197926e+06  4.113897   -2.789110 -9.302206e+06   \n",
       "..            ...           ...       ...         ...           ...   \n",
       "148 -9.302298e+06  5.197854e+06  1.488732   -5.274127 -9.302394e+06   \n",
       "149 -9.302299e+06  5.197854e+06  1.509793   -5.247192 -9.302396e+06   \n",
       "150 -9.302300e+06  5.197853e+06  1.511103   -5.215509 -9.302397e+06   \n",
       "151 -9.302300e+06  5.197853e+06  1.492890   -5.189546 -9.302398e+06   \n",
       "152 -9.302301e+06  5.197852e+06  1.456567   -5.158359 -9.302400e+06   \n",
       "\n",
       "          y_noise             x             y  \n",
       "0    5.197928e+06 -9.302200e+06  5.197928e+06  \n",
       "1    5.197927e+06 -9.302202e+06  5.197927e+06  \n",
       "2    5.197926e+06 -9.302203e+06  5.197926e+06  \n",
       "3    5.197925e+06 -9.302204e+06  5.197925e+06  \n",
       "4    5.197924e+06 -9.302206e+06  5.197924e+06  \n",
       "..            ...           ...           ...  \n",
       "148  5.197778e+06 -9.302395e+06  5.197778e+06  \n",
       "149  5.197777e+06 -9.302396e+06  5.197777e+06  \n",
       "150  5.197775e+06 -9.302397e+06  5.197776e+06  \n",
       "151  5.197775e+06 -9.302399e+06  5.197774e+06  \n",
       "152  5.197773e+06 -9.302400e+06  5.197773e+06  \n",
       "\n",
       "[153 rows x 8 columns]"
      ]
     },
     "execution_count": 212,
     "metadata": {},
     "output_type": "execute_result"
    }
   ],
   "source": [
    "rl_seg_pred_ekf[0]"
   ]
  },
  {
   "cell_type": "code",
   "execution_count": 208,
   "metadata": {},
   "outputs": [
    {
     "data": {
      "text/plain": [
       "<matplotlib.legend.Legend at 0x7fcab3106ee0>"
      ]
     },
     "execution_count": 208,
     "metadata": {},
     "output_type": "execute_result"
    },
    {
     "data": {
      "image/png": "[encoded data removed]",
      "text/plain": [
       "<Figure size 600x300 with 1 Axes>"
      ]
     },
     "metadata": {
      "needs_background": "light"
     },
     "output_type": "display_data"
    }
   ],
   "source": [
    "sample = 7\n",
    "plt.figure(dpi=100, figsize=(6, 3))\n",
    "\n",
    "plt.plot(rl_seg_pred_ekf[sample]['y_noise'], rl_seg_pred_ekf[sample]['x_noise'], '-o', label='0.02% noise, 10hz', ms=3, c='orange')\n",
    "plt.plot(rl_seg_pred_ekf[sample]['y_est'], rl_seg_pred_ekf[sample]['x_est'], '-', linewidth=1, label='kf baseline prediction', c='green')\n",
    "plt.scatter(rl_seg_pred_ekf[sample]['y_est'][0], rl_seg_pred_ekf[sample]['x_est'][0], label='start', s=60, c='green')\n",
    "plt.plot(rl_seg_pred_ekf[sample]['y'], rl_seg_pred_ekf[sample]['x'], label='ground truth, 10hz', c='blue')\n",
    "\n",
    "plt.legend()"
   ]
  },
  {
   "cell_type": "code",
   "execution_count": 201,
   "metadata": {},
   "outputs": [
    {
     "data": {
      "image/png": "[encoded data removed]",
      "text/plain": [
       "<Figure size 600x400 with 1 Axes>"
      ]
     },
     "metadata": {
      "needs_background": "light"
     },
     "output_type": "display_data"
    }
   ],
   "source": [
    "plt.figure(dpi=100)\n",
    "ax = sns.histplot(\n",
    "    great_circie_noise_err,\n",
    "    bins=50, label='spatial noise', color='red', kde=True)\n",
    "sns.histplot(\n",
    "    great_circie_ekf_err, \n",
    "    bins=50, label='kf_baseline pred error', kde=True)\n",
    "\n",
    "plt.xlabel('error distance [m]')\n",
    "plt.legend()\n",
    "plt.show()"
   ]
  }
 ],
 "metadata": {
  "kernelspec": {
   "display_name": "geo_env",
   "language": "python",
   "name": "python3"
  },
  "language_info": {
   "codemirror_mode": {
    "name": "ipython",
    "version": 3
   },
   "file_extension": ".py",
   "mimetype": "text/x-python",
   "name": "python",
   "nbconvert_exporter": "python",
   "pygments_lexer": "ipython3",
   "version": "3.8.3"
  },
  "orig_nbformat": 4,
  "vscode": {
   "interpreter": {
    "hash": "5275a7a5c7ca3fd70a65904e3b242eaffc13bff6b4373249ccb4466ff1d4eda1"
   }
  }
 },
 "nbformat": 4,
 "nbformat_minor": 2
}
