{
 "cells": [
  {
   "cell_type": "code",
   "execution_count": 2,
   "metadata": {},
   "outputs": [],
   "source": [
    "import pandas as pd\n",
    "import numpy as np\n",
    "import matplotlib.pyplot as plt\n",
    "plt.rcParams[\"figure.dpi\"] = 100\n",
    "import seaborn as sns\n",
    "import warnings\n",
    "warnings.filterwarnings('ignore')\n",
    "from numpy.random import randn\n",
    "np.random.seed(0)\n",
    "import pickle\n",
    "import gzip\n",
    "from sklearn.preprocessing import MinMaxScaler\n",
    "from sklearn import decomposition\n",
    "from sklearn.preprocessing import scale\n",
    "from geopy.distance import great_circle"
   ]
  },
  {
   "cell_type": "code",
   "execution_count": 3,
   "metadata": {},
   "outputs": [
    {
     "name": "stdout",
     "output_type": "stream",
     "text": [
      "500\n",
      "77\n"
     ]
    },
    {
     "data": {
      "text/html": [
       "<div>\n",
       "<style scoped>\n",
       "    .dataframe tbody tr th:only-of-type {\n",
       "        vertical-align: middle;\n",
       "    }\n",
       "\n",
       "    .dataframe tbody tr th {\n",
       "        vertical-align: top;\n",
       "    }\n",
       "\n",
       "    .dataframe thead th {\n",
       "        text-align: right;\n",
       "    }\n",
       "</style>\n",
       "<table border=\"1\" class=\"dataframe\">\n",
       "  <thead>\n",
       "    <tr style=\"text-align: right;\">\n",
       "      <th></th>\n",
       "      <th>y</th>\n",
       "      <th>x</th>\n",
       "      <th>y_norm</th>\n",
       "      <th>x_norm</th>\n",
       "      <th>Vy_norm</th>\n",
       "      <th>Vx_norm</th>\n",
       "      <th>theta_norm</th>\n",
       "      <th>psi_norm</th>\n",
       "      <th>phi_norm</th>\n",
       "      <th>omega_Xv_norm</th>\n",
       "      <th>omega_Yv_norm</th>\n",
       "      <th>alpha_Xv_norm</th>\n",
       "      <th>alpha_Yv_norm</th>\n",
       "      <th>y_norm_noise</th>\n",
       "      <th>x_norm_noise</th>\n",
       "    </tr>\n",
       "  </thead>\n",
       "  <tbody>\n",
       "    <tr>\n",
       "      <th>43567</th>\n",
       "      <td>42.246179</td>\n",
       "      <td>-83.563086</td>\n",
       "      <td>0.786530</td>\n",
       "      <td>0.206384</td>\n",
       "      <td>0.764706</td>\n",
       "      <td>0.778120</td>\n",
       "      <td>0.659098</td>\n",
       "      <td>0.423909</td>\n",
       "      <td>0.453957</td>\n",
       "      <td>0.466896</td>\n",
       "      <td>0.411583</td>\n",
       "      <td>0.508045</td>\n",
       "      <td>0.593818</td>\n",
       "      <td>0.795350</td>\n",
       "      <td>0.203490</td>\n",
       "    </tr>\n",
       "    <tr>\n",
       "      <th>43617</th>\n",
       "      <td>42.246167</td>\n",
       "      <td>-83.563112</td>\n",
       "      <td>0.785304</td>\n",
       "      <td>0.204631</td>\n",
       "      <td>0.764706</td>\n",
       "      <td>0.771957</td>\n",
       "      <td>0.658926</td>\n",
       "      <td>0.425454</td>\n",
       "      <td>0.448492</td>\n",
       "      <td>0.418745</td>\n",
       "      <td>0.388417</td>\n",
       "      <td>0.478467</td>\n",
       "      <td>0.536334</td>\n",
       "      <td>0.787305</td>\n",
       "      <td>0.203073</td>\n",
       "    </tr>\n",
       "    <tr>\n",
       "      <th>43667</th>\n",
       "      <td>42.246155</td>\n",
       "      <td>-83.563137</td>\n",
       "      <td>0.784089</td>\n",
       "      <td>0.202890</td>\n",
       "      <td>0.764706</td>\n",
       "      <td>0.764253</td>\n",
       "      <td>0.658731</td>\n",
       "      <td>0.431827</td>\n",
       "      <td>0.465695</td>\n",
       "      <td>0.474635</td>\n",
       "      <td>0.473359</td>\n",
       "      <td>0.473024</td>\n",
       "      <td>0.564262</td>\n",
       "      <td>0.788982</td>\n",
       "      <td>0.203170</td>\n",
       "    </tr>\n",
       "    <tr>\n",
       "      <th>43717</th>\n",
       "      <td>42.246143</td>\n",
       "      <td>-83.563163</td>\n",
       "      <td>0.782877</td>\n",
       "      <td>0.201164</td>\n",
       "      <td>0.764706</td>\n",
       "      <td>0.758089</td>\n",
       "      <td>0.658551</td>\n",
       "      <td>0.429316</td>\n",
       "      <td>0.485732</td>\n",
       "      <td>0.501290</td>\n",
       "      <td>0.439382</td>\n",
       "      <td>0.472314</td>\n",
       "      <td>0.590835</td>\n",
       "      <td>0.794082</td>\n",
       "      <td>0.195338</td>\n",
       "    </tr>\n",
       "    <tr>\n",
       "      <th>43767</th>\n",
       "      <td>42.246131</td>\n",
       "      <td>-83.563188</td>\n",
       "      <td>0.781676</td>\n",
       "      <td>0.199454</td>\n",
       "      <td>0.705882</td>\n",
       "      <td>0.753467</td>\n",
       "      <td>0.658312</td>\n",
       "      <td>0.419467</td>\n",
       "      <td>0.495041</td>\n",
       "      <td>0.423044</td>\n",
       "      <td>0.462548</td>\n",
       "      <td>0.519404</td>\n",
       "      <td>0.539588</td>\n",
       "      <td>0.791014</td>\n",
       "      <td>0.203958</td>\n",
       "    </tr>\n",
       "  </tbody>\n",
       "</table>\n",
       "</div>"
      ],
      "text/plain": [
       "               y          x    y_norm    x_norm   Vy_norm   Vx_norm  \\\n",
       "43567  42.246179 -83.563086  0.786530  0.206384  0.764706  0.778120   \n",
       "43617  42.246167 -83.563112  0.785304  0.204631  0.764706  0.771957   \n",
       "43667  42.246155 -83.563137  0.784089  0.202890  0.764706  0.764253   \n",
       "43717  42.246143 -83.563163  0.782877  0.201164  0.764706  0.758089   \n",
       "43767  42.246131 -83.563188  0.781676  0.199454  0.705882  0.753467   \n",
       "\n",
       "       theta_norm  psi_norm  phi_norm  omega_Xv_norm  omega_Yv_norm  \\\n",
       "43567    0.659098  0.423909  0.453957       0.466896       0.411583   \n",
       "43617    0.658926  0.425454  0.448492       0.418745       0.388417   \n",
       "43667    0.658731  0.431827  0.465695       0.474635       0.473359   \n",
       "43717    0.658551  0.429316  0.485732       0.501290       0.439382   \n",
       "43767    0.658312  0.419467  0.495041       0.423044       0.462548   \n",
       "\n",
       "       alpha_Xv_norm  alpha_Yv_norm  y_norm_noise  x_norm_noise  \n",
       "43567       0.508045       0.593818      0.795350      0.203490  \n",
       "43617       0.478467       0.536334      0.787305      0.203073  \n",
       "43667       0.473024       0.564262      0.788982      0.203170  \n",
       "43717       0.472314       0.590835      0.794082      0.195338  \n",
       "43767       0.519404       0.539588      0.791014      0.203958  "
      ]
     },
     "execution_count": 3,
     "metadata": {},
     "output_type": "execute_result"
    }
   ],
   "source": [
    "# data loading\n",
    "\n",
    "# NOISE\n",
    "with gzip.open('../data/segment_with_noise/ll_seg_500_noise.pkl.gzip', 'rb') as f:\n",
    "    ll_seg_gps_noise = pickle.load(f)\n",
    "with gzip.open('../data/segment_with_noise/rl_seg_500_noise.pkl.gzip', 'rb') as f:\n",
    "    rl_seg_gps_noise = pickle.load(f)\n",
    "\n",
    "# GROUND TRUTH\n",
    "with gzip.open('../data/segment_groud_truth/rl_seg_gt_500.pkl.gzip', 'rb') as f:\n",
    "    ll_seg_gps_gt = pickle.load(f)\n",
    "with gzip.open('../data/segment_groud_truth/ll_seg_gt_500.pkl.gzip', 'rb') as f:\n",
    "    rl_seg_gps_gt = pickle.load(f)\n",
    "\n",
    "print(len(ll_seg_gps_noise))\n",
    "print(ll_seg_gps_noise[0].shape[0])\n",
    "ll_seg_gps_noise[0].head()"
   ]
  },
  {
   "cell_type": "code",
   "execution_count": 7,
   "metadata": {},
   "outputs": [
    {
     "data": {
      "text/plain": [
       "(77, 15)"
      ]
     },
     "execution_count": 7,
     "metadata": {},
     "output_type": "execute_result"
    }
   ],
   "source": [
    "ll_seg_gps_noise[0].shape"
   ]
  },
  {
   "cell_type": "code",
   "execution_count": 13,
   "metadata": {},
   "outputs": [
    {
     "data": {
      "text/plain": [
       "50"
      ]
     },
     "execution_count": 13,
     "metadata": {},
     "output_type": "execute_result"
    }
   ],
   "source": [
    "ll_seg_gps_noise[0].index[2] - ll_seg_gps_noise[0].index[1]"
   ]
  },
  {
   "cell_type": "code",
   "execution_count": 14,
   "metadata": {},
   "outputs": [],
   "source": [
    "dt = (ll_seg_gps_noise[0].index[2] - ll_seg_gps_noise[0].index[1]) * 0.01\n",
    "A = np.array([\n",
    "    [1, dt, (dt**2)/2, 0, 0, 0],\n",
    "    [0, 1, dt, 0, 0, 0],\n",
    "    [0, 0, 1, 0, 0, 0],\n",
    "    [0, 0, 0, 1, dt, (dt**2)/2],\n",
    "    [0, 0, 0, 0, 1, dt],\n",
    "    [0, 0, 0, 0, 0, 1],\n",
    "    ])\n"
   ]
  },
  {
   "cell_type": "code",
   "execution_count": null,
   "metadata": {},
   "outputs": [],
   "source": [
    "# create an observation vector of noisy GPS signals\n",
    "observations = np.array([x_gps, y_gps]).T\n",
    "\n",
    "# matrix dimensions\n",
    "nx = Q.shape[0]\n",
    "ny = R.shape[0]     \n",
    "nt = observations.shape[0]\n",
    "\n",
    "# allocate identity matrix for re-use\n",
    "Inx = np.eye(nx)\n",
    "\n",
    "# allocate result matrices\n",
    "x_pred = np.zeros((nt, nx))      # prediction of state vector\n",
    "P_pred = np.zeros((nt, nx, nx))  # prediction error covariance matrix\n",
    "x_est = np.zeros((nt, nx))       # estimation of state vector\n",
    "P_est = np.zeros((nt, nx, nx))   # estimation error covariance matrix\n",
    "K = np.zeros((nt, nx, ny))       # Kalman Gain\n",
    "\n",
    "# set initial prediction\n",
    "x_pred[0] = x_init\n",
    "P_pred[0] = P_init\n",
    "\n",
    "# for each time-step...\n",
    "for i in range(nt):\n",
    "\n",
    "    # prediction stage\n",
    "    if i > 0:\n",
    "        x_pred[i] = A @ x_est[i-1]\n",
    "        P_pred[i] = A @ P_est[i-1] @ A.T + Q\n",
    "\n",
    "    # estimation stage\n",
    "    y_obs = observations[i]\n",
    "    K[i] = P_pred[i] @ H.T @ inv((H @ P_pred[i] @ H.T) + R)\n",
    "    x_est[i] = x_pred[i] + K[i] @ (y_obs - H @ x_pred[i])\n",
    "    P_est[i] = (Inx - K[i] @ H) @ P_pred[i]"
   ]
  }
 ],
 "metadata": {
  "kernelspec": {
   "display_name": "geo_env",
   "language": "python",
   "name": "python3"
  },
  "language_info": {
   "codemirror_mode": {
    "name": "ipython",
    "version": 3
   },
   "file_extension": ".py",
   "mimetype": "text/x-python",
   "name": "python",
   "nbconvert_exporter": "python",
   "pygments_lexer": "ipython3",
   "version": "3.8.3"
  },
  "orig_nbformat": 4,
  "vscode": {
   "interpreter": {
    "hash": "33127e0fd801b92a44b07a95a8547a254373ecd4f7f43a0887b6109c5f9a4fb8"
   }
  }
 },
 "nbformat": 4,
 "nbformat_minor": 2
}
