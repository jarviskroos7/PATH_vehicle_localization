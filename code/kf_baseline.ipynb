{
 "cells": [
  {
   "cell_type": "code",
   "execution_count": 1,
   "metadata": {},
   "outputs": [],
   "source": [
    "import pandas as pd\n",
    "import numpy as np\n",
    "import matplotlib.pyplot as plt\n",
    "plt.rcParams[\"figure.dpi\"] = 100\n",
    "import seaborn as sns\n",
    "import warnings\n",
    "warnings.filterwarnings('ignore')\n",
    "from numpy.random import randn\n",
    "np.random.seed(0)\n",
    "import pickle\n",
    "import gzip\n",
    "from sklearn.preprocessing import MinMaxScaler\n",
    "from sklearn import decomposition\n",
    "from sklearn.preprocessing import scale\n",
    "from sklearn.metrics import mean_squared_error\n",
    "from geopy.distance import great_circle"
   ]
  },
  {
   "cell_type": "code",
   "execution_count": 4,
   "metadata": {},
   "outputs": [
    {
     "name": "stdout",
     "output_type": "stream",
     "text": [
      "500\n",
      "153\n"
     ]
    },
    {
     "data": {
      "text/html": [
       "<div>\n",
       "<style scoped>\n",
       "    .dataframe tbody tr th:only-of-type {\n",
       "        vertical-align: middle;\n",
       "    }\n",
       "\n",
       "    .dataframe tbody tr th {\n",
       "        vertical-align: top;\n",
       "    }\n",
       "\n",
       "    .dataframe thead th {\n",
       "        text-align: right;\n",
       "    }\n",
       "</style>\n",
       "<table border=\"1\" class=\"dataframe\">\n",
       "  <thead>\n",
       "    <tr style=\"text-align: right;\">\n",
       "      <th></th>\n",
       "      <th>y</th>\n",
       "      <th>x</th>\n",
       "      <th>y_norm</th>\n",
       "      <th>x_norm</th>\n",
       "      <th>Vy_norm</th>\n",
       "      <th>Vx_norm</th>\n",
       "      <th>theta_norm</th>\n",
       "      <th>psi_norm</th>\n",
       "      <th>phi_norm</th>\n",
       "      <th>omega_Xv_norm</th>\n",
       "      <th>omega_Yv_norm</th>\n",
       "      <th>alpha_Xv_norm</th>\n",
       "      <th>alpha_Yv_norm</th>\n",
       "      <th>lane</th>\n",
       "      <th>y_norm_noise</th>\n",
       "      <th>x_norm_noise</th>\n",
       "    </tr>\n",
       "  </thead>\n",
       "  <tbody>\n",
       "    <tr>\n",
       "      <th>43567</th>\n",
       "      <td>42.246179</td>\n",
       "      <td>-83.563086</td>\n",
       "      <td>0.786530</td>\n",
       "      <td>0.206384</td>\n",
       "      <td>0.764706</td>\n",
       "      <td>0.778120</td>\n",
       "      <td>0.659098</td>\n",
       "      <td>0.423909</td>\n",
       "      <td>0.453957</td>\n",
       "      <td>0.466896</td>\n",
       "      <td>0.411583</td>\n",
       "      <td>0.508045</td>\n",
       "      <td>0.593818</td>\n",
       "      <td>1</td>\n",
       "      <td>0.786883</td>\n",
       "      <td>0.206219</td>\n",
       "    </tr>\n",
       "    <tr>\n",
       "      <th>43592</th>\n",
       "      <td>42.246173</td>\n",
       "      <td>-83.563099</td>\n",
       "      <td>0.785916</td>\n",
       "      <td>0.205506</td>\n",
       "      <td>0.705882</td>\n",
       "      <td>0.775039</td>\n",
       "      <td>0.659040</td>\n",
       "      <td>0.433179</td>\n",
       "      <td>0.453350</td>\n",
       "      <td>0.377472</td>\n",
       "      <td>0.481081</td>\n",
       "      <td>0.481543</td>\n",
       "      <td>0.542299</td>\n",
       "      <td>1</td>\n",
       "      <td>0.785997</td>\n",
       "      <td>0.205486</td>\n",
       "    </tr>\n",
       "    <tr>\n",
       "      <th>43617</th>\n",
       "      <td>42.246167</td>\n",
       "      <td>-83.563112</td>\n",
       "      <td>0.785304</td>\n",
       "      <td>0.204631</td>\n",
       "      <td>0.764706</td>\n",
       "      <td>0.771957</td>\n",
       "      <td>0.658926</td>\n",
       "      <td>0.425454</td>\n",
       "      <td>0.448492</td>\n",
       "      <td>0.418745</td>\n",
       "      <td>0.388417</td>\n",
       "      <td>0.478467</td>\n",
       "      <td>0.536334</td>\n",
       "      <td>1</td>\n",
       "      <td>0.785500</td>\n",
       "      <td>0.204498</td>\n",
       "    </tr>\n",
       "    <tr>\n",
       "      <th>43642</th>\n",
       "      <td>42.246161</td>\n",
       "      <td>-83.563125</td>\n",
       "      <td>0.784696</td>\n",
       "      <td>0.203759</td>\n",
       "      <td>0.764706</td>\n",
       "      <td>0.767334</td>\n",
       "      <td>0.658862</td>\n",
       "      <td>0.432599</td>\n",
       "      <td>0.459826</td>\n",
       "      <td>0.508169</td>\n",
       "      <td>0.498842</td>\n",
       "      <td>0.510648</td>\n",
       "      <td>0.532267</td>\n",
       "      <td>1</td>\n",
       "      <td>0.785144</td>\n",
       "      <td>0.203984</td>\n",
       "    </tr>\n",
       "    <tr>\n",
       "      <th>43667</th>\n",
       "      <td>42.246155</td>\n",
       "      <td>-83.563137</td>\n",
       "      <td>0.784089</td>\n",
       "      <td>0.202890</td>\n",
       "      <td>0.764706</td>\n",
       "      <td>0.764253</td>\n",
       "      <td>0.658731</td>\n",
       "      <td>0.431827</td>\n",
       "      <td>0.465695</td>\n",
       "      <td>0.474635</td>\n",
       "      <td>0.473359</td>\n",
       "      <td>0.473024</td>\n",
       "      <td>0.564262</td>\n",
       "      <td>1</td>\n",
       "      <td>0.784462</td>\n",
       "      <td>0.202674</td>\n",
       "    </tr>\n",
       "  </tbody>\n",
       "</table>\n",
       "</div>"
      ],
      "text/plain": [
       "               y          x    y_norm    x_norm   Vy_norm   Vx_norm  \\\n",
       "43567  42.246179 -83.563086  0.786530  0.206384  0.764706  0.778120   \n",
       "43592  42.246173 -83.563099  0.785916  0.205506  0.705882  0.775039   \n",
       "43617  42.246167 -83.563112  0.785304  0.204631  0.764706  0.771957   \n",
       "43642  42.246161 -83.563125  0.784696  0.203759  0.764706  0.767334   \n",
       "43667  42.246155 -83.563137  0.784089  0.202890  0.764706  0.764253   \n",
       "\n",
       "       theta_norm  psi_norm  phi_norm  omega_Xv_norm  omega_Yv_norm  \\\n",
       "43567    0.659098  0.423909  0.453957       0.466896       0.411583   \n",
       "43592    0.659040  0.433179  0.453350       0.377472       0.481081   \n",
       "43617    0.658926  0.425454  0.448492       0.418745       0.388417   \n",
       "43642    0.658862  0.432599  0.459826       0.508169       0.498842   \n",
       "43667    0.658731  0.431827  0.465695       0.474635       0.473359   \n",
       "\n",
       "       alpha_Xv_norm  alpha_Yv_norm  lane  y_norm_noise  x_norm_noise  \n",
       "43567       0.508045       0.593818     1      0.786883      0.206219  \n",
       "43592       0.481543       0.542299     1      0.785997      0.205486  \n",
       "43617       0.478467       0.536334     1      0.785500      0.204498  \n",
       "43642       0.510648       0.532267     1      0.785144      0.203984  \n",
       "43667       0.473024       0.564262     1      0.784462      0.202674  "
      ]
     },
     "execution_count": 4,
     "metadata": {},
     "output_type": "execute_result"
    }
   ],
   "source": [
    "# data loading\n",
    "\n",
    "# NOISE\n",
    "with gzip.open('../data/segment_with_noise_v2/ll_seg_500_noise_v2.pkl.gzip', 'rb') as f:\n",
    "    ll_seg_noise = pickle.load(f)\n",
    "with gzip.open('../data/segment_with_noise_v2/rl_seg_500_noise_v2.pkl.gzip', 'rb') as f:\n",
    "    rl_seg_noise = pickle.load(f)\n",
    "\n",
    "# GROUND TRUTH\n",
    "with gzip.open('../data/segment_groud_truth/rl_seg_gt_500.pkl.gzip', 'rb') as f:\n",
    "    ll_seg_gps_gt = pickle.load(f)\n",
    "with gzip.open('../data/segment_groud_truth/ll_seg_gt_500.pkl.gzip', 'rb') as f:\n",
    "    rl_seg_gps_gt = pickle.load(f)\n",
    "\n",
    "print(len(ll_seg_noise))\n",
    "print(ll_seg_noise[0].shape[0])\n",
    "ll_seg_noise[0].head()"
   ]
  },
  {
   "cell_type": "code",
   "execution_count": 8,
   "metadata": {},
   "outputs": [
    {
     "name": "stdout",
     "output_type": "stream",
     "text": [
      "(153, 16)\n"
     ]
    }
   ],
   "source": [
    "# example segment\n",
    "exp_rl_seg_noise = ll_seg_noise[91]\n",
    "print(exp_rl_seg_noise.shape)"
   ]
  },
  {
   "cell_type": "code",
   "execution_count": 9,
   "metadata": {},
   "outputs": [
    {
     "data": {
      "text/html": [
       "<div>\n",
       "<style scoped>\n",
       "    .dataframe tbody tr th:only-of-type {\n",
       "        vertical-align: middle;\n",
       "    }\n",
       "\n",
       "    .dataframe tbody tr th {\n",
       "        vertical-align: top;\n",
       "    }\n",
       "\n",
       "    .dataframe thead th {\n",
       "        text-align: right;\n",
       "    }\n",
       "</style>\n",
       "<table border=\"1\" class=\"dataframe\">\n",
       "  <thead>\n",
       "    <tr style=\"text-align: right;\">\n",
       "      <th></th>\n",
       "      <th>y</th>\n",
       "      <th>x</th>\n",
       "      <th>y_norm</th>\n",
       "      <th>x_norm</th>\n",
       "      <th>Vy_norm</th>\n",
       "      <th>Vx_norm</th>\n",
       "      <th>theta_norm</th>\n",
       "      <th>psi_norm</th>\n",
       "      <th>phi_norm</th>\n",
       "      <th>omega_Xv_norm</th>\n",
       "      <th>omega_Yv_norm</th>\n",
       "      <th>alpha_Xv_norm</th>\n",
       "      <th>alpha_Yv_norm</th>\n",
       "      <th>lane</th>\n",
       "      <th>y_norm_noise</th>\n",
       "      <th>x_norm_noise</th>\n",
       "    </tr>\n",
       "  </thead>\n",
       "  <tbody>\n",
       "    <tr>\n",
       "      <th>21752</th>\n",
       "      <td>42.246163</td>\n",
       "      <td>-83.551625</td>\n",
       "      <td>0.784951</td>\n",
       "      <td>0.987688</td>\n",
       "      <td>0.588235</td>\n",
       "      <td>0.779661</td>\n",
       "      <td>0.990650</td>\n",
       "      <td>0.877752</td>\n",
       "      <td>0.460231</td>\n",
       "      <td>0.494411</td>\n",
       "      <td>0.415444</td>\n",
       "      <td>0.621865</td>\n",
       "      <td>0.549620</td>\n",
       "      <td>1</td>\n",
       "      <td>0.784921</td>\n",
       "      <td>0.987621</td>\n",
       "    </tr>\n",
       "    <tr>\n",
       "      <th>21777</th>\n",
       "      <td>42.246175</td>\n",
       "      <td>-83.551626</td>\n",
       "      <td>0.786100</td>\n",
       "      <td>0.987625</td>\n",
       "      <td>0.588235</td>\n",
       "      <td>0.782743</td>\n",
       "      <td>0.990425</td>\n",
       "      <td>0.872731</td>\n",
       "      <td>0.468933</td>\n",
       "      <td>0.456578</td>\n",
       "      <td>0.522780</td>\n",
       "      <td>0.610506</td>\n",
       "      <td>0.554772</td>\n",
       "      <td>1</td>\n",
       "      <td>0.786229</td>\n",
       "      <td>0.987435</td>\n",
       "    </tr>\n",
       "    <tr>\n",
       "      <th>21802</th>\n",
       "      <td>42.246186</td>\n",
       "      <td>-83.551627</td>\n",
       "      <td>0.787251</td>\n",
       "      <td>0.987559</td>\n",
       "      <td>0.588235</td>\n",
       "      <td>0.784284</td>\n",
       "      <td>0.989972</td>\n",
       "      <td>0.878138</td>\n",
       "      <td>0.469338</td>\n",
       "      <td>0.427343</td>\n",
       "      <td>0.514286</td>\n",
       "      <td>0.623284</td>\n",
       "      <td>0.552603</td>\n",
       "      <td>1</td>\n",
       "      <td>0.787260</td>\n",
       "      <td>0.987523</td>\n",
       "    </tr>\n",
       "    <tr>\n",
       "      <th>21827</th>\n",
       "      <td>42.246198</td>\n",
       "      <td>-83.551628</td>\n",
       "      <td>0.788407</td>\n",
       "      <td>0.987491</td>\n",
       "      <td>0.529412</td>\n",
       "      <td>0.785824</td>\n",
       "      <td>0.989547</td>\n",
       "      <td>0.879490</td>\n",
       "      <td>0.463064</td>\n",
       "      <td>0.486672</td>\n",
       "      <td>0.474903</td>\n",
       "      <td>0.607903</td>\n",
       "      <td>0.548265</td>\n",
       "      <td>1</td>\n",
       "      <td>0.788534</td>\n",
       "      <td>0.987065</td>\n",
       "    </tr>\n",
       "    <tr>\n",
       "      <th>21852</th>\n",
       "      <td>42.246209</td>\n",
       "      <td>-83.551629</td>\n",
       "      <td>0.789565</td>\n",
       "      <td>0.987419</td>\n",
       "      <td>0.588235</td>\n",
       "      <td>0.788906</td>\n",
       "      <td>0.989108</td>\n",
       "      <td>0.883353</td>\n",
       "      <td>0.466707</td>\n",
       "      <td>0.463457</td>\n",
       "      <td>0.528185</td>\n",
       "      <td>0.631093</td>\n",
       "      <td>0.568872</td>\n",
       "      <td>1</td>\n",
       "      <td>0.789452</td>\n",
       "      <td>0.987495</td>\n",
       "    </tr>\n",
       "  </tbody>\n",
       "</table>\n",
       "</div>"
      ],
      "text/plain": [
       "               y          x    y_norm    x_norm   Vy_norm   Vx_norm  \\\n",
       "21752  42.246163 -83.551625  0.784951  0.987688  0.588235  0.779661   \n",
       "21777  42.246175 -83.551626  0.786100  0.987625  0.588235  0.782743   \n",
       "21802  42.246186 -83.551627  0.787251  0.987559  0.588235  0.784284   \n",
       "21827  42.246198 -83.551628  0.788407  0.987491  0.529412  0.785824   \n",
       "21852  42.246209 -83.551629  0.789565  0.987419  0.588235  0.788906   \n",
       "\n",
       "       theta_norm  psi_norm  phi_norm  omega_Xv_norm  omega_Yv_norm  \\\n",
       "21752    0.990650  0.877752  0.460231       0.494411       0.415444   \n",
       "21777    0.990425  0.872731  0.468933       0.456578       0.522780   \n",
       "21802    0.989972  0.878138  0.469338       0.427343       0.514286   \n",
       "21827    0.989547  0.879490  0.463064       0.486672       0.474903   \n",
       "21852    0.989108  0.883353  0.466707       0.463457       0.528185   \n",
       "\n",
       "       alpha_Xv_norm  alpha_Yv_norm  lane  y_norm_noise  x_norm_noise  \n",
       "21752       0.621865       0.549620     1      0.784921      0.987621  \n",
       "21777       0.610506       0.554772     1      0.786229      0.987435  \n",
       "21802       0.623284       0.552603     1      0.787260      0.987523  \n",
       "21827       0.607903       0.548265     1      0.788534      0.987065  \n",
       "21852       0.631093       0.568872     1      0.789452      0.987495  "
      ]
     },
     "execution_count": 9,
     "metadata": {},
     "output_type": "execute_result"
    }
   ],
   "source": [
    "exp_rl_seg_noise.head()"
   ]
  },
  {
   "cell_type": "code",
   "execution_count": 10,
   "metadata": {},
   "outputs": [
    {
     "data": {
      "text/plain": [
       "0.006578947368421052"
      ]
     },
     "execution_count": 10,
     "metadata": {},
     "output_type": "execute_result"
    }
   ],
   "source": [
    "# normalize time for calculating dt\n",
    "\n",
    "t_norm = MinMaxScaler().fit_transform(np.linspace(0, exp_rl_seg_noise.shape[0] * 50 * 0.01, num=exp_rl_seg_noise.shape[0]).reshape(-1,1)).flatten()\n",
    "dt = t_norm[1] - t_norm[0]\n",
    "dt"
   ]
  },
  {
   "attachments": {},
   "cell_type": "markdown",
   "metadata": {},
   "source": [
    "## linear kalman filter design"
   ]
  },
  {
   "cell_type": "code",
   "execution_count": 16,
   "metadata": {},
   "outputs": [],
   "source": [
    "x_noise = exp_rl_seg_noise['x_norm_noise'].values\n",
    "y_noise = exp_rl_seg_noise['y_norm_noise'].values\n",
    "Vx = exp_rl_seg_noise['Vx_norm'].values\n",
    "Vy = exp_rl_seg_noise['Vy_norm'].values\n",
    "alpha_Xv = exp_rl_seg_noise['alpha_Xv_norm'].values\n",
    "alpha_Yv = exp_rl_seg_noise['alpha_Yv_norm'].values\n",
    "\n",
    "gps_sig = 0.005\n",
    "# dt = (exp_ll_seg_gps_noise.index[2] - exp_ll_seg_gps_noise.index[1]) * 0.01\n",
    "d3xdt3 = np.gradient(exp_rl_seg_noise['alpha_Xv_norm'], dt)\n",
    "d3ydt3 = np.gradient(exp_rl_seg_noise['alpha_Yv_norm'], dt)\n",
    "\n",
    "A = np.array([\n",
    "    [1, dt, (dt**2)/2, 0, 0, 0],\n",
    "    [0, 1, dt, 0, 0, 0],\n",
    "    [0, 0, 1, 0, 0, 0],\n",
    "    [0, 0, 0, 1, dt, (dt**2)/2],\n",
    "    [0, 0, 0, 0, 1, dt],\n",
    "    [0, 0, 0, 0, 0, 1],\n",
    "    ])\n",
    "\n",
    "Q1 = np.array([(dt**3)/6, (dt**2)/2, dt, 0, 0, 0])\n",
    "Q1 = np.expand_dims(Q1, 1)\n",
    "Q2 = np.array([0, 0, 0, (dt**3)/6, (dt**2)/2, dt])\n",
    "Q2 = np.expand_dims(Q2, 1)\n",
    "\n",
    "j_var = max(np.var(d3xdt3), np.var(d3ydt3))\n",
    "Q = j_var * (Q1 @ Q1.T + Q2 @ Q2.T)\n",
    "\n",
    "H = np.array([\n",
    "    [1, 0, 0, 0, 0, 0],\n",
    "    [0, 0, 0, 1, 0, 0],\n",
    "    ])\n",
    "\n",
    "R = np.diag(np.array([gps_sig**2, gps_sig**2]))\n",
    "\n",
    "x_init = np.array([x_noise[0], Vx[0], alpha_Xv[0], y_noise[0], Vy[0], alpha_Yv[0]])\n",
    "P_init = 0.001 * np.eye(len(x_init))  # small initial prediction error"
   ]
  },
  {
   "cell_type": "code",
   "execution_count": 17,
   "metadata": {},
   "outputs": [],
   "source": [
    "# create an observation vector of noisy GPS signals\n",
    "observations = np.array([x_noise, y_noise]).T\n",
    "\n",
    "# matrix dimensions, nxm\n",
    "nx = Q.shape[0]\n",
    "ny = R.shape[0]     \n",
    "nt = observations.shape[0]\n",
    "\n",
    "# allocate identity matrix for re-use\n",
    "Inx = np.eye(nx)\n",
    "\n",
    "# allocate result matrices\n",
    "x_pred = np.zeros((nt, nx))      # prediction of state vector\n",
    "P_pred = np.zeros((nt, nx, nx))  # prediction error covariance matrix\n",
    "x_est = np.zeros((nt, nx))       # estimation of state vector\n",
    "P_est = np.zeros((nt, nx, nx))   # estimation error covariance matrix\n",
    "K = np.zeros((nt, nx, ny))       # Kalman Gain\n",
    "\n",
    "# set initial prediction\n",
    "x_pred[0] = x_init\n",
    "P_pred[0] = P_init\n",
    "\n",
    "for i in range(nt):\n",
    "\n",
    "    # prediction stage\n",
    "    if i > 0:\n",
    "        x_pred[i] = A @ x_est[i-1]\n",
    "        P_pred[i] = A @ P_est[i-1] @ A.T + Q\n",
    "\n",
    "    # estimation stage\n",
    "    y_obs = observations[i]\n",
    "    K[i] = P_pred[i] @ H.T @ np.linalg.inv((H @ P_pred[i] @ H.T) + R)\n",
    "    x_est[i] = x_pred[i] + K[i] @ (y_obs - H @ x_pred[i])\n",
    "    P_est[i] = (Inx - K[i] @ H) @ P_pred[i]"
   ]
  },
  {
   "cell_type": "code",
   "execution_count": 52,
   "metadata": {},
   "outputs": [],
   "source": [
    "def kf(segment_df):\n",
    "\n",
    "    # states\n",
    "    x_noise = segment_df['x_norm_noise'].values\n",
    "    y_noise = segment_df['y_norm_noise'].values\n",
    "    Vx = segment_df['Vx_norm'].values\n",
    "    Vy = segment_df['Vy_norm'].values\n",
    "    alpha_Xv = segment_df['alpha_Xv_norm'].values\n",
    "    alpha_Yv = segment_df['alpha_Yv_norm'].values\n",
    "    d3xdt3 = np.gradient(exp_rl_seg_noise['alpha_Xv_norm'], dt)\n",
    "    d3ydt3 = np.gradient(exp_rl_seg_noise['alpha_Yv_norm'], dt)\n",
    "\n",
    "    gps_sig = 0.0002\n",
    "\n",
    "    # initialization\n",
    "    A = np.array([\n",
    "        [1, dt, (dt**2)/2, 0, 0, 0],\n",
    "        [0, 1, dt, 0, 0, 0],\n",
    "        [0, 0, 1, 0, 0, 0],\n",
    "        [0, 0, 0, 1, dt, (dt**2)/2],\n",
    "        [0, 0, 0, 0, 1, dt],\n",
    "        [0, 0, 0, 0, 0, 1],\n",
    "        ])\n",
    "\n",
    "    H = np.array([\n",
    "        [1, 0, 0, 0, 0, 0],\n",
    "        [0, 0, 0, 1, 0, 0],\n",
    "        ])\n",
    "\n",
    "    Q1 = np.array([(dt**3)/6, (dt**2)/2, dt, 0, 0, 0])\n",
    "    Q1 = np.expand_dims(Q1, 1)\n",
    "    Q2 = np.array([0, 0, 0, (dt**3)/6, (dt**2)/2, dt])\n",
    "    Q2 = np.expand_dims(Q2, 1)\n",
    "\n",
    "    j_var = max(np.var(d3xdt3), np.var(d3ydt3))\n",
    "    Q = j_var * (Q1 @ Q1.T + Q2 @ Q2.T)\n",
    "    R = np.diag(np.array([gps_sig**2, gps_sig**2]))\n",
    "\n",
    "    x_init = np.array([x_noise[0], Vx[0], alpha_Xv[0], y_noise[0], Vy[0], alpha_Yv[0]])\n",
    "    P_init = 1 * np.eye(len(x_init))  # small initial prediction error\n",
    "\n",
    "    # create an observation vector of noisy GPS signals\n",
    "    observations = np.array([x_noise, y_noise]).T\n",
    "\n",
    "    # matrix dimensions, nxm\n",
    "    nx = Q.shape[0]\n",
    "    ny = R.shape[0]     \n",
    "    nt = observations.shape[0]\n",
    "\n",
    "    # allocate identity matrix for re-use\n",
    "    Inx = np.eye(nx)\n",
    "\n",
    "    # allocate result matrices\n",
    "    x_pred = np.zeros((nt, nx))      # prediction of state vector\n",
    "    P_pred = np.zeros((nt, nx, nx))  # prediction error covariance matrix\n",
    "    x_est = np.zeros((nt, nx))       # estimation of state vector\n",
    "    P_est = np.zeros((nt, nx, nx))   # estimation error covariance matrix\n",
    "    K = np.zeros((nt, nx, ny))       # Kalman Gain\n",
    "\n",
    "    # set initial prediction\n",
    "    x_pred[0] = x_init\n",
    "    P_pred[0] = P_init\n",
    "\n",
    "    for i in range(nt):\n",
    "\n",
    "        # prediction stage\n",
    "        if i > 0:\n",
    "            x_pred[i] = A @ x_est[i-1]\n",
    "            P_pred[i] = A @ P_est[i-1] @ A.T + Q\n",
    "\n",
    "        # estimation stage\n",
    "        y_obs = observations[i]\n",
    "        K[i] = P_pred[i] @ H.T @ np.linalg.inv((H @ P_pred[i] @ H.T) + R)\n",
    "        x_est[i] = x_pred[i] + K[i] @ (y_obs - H @ x_pred[i])\n",
    "        P_est[i] = (Inx - K[i] @ H) @ P_pred[i]\n",
    "    \n",
    "    return x_est, x_noise, y_noise, segment_df['x_norm'].values, segment_df['y_norm'].values"
   ]
  },
  {
   "attachments": {},
   "cell_type": "markdown",
   "metadata": {},
   "source": [
    "## batch estimation"
   ]
  },
  {
   "cell_type": "code",
   "execution_count": 58,
   "metadata": {},
   "outputs": [],
   "source": [
    "x_noise = exp_rl_seg_noise['x_norm_noise'].values\n",
    "y_noise = exp_rl_seg_noise['y_norm_noise'].values\n",
    "\n",
    "x_est_sample, x_noise, y_noise, x, y  = kf(exp_rl_seg_noise)"
   ]
  },
  {
   "cell_type": "code",
   "execution_count": 59,
   "metadata": {},
   "outputs": [
    {
     "data": {
      "text/plain": [
       "<matplotlib.legend.Legend at 0x7ffe166cf7f0>"
      ]
     },
     "execution_count": 59,
     "metadata": {},
     "output_type": "execute_result"
    },
    {
     "data": {
      "image/png": "[encoded data removed]",
      "text/plain": [
       "<Figure size 780x357.5 with 1 Axes>"
      ]
     },
     "metadata": {
      "needs_background": "light"
     },
     "output_type": "display_data"
    }
   ],
   "source": [
    "plt.figure(dpi=130, figsize=(6, 2.75))\n",
    "\n",
    "plt.plot(y_noise, x_noise, '-o', label='0.5% noise, 5hz', ms=3, c='orange')\n",
    "plt.plot(x_est_sample[:, 3], x_est_sample[:, 0], '-', linewidth=1, label='kf baseline prediction', c='green')\n",
    "plt.scatter(x_est_sample[:, 3][0], x_est_sample[:, 0][0], label='start', s=60, c='green')\n",
    "plt.plot(exp_rl_seg_noise['y_norm'].values, exp_rl_seg_noise['x_norm'].values, label='ground truth, 5hz', c='blue')\n",
    "\n",
    "plt.legend()"
   ]
  },
  {
   "cell_type": "code",
   "execution_count": 60,
   "metadata": {},
   "outputs": [],
   "source": [
    "rl_seg_pred = []\n",
    "\n",
    "for df in rl_seg_noise:\n",
    "    x_est_sample, x_noise, y_noise, x, y = kf(df)\n",
    "    x_est_df = pd.DataFrame(\n",
    "        {'x_est': x_est_sample[:, 0],\n",
    "        'y_est': x_est_sample[:, 3],\n",
    "        'x_noise': x_noise,\n",
    "        'y_noise': y_noise,\n",
    "        'x': x,\n",
    "        'y': y\n",
    "        }\n",
    "    )\n",
    "    rl_seg_pred.append(x_est_df)    "
   ]
  },
  {
   "cell_type": "code",
   "execution_count": 61,
   "metadata": {},
   "outputs": [
    {
     "data": {
      "text/html": [
       "<div>\n",
       "<style scoped>\n",
       "    .dataframe tbody tr th:only-of-type {\n",
       "        vertical-align: middle;\n",
       "    }\n",
       "\n",
       "    .dataframe tbody tr th {\n",
       "        vertical-align: top;\n",
       "    }\n",
       "\n",
       "    .dataframe thead th {\n",
       "        text-align: right;\n",
       "    }\n",
       "</style>\n",
       "<table border=\"1\" class=\"dataframe\">\n",
       "  <thead>\n",
       "    <tr style=\"text-align: right;\">\n",
       "      <th></th>\n",
       "      <th>x_est</th>\n",
       "      <th>y_est</th>\n",
       "      <th>x_noise</th>\n",
       "      <th>y_noise</th>\n",
       "      <th>x</th>\n",
       "      <th>y</th>\n",
       "    </tr>\n",
       "  </thead>\n",
       "  <tbody>\n",
       "    <tr>\n",
       "      <th>0</th>\n",
       "      <td>0.206219</td>\n",
       "      <td>0.786883</td>\n",
       "      <td>0.206219</td>\n",
       "      <td>0.786883</td>\n",
       "      <td>0.206384</td>\n",
       "      <td>0.786530</td>\n",
       "    </tr>\n",
       "    <tr>\n",
       "      <th>1</th>\n",
       "      <td>0.205492</td>\n",
       "      <td>0.786002</td>\n",
       "      <td>0.205486</td>\n",
       "      <td>0.785997</td>\n",
       "      <td>0.205506</td>\n",
       "      <td>0.785916</td>\n",
       "    </tr>\n",
       "    <tr>\n",
       "      <th>2</th>\n",
       "      <td>0.204547</td>\n",
       "      <td>0.785442</td>\n",
       "      <td>0.204498</td>\n",
       "      <td>0.785500</td>\n",
       "      <td>0.204631</td>\n",
       "      <td>0.785304</td>\n",
       "    </tr>\n",
       "    <tr>\n",
       "      <th>3</th>\n",
       "      <td>0.203907</td>\n",
       "      <td>0.785044</td>\n",
       "      <td>0.203984</td>\n",
       "      <td>0.785144</td>\n",
       "      <td>0.203759</td>\n",
       "      <td>0.784696</td>\n",
       "    </tr>\n",
       "    <tr>\n",
       "      <th>4</th>\n",
       "      <td>0.202859</td>\n",
       "      <td>0.784492</td>\n",
       "      <td>0.202674</td>\n",
       "      <td>0.784462</td>\n",
       "      <td>0.202890</td>\n",
       "      <td>0.784089</td>\n",
       "    </tr>\n",
       "    <tr>\n",
       "      <th>...</th>\n",
       "      <td>...</td>\n",
       "      <td>...</td>\n",
       "      <td>...</td>\n",
       "      <td>...</td>\n",
       "      <td>...</td>\n",
       "      <td>...</td>\n",
       "    </tr>\n",
       "    <tr>\n",
       "      <th>148</th>\n",
       "      <td>0.087358</td>\n",
       "      <td>0.686453</td>\n",
       "      <td>0.087649</td>\n",
       "      <td>0.686148</td>\n",
       "      <td>0.087317</td>\n",
       "      <td>0.686411</td>\n",
       "    </tr>\n",
       "    <tr>\n",
       "      <th>149</th>\n",
       "      <td>0.086508</td>\n",
       "      <td>0.685558</td>\n",
       "      <td>0.086469</td>\n",
       "      <td>0.685474</td>\n",
       "      <td>0.086492</td>\n",
       "      <td>0.685567</td>\n",
       "    </tr>\n",
       "    <tr>\n",
       "      <th>150</th>\n",
       "      <td>0.085628</td>\n",
       "      <td>0.684702</td>\n",
       "      <td>0.085539</td>\n",
       "      <td>0.684712</td>\n",
       "      <td>0.085675</td>\n",
       "      <td>0.684726</td>\n",
       "    </tr>\n",
       "    <tr>\n",
       "      <th>151</th>\n",
       "      <td>0.084863</td>\n",
       "      <td>0.683978</td>\n",
       "      <td>0.084996</td>\n",
       "      <td>0.684229</td>\n",
       "      <td>0.084863</td>\n",
       "      <td>0.683887</td>\n",
       "    </tr>\n",
       "    <tr>\n",
       "      <th>152</th>\n",
       "      <td>0.084014</td>\n",
       "      <td>0.683055</td>\n",
       "      <td>0.083964</td>\n",
       "      <td>0.682899</td>\n",
       "      <td>0.084056</td>\n",
       "      <td>0.683048</td>\n",
       "    </tr>\n",
       "  </tbody>\n",
       "</table>\n",
       "<p>153 rows × 6 columns</p>\n",
       "</div>"
      ],
      "text/plain": [
       "        x_est     y_est   x_noise   y_noise         x         y\n",
       "0    0.206219  0.786883  0.206219  0.786883  0.206384  0.786530\n",
       "1    0.205492  0.786002  0.205486  0.785997  0.205506  0.785916\n",
       "2    0.204547  0.785442  0.204498  0.785500  0.204631  0.785304\n",
       "3    0.203907  0.785044  0.203984  0.785144  0.203759  0.784696\n",
       "4    0.202859  0.784492  0.202674  0.784462  0.202890  0.784089\n",
       "..        ...       ...       ...       ...       ...       ...\n",
       "148  0.087358  0.686453  0.087649  0.686148  0.087317  0.686411\n",
       "149  0.086508  0.685558  0.086469  0.685474  0.086492  0.685567\n",
       "150  0.085628  0.684702  0.085539  0.684712  0.085675  0.684726\n",
       "151  0.084863  0.683978  0.084996  0.684229  0.084863  0.683887\n",
       "152  0.084014  0.683055  0.083964  0.682899  0.084056  0.683048\n",
       "\n",
       "[153 rows x 6 columns]"
      ]
     },
     "execution_count": 61,
     "metadata": {},
     "output_type": "execute_result"
    }
   ],
   "source": [
    "rl_seg_pred[0]"
   ]
  },
  {
   "cell_type": "code",
   "execution_count": 64,
   "metadata": {},
   "outputs": [],
   "source": [
    "x_max = -83.55144472\n",
    "y_max = 42.24829894\n",
    "x_min = -83.56611364\n",
    "y_min = 42.23836889\n",
    "\n",
    "y_exp_pred_scale = []\n",
    "y_exp_gt_scale = []\n",
    "y_exp_noise_scale = []\n",
    "\n",
    "\n",
    "def inv_normalize(y, x):\n",
    "    y_scale = y * (y_max - y_min) + y_min\n",
    "    x_scale = x * (x_max - x_min) + x_min\n",
    "    coord_scale = np.append(\n",
    "        y_scale.reshape(153, 1), x_scale.reshape(153, 1), axis=1\n",
    "    )\n",
    "    return coord_scale\n",
    "\n",
    "\n",
    "# estimation\n",
    "for df in rl_seg_pred:\n",
    "\n",
    "    coord_scale_pred = inv_normalize(df['y_est'].values, df['x_est'].values)\n",
    "    coord_scale_gt = inv_normalize(df['y'].values, df['x'].values)\n",
    "    coord_scale_noise = inv_normalize(df['y_noise'].values, df['x_noise'].values)\n",
    "\n",
    "    y_exp_pred_scale.append(coord_scale_pred)\n",
    "    y_exp_gt_scale.append(coord_scale_gt)\n",
    "    y_exp_noise_scale.append(coord_scale_noise)\n",
    "\n",
    "y_pred_scale = np.asarray(y_exp_pred_scale)\n",
    "y_gt_scale = np.asarray(y_exp_gt_scale)\n",
    "y_exp_noise_scale = np.asarray(y_exp_noise_scale)\n",
    "\n",
    "great_circie_err = []\n",
    "great_circie_noise_err = []\n",
    "\n",
    "for i in np.arange(len(rl_seg_pred)):\n",
    "    for traj_i in np.arange(153):\n",
    "        pred_coord = (y_pred_scale[i][traj_i][0], y_pred_scale[i][traj_i][1])\n",
    "        actual_coord = (y_gt_scale[i][traj_i][0], y_gt_scale[i][traj_i][1])\n",
    "        noise_coord = (y_exp_noise_scale[i][traj_i][0], y_exp_noise_scale[i][traj_i][1])\n",
    "\n",
    "        great_circie_err.append(great_circle(pred_coord, actual_coord).miles * 1609.34) # meter\n",
    "        great_circie_noise_err.append(great_circle(noise_coord, actual_coord).miles * 1609.34) # meter"
   ]
  },
  {
   "cell_type": "code",
   "execution_count": 46,
   "metadata": {},
   "outputs": [],
   "source": [
    "x_max = -83.55144472\n",
    "y_max = 42.24829894\n",
    "x_min = -83.56611364\n",
    "y_min = 42.23836889\n",
    "\n",
    "y_exp_test_scale = []\n",
    "y_exp_noise_scale = []\n",
    "y_exp_pred_scale = []\n",
    "\n",
    "# estimation\n",
    "y_scale = x_est_sample[:, 3] * (y_max - y_min) + y_min\n",
    "x_scale = x_est_sample[:, 0] * (x_max - x_min) + x_min\n",
    "\n",
    "coord_scale = np.append(\n",
    "    y_scale.reshape(153, 1), x_scale.reshape(153, 1), axis=1\n",
    ")\n",
    "y_exp_pred_scale.append(coord_scale)\n",
    "\n",
    "# gt\n",
    "y_scale = exp_rl_seg_noise['y_norm'].values * (y_max - y_min) + y_min\n",
    "x_scale = exp_rl_seg_noise['x_norm'].values * (x_max - x_min) + x_min\n",
    "coord_scale = np.append(\n",
    "    y_scale.reshape(153, 1), x_scale.reshape(153, 1), axis=1\n",
    ")\n",
    "y_exp_test_scale.append(coord_scale)\n",
    "\n",
    "# noise\n",
    "y_scale = y_noise * (y_max - y_min) + y_min\n",
    "x_scale = x_noise * (x_max - x_min) + x_min\n",
    "coord_scale = np.append(\n",
    "    y_scale.reshape(153, 1), x_scale.reshape(153, 1), axis=1\n",
    ")\n",
    "y_exp_noise_scale.append(coord_scale)\n",
    "\n",
    "y_test_scale = np.asarray(y_exp_test_scale)\n",
    "y_pred_scale = np.asarray(y_exp_pred_scale)\n",
    "y_exp_noise_scale = np.asarray(y_exp_noise_scale)\n",
    "\n",
    "great_circie_err = []\n",
    "great_circie_noise_err = []\n",
    "\n",
    "for traj_i in np.arange(153):\n",
    "    pred_coord = (y_pred_scale[0][traj_i][0], y_pred_scale[0][traj_i][1])\n",
    "    actual_coord = (y_test_scale[0][traj_i][0], y_test_scale[0][traj_i][1])\n",
    "    noise_coord = (y_exp_noise_scale[0][traj_i][0], y_exp_noise_scale[0][traj_i][1])\n",
    "\n",
    "    great_circie_err.append(great_circle(pred_coord, actual_coord).miles * 1609.34) # meter\n",
    "    great_circie_noise_err.append(great_circle(noise_coord, actual_coord).miles * 1609.34) # meter"
   ]
  },
  {
   "cell_type": "code",
   "execution_count": 82,
   "metadata": {},
   "outputs": [
    {
     "data": {
      "text/plain": [
       "<matplotlib.legend.Legend at 0x7ffdd6b8c1f0>"
      ]
     },
     "execution_count": 82,
     "metadata": {},
     "output_type": "execute_result"
    },
    {
     "data": {
      "image/png": "[encoded data removed]",
      "text/plain": [
       "<Figure size 432x288 with 1 Axes>"
      ]
     },
     "metadata": {
      "needs_background": "light"
     },
     "output_type": "display_data"
    }
   ],
   "source": [
    "ax = sns.histplot(\n",
    "    great_circie_noise_err, \n",
    "    bins=50, label='noise distribution', color='red', kde=True)\n",
    "sns.histplot(\n",
    "    great_circie_err, \n",
    "    bins=50, label='prediction error distribution', kde=True)\n",
    "\n",
    "plt.xlabel('error distance [m]')\n",
    "plt.legend()"
   ]
  },
  {
   "cell_type": "code",
   "execution_count": 65,
   "metadata": {},
   "outputs": [
    {
     "data": {
      "text/plain": [
       "<matplotlib.legend.Legend at 0x7ffe244a2760>"
      ]
     },
     "execution_count": 65,
     "metadata": {},
     "output_type": "execute_result"
    },
    {
     "data": {
      "image/png": "[encoded data removed]",
      "text/plain": [
       "<Figure size 432x288 with 1 Axes>"
      ]
     },
     "metadata": {
      "needs_background": "light"
     },
     "output_type": "display_data"
    }
   ],
   "source": [
    "ax = sns.histplot(great_circie_noise_err)\n",
    "ax.axvline(np.average(great_circie_noise_err), color='k', lw=2, label='mean')\n",
    "ax.axvline(np.median(great_circie_noise_err), color='red', ls='--', lw=2, label='median')\n",
    "plt.xlabel('noise error distance [m]')\n",
    "plt.legend()"
   ]
  },
  {
   "cell_type": "code",
   "execution_count": 66,
   "metadata": {},
   "outputs": [
    {
     "data": {
      "text/plain": [
       "<matplotlib.legend.Legend at 0x7ffe246b28b0>"
      ]
     },
     "execution_count": 66,
     "metadata": {},
     "output_type": "execute_result"
    },
    {
     "data": {
      "image/png": "[encoded data removed]",
      "text/plain": [
       "<Figure size 432x288 with 1 Axes>"
      ]
     },
     "metadata": {
      "needs_background": "light"
     },
     "output_type": "display_data"
    }
   ],
   "source": [
    "ax = sns.histplot(great_circie_err)\n",
    "ax.axvline(np.average(great_circie_err), color='k', lw=2, label='mean')\n",
    "ax.axvline(np.median(great_circie_err), color='red', ls='--', lw=2, label='median')\n",
    "plt.xlabel('error distance [m]')\n",
    "plt.legend()"
   ]
  },
  {
   "cell_type": "code",
   "execution_count": 47,
   "metadata": {},
   "outputs": [
    {
     "data": {
      "text/plain": [
       "<matplotlib.legend.Legend at 0x7ffdb42cad30>"
      ]
     },
     "execution_count": 47,
     "metadata": {},
     "output_type": "execute_result"
    },
    {
     "data": {
      "image/png": "[encoded data removed]",
      "text/plain": [
       "<Figure size 432x288 with 1 Axes>"
      ]
     },
     "metadata": {
      "needs_background": "light"
     },
     "output_type": "display_data"
    }
   ],
   "source": [
    "ax = sns.histplot(great_circie_noise_err)\n",
    "ax.axvline(np.average(great_circie_noise_err), color='k', lw=2, label='mean')\n",
    "ax.axvline(np.median(great_circie_noise_err), color='red', ls='--', lw=2, label='median')\n",
    "plt.xlabel('noise error distance [m]')\n",
    "plt.legend()"
   ]
  },
  {
   "cell_type": "code",
   "execution_count": 48,
   "metadata": {},
   "outputs": [
    {
     "data": {
      "text/plain": [
       "<matplotlib.legend.Legend at 0x7ffdc8899e20>"
      ]
     },
     "execution_count": 48,
     "metadata": {},
     "output_type": "execute_result"
    },
    {
     "data": {
      "image/png": "[encoded data removed]",
      "text/plain": [
       "<Figure size 432x288 with 1 Axes>"
      ]
     },
     "metadata": {
      "needs_background": "light"
     },
     "output_type": "display_data"
    }
   ],
   "source": [
    "ax = sns.histplot(great_circie_err)\n",
    "ax.axvline(np.average(great_circie_err), color='k', lw=2, label='mean')\n",
    "ax.axvline(np.median(great_circie_err), color='red', ls='--', lw=2, label='median')\n",
    "plt.xlabel('error distance [m]')\n",
    "plt.legend()"
   ]
  },
  {
   "cell_type": "code",
   "execution_count": 10,
   "metadata": {},
   "outputs": [],
   "source": [
    "noise = np.random.normal(0, 1, size=(1000, 2)) * 0.0001\n",
    "noise[:,0] = noise[:,0] * (x_max - x_min) + x_min\n",
    "noise[:,1] = noise[:,1] * (y_max - y_min) + y_min\n",
    "noise = list(zip(noise[:,0], noise[:,1]))\n",
    "\n",
    "zeros = np.zeros((1000, 2))\n",
    "zeros[:,0] = zeros[:,0] * (x_max - x_min) + x_min\n",
    "zeros[:,1] = zeros[:,1] * (y_max - y_min) + y_min\n",
    "zeros = list(zip(zeros[:,0], zeros[:,1]))"
   ]
  },
  {
   "cell_type": "code",
   "execution_count": 11,
   "metadata": {},
   "outputs": [
    {
     "data": {
      "image/png": "[encoded data removed]",
      "text/plain": [
       "<Figure size 500x500 with 1 Axes>"
      ]
     },
     "metadata": {
      "needs_background": "light"
     },
     "output_type": "display_data"
    }
   ],
   "source": [
    "# augmented noise distribution in meters\n",
    "\n",
    "distances = [great_circle(noise[i], zeros[i]).miles * 1609.34 for i in np.arange(1000)]\n",
    "sns.displot(distances)\n",
    "plt.xlabel('augmented error [m]')\n",
    "plt.show()"
   ]
  },
  {
   "cell_type": "code",
   "execution_count": null,
   "metadata": {},
   "outputs": [],
   "source": []
  }
 ],
 "metadata": {
  "kernelspec": {
   "display_name": "geo_env",
   "language": "python",
   "name": "python3"
  },
  "language_info": {
   "codemirror_mode": {
    "name": "ipython",
    "version": 3
   },
   "file_extension": ".py",
   "mimetype": "text/x-python",
   "name": "python",
   "nbconvert_exporter": "python",
   "pygments_lexer": "ipython3",
   "version": "3.8.3"
  },
  "orig_nbformat": 4,
  "vscode": {
   "interpreter": {
    "hash": "5275a7a5c7ca3fd70a65904e3b242eaffc13bff6b4373249ccb4466ff1d4eda1"
   }
  }
 },
 "nbformat": 4,
 "nbformat_minor": 2
}
