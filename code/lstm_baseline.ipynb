{
 "cells": [
  {
   "cell_type": "code",
   "execution_count": 276,
   "metadata": {},
   "outputs": [],
   "source": [
    "import numpy as np\n",
    "import tensorflow as tf\n",
    "import keras_nlp\n",
    "from tensorflow import keras\n",
    "from keras.models import Model\n",
    "from keras.layers import Concatenate, Dense, LSTM, Input, Embedding, Add, TimeDistributed\n",
    "from tensorflow.keras.callbacks import EarlyStopping\n",
    "import gzip\n",
    "import pandas as pd\n",
    "import pickle\n",
    "import matplotlib.pyplot as plt\n",
    "import seaborn as sns\n",
    "from sklearn.model_selection import train_test_split"
   ]
  },
  {
   "cell_type": "code",
   "execution_count": 180,
   "metadata": {},
   "outputs": [
    {
     "name": "stdout",
     "output_type": "stream",
     "text": [
      "500\n",
      "77\n"
     ]
    },
    {
     "data": {
      "text/html": [
       "<div>\n",
       "<style scoped>\n",
       "    .dataframe tbody tr th:only-of-type {\n",
       "        vertical-align: middle;\n",
       "    }\n",
       "\n",
       "    .dataframe tbody tr th {\n",
       "        vertical-align: top;\n",
       "    }\n",
       "\n",
       "    .dataframe thead th {\n",
       "        text-align: right;\n",
       "    }\n",
       "</style>\n",
       "<table border=\"1\" class=\"dataframe\">\n",
       "  <thead>\n",
       "    <tr style=\"text-align: right;\">\n",
       "      <th></th>\n",
       "      <th>y</th>\n",
       "      <th>x</th>\n",
       "      <th>y_norm</th>\n",
       "      <th>x_norm</th>\n",
       "      <th>y_norm_noise</th>\n",
       "      <th>x_norm_noise</th>\n",
       "    </tr>\n",
       "  </thead>\n",
       "  <tbody>\n",
       "    <tr>\n",
       "      <th>43567</th>\n",
       "      <td>42.246179</td>\n",
       "      <td>-83.563086</td>\n",
       "      <td>0.786530</td>\n",
       "      <td>0.206384</td>\n",
       "      <td>0.795350</td>\n",
       "      <td>0.203490</td>\n",
       "    </tr>\n",
       "    <tr>\n",
       "      <th>43617</th>\n",
       "      <td>42.246167</td>\n",
       "      <td>-83.563112</td>\n",
       "      <td>0.785304</td>\n",
       "      <td>0.204631</td>\n",
       "      <td>0.787305</td>\n",
       "      <td>0.203073</td>\n",
       "    </tr>\n",
       "    <tr>\n",
       "      <th>43667</th>\n",
       "      <td>42.246155</td>\n",
       "      <td>-83.563137</td>\n",
       "      <td>0.784089</td>\n",
       "      <td>0.202890</td>\n",
       "      <td>0.788982</td>\n",
       "      <td>0.203170</td>\n",
       "    </tr>\n",
       "    <tr>\n",
       "      <th>43717</th>\n",
       "      <td>42.246143</td>\n",
       "      <td>-83.563163</td>\n",
       "      <td>0.782877</td>\n",
       "      <td>0.201164</td>\n",
       "      <td>0.794082</td>\n",
       "      <td>0.195338</td>\n",
       "    </tr>\n",
       "    <tr>\n",
       "      <th>43767</th>\n",
       "      <td>42.246131</td>\n",
       "      <td>-83.563188</td>\n",
       "      <td>0.781676</td>\n",
       "      <td>0.199454</td>\n",
       "      <td>0.791014</td>\n",
       "      <td>0.203958</td>\n",
       "    </tr>\n",
       "  </tbody>\n",
       "</table>\n",
       "</div>"
      ],
      "text/plain": [
       "               y          x    y_norm    x_norm  y_norm_noise  x_norm_noise\n",
       "43567  42.246179 -83.563086  0.786530  0.206384      0.795350      0.203490\n",
       "43617  42.246167 -83.563112  0.785304  0.204631      0.787305      0.203073\n",
       "43667  42.246155 -83.563137  0.784089  0.202890      0.788982      0.203170\n",
       "43717  42.246143 -83.563163  0.782877  0.201164      0.794082      0.195338\n",
       "43767  42.246131 -83.563188  0.781676  0.199454      0.791014      0.203958"
      ]
     },
     "execution_count": 180,
     "metadata": {},
     "output_type": "execute_result"
    }
   ],
   "source": [
    "# data loading\n",
    "\n",
    "with gzip.open('../data/segment_with_noise/ll_seg_gps_500_noise.pkl.gzip', 'rb') as f:\n",
    "    ll_seg_gps_noise = pickle.load(f)\n",
    "with gzip.open('../data/segment_with_noise/rl_seg_gps_500_noise.pkl.gzip', 'rb') as f:\n",
    "    rl_seg_gps_noise = pickle.load(f)\n",
    "\n",
    "with gzip.open('../data/segment_groud_truth/rl_seg_gps_gt_500.pkl.gzip', 'rb') as f:\n",
    "    ll_seg_gps_gt = pickle.load(f)\n",
    "with gzip.open('../data/segment_groud_truth/ll_seg_gps_gt_500.pkl.gzip', 'rb') as f:\n",
    "    rl_seg_gps_gt = pickle.load(f)\n",
    "\n",
    "print(len(ll_seg_gps_noise))\n",
    "print(ll_seg_gps_noise[0].shape[0])\n",
    "ll_seg_gps_noise[0].head()"
   ]
  },
  {
   "cell_type": "code",
   "execution_count": 192,
   "metadata": {},
   "outputs": [
    {
     "data": {
      "text/plain": [
       "array([0.79535004, 0.20348973])"
      ]
     },
     "execution_count": 192,
     "metadata": {},
     "output_type": "execute_result"
    }
   ],
   "source": [
    "ll_seg_gps_noise[0][['y_norm_noise', 'x_norm_noise']].values[0]"
   ]
  },
  {
   "cell_type": "code",
   "execution_count": 234,
   "metadata": {},
   "outputs": [],
   "source": [
    "x_ll = [] # sampled noisy GPS, list of lists of tuples\n",
    "# y_gps_ll = [] # sampled noisy GPS, list of lists of tuples\n",
    "y_ll = [] # unsampled groud truth GPS, list of lists of tuples\n",
    "\n",
    "for df in ll_seg_gps_noise:\n",
    "    x_ll.append(df[['y_norm_noise', 'x_norm_noise']].values)\n",
    "    # y_gps_ll.append(df[['y_norm', 'x_norm']].values)\n",
    "    # y_ll.append(list(df[['y_norm', 'x_norm']].itertuples(index=False, name=None)))\n",
    "\n",
    "for df in ll_seg_gps_gt:\n",
    "    y_ll.append(df[['y_norm', 'x_norm']].values)\n",
    "    # y_ll.append(list(df[['y_norm', 'x_norm']].itertuples(index=False, name=None)))"
   ]
  },
  {
   "cell_type": "code",
   "execution_count": 235,
   "metadata": {},
   "outputs": [
    {
     "data": {
      "text/plain": [
       "(500, 77)"
      ]
     },
     "execution_count": 235,
     "metadata": {},
     "output_type": "execute_result"
    }
   ],
   "source": [
    "# 500 segment samples with length 77\n",
    "len(x_ll), len(x_ll[0])"
   ]
  },
  {
   "cell_type": "code",
   "execution_count": 236,
   "metadata": {},
   "outputs": [
    {
     "data": {
      "text/plain": [
       "(77, 77)"
      ]
     },
     "execution_count": 236,
     "metadata": {},
     "output_type": "execute_result"
    }
   ],
   "source": [
    "len(x_ll[0]), len(x_ll[2])"
   ]
  },
  {
   "cell_type": "code",
   "execution_count": 237,
   "metadata": {},
   "outputs": [
    {
     "data": {
      "text/plain": [
       "(500, 3822)"
      ]
     },
     "execution_count": 237,
     "metadata": {},
     "output_type": "execute_result"
    }
   ],
   "source": [
    "# 500 segment samples with length 3822\n",
    "len(y_ll), len(y_ll[0])"
   ]
  },
  {
   "cell_type": "code",
   "execution_count": 238,
   "metadata": {},
   "outputs": [
    {
     "data": {
      "text/plain": [
       "array([[[0.1],\n",
       "        [0.2],\n",
       "        [0.3]]])"
      ]
     },
     "execution_count": 238,
     "metadata": {},
     "output_type": "execute_result"
    }
   ],
   "source": [
    "np.array([0.1, 0.2, 0.3]).reshape((1,3,1))"
   ]
  },
  {
   "cell_type": "markdown",
   "metadata": {},
   "source": [
    "## model 1: LSTM based seq2seq model"
   ]
  },
  {
   "cell_type": "code",
   "execution_count": 246,
   "metadata": {},
   "outputs": [
    {
     "data": {
      "image/png": "[encoded data removed]",
      "text/plain": [
       "<Figure size 432x288 with 2 Axes>"
      ]
     },
     "metadata": {
      "needs_background": "light"
     },
     "output_type": "display_data"
    }
   ],
   "source": [
    "x_count = []\n",
    "y_count = []\n",
    "\n",
    "for x_seg in x_ll:\n",
    "    x_count.append(len(x_seg))\n",
    "for y_seg in y_ll:\n",
    "    y_count.append(len(y_seg))\n",
    "\n",
    "graph_df = pd.DataFrame() \n",
    "\n",
    "graph_df['sampled_noisy_gps'] = x_count\n",
    "graph_df['ground_truth_gps'] = y_count\n",
    "\n",
    "graph_df.hist(bins = 10)\n",
    "plt.xlabel('pairs of coordinates')\n",
    "plt.show()"
   ]
  },
  {
   "cell_type": "code",
   "execution_count": 240,
   "metadata": {},
   "outputs": [
    {
     "data": {
      "text/plain": [
       "(3822, 77)"
      ]
     },
     "execution_count": 240,
     "metadata": {},
     "output_type": "execute_result"
    }
   ],
   "source": [
    "# selecting max_y_len and max_x_len\n",
    "max_x_len = max([len(x_seg) for x_seg in x_ll])\n",
    "max_y_len = max([len(y_seg) for y_seg in y_ll])\n",
    "\n",
    "max_y_len, max_x_len"
   ]
  },
  {
   "cell_type": "code",
   "execution_count": 302,
   "metadata": {},
   "outputs": [
    {
     "name": "stdout",
     "output_type": "stream",
     "text": [
      "(450, 77) (50, 77)\n"
     ]
    },
    {
     "data": {
      "text/plain": [
       "array([[ 0,  1,  2, ..., 74, 75, 76],\n",
       "       [ 0,  1,  2, ..., 74, 75, 76],\n",
       "       [ 0,  1,  2, ..., 74, 75, 76],\n",
       "       ...,\n",
       "       [ 0,  1,  2, ..., 74, 75, 76],\n",
       "       [ 0,  1,  2, ..., 74, 75, 76],\n",
       "       [ 0,  1,  2, ..., 74, 75, 76]])"
      ]
     },
     "execution_count": 302,
     "metadata": {},
     "output_type": "execute_result"
    }
   ],
   "source": [
    "x_temp = np.asarray([np.arange(max_x_len) for i in np.arange(len(x_ll))])\n",
    "y_temp = np.asarray([np.arange(max_y_len) for i in np.arange(len(y_ll))])\n",
    "\n",
    "x_train_temp, x_val_temp = train_test_split(x_temp, test_size=0.1, random_state=0)\n",
    "y_train_temp, y_val_temp = train_test_split(y_temp, test_size=0.1, random_state=0)\n",
    "\n",
    "print(x_train_temp.shape, x_val_temp.shape)\n",
    "x_train_temp"
   ]
  },
  {
   "cell_type": "code",
   "execution_count": 297,
   "metadata": {},
   "outputs": [
    {
     "data": {
      "text/plain": [
       "((450, 77, 2), (50, 77, 2))"
      ]
     },
     "execution_count": 297,
     "metadata": {},
     "output_type": "execute_result"
    }
   ],
   "source": [
    "x_train, x_val, y_train, y_val = train_test_split(\n",
    "    np.asarray(x_ll),\n",
    "    np.asarray(y_ll),\n",
    "    test_size=0.1,\n",
    "    random_state=0,\n",
    "    shuffle=True,\n",
    ")\n",
    "x_train.shape, x_val.shape"
   ]
  },
  {
   "cell_type": "code",
   "execution_count": 212,
   "metadata": {},
   "outputs": [
    {
     "data": {
      "text/plain": [
       "TensorShape([450, 77, 64])"
      ]
     },
     "execution_count": 212,
     "metadata": {},
     "output_type": "execute_result"
    }
   ],
   "source": [
    "# batch, seq_length, embedd_length\n",
    "(Dense(64, )(x_train) + Embedding(max_x_len+1, 64, input_length=max_x_len+1)(x_train_temp)).shape"
   ]
  },
  {
   "cell_type": "code",
   "execution_count": 292,
   "metadata": {},
   "outputs": [],
   "source": [
    "embedding_dim = 64\n",
    "latent_dim = 300"
   ]
  },
  {
   "cell_type": "markdown",
   "metadata": {},
   "source": [
    "### network architecture"
   ]
  },
  {
   "cell_type": "code",
   "execution_count": 317,
   "metadata": {},
   "outputs": [],
   "source": [
    "# assuming all input trajectories have shape 77x2\n",
    "x_train_input = Input(shape=(77,2,))\n",
    "# dense layer of spatial embedding\n",
    "spatial_embedd = Dense(embedding_dim) \n",
    "\n",
    "x_train_temp_input = Input(shape=(77,))\n",
    "# temporal embedding\n",
    "x_temporal_embedd = Embedding(max_x_len+1, embedding_dim, input_length=max_x_len+1, trainable=True) \n",
    "\n",
    "# combining two features to get spatio-temporal feature representation of input trajectory\n",
    "x_h_st = Add()([spatial_embedd(x_train_input), x_temporal_embedd(x_train_temp_input)])\n",
    "\n",
    "# Encoder\n",
    "## Encoder LSTM 1\n",
    "encoder_lstm1 = LSTM(\n",
    "    latent_dim, return_sequences=True,\n",
    "    return_state=True, dropout=0.2,\n",
    "    recurrent_dropout=0.2\n",
    ")\n",
    "(encoder_output1, state_h1, state_c1) = encoder_lstm1(x_h_st)\n",
    "\n",
    "## Encoder LSTM 2\n",
    "encoder_lstm2 = LSTM(latent_dim, return_sequences=True,\n",
    "                     return_state=True, dropout=0.2,\n",
    "                     recurrent_dropout=0.2)\n",
    "(encoder_output2, state_h2, state_c2) = encoder_lstm2(encoder_output1)\n",
    "\n",
    "## Encoder LSTM 3\n",
    "encoder_lstm3 = LSTM(latent_dim, return_state=True,\n",
    "                     return_sequences=True, dropout=0.2,\n",
    "                     recurrent_dropout=0.2)\n",
    "(encoder_outputs, state_h, state_c) = encoder_lstm3(encoder_output2)\n",
    "\n",
    "\n",
    "# Decoder, assuming all target trajectories have shape 3822x2\n",
    "y_train_input = Input(shape=(3821,2,))\n",
    "spatial_embedd = Dense(embedding_dim)\n",
    "\n",
    "y_train_temp_input = Input(shape=(3821,))\n",
    "y_temporal_embedd = Embedding(max_y_len+1, embedding_dim, input_length=max_y_len+1, trainable=True)\n",
    "\n",
    "y_h_st = Add()([spatial_embedd(y_train_input), y_temporal_embedd(y_train_temp_input)])\n",
    "\n",
    "decoder_lstm = LSTM(latent_dim, return_sequences=True,\n",
    "                    return_state=True, dropout=0.2,\n",
    "                    recurrent_dropout=0.1)\n",
    "\n",
    "(decoder_outputs, decoder_fwd_state, decoder_back_state) = \\\n",
    "    decoder_lstm(y_h_st, initial_state=[state_h, state_c])\n",
    "\n",
    "# Dense layer\n",
    "decoder_dense = TimeDistributed(Dense(2, activation='softmax'))\n",
    "decoder_outputs = decoder_dense(decoder_outputs)\n",
    "\n",
    "model = Model(inputs=[x_train_input, x_train_temp_input, y_train_input, y_train_temp_input], outputs=decoder_outputs)\n",
    "model.compile(loss='categorical_crossentropy', optimizer='adam', metrics=['accuracy'])"
   ]
  },
  {
   "cell_type": "code",
   "execution_count": 318,
   "metadata": {},
   "outputs": [
    {
     "name": "stdout",
     "output_type": "stream",
     "text": [
      "Model: \"model_15\"\n",
      "__________________________________________________________________________________________________\n",
      " Layer (type)                   Output Shape         Param #     Connected to                     \n",
      "==================================================================================================\n",
      " input_65 (InputLayer)          [(None, 77, 2)]      0           []                               \n",
      "                                                                                                  \n",
      " input_66 (InputLayer)          [(None, 77)]         0           []                               \n",
      "                                                                                                  \n",
      " dense_61 (Dense)               (None, 77, 64)       192         ['input_65[0][0]']               \n",
      "                                                                                                  \n",
      " embedding_42 (Embedding)       (None, 77, 64)       4992        ['input_66[0][0]']               \n",
      "                                                                                                  \n",
      " add_27 (Add)                   (None, 77, 64)       0           ['dense_61[0][0]',               \n",
      "                                                                  'embedding_42[0][0]']           \n",
      "                                                                                                  \n",
      " input_67 (InputLayer)          [(None, 3821, 2)]    0           []                               \n",
      "                                                                                                  \n",
      " input_68 (InputLayer)          [(None, 3821)]       0           []                               \n",
      "                                                                                                  \n",
      " lstm_32 (LSTM)                 [(None, 77, 300),    438000      ['add_27[0][0]']                 \n",
      "                                 (None, 300),                                                     \n",
      "                                 (None, 300)]                                                     \n",
      "                                                                                                  \n",
      " dense_62 (Dense)               (None, 3821, 64)     192         ['input_67[0][0]']               \n",
      "                                                                                                  \n",
      " embedding_43 (Embedding)       (None, 3821, 64)     244672      ['input_68[0][0]']               \n",
      "                                                                                                  \n",
      " lstm_33 (LSTM)                 [(None, 77, 300),    721200      ['lstm_32[0][0]']                \n",
      "                                 (None, 300),                                                     \n",
      "                                 (None, 300)]                                                     \n",
      "                                                                                                  \n",
      " add_28 (Add)                   (None, 3821, 64)     0           ['dense_62[0][0]',               \n",
      "                                                                  'embedding_43[0][0]']           \n",
      "                                                                                                  \n",
      " lstm_34 (LSTM)                 [(None, 77, 300),    721200      ['lstm_33[0][0]']                \n",
      "                                 (None, 300),                                                     \n",
      "                                 (None, 300)]                                                     \n",
      "                                                                                                  \n",
      " lstm_35 (LSTM)                 [(None, 3821, 300),  438000      ['add_28[0][0]',                 \n",
      "                                 (None, 300),                     'lstm_34[0][1]',                \n",
      "                                 (None, 300)]                     'lstm_34[0][2]']                \n",
      "                                                                                                  \n",
      " time_distributed_8 (TimeDistri  (None, 3821, 2)     602         ['lstm_35[0][0]']                \n",
      " buted)                                                                                           \n",
      "                                                                                                  \n",
      "==================================================================================================\n",
      "Total params: 2,569,050\n",
      "Trainable params: 2,569,050\n",
      "Non-trainable params: 0\n",
      "__________________________________________________________________________________________________\n",
      "None\n"
     ]
    }
   ],
   "source": [
    "print(model.summary())"
   ]
  },
  {
   "cell_type": "code",
   "execution_count": 322,
   "metadata": {},
   "outputs": [
    {
     "name": "stdout",
     "output_type": "stream",
     "text": [
      "Epoch 1/100\n",
      "13/13 [==============================] - 97s 7s/step - loss: 0.5902 - accuracy: 0.9706 - val_loss: 0.6302 - val_accuracy: 0.9810\n",
      "Epoch 2/100\n",
      "13/13 [==============================] - 98s 8s/step - loss: 0.5872 - accuracy: 0.9859 - val_loss: 0.6294 - val_accuracy: 0.9967\n",
      "Epoch 3/100\n",
      "13/13 [==============================] - 96s 7s/step - loss: 0.5904 - accuracy: 0.9861 - val_loss: 0.6328 - val_accuracy: 0.9674\n",
      "Epoch 4/100\n",
      "13/13 [==============================] - 96s 7s/step - loss: 0.5891 - accuracy: 0.9757 - val_loss: 0.6304 - val_accuracy: 0.9646\n",
      "Epoch 5/100\n",
      "13/13 [==============================] - 97s 7s/step - loss: 0.5867 - accuracy: 0.9756 - val_loss: 0.6286 - val_accuracy: 0.9906\n",
      "Epoch 6/100\n",
      "13/13 [==============================] - 94s 7s/step - loss: 0.5855 - accuracy: 0.9902 - val_loss: 0.6292 - val_accuracy: 0.9957\n",
      "Epoch 7/100\n",
      "13/13 [==============================] - 95s 7s/step - loss: 0.5857 - accuracy: 0.9908 - val_loss: 0.6288 - val_accuracy: 0.9958\n",
      "Epoch 8/100\n",
      "13/13 [==============================] - 94s 7s/step - loss: 0.5853 - accuracy: 0.9896 - val_loss: 0.6281 - val_accuracy: 0.9947\n",
      "Epoch 9/100\n",
      "13/13 [==============================] - 94s 7s/step - loss: 0.5852 - accuracy: 0.9911 - val_loss: 0.6286 - val_accuracy: 0.9942\n",
      "Epoch 10/100\n",
      "13/13 [==============================] - 94s 7s/step - loss: 0.5855 - accuracy: 0.9897 - val_loss: 0.6291 - val_accuracy: 0.9881\n",
      "Epoch 11/100\n",
      "13/13 [==============================] - 91s 7s/step - loss: 0.5854 - accuracy: 0.9914 - val_loss: 0.6282 - val_accuracy: 0.9945\n",
      "Epoch 12/100\n",
      "13/13 [==============================] - 98s 8s/step - loss: 0.5850 - accuracy: 0.9910 - val_loss: 0.6286 - val_accuracy: 0.9922\n",
      "Epoch 13/100\n",
      "13/13 [==============================] - 95s 7s/step - loss: 0.5849 - accuracy: 0.9914 - val_loss: 0.6280 - val_accuracy: 0.9982\n",
      "Epoch 14/100\n",
      "13/13 [==============================] - 96s 7s/step - loss: 0.5848 - accuracy: 0.9924 - val_loss: 0.6280 - val_accuracy: 0.9970\n",
      "Epoch 15/100\n",
      "13/13 [==============================] - 93s 7s/step - loss: 0.5848 - accuracy: 0.9921 - val_loss: 0.6280 - val_accuracy: 0.9985\n",
      "Epoch 16/100\n",
      "13/13 [==============================] - 90s 7s/step - loss: 0.5850 - accuracy: 0.9924 - val_loss: 0.6285 - val_accuracy: 0.9921\n",
      "Epoch 17/100\n",
      "13/13 [==============================] - 90s 7s/step - loss: 0.5854 - accuracy: 0.9912 - val_loss: 0.6288 - val_accuracy: 0.9940\n",
      "Epoch 18/100\n",
      "13/13 [==============================] - 90s 7s/step - loss: 0.5856 - accuracy: 0.9849 - val_loss: 0.6282 - val_accuracy: 0.9960\n",
      "Epoch 18: early stopping\n"
     ]
    }
   ],
   "source": [
    "# runtime ~= 50min es at epoch = 28\n",
    "\n",
    "x_train = np.asarray(x_ll)\n",
    "y_train = np.asarray(y_ll)\n",
    "\n",
    "es = EarlyStopping(monitor='val_loss', mode='min', verbose=1, patience=5)\n",
    "\n",
    "history = model.fit(\n",
    "    [x_train, x_train_temp, y_train[:, :-1], y_train_temp[:, :-1]], y_train.reshape(y_train.shape[0], y_train.shape[1], 2)[:, 1:],\n",
    "    # validation_data=[[x_val, x_val_temp, y_val, y_val_temp]],\n",
    "    validation_split=0.2,\n",
    "    batch_size=32, epochs=100, verbose='auto', callbacks=[es]\n",
    ")"
   ]
  },
  {
   "cell_type": "code",
   "execution_count": 323,
   "metadata": {},
   "outputs": [
    {
     "data": {
      "image/png": "[encoded data removed]",
      "text/plain": [
       "<Figure size 432x288 with 1 Axes>"
      ]
     },
     "metadata": {
      "needs_background": "light"
     },
     "output_type": "display_data"
    }
   ],
   "source": [
    "plt.plot(history.history['loss'], label='train')\n",
    "plt.plot(history.history['val_loss'], label='validation')\n",
    "plt.xlabel('epochs')\n",
    "plt.ylabel('loss')\n",
    "plt.legend()\n",
    "plt.show()"
   ]
  },
  {
   "cell_type": "code",
   "execution_count": 325,
   "metadata": {},
   "outputs": [
    {
     "data": {
      "image/png": "[encoded data removed]",
      "text/plain": [
       "<Figure size 432x288 with 1 Axes>"
      ]
     },
     "metadata": {
      "needs_background": "light"
     },
     "output_type": "display_data"
    }
   ],
   "source": [
    "plt.plot(history.history['accuracy'], label='train')\n",
    "plt.plot(history.history['val_accuracy'], label='validation')\n",
    "plt.xlabel('epochs')\n",
    "plt.ylabel('accuracy')\n",
    "plt.legend()\n",
    "plt.show()"
   ]
  },
  {
   "cell_type": "code",
   "execution_count": null,
   "metadata": {},
   "outputs": [
    {
     "name": "stdout",
     "output_type": "stream",
     "text": [
      "INFO:tensorflow:Assets written to: ../models/v1/assets\n"
     ]
    },
    {
     "name": "stderr",
     "output_type": "stream",
     "text": [
      "WARNING:absl:<keras.layers.recurrent.LSTMCell object at 0x7fea207317f0> has the same name 'LSTMCell' as a built-in Keras object. Consider renaming <class 'keras.layers.recurrent.LSTMCell'> to avoid naming conflicts when loading with `tf.keras.models.load_model`. If renaming is not possible, pass the object in the `custom_objects` parameter of the load function.\n",
      "WARNING:absl:<keras.layers.recurrent.LSTMCell object at 0x7fea2571f3d0> has the same name 'LSTMCell' as a built-in Keras object. Consider renaming <class 'keras.layers.recurrent.LSTMCell'> to avoid naming conflicts when loading with `tf.keras.models.load_model`. If renaming is not possible, pass the object in the `custom_objects` parameter of the load function.\n",
      "WARNING:absl:<keras.layers.recurrent.LSTMCell object at 0x7fea256ea3a0> has the same name 'LSTMCell' as a built-in Keras object. Consider renaming <class 'keras.layers.recurrent.LSTMCell'> to avoid naming conflicts when loading with `tf.keras.models.load_model`. If renaming is not possible, pass the object in the `custom_objects` parameter of the load function.\n",
      "WARNING:absl:<keras.layers.recurrent.LSTMCell object at 0x7fea0457d4c0> has the same name 'LSTMCell' as a built-in Keras object. Consider renaming <class 'keras.layers.recurrent.LSTMCell'> to avoid naming conflicts when loading with `tf.keras.models.load_model`. If renaming is not possible, pass the object in the `custom_objects` parameter of the load function.\n"
     ]
    }
   ],
   "source": [
    "model.save('../models/v1')\n",
    "model = keras.models.load_model('../models/v1')"
   ]
  }
 ],
 "metadata": {
  "kernelspec": {
   "display_name": "Python 3.8.3 ('geo_env')",
   "language": "python",
   "name": "python3"
  },
  "language_info": {
   "codemirror_mode": {
    "name": "ipython",
    "version": 3
   },
   "file_extension": ".py",
   "mimetype": "text/x-python",
   "name": "python",
   "nbconvert_exporter": "python",
   "pygments_lexer": "ipython3",
   "version": "3.8.3"
  },
  "orig_nbformat": 4,
  "vscode": {
   "interpreter": {
    "hash": "5275a7a5c7ca3fd70a65904e3b242eaffc13bff6b4373249ccb4466ff1d4eda1"
   }
  }
 },
 "nbformat": 4,
 "nbformat_minor": 2
}
