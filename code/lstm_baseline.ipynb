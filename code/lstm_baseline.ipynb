{
 "cells": [
  {
   "cell_type": "code",
   "execution_count": 276,
   "metadata": {},
   "outputs": [],
   "source": [
    "import numpy as np\n",
    "import tensorflow as tf\n",
    "import keras_nlp\n",
    "from tensorflow import keras\n",
    "from keras.models import Model\n",
    "from keras.layers import Concatenate, Dense, LSTM, Input, Embedding, Add, TimeDistributed\n",
    "from tensorflow.keras.callbacks import EarlyStopping\n",
    "import gzip\n",
    "import pandas as pd\n",
    "import pickle\n",
    "import matplotlib.pyplot as plt\n",
    "import seaborn as sns\n",
    "from sklearn.model_selection import train_test_split"
   ]
  },
  {
   "cell_type": "code",
   "execution_count": 180,
   "metadata": {},
   "outputs": [
    {
     "name": "stdout",
     "output_type": "stream",
     "text": [
      "500\n",
      "77\n"
     ]
    },
    {
     "data": {
      "text/html": [
       "<div>\n",
       "<style scoped>\n",
       "    .dataframe tbody tr th:only-of-type {\n",
       "        vertical-align: middle;\n",
       "    }\n",
       "\n",
       "    .dataframe tbody tr th {\n",
       "        vertical-align: top;\n",
       "    }\n",
       "\n",
       "    .dataframe thead th {\n",
       "        text-align: right;\n",
       "    }\n",
       "</style>\n",
       "<table border=\"1\" class=\"dataframe\">\n",
       "  <thead>\n",
       "    <tr style=\"text-align: right;\">\n",
       "      <th></th>\n",
       "      <th>y</th>\n",
       "      <th>x</th>\n",
       "      <th>y_norm</th>\n",
       "      <th>x_norm</th>\n",
       "      <th>y_norm_noise</th>\n",
       "      <th>x_norm_noise</th>\n",
       "    </tr>\n",
       "  </thead>\n",
       "  <tbody>\n",
       "    <tr>\n",
       "      <th>43567</th>\n",
       "      <td>42.246179</td>\n",
       "      <td>-83.563086</td>\n",
       "      <td>0.786530</td>\n",
       "      <td>0.206384</td>\n",
       "      <td>0.795350</td>\n",
       "      <td>0.203490</td>\n",
       "    </tr>\n",
       "    <tr>\n",
       "      <th>43617</th>\n",
       "      <td>42.246167</td>\n",
       "      <td>-83.563112</td>\n",
       "      <td>0.785304</td>\n",
       "      <td>0.204631</td>\n",
       "      <td>0.787305</td>\n",
       "      <td>0.203073</td>\n",
       "    </tr>\n",
       "    <tr>\n",
       "      <th>43667</th>\n",
       "      <td>42.246155</td>\n",
       "      <td>-83.563137</td>\n",
       "      <td>0.784089</td>\n",
       "      <td>0.202890</td>\n",
       "      <td>0.788982</td>\n",
       "      <td>0.203170</td>\n",
       "    </tr>\n",
       "    <tr>\n",
       "      <th>43717</th>\n",
       "      <td>42.246143</td>\n",
       "      <td>-83.563163</td>\n",
       "      <td>0.782877</td>\n",
       "      <td>0.201164</td>\n",
       "      <td>0.794082</td>\n",
       "      <td>0.195338</td>\n",
       "    </tr>\n",
       "    <tr>\n",
       "      <th>43767</th>\n",
       "      <td>42.246131</td>\n",
       "      <td>-83.563188</td>\n",
       "      <td>0.781676</td>\n",
       "      <td>0.199454</td>\n",
       "      <td>0.791014</td>\n",
       "      <td>0.203958</td>\n",
       "    </tr>\n",
       "  </tbody>\n",
       "</table>\n",
       "</div>"
      ],
      "text/plain": [
       "               y          x    y_norm    x_norm  y_norm_noise  x_norm_noise\n",
       "43567  42.246179 -83.563086  0.786530  0.206384      0.795350      0.203490\n",
       "43617  42.246167 -83.563112  0.785304  0.204631      0.787305      0.203073\n",
       "43667  42.246155 -83.563137  0.784089  0.202890      0.788982      0.203170\n",
       "43717  42.246143 -83.563163  0.782877  0.201164      0.794082      0.195338\n",
       "43767  42.246131 -83.563188  0.781676  0.199454      0.791014      0.203958"
      ]
     },
     "execution_count": 180,
     "metadata": {},
     "output_type": "execute_result"
    }
   ],
   "source": [
    "# data loading\n",
    "\n",
    "with gzip.open('../data/segment_with_noise/ll_seg_gps_500_noise.pkl.gzip', 'rb') as f:\n",
    "    ll_seg_gps_noise = pickle.load(f)\n",
    "with gzip.open('../data/segment_with_noise/rl_seg_gps_500_noise.pkl.gzip', 'rb') as f:\n",
    "    rl_seg_gps_noise = pickle.load(f)\n",
    "\n",
    "with gzip.open('../data/segment_groud_truth/rl_seg_gps_gt_500.pkl.gzip', 'rb') as f:\n",
    "    ll_seg_gps_gt = pickle.load(f)\n",
    "with gzip.open('../data/segment_groud_truth/ll_seg_gps_gt_500.pkl.gzip', 'rb') as f:\n",
    "    rl_seg_gps_gt = pickle.load(f)\n",
    "\n",
    "print(len(ll_seg_gps_noise))\n",
    "print(ll_seg_gps_noise[0].shape[0])\n",
    "ll_seg_gps_noise[0].head()"
   ]
  },
  {
   "cell_type": "code",
   "execution_count": 192,
   "metadata": {},
   "outputs": [
    {
     "data": {
      "text/plain": [
       "array([0.79535004, 0.20348973])"
      ]
     },
     "execution_count": 192,
     "metadata": {},
     "output_type": "execute_result"
    }
   ],
   "source": [
    "ll_seg_gps_noise[0][['y_norm_noise', 'x_norm_noise']].values[0]"
   ]
  },
  {
   "cell_type": "code",
   "execution_count": 234,
   "metadata": {},
   "outputs": [],
   "source": [
    "x_ll = [] # sampled noisy GPS, list of lists of tuples\n",
    "# y_gps_ll = [] # sampled noisy GPS, list of lists of tuples\n",
    "y_ll = [] # unsampled groud truth GPS, list of lists of tuples\n",
    "\n",
    "for df in ll_seg_gps_noise:\n",
    "    x_ll.append(df[['y_norm_noise', 'x_norm_noise']].values)\n",
    "    # y_gps_ll.append(df[['y_norm', 'x_norm']].values)\n",
    "    # y_ll.append(list(df[['y_norm', 'x_norm']].itertuples(index=False, name=None)))\n",
    "\n",
    "for df in ll_seg_gps_gt:\n",
    "    y_ll.append(df[['y_norm', 'x_norm']].values)\n",
    "    # y_ll.append(list(df[['y_norm', 'x_norm']].itertuples(index=False, name=None)))"
   ]
  },
  {
   "cell_type": "code",
   "execution_count": 235,
   "metadata": {},
   "outputs": [
    {
     "data": {
      "text/plain": [
       "(500, 77)"
      ]
     },
     "execution_count": 235,
     "metadata": {},
     "output_type": "execute_result"
    }
   ],
   "source": [
    "# 500 segment samples with length 77\n",
    "len(x_ll), len(x_ll[0])"
   ]
  },
  {
   "cell_type": "code",
   "execution_count": 236,
   "metadata": {},
   "outputs": [
    {
     "data": {
      "text/plain": [
       "(77, 77)"
      ]
     },
     "execution_count": 236,
     "metadata": {},
     "output_type": "execute_result"
    }
   ],
   "source": [
    "len(x_ll[0]), len(x_ll[2])"
   ]
  },
  {
   "cell_type": "code",
   "execution_count": 237,
   "metadata": {},
   "outputs": [
    {
     "data": {
      "text/plain": [
       "(500, 3822)"
      ]
     },
     "execution_count": 237,
     "metadata": {},
     "output_type": "execute_result"
    }
   ],
   "source": [
    "# 500 segment samples with length 3822\n",
    "len(y_ll), len(y_ll[0])"
   ]
  },
  {
   "cell_type": "code",
   "execution_count": 238,
   "metadata": {},
   "outputs": [
    {
     "data": {
      "text/plain": [
       "array([[[0.1],\n",
       "        [0.2],\n",
       "        [0.3]]])"
      ]
     },
     "execution_count": 238,
     "metadata": {},
     "output_type": "execute_result"
    }
   ],
   "source": [
    "np.array([0.1, 0.2, 0.3]).reshape((1,3,1))"
   ]
  },
  {
   "cell_type": "markdown",
   "metadata": {},
   "source": [
    "## model 1: LSTM based seq2seq model"
   ]
  },
  {
   "cell_type": "code",
   "execution_count": 246,
   "metadata": {},
   "outputs": [
    {
     "data": {
      "image/png": "[encoded data removed]",
      "text/plain": [
       "<Figure size 432x288 with 2 Axes>"
      ]
     },
     "metadata": {
      "needs_background": "light"
     },
     "output_type": "display_data"
    }
   ],
   "source": [
    "x_count = []\n",
    "y_count = []\n",
    "\n",
    "for x_seg in x_ll:\n",
    "    x_count.append(len(x_seg))\n",
    "for y_seg in y_ll:\n",
    "    y_count.append(len(y_seg))\n",
    "\n",
    "graph_df = pd.DataFrame() \n",
    "\n",
    "graph_df['sampled_noisy_gps'] = x_count\n",
    "graph_df['ground_truth_gps'] = y_count\n",
    "\n",
    "graph_df.hist(bins = 10)\n",
    "plt.xlabel('pairs of coordinates')\n",
    "plt.show()"
   ]
  },
  {
   "cell_type": "code",
   "execution_count": 240,
   "metadata": {},
   "outputs": [
    {
     "data": {
      "text/plain": [
       "(3822, 77)"
      ]
     },
     "execution_count": 240,
     "metadata": {},
     "output_type": "execute_result"
    }
   ],
   "source": [
    "# selecting max_y_len and max_x_len\n",
    "max_y_len = max([len(y_seg) for y_seg in y_ll])\n",
    "max_x_len = max([len(x_seg) for x_seg in x_ll])\n",
    "\n",
    "max_y_len, max_x_len"
   ]
  },
  {
   "cell_type": "code",
   "execution_count": 266,
   "metadata": {},
   "outputs": [],
   "source": [
    "x_train1, x_val1, y_train1, y_val1 = train_test_split(\n",
    "    np.asarray(x_ll),\n",
    "    np.asarray(y_ll),\n",
    "    test_size=0.1,\n",
    "    random_state=0,\n",
    "    shuffle=True,\n",
    ")"
   ]
  },
  {
   "cell_type": "code",
   "execution_count": 268,
   "metadata": {},
   "outputs": [
    {
     "name": "stdout",
     "output_type": "stream",
     "text": [
      "(450, 77) (450, 3822)\n"
     ]
    },
    {
     "data": {
      "text/plain": [
       "array([[ 0,  1,  2, ..., 74, 75, 76],\n",
       "       [ 0,  1,  2, ..., 74, 75, 76],\n",
       "       [ 0,  1,  2, ..., 74, 75, 76],\n",
       "       ...,\n",
       "       [ 0,  1,  2, ..., 74, 75, 76],\n",
       "       [ 0,  1,  2, ..., 74, 75, 76],\n",
       "       [ 0,  1,  2, ..., 74, 75, 76]])"
      ]
     },
     "execution_count": 268,
     "metadata": {},
     "output_type": "execute_result"
    }
   ],
   "source": [
    "x_train_temp1 = np.asarray([np.arange(max_x_len) for i in np.arange(x_train1.shape[0])])\n",
    "y_train_temp1 = np.asarray([np.arange(max_y_len) for i in np.arange(y_train1.shape[0])])\n",
    "\n",
    "print(x_train_temp1.shape, y_train_temp1.shape)\n",
    "x_train_temp1"
   ]
  },
  {
   "cell_type": "code",
   "execution_count": 213,
   "metadata": {},
   "outputs": [
    {
     "data": {
      "text/plain": [
       "((450, 77, 2), (450, 77))"
      ]
     },
     "execution_count": 213,
     "metadata": {},
     "output_type": "execute_result"
    }
   ],
   "source": [
    "x_train.shape, x_train_temp.shape"
   ]
  },
  {
   "cell_type": "code",
   "execution_count": 212,
   "metadata": {},
   "outputs": [
    {
     "data": {
      "text/plain": [
       "TensorShape([450, 77, 64])"
      ]
     },
     "execution_count": 212,
     "metadata": {},
     "output_type": "execute_result"
    }
   ],
   "source": [
    "# batch, seq_length, embedd_length\n",
    "(Dense(64, )(x_train) + Embedding(max_x_len+1, 64, input_length=max_x_len+1)(x_train_temp)).shape"
   ]
  },
  {
   "cell_type": "code",
   "execution_count": 245,
   "metadata": {},
   "outputs": [],
   "source": [
    "embedding_dim = 64\n",
    "latent_dim = 300"
   ]
  },
  {
   "cell_type": "code",
   "execution_count": 267,
   "metadata": {},
   "outputs": [],
   "source": [
    "x_train = Input(shape=(77,2,))\n",
    "x_h_spat = Dense(embedding_dim)(x_train)\n",
    "\n",
    "x_train_temp = Input(shape=(77,))\n",
    "x_h_temp = Embedding(max_x_len+1, embedding_dim, input_length=max_x_len+1, trainable=True)(x_train_temp)\n",
    "\n",
    "h_st = Add()([x_h_spat, x_h_temp])\n",
    "\n",
    "# Encoder\n",
    "## Encoder LSTM 1\n",
    "encoder_lstm1 = LSTM(latent_dim, return_sequences=True,\n",
    "                     return_state=True, dropout=0.2,\n",
    "                     recurrent_dropout=0.2)\n",
    "(encoder_output1, state_h1, state_c1) = encoder_lstm1(h_st)\n",
    "\n",
    "## Encoder LSTM 2\n",
    "encoder_lstm2 = LSTM(latent_dim, return_sequences=True,\n",
    "                     return_state=True, dropout=0.2,\n",
    "                     recurrent_dropout=0.2)\n",
    "(encoder_output2, state_h2, state_c2) = encoder_lstm2(encoder_output1)\n",
    "\n",
    "## Encoder LSTM 3\n",
    "encoder_lstm3 = LSTM(latent_dim, return_state=True,\n",
    "                     return_sequences=True, dropout=0.2,\n",
    "                     recurrent_dropout=0.2)\n",
    "(encoder_outputs, state_h, state_c) = encoder_lstm3(encoder_output2)\n",
    "\n",
    "\n",
    "# Decoder\n",
    "y_train = Input(shape=(3822,2,))\n",
    "y_h_spat = Dense(embedding_dim)(y_train)\n",
    "\n",
    "y_train_temp = Input(shape=(3822,))\n",
    "y_h_temp = Embedding(max_y_len+1, embedding_dim, input_length=max_y_len+1, trainable=True)(y_train_temp)\n",
    "\n",
    "h_st = Add()([y_h_spat, y_h_temp])\n",
    "\n",
    "decoder_lstm = LSTM(latent_dim, return_sequences=True,\n",
    "                    return_state=True, dropout=0.2,\n",
    "                    recurrent_dropout=0.1)\n",
    "\n",
    "(decoder_outputs, decoder_fwd_state, decoder_back_state) = \\\n",
    "    decoder_lstm(h_st, initial_state=[state_h, state_c])\n",
    "\n",
    "# Dense layer\n",
    "decoder_dense = TimeDistributed(Dense(2, activation='softmax'))\n",
    "decoder_outputs = decoder_dense(decoder_outputs)\n",
    "\n",
    "model = Model(inputs=[x_train, x_train_temp, y_train, y_train_temp], outputs=decoder_outputs)\n",
    "model.compile(loss='categorical_crossentropy', optimizer='adam', metrics=['accuracy'])"
   ]
  },
  {
   "cell_type": "code",
   "execution_count": 256,
   "metadata": {},
   "outputs": [
    {
     "name": "stdout",
     "output_type": "stream",
     "text": [
      "Model: \"model_9\"\n",
      "__________________________________________________________________________________________________\n",
      " Layer (type)                   Output Shape         Param #     Connected to                     \n",
      "==================================================================================================\n",
      " input_41 (InputLayer)          [(None, 77, 2)]      0           []                               \n",
      "                                                                                                  \n",
      " input_42 (InputLayer)          [(None, 77)]         0           []                               \n",
      "                                                                                                  \n",
      " dense_43 (Dense)               (None, 77, 64)       192         ['input_41[0][0]']               \n",
      "                                                                                                  \n",
      " embedding_30 (Embedding)       (None, 77, 64)       4992        ['input_42[0][0]']               \n",
      "                                                                                                  \n",
      " add_15 (Add)                   (None, 77, 64)       0           ['dense_43[0][0]',               \n",
      "                                                                  'embedding_30[0][0]']           \n",
      "                                                                                                  \n",
      " input_43 (InputLayer)          [(None, 3822, 2)]    0           []                               \n",
      "                                                                                                  \n",
      " input_44 (InputLayer)          [(None, 3822)]       0           []                               \n",
      "                                                                                                  \n",
      " lstm_8 (LSTM)                  [(None, 77, 300),    438000      ['add_15[0][0]']                 \n",
      "                                 (None, 300),                                                     \n",
      "                                 (None, 300)]                                                     \n",
      "                                                                                                  \n",
      " dense_44 (Dense)               (None, 3822, 64)     192         ['input_43[0][0]']               \n",
      "                                                                                                  \n",
      " embedding_31 (Embedding)       (None, 3822, 64)     244672      ['input_44[0][0]']               \n",
      "                                                                                                  \n",
      " lstm_9 (LSTM)                  [(None, 77, 300),    721200      ['lstm_8[0][0]']                 \n",
      "                                 (None, 300),                                                     \n",
      "                                 (None, 300)]                                                     \n",
      "                                                                                                  \n",
      " add_16 (Add)                   (None, 3822, 64)     0           ['dense_44[0][0]',               \n",
      "                                                                  'embedding_31[0][0]']           \n",
      "                                                                                                  \n",
      " lstm_10 (LSTM)                 [(None, 77, 300),    721200      ['lstm_9[0][0]']                 \n",
      "                                 (None, 300),                                                     \n",
      "                                 (None, 300)]                                                     \n",
      "                                                                                                  \n",
      " lstm_11 (LSTM)                 [(None, 3822, 300),  438000      ['add_16[0][0]',                 \n",
      "                                 (None, 300),                     'lstm_10[0][1]',                \n",
      "                                 (None, 300)]                     'lstm_10[0][2]']                \n",
      "                                                                                                  \n",
      " time_distributed_2 (TimeDistri  (None, 3822, 2)     602         ['lstm_11[0][0]']                \n",
      " buted)                                                                                           \n",
      "                                                                                                  \n",
      "==================================================================================================\n",
      "Total params: 2,569,050\n",
      "Trainable params: 2,569,050\n",
      "Non-trainable params: 0\n",
      "__________________________________________________________________________________________________\n",
      "None\n"
     ]
    }
   ],
   "source": [
    "print(model.summary())"
   ]
  },
  {
   "cell_type": "code",
   "execution_count": 262,
   "metadata": {},
   "outputs": [],
   "source": [
    "a = np.random.randint(100, size=(450, 3822, 2))"
   ]
  },
  {
   "cell_type": "code",
   "execution_count": 278,
   "metadata": {},
   "outputs": [
    {
     "name": "stdout",
     "output_type": "stream",
     "text": [
      "Epoch 1/100\n",
      "15/15 [==============================] - 108s 7s/step - loss: 0.6016 - accuracy: 0.9870\n",
      "Epoch 2/100\n",
      "15/15 [==============================] - 109s 7s/step - loss: 0.5929 - accuracy: 0.9807\n",
      "Epoch 3/100\n",
      "15/15 [==============================] - 108s 7s/step - loss: 0.5808 - accuracy: 0.9698\n",
      "Epoch 4/100\n",
      "15/15 [==============================] - 108s 7s/step - loss: 0.5768 - accuracy: 0.9701\n",
      "Epoch 5/100\n",
      "15/15 [==============================] - 107s 7s/step - loss: 0.5751 - accuracy: 0.9559\n",
      "Epoch 6/100\n",
      "15/15 [==============================] - 106s 7s/step - loss: 0.5723 - accuracy: 0.9639\n",
      "Epoch 7/100\n",
      "15/15 [==============================] - 106s 7s/step - loss: 0.5733 - accuracy: 0.9737\n",
      "Epoch 8/100\n",
      "15/15 [==============================] - 106s 7s/step - loss: 0.5713 - accuracy: 0.9725\n",
      "Epoch 9/100\n",
      "15/15 [==============================] - 106s 7s/step - loss: 0.5714 - accuracy: 0.9781\n",
      "Epoch 10/100\n",
      "15/15 [==============================] - 106s 7s/step - loss: 0.5712 - accuracy: 0.9809\n",
      "Epoch 11/100\n",
      "15/15 [==============================] - 105s 7s/step - loss: 0.5708 - accuracy: 0.9820\n",
      "Epoch 12/100\n",
      "15/15 [==============================] - 103s 7s/step - loss: 0.5697 - accuracy: 0.9858\n",
      "Epoch 13/100\n",
      "15/15 [==============================] - 103s 7s/step - loss: 0.5695 - accuracy: 0.9872\n",
      "Epoch 14/100\n",
      "15/15 [==============================] - 103s 7s/step - loss: 0.5694 - accuracy: 0.9871\n",
      "Epoch 15/100\n",
      "15/15 [==============================] - 102s 7s/step - loss: 0.5695 - accuracy: 0.9886\n",
      "Epoch 16/100\n",
      "15/15 [==============================] - 103s 7s/step - loss: 0.5713 - accuracy: 0.9872\n",
      "Epoch 17/100\n",
      "15/15 [==============================] - 103s 7s/step - loss: 0.5697 - accuracy: 0.9876\n",
      "Epoch 18/100\n",
      "15/15 [==============================] - 103s 7s/step - loss: 0.5694 - accuracy: 0.9907\n",
      "Epoch 19/100\n",
      "15/15 [==============================] - 103s 7s/step - loss: 0.5696 - accuracy: 0.9909\n",
      "Epoch 20/100\n",
      "15/15 [==============================] - 103s 7s/step - loss: 0.5695 - accuracy: 0.9906\n",
      "Epoch 21/100\n",
      "15/15 [==============================] - 103s 7s/step - loss: 0.5698 - accuracy: 0.9907\n",
      "Epoch 22/100\n",
      "15/15 [==============================] - 103s 7s/step - loss: 0.5692 - accuracy: 0.9900\n",
      "Epoch 23/100\n",
      "15/15 [==============================] - 104s 7s/step - loss: 0.5690 - accuracy: 0.9914\n",
      "Epoch 24/100\n",
      "15/15 [==============================] - 102s 7s/step - loss: 0.5716 - accuracy: 0.9902\n",
      "Epoch 25/100\n",
      "15/15 [==============================] - 103s 7s/step - loss: 0.5707 - accuracy: 0.9863\n",
      "Epoch 26/100\n",
      "15/15 [==============================] - 103s 7s/step - loss: 0.5709 - accuracy: 0.9919\n",
      "Epoch 27/100\n",
      "15/15 [==============================] - 103s 7s/step - loss: 0.5696 - accuracy: 0.9908\n",
      "Epoch 28/100\n",
      "15/15 [==============================] - 110s 7s/step - loss: 0.5694 - accuracy: 0.9919\n",
      "Epoch 28: early stopping\n"
     ]
    },
    {
     "data": {
      "text/plain": [
       "<keras.callbacks.History at 0x7fea777c0bb0>"
      ]
     },
     "execution_count": 278,
     "metadata": {},
     "output_type": "execute_result"
    }
   ],
   "source": [
    "# runtime ~= 50min es at epoch = 28\n",
    "\n",
    "es = EarlyStopping(monitor='loss', mode='min', verbose=1, patience=5)\n",
    "\n",
    "model.fit(\n",
    "    [x_train1, x_train_temp1, y_train1, y_train_temp1], y_train1,\n",
    "    epochs=100, verbose='auto', callbacks=[es]\n",
    ")"
   ]
  },
  {
   "cell_type": "code",
   "execution_count": 279,
   "metadata": {},
   "outputs": [
    {
     "name": "stdout",
     "output_type": "stream",
     "text": [
      "INFO:tensorflow:Assets written to: ../models/v1/assets\n"
     ]
    },
    {
     "name": "stderr",
     "output_type": "stream",
     "text": [
      "WARNING:absl:<keras.layers.recurrent.LSTMCell object at 0x7fea207317f0> has the same name 'LSTMCell' as a built-in Keras object. Consider renaming <class 'keras.layers.recurrent.LSTMCell'> to avoid naming conflicts when loading with `tf.keras.models.load_model`. If renaming is not possible, pass the object in the `custom_objects` parameter of the load function.\n",
      "WARNING:absl:<keras.layers.recurrent.LSTMCell object at 0x7fea2571f3d0> has the same name 'LSTMCell' as a built-in Keras object. Consider renaming <class 'keras.layers.recurrent.LSTMCell'> to avoid naming conflicts when loading with `tf.keras.models.load_model`. If renaming is not possible, pass the object in the `custom_objects` parameter of the load function.\n",
      "WARNING:absl:<keras.layers.recurrent.LSTMCell object at 0x7fea256ea3a0> has the same name 'LSTMCell' as a built-in Keras object. Consider renaming <class 'keras.layers.recurrent.LSTMCell'> to avoid naming conflicts when loading with `tf.keras.models.load_model`. If renaming is not possible, pass the object in the `custom_objects` parameter of the load function.\n",
      "WARNING:absl:<keras.layers.recurrent.LSTMCell object at 0x7fea0457d4c0> has the same name 'LSTMCell' as a built-in Keras object. Consider renaming <class 'keras.layers.recurrent.LSTMCell'> to avoid naming conflicts when loading with `tf.keras.models.load_model`. If renaming is not possible, pass the object in the `custom_objects` parameter of the load function.\n"
     ]
    }
   ],
   "source": [
    "model.save('../models/v1')\n",
    "model = keras.models.load_model('../models/v1')"
   ]
  }
 ],
 "metadata": {
  "kernelspec": {
   "display_name": "Python 3.8.3 ('geo_env')",
   "language": "python",
   "name": "python3"
  },
  "language_info": {
   "codemirror_mode": {
    "name": "ipython",
    "version": 3
   },
   "file_extension": ".py",
   "mimetype": "text/x-python",
   "name": "python",
   "nbconvert_exporter": "python",
   "pygments_lexer": "ipython3",
   "version": "3.8.3"
  },
  "orig_nbformat": 4,
  "vscode": {
   "interpreter": {
    "hash": "5275a7a5c7ca3fd70a65904e3b242eaffc13bff6b4373249ccb4466ff1d4eda1"
   }
  }
 },
 "nbformat": 4,
 "nbformat_minor": 2
}
