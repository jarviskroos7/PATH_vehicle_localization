{
 "cells": [
  {
   "cell_type": "code",
   "execution_count": 517,
   "metadata": {},
   "outputs": [],
   "source": [
    "import numpy as np\n",
    "import tensorflow as tf\n",
    "from tensorflow import keras\n",
    "from keras.models import Model\n",
    "from keras.layers import Concatenate, Dense, LSTM, Input, Embedding, Add, TimeDistributed\n",
    "from keras.callbacks import EarlyStopping\n",
    "from keras import metrics\n",
    "import gzip\n",
    "import pandas as pd\n",
    "import pickle\n",
    "import matplotlib.pyplot as plt\n",
    "import seaborn as sns\n",
    "from sklearn.model_selection import train_test_split"
   ]
  },
  {
   "cell_type": "code",
   "execution_count": 180,
   "metadata": {},
   "outputs": [
    {
     "name": "stdout",
     "output_type": "stream",
     "text": [
      "500\n",
      "77\n"
     ]
    },
    {
     "data": {
      "text/html": [
       "<div>\n",
       "<style scoped>\n",
       "    .dataframe tbody tr th:only-of-type {\n",
       "        vertical-align: middle;\n",
       "    }\n",
       "\n",
       "    .dataframe tbody tr th {\n",
       "        vertical-align: top;\n",
       "    }\n",
       "\n",
       "    .dataframe thead th {\n",
       "        text-align: right;\n",
       "    }\n",
       "</style>\n",
       "<table border=\"1\" class=\"dataframe\">\n",
       "  <thead>\n",
       "    <tr style=\"text-align: right;\">\n",
       "      <th></th>\n",
       "      <th>y</th>\n",
       "      <th>x</th>\n",
       "      <th>y_norm</th>\n",
       "      <th>x_norm</th>\n",
       "      <th>y_norm_noise</th>\n",
       "      <th>x_norm_noise</th>\n",
       "    </tr>\n",
       "  </thead>\n",
       "  <tbody>\n",
       "    <tr>\n",
       "      <th>43567</th>\n",
       "      <td>42.246179</td>\n",
       "      <td>-83.563086</td>\n",
       "      <td>0.786530</td>\n",
       "      <td>0.206384</td>\n",
       "      <td>0.795350</td>\n",
       "      <td>0.203490</td>\n",
       "    </tr>\n",
       "    <tr>\n",
       "      <th>43617</th>\n",
       "      <td>42.246167</td>\n",
       "      <td>-83.563112</td>\n",
       "      <td>0.785304</td>\n",
       "      <td>0.204631</td>\n",
       "      <td>0.787305</td>\n",
       "      <td>0.203073</td>\n",
       "    </tr>\n",
       "    <tr>\n",
       "      <th>43667</th>\n",
       "      <td>42.246155</td>\n",
       "      <td>-83.563137</td>\n",
       "      <td>0.784089</td>\n",
       "      <td>0.202890</td>\n",
       "      <td>0.788982</td>\n",
       "      <td>0.203170</td>\n",
       "    </tr>\n",
       "    <tr>\n",
       "      <th>43717</th>\n",
       "      <td>42.246143</td>\n",
       "      <td>-83.563163</td>\n",
       "      <td>0.782877</td>\n",
       "      <td>0.201164</td>\n",
       "      <td>0.794082</td>\n",
       "      <td>0.195338</td>\n",
       "    </tr>\n",
       "    <tr>\n",
       "      <th>43767</th>\n",
       "      <td>42.246131</td>\n",
       "      <td>-83.563188</td>\n",
       "      <td>0.781676</td>\n",
       "      <td>0.199454</td>\n",
       "      <td>0.791014</td>\n",
       "      <td>0.203958</td>\n",
       "    </tr>\n",
       "  </tbody>\n",
       "</table>\n",
       "</div>"
      ],
      "text/plain": [
       "               y          x    y_norm    x_norm  y_norm_noise  x_norm_noise\n",
       "43567  42.246179 -83.563086  0.786530  0.206384      0.795350      0.203490\n",
       "43617  42.246167 -83.563112  0.785304  0.204631      0.787305      0.203073\n",
       "43667  42.246155 -83.563137  0.784089  0.202890      0.788982      0.203170\n",
       "43717  42.246143 -83.563163  0.782877  0.201164      0.794082      0.195338\n",
       "43767  42.246131 -83.563188  0.781676  0.199454      0.791014      0.203958"
      ]
     },
     "execution_count": 180,
     "metadata": {},
     "output_type": "execute_result"
    }
   ],
   "source": [
    "# data loading\n",
    "\n",
    "with gzip.open('../data/segment_with_noise/ll_seg_gps_500_noise.pkl.gzip', 'rb') as f:\n",
    "    ll_seg_gps_noise = pickle.load(f)\n",
    "with gzip.open('../data/segment_with_noise/rl_seg_gps_500_noise.pkl.gzip', 'rb') as f:\n",
    "    rl_seg_gps_noise = pickle.load(f)\n",
    "\n",
    "with gzip.open('../data/segment_groud_truth/rl_seg_gps_gt_500.pkl.gzip', 'rb') as f:\n",
    "    ll_seg_gps_gt = pickle.load(f)\n",
    "with gzip.open('../data/segment_groud_truth/ll_seg_gps_gt_500.pkl.gzip', 'rb') as f:\n",
    "    rl_seg_gps_gt = pickle.load(f)\n",
    "\n",
    "print(len(ll_seg_gps_noise))\n",
    "print(ll_seg_gps_noise[0].shape[0])\n",
    "ll_seg_gps_noise[0].head()"
   ]
  },
  {
   "cell_type": "code",
   "execution_count": 192,
   "metadata": {},
   "outputs": [
    {
     "data": {
      "text/plain": [
       "array([0.79535004, 0.20348973])"
      ]
     },
     "execution_count": 192,
     "metadata": {},
     "output_type": "execute_result"
    }
   ],
   "source": [
    "ll_seg_gps_noise[0][['y_norm_noise', 'x_norm_noise']].values[0]"
   ]
  },
  {
   "cell_type": "code",
   "execution_count": 443,
   "metadata": {},
   "outputs": [],
   "source": [
    "x_ll = [] # sampled noisy GPS, list of lists of tuples\n",
    "y_gps_ll = [] # sampled noisy GPS, list of lists of tuples\n",
    "y_ll = [] # unsampled groud truth GPS, list of lists of tuples\n",
    "\n",
    "for df in ll_seg_gps_noise:\n",
    "    x_ll.append(df[['y_norm_noise', 'x_norm_noise']].values)\n",
    "    y_gps_ll.append(df[['y_norm', 'x_norm']].values)\n",
    "    # y_ll.append(list(df[['y_norm', 'x_norm']].itertuples(index=False, name=None)))\n",
    "\n",
    "for df in ll_seg_gps_gt:\n",
    "    y_ll.append(df[['y_norm', 'x_norm']].values)\n",
    "    # y_ll.append(list(df[['y_norm', 'x_norm']].itertuples(index=False, name=None)))"
   ]
  },
  {
   "cell_type": "code",
   "execution_count": 235,
   "metadata": {},
   "outputs": [
    {
     "data": {
      "text/plain": [
       "(500, 77)"
      ]
     },
     "execution_count": 235,
     "metadata": {},
     "output_type": "execute_result"
    }
   ],
   "source": [
    "# 500 segment samples with length 77\n",
    "len(x_ll), len(x_ll[0])"
   ]
  },
  {
   "cell_type": "code",
   "execution_count": 236,
   "metadata": {},
   "outputs": [
    {
     "data": {
      "text/plain": [
       "(77, 77)"
      ]
     },
     "execution_count": 236,
     "metadata": {},
     "output_type": "execute_result"
    }
   ],
   "source": [
    "len(x_ll[0]), len(x_ll[2])"
   ]
  },
  {
   "cell_type": "code",
   "execution_count": 237,
   "metadata": {},
   "outputs": [
    {
     "data": {
      "text/plain": [
       "(500, 3822)"
      ]
     },
     "execution_count": 237,
     "metadata": {},
     "output_type": "execute_result"
    }
   ],
   "source": [
    "# 500 segment samples with length 3822\n",
    "len(y_ll), len(y_ll[0])"
   ]
  },
  {
   "cell_type": "code",
   "execution_count": 238,
   "metadata": {},
   "outputs": [
    {
     "data": {
      "text/plain": [
       "array([[[0.1],\n",
       "        [0.2],\n",
       "        [0.3]]])"
      ]
     },
     "execution_count": 238,
     "metadata": {},
     "output_type": "execute_result"
    }
   ],
   "source": [
    "np.array([0.1, 0.2, 0.3]).reshape((1,3,1))"
   ]
  },
  {
   "cell_type": "markdown",
   "metadata": {},
   "source": [
    "## model 1: LSTM based seq2seq model"
   ]
  },
  {
   "cell_type": "code",
   "execution_count": 246,
   "metadata": {},
   "outputs": [
    {
     "data": {
      "image/png": "[encoded data removed]",
      "text/plain": [
       "<Figure size 432x288 with 2 Axes>"
      ]
     },
     "metadata": {
      "needs_background": "light"
     },
     "output_type": "display_data"
    }
   ],
   "source": [
    "x_count = []\n",
    "y_count = []\n",
    "\n",
    "for x_seg in x_ll:\n",
    "    x_count.append(len(x_seg))\n",
    "for y_seg in y_ll:\n",
    "    y_count.append(len(y_seg))\n",
    "\n",
    "graph_df = pd.DataFrame() \n",
    "\n",
    "graph_df['sampled_noisy_gps'] = x_count\n",
    "graph_df['ground_truth_gps'] = y_count\n",
    "\n",
    "graph_df.hist(bins = 10)\n",
    "plt.xlabel('pairs of coordinates')\n",
    "plt.show()"
   ]
  },
  {
   "cell_type": "code",
   "execution_count": 240,
   "metadata": {},
   "outputs": [
    {
     "data": {
      "text/plain": [
       "(3822, 77)"
      ]
     },
     "execution_count": 240,
     "metadata": {},
     "output_type": "execute_result"
    }
   ],
   "source": [
    "# selecting max_y_len and max_x_len\n",
    "max_x_len = max([len(x_seg) for x_seg in x_ll])\n",
    "max_y_len = max([len(y_seg) for y_seg in y_ll])\n",
    "\n",
    "max_y_len, max_x_len"
   ]
  },
  {
   "cell_type": "code",
   "execution_count": 405,
   "metadata": {},
   "outputs": [
    {
     "name": "stdout",
     "output_type": "stream",
     "text": [
      "(450, 77) (50, 77)\n"
     ]
    },
    {
     "data": {
      "text/plain": [
       "array([[ 0,  1,  2, ..., 74, 75, 76],\n",
       "       [ 0,  1,  2, ..., 74, 75, 76],\n",
       "       [ 0,  1,  2, ..., 74, 75, 76],\n",
       "       ...,\n",
       "       [ 0,  1,  2, ..., 74, 75, 76],\n",
       "       [ 0,  1,  2, ..., 74, 75, 76],\n",
       "       [ 0,  1,  2, ..., 74, 75, 76]])"
      ]
     },
     "execution_count": 405,
     "metadata": {},
     "output_type": "execute_result"
    }
   ],
   "source": [
    "x_temp = np.asarray([np.arange(max_x_len) for i in np.arange(len(x_ll))])\n",
    "y_temp = np.asarray([np.arange(max_y_len) for i in np.arange(len(y_ll))])\n",
    "\n",
    "x_train_temp, x_val_temp = train_test_split(x_temp, test_size=0.1, random_state=0)\n",
    "y_train_temp, y_val_temp = train_test_split(y_temp, test_size=0.1, random_state=0)\n",
    "\n",
    "print(x_train_temp.shape, x_val_temp.shape)\n",
    "x_train_temp"
   ]
  },
  {
   "cell_type": "code",
   "execution_count": 297,
   "metadata": {},
   "outputs": [
    {
     "data": {
      "text/plain": [
       "((450, 77, 2), (50, 77, 2))"
      ]
     },
     "execution_count": 297,
     "metadata": {},
     "output_type": "execute_result"
    }
   ],
   "source": [
    "x_train, x_val, y_train, y_val = train_test_split(\n",
    "    np.asarray(x_ll),\n",
    "    np.asarray(y_ll),\n",
    "    test_size=0.1,\n",
    "    random_state=0,\n",
    "    shuffle=True,\n",
    ")\n",
    "x_train.shape, x_val.shape"
   ]
  },
  {
   "cell_type": "code",
   "execution_count": 212,
   "metadata": {},
   "outputs": [
    {
     "data": {
      "text/plain": [
       "TensorShape([450, 77, 64])"
      ]
     },
     "execution_count": 212,
     "metadata": {},
     "output_type": "execute_result"
    }
   ],
   "source": [
    "# batch, seq_length, embedd_length\n",
    "(Dense(64, )(x_train) + Embedding(max_x_len+1, 64, input_length=max_x_len+1)(x_train_temp)).shape"
   ]
  },
  {
   "cell_type": "code",
   "execution_count": 496,
   "metadata": {},
   "outputs": [],
   "source": [
    "embedding_dim = 64\n",
    "latent_dim = 300"
   ]
  },
  {
   "cell_type": "markdown",
   "metadata": {},
   "source": [
    "### network architecture"
   ]
  },
  {
   "cell_type": "code",
   "execution_count": 595,
   "metadata": {},
   "outputs": [],
   "source": [
    "# assuming all input trajectories have shape 77x2\n",
    "x_train_input = Input(shape=(77,2,))\n",
    "# dense layer of spatial embedding\n",
    "x_spatial_embedd = Dense(embedding_dim)\n",
    "\n",
    "x_train_temp_input = Input(shape=(77,))\n",
    "# temporal embedding\n",
    "x_temporal_embedd = Embedding(max_x_len+1, embedding_dim, input_length=max_x_len+1, trainable=True) \n",
    "\n",
    "# combining two features to get spatio-temporal feature representation of input trajectory\n",
    "x_h_st = Add()([x_spatial_embedd(x_train_input), x_temporal_embedd(x_train_temp_input)])\n",
    "# x_h_st = spatial_embedd(x_train_input)\n",
    "\n",
    "# Encoder\n",
    "## Encoder LSTM 1\n",
    "encoder_lstm1 = LSTM(\n",
    "    latent_dim, return_sequences=True,\n",
    "    return_state=True, dropout=0.2,\n",
    "    recurrent_dropout=0.2\n",
    ")\n",
    "(encoder_output1, state_h1, state_c1) = encoder_lstm1(x_h_st)\n",
    "\n",
    "## Encoder LSTM 2\n",
    "encoder_lstm2 = LSTM(latent_dim, return_sequences=True,\n",
    "                     return_state=True, dropout=0.2,\n",
    "                     recurrent_dropout=0.2)\n",
    "(encoder_output2, state_h2, state_c2) = encoder_lstm2(encoder_output1)\n",
    "\n",
    "## Encoder LSTM 3\n",
    "encoder_lstm3 = LSTM(latent_dim, return_state=True,\n",
    "                     return_sequences=True, dropout=0.2,\n",
    "                     recurrent_dropout=0.2)\n",
    "(encoder_outputs, state_h, state_c) = encoder_lstm3(encoder_output2)\n",
    "\n",
    "\n",
    "# Decoder, assuming all target trajectories have shape 3822x2\n",
    "y_train_input = Input(shape=(None,2,))\n",
    "y_spatial_embedd = Dense(embedding_dim)\n",
    "\n",
    "y_train_temp_input = Input(shape=(None,))\n",
    "y_temporal_embedd = Embedding(max_y_len+1, embedding_dim, input_length=max_y_len+1, trainable=True)\n",
    "\n",
    "y_h_st = Add()([y_spatial_embedd(y_train_input), y_temporal_embedd(y_train_temp_input)])\n",
    "# y_h_st = spatial_embedd(y_train_input)\n",
    "\n",
    "decoder_lstm = LSTM(latent_dim, return_sequences=True,\n",
    "                    return_state=True, dropout=0.2,\n",
    "                    recurrent_dropout=0.1)\n",
    "\n",
    "(decoder_outputs, decoder_fwd_state, decoder_back_state) = \\\n",
    "    decoder_lstm(y_h_st, initial_state=[state_h, state_c])\n",
    "\n",
    "# Dense layer\n",
    "decoder_dense = TimeDistributed(Dense(2, activation='softmax'))\n",
    "decoder_outputs = decoder_dense(decoder_outputs)\n",
    "\n",
    "model = Model(inputs=[x_train_input, x_train_temp_input, y_train_input, y_train_temp_input], outputs=decoder_outputs)\n",
    "## model = Model(inputs=[x_train_input, y_train_input], outputs=decoder_outputs)\n",
    "model.compile(loss='mean_absolute_error', optimizer='adam', metrics=[metrics.mean_absolute_percentage_error])"
   ]
  },
  {
   "cell_type": "code",
   "execution_count": 596,
   "metadata": {},
   "outputs": [
    {
     "name": "stdout",
     "output_type": "stream",
     "text": [
      "Model: \"model_50\"\n",
      "__________________________________________________________________________________________________\n",
      " Layer (type)                   Output Shape         Param #     Connected to                     \n",
      "==================================================================================================\n",
      " input_139 (InputLayer)         [(None, 77, 2)]      0           []                               \n",
      "                                                                                                  \n",
      " input_140 (InputLayer)         [(None, 77)]         0           []                               \n",
      "                                                                                                  \n",
      " dense_97 (Dense)               (None, 77, 64)       192         ['input_139[0][0]']              \n",
      "                                                                                                  \n",
      " embedding_59 (Embedding)       (None, 77, 64)       4992        ['input_140[0][0]']              \n",
      "                                                                                                  \n",
      " add_44 (Add)                   (None, 77, 64)       0           ['dense_97[0][0]',               \n",
      "                                                                  'embedding_59[0][0]']           \n",
      "                                                                                                  \n",
      " input_141 (InputLayer)         [(None, None, 2)]    0           []                               \n",
      "                                                                                                  \n",
      " input_142 (InputLayer)         [(None, None)]       0           []                               \n",
      "                                                                                                  \n",
      " lstm_68 (LSTM)                 [(None, 77, 300),    438000      ['add_44[0][0]']                 \n",
      "                                 (None, 300),                                                     \n",
      "                                 (None, 300)]                                                     \n",
      "                                                                                                  \n",
      " dense_98 (Dense)               (None, None, 64)     192         ['input_141[0][0]']              \n",
      "                                                                                                  \n",
      " embedding_60 (Embedding)       (None, None, 64)     244672      ['input_142[0][0]']              \n",
      "                                                                                                  \n",
      " lstm_69 (LSTM)                 [(None, 77, 300),    721200      ['lstm_68[0][0]']                \n",
      "                                 (None, 300),                                                     \n",
      "                                 (None, 300)]                                                     \n",
      "                                                                                                  \n",
      " add_45 (Add)                   (None, None, 64)     0           ['dense_98[0][0]',               \n",
      "                                                                  'embedding_60[0][0]']           \n",
      "                                                                                                  \n",
      " lstm_70 (LSTM)                 [(None, 77, 300),    721200      ['lstm_69[0][0]']                \n",
      "                                 (None, 300),                                                     \n",
      "                                 (None, 300)]                                                     \n",
      "                                                                                                  \n",
      " lstm_71 (LSTM)                 [(None, None, 300),  438000      ['add_45[0][0]',                 \n",
      "                                 (None, 300),                     'lstm_70[0][1]',                \n",
      "                                 (None, 300)]                     'lstm_70[0][2]']                \n",
      "                                                                                                  \n",
      " time_distributed_17 (TimeDistr  (None, None, 2)     602         ['lstm_71[0][0]']                \n",
      " ibuted)                                                                                          \n",
      "                                                                                                  \n",
      "==================================================================================================\n",
      "Total params: 2,569,050\n",
      "Trainable params: 2,569,050\n",
      "Non-trainable params: 0\n",
      "__________________________________________________________________________________________________\n",
      "None\n"
     ]
    }
   ],
   "source": [
    "print(model.summary())"
   ]
  },
  {
   "cell_type": "code",
   "execution_count": 555,
   "metadata": {},
   "outputs": [
    {
     "data": {
      "text/plain": [
       "(450, 77)"
      ]
     },
     "execution_count": 555,
     "metadata": {},
     "output_type": "execute_result"
    }
   ],
   "source": [
    "x_train_temp.shape"
   ]
  },
  {
   "cell_type": "code",
   "execution_count": 597,
   "metadata": {},
   "outputs": [
    {
     "name": "stdout",
     "output_type": "stream",
     "text": [
      "Epoch 1/100\n",
      "13/13 [==============================] - 17s 737ms/step - loss: 0.2511 - mean_absolute_percentage_error: 53411.4805 - val_loss: 0.2067 - val_mean_absolute_percentage_error: 23891.1172\n",
      "Epoch 2/100\n",
      "13/13 [==============================] - 9s 706ms/step - loss: 0.2373 - mean_absolute_percentage_error: 49241.2109 - val_loss: 0.2075 - val_mean_absolute_percentage_error: 25965.3789\n",
      "Epoch 3/100\n",
      "13/13 [==============================] - 9s 712ms/step - loss: 0.2367 - mean_absolute_percentage_error: 49752.4453 - val_loss: 0.2068 - val_mean_absolute_percentage_error: 23456.2129\n",
      "Epoch 4/100\n",
      "13/13 [==============================] - 9s 668ms/step - loss: 0.2364 - mean_absolute_percentage_error: 49315.0312 - val_loss: 0.2065 - val_mean_absolute_percentage_error: 24695.7871\n",
      "Epoch 5/100\n",
      "13/13 [==============================] - 9s 671ms/step - loss: 0.2364 - mean_absolute_percentage_error: 49492.7383 - val_loss: 0.2065 - val_mean_absolute_percentage_error: 25013.0820\n",
      "Epoch 6/100\n",
      "13/13 [==============================] - 9s 681ms/step - loss: 0.2364 - mean_absolute_percentage_error: 49628.4766 - val_loss: 0.2065 - val_mean_absolute_percentage_error: 24523.3789\n",
      "Epoch 7/100\n",
      "13/13 [==============================] - 9s 673ms/step - loss: 0.2364 - mean_absolute_percentage_error: 49504.7148 - val_loss: 0.2065 - val_mean_absolute_percentage_error: 24992.0176\n",
      "Epoch 8/100\n",
      "13/13 [==============================] - 8s 644ms/step - loss: 0.2364 - mean_absolute_percentage_error: 48275.4961 - val_loss: 0.2065 - val_mean_absolute_percentage_error: 24807.2363\n",
      "Epoch 9/100\n",
      "13/13 [==============================] - 8s 642ms/step - loss: 0.2364 - mean_absolute_percentage_error: 49306.0977 - val_loss: 0.2065 - val_mean_absolute_percentage_error: 24697.8086\n",
      "Epoch 10/100\n",
      "13/13 [==============================] - 9s 661ms/step - loss: 0.2364 - mean_absolute_percentage_error: 49058.9297 - val_loss: 0.2065 - val_mean_absolute_percentage_error: 24094.0039\n",
      "Epoch 11/100\n",
      "13/13 [==============================] - 8s 639ms/step - loss: 0.2364 - mean_absolute_percentage_error: 48970.6992 - val_loss: 0.2065 - val_mean_absolute_percentage_error: 24742.9375\n",
      "Epoch 12/100\n",
      "13/13 [==============================] - 8s 637ms/step - loss: 0.2364 - mean_absolute_percentage_error: 48514.5352 - val_loss: 0.2064 - val_mean_absolute_percentage_error: 24463.1250\n",
      "Epoch 13/100\n",
      "13/13 [==============================] - 9s 665ms/step - loss: 0.2364 - mean_absolute_percentage_error: 49177.2734 - val_loss: 0.2065 - val_mean_absolute_percentage_error: 24375.6738\n",
      "Epoch 14/100\n",
      "13/13 [==============================] - 9s 671ms/step - loss: 0.2364 - mean_absolute_percentage_error: 49539.8672 - val_loss: 0.2066 - val_mean_absolute_percentage_error: 24123.7559\n",
      "Epoch 15/100\n",
      "13/13 [==============================] - 9s 669ms/step - loss: 0.2364 - mean_absolute_percentage_error: 49281.9648 - val_loss: 0.2065 - val_mean_absolute_percentage_error: 24132.6543\n",
      "Epoch 16/100\n",
      "13/13 [==============================] - 8s 650ms/step - loss: 0.2364 - mean_absolute_percentage_error: 49062.5625 - val_loss: 0.2065 - val_mean_absolute_percentage_error: 23725.6328\n",
      "Epoch 17/100\n",
      "13/13 [==============================] - 8s 638ms/step - loss: 0.2364 - mean_absolute_percentage_error: 48187.4766 - val_loss: 0.2065 - val_mean_absolute_percentage_error: 23712.8945\n",
      "Epoch 17: early stopping\n"
     ]
    }
   ],
   "source": [
    "# runtime ~= 50min es at epoch = 28\n",
    "\n",
    "# redefine training inputs to use built-in train-test-split in model.fit()\n",
    "x_train = np.asarray(x_ll)\n",
    "# y_train = np.asarray(y_ll)\n",
    "y_train = np.asarray(y_gps_ll)\n",
    "\n",
    "x_temp = np.asarray([np.arange(max_x_len) for i in np.arange(len(x_ll))])\n",
    "# y_temp = np.asarray([np.arange(max_y_len) for i in np.arange(len(y_ll))])\n",
    "y_temp = np.asarray([np.arange(max_x_len) for i in np.arange(len(y_gps_ll))])\n",
    "\n",
    "es = EarlyStopping(monitor='val_loss', mode='min', verbose=1, patience=5)\n",
    "\n",
    "history = model.fit(\n",
    "    [x_train, x_temp, y_train[:, :-1], y_temp[:, :-1]], y_train.reshape(y_train.shape[0], y_train.shape[1], 2)[:, 1:],\n",
    "    # [x_train, y_train[:, :-1]], y_train.reshape(y_train.shape[0], y_train.shape[1], 2)[:, 1:],\n",
    "    # validation_data=[[x_val, x_val_temp, y_val, y_val_temp]],\n",
    "    validation_split=0.2,\n",
    "    batch_size=32, epochs=100, verbose='auto', callbacks=[es]\n",
    ")"
   ]
  },
  {
   "cell_type": "code",
   "execution_count": 607,
   "metadata": {},
   "outputs": [
    {
     "data": {
      "image/png": "[encoded data removed]",
      "text/plain": [
       "<Figure size 432x288 with 1 Axes>"
      ]
     },
     "metadata": {
      "needs_background": "light"
     },
     "output_type": "display_data"
    }
   ],
   "source": [
    "plt.plot(history.history['loss'], label='train')\n",
    "plt.plot(history.history['val_loss'], label='validation')\n",
    "plt.xlabel('epochs')\n",
    "plt.ylabel('loss')\n",
    "plt.legend()\n",
    "plt.show()"
   ]
  },
  {
   "cell_type": "code",
   "execution_count": 608,
   "metadata": {},
   "outputs": [
    {
     "data": {
      "image/png": "[encoded data removed]",
      "text/plain": [
       "<Figure size 432x288 with 1 Axes>"
      ]
     },
     "metadata": {
      "needs_background": "light"
     },
     "output_type": "display_data"
    }
   ],
   "source": [
    "plt.plot(history.history['mean_absolute_percentage_error'], label='train')\n",
    "plt.plot(history.history['val_mean_absolute_percentage_error'], label='validation')\n",
    "plt.xlabel('epochs')\n",
    "plt.ylabel('mean_absolute_percentage_error')\n",
    "plt.legend()\n",
    "plt.show()"
   ]
  },
  {
   "cell_type": "code",
   "execution_count": 609,
   "metadata": {},
   "outputs": [
    {
     "name": "stdout",
     "output_type": "stream",
     "text": [
      "INFO:tensorflow:Assets written to: ../models/v1/assets\n"
     ]
    },
    {
     "name": "stderr",
     "output_type": "stream",
     "text": [
      "INFO:tensorflow:Assets written to: ../models/v1/assets\n",
      "WARNING:absl:<keras.layers.recurrent.LSTMCell object at 0x7fea62694a90> has the same name 'LSTMCell' as a built-in Keras object. Consider renaming <class 'keras.layers.recurrent.LSTMCell'> to avoid naming conflicts when loading with `tf.keras.models.load_model`. If renaming is not possible, pass the object in the `custom_objects` parameter of the load function.\n",
      "WARNING:absl:<keras.layers.recurrent.LSTMCell object at 0x7fea62692b80> has the same name 'LSTMCell' as a built-in Keras object. Consider renaming <class 'keras.layers.recurrent.LSTMCell'> to avoid naming conflicts when loading with `tf.keras.models.load_model`. If renaming is not possible, pass the object in the `custom_objects` parameter of the load function.\n",
      "WARNING:absl:<keras.layers.recurrent.LSTMCell object at 0x7fea2c935a30> has the same name 'LSTMCell' as a built-in Keras object. Consider renaming <class 'keras.layers.recurrent.LSTMCell'> to avoid naming conflicts when loading with `tf.keras.models.load_model`. If renaming is not possible, pass the object in the `custom_objects` parameter of the load function.\n",
      "WARNING:absl:<keras.layers.recurrent.LSTMCell object at 0x7fea234814f0> has the same name 'LSTMCell' as a built-in Keras object. Consider renaming <class 'keras.layers.recurrent.LSTMCell'> to avoid naming conflicts when loading with `tf.keras.models.load_model`. If renaming is not possible, pass the object in the `custom_objects` parameter of the load function.\n"
     ]
    }
   ],
   "source": [
    "model.save('../models/v1')\n",
    "model = keras.models.load_model('../models/v1')"
   ]
  },
  {
   "cell_type": "markdown",
   "metadata": {},
   "source": [
    "## inference models:\n",
    "- input encoder\n",
    "- feature decoder"
   ]
  },
  {
   "cell_type": "code",
   "execution_count": 548,
   "metadata": {},
   "outputs": [
    {
     "data": {
      "text/plain": [
       "array([[ 0.03286937, -0.02161331, -0.04441206, -0.02868265,  0.01183463,\n",
       "        -0.04527378,  0.04480462, -0.03620806,  0.02118779, -0.0459175 ,\n",
       "        -0.03167219, -0.00610801, -0.03644375,  0.00838509, -0.02929732,\n",
       "        -0.00660431, -0.01216177, -0.03117142, -0.03495291, -0.03837501,\n",
       "        -0.01241009,  0.00582945, -0.04622167, -0.0230419 ,  0.04061259,\n",
       "        -0.02211859, -0.03289424,  0.03441654,  0.02403369, -0.04024854,\n",
       "        -0.02923005,  0.01827161, -0.03022313,  0.00742087,  0.02213748,\n",
       "         0.02880823,  0.00872017, -0.04004581, -0.00885507, -0.0161678 ,\n",
       "        -0.02531634,  0.02089454, -0.02848357, -0.02437813,  0.04323549,\n",
       "        -0.00143151, -0.02020721,  0.02155067,  0.01899813, -0.03326437,\n",
       "         0.03625374, -0.02330768,  0.00492346, -0.03806379,  0.04374265,\n",
       "        -0.04007375, -0.04621395,  0.00757636,  0.00527474,  0.02574588,\n",
       "        -0.03763509,  0.0252986 ,  0.02874879, -0.00861408]],\n",
       "      dtype=float32)"
      ]
     },
     "execution_count": 548,
     "metadata": {},
     "output_type": "execute_result"
    }
   ],
   "source": [
    "y_temporal_embedd(np.arange(1)).numpy()"
   ]
  },
  {
   "cell_type": "code",
   "execution_count": 598,
   "metadata": {},
   "outputs": [],
   "source": [
    "# encoder\n",
    "encoder_model = Model(\n",
    "    inputs=[x_train_input, x_train_temp_input],\n",
    "    outputs=[encoder_outputs, state_h, state_c])\n",
    "\n",
    "# decoder\n",
    "decoder_state_input_h = Input(shape=(latent_dim, ))\n",
    "decoder_state_input_c = Input(shape=(latent_dim, ))\n",
    "decoder_hidden_state_input = Input(shape=(max_x_len, latent_dim))\n",
    "\n",
    "y_h_st2 = Add()([y_spatial_embedd(y_train_input), y_temporal_embedd(y_train_temp_input)])\n",
    "## y_h_st2 = spatial_embedd(y_train_input)\n",
    "\n",
    "(decoder_outputs2, state_h2, state_c2) = decoder_lstm(y_h_st2,\n",
    "        initial_state=[decoder_state_input_h, decoder_state_input_c])\n",
    "\n",
    "# output list of 2d coordinates as prediction directly\n",
    "decoder_outputs2 = decoder_dense(decoder_outputs2)\n",
    "decoder_model = Model(\n",
    "    inputs = [y_train_input, y_train_temp_input] + \\\n",
    "        [decoder_hidden_state_input, decoder_state_input_h, decoder_state_input_c],\n",
    "    ## inputs = [y_train_input] + \\\n",
    "    ##    [decoder_hidden_state_input, decoder_state_input_h, decoder_state_input_c],\n",
    "\n",
    "    outputs = [decoder_outputs2] + [state_h2, state_c2])"
   ]
  },
  {
   "cell_type": "code",
   "execution_count": 603,
   "metadata": {},
   "outputs": [],
   "source": [
    "def decode_sequence(input_traj, pred_traj_length=77):\n",
    "\n",
    "    # encode the input as state vectors\n",
    "    input_traj_temp = np.arange(input_traj.shape[1]).reshape(1, input_traj.shape[1])\n",
    "    ## (e_out, e_h, e_c) = encoder_model.predict(input_traj)\n",
    "    (e_out, e_h, e_c) = encoder_model.predict([input_traj, input_traj_temp])\n",
    "    # ***use the first coordinate pair of input traj to start***\n",
    "    target_traj = input_traj[0][0].reshape(1, 2)\n",
    "    target_traj_temp = np.arange(1).reshape(1, 1)\n",
    "    pred_traj = np.zeros(shape=(pred_traj_length, 2))\n",
    "\n",
    "    for i in np.arange(pred_traj_length):\n",
    "        (output_traj, h, c) = decoder_model.predict(\n",
    "            [target_traj, target_traj_temp] + [e_out, e_h, e_c])\n",
    "        ## (output_traj, h, c) = decoder_model.predict(\n",
    "        ##    [target_traj] + [e_out, e_h, e_c])\n",
    "\n",
    "        # add to results and update next target_traj of length 1\n",
    "        pred_traj[i] = output_traj[0][-1]\n",
    "        target_traj = output_traj\n",
    "\n",
    "        # update internal states for next prediction\n",
    "        (e_h, e_c) = (h, c)\n",
    "        \n",
    "    return pred_traj"
   ]
  },
  {
   "cell_type": "code",
   "execution_count": 604,
   "metadata": {},
   "outputs": [
    {
     "data": {
      "text/plain": [
       "((77, 2), (77, 2))"
      ]
     },
     "execution_count": 604,
     "metadata": {},
     "output_type": "execute_result"
    }
   ],
   "source": [
    "predicted = decode_sequence(x_train[0].reshape(1, max_x_len, 2))\n",
    "predicted.shape, x_train[0].shape"
   ]
  },
  {
   "cell_type": "code",
   "execution_count": 605,
   "metadata": {},
   "outputs": [
    {
     "data": {
      "text/plain": [
       "20.482534413737273"
      ]
     },
     "execution_count": 605,
     "metadata": {},
     "output_type": "execute_result"
    }
   ],
   "source": [
    "np.mean(tf.keras.metrics.mape(\n",
    "    y_train[0], predicted\n",
    "))"
   ]
  },
  {
   "cell_type": "code",
   "execution_count": 606,
   "metadata": {},
   "outputs": [
    {
     "data": {
      "image/png": "[encoded data removed]",
      "text/plain": [
       "<Figure size 432x288 with 1 Axes>"
      ]
     },
     "metadata": {
      "needs_background": "light"
     },
     "output_type": "display_data"
    }
   ],
   "source": [
    "# plt.plot(ll.x_norm, ll.y_norm)\n",
    "plt.plot(y_train[0][:, 0], y_train[0][:, 1], label='ground truth')\n",
    "plt.plot(x_train[0][:, 0], x_train[0][:, 1], label='sample')\n",
    "plt.plot(predicted[:, 0], predicted[:, 1], label='prediction')\n",
    "\n",
    "plt.legend()\n",
    "plt.show()"
   ]
  }
 ],
 "metadata": {
  "kernelspec": {
   "display_name": "Python 3.8.3 ('geo_env')",
   "language": "python",
   "name": "python3"
  },
  "language_info": {
   "codemirror_mode": {
    "name": "ipython",
    "version": 3
   },
   "file_extension": ".py",
   "mimetype": "text/x-python",
   "name": "python",
   "nbconvert_exporter": "python",
   "pygments_lexer": "ipython3",
   "version": "3.8.3"
  },
  "orig_nbformat": 4,
  "vscode": {
   "interpreter": {
    "hash": "5275a7a5c7ca3fd70a65904e3b242eaffc13bff6b4373249ccb4466ff1d4eda1"
   }
  }
 },
 "nbformat": 4,
 "nbformat_minor": 2
}
