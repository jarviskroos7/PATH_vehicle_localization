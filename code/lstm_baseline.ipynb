{
 "cells": [
  {
   "cell_type": "code",
   "execution_count": 634,
   "metadata": {},
   "outputs": [],
   "source": [
    "import numpy as np\n",
    "import tensorflow as tf\n",
    "from tensorflow import keras\n",
    "from keras.models import Model\n",
    "from keras.layers import Concatenate, Dense, LSTM, Input, Embedding, Add, TimeDistributed, Dropout\n",
    "from keras.callbacks import EarlyStopping\n",
    "from keras import metrics\n",
    "import gzip\n",
    "import pandas as pd\n",
    "import pickle\n",
    "import matplotlib.pyplot as plt\n",
    "import seaborn as sns\n",
    "from sklearn.model_selection import train_test_split"
   ]
  },
  {
   "cell_type": "code",
   "execution_count": 180,
   "metadata": {},
   "outputs": [
    {
     "name": "stdout",
     "output_type": "stream",
     "text": [
      "500\n",
      "77\n"
     ]
    },
    {
     "data": {
      "text/html": [
       "<div>\n",
       "<style scoped>\n",
       "    .dataframe tbody tr th:only-of-type {\n",
       "        vertical-align: middle;\n",
       "    }\n",
       "\n",
       "    .dataframe tbody tr th {\n",
       "        vertical-align: top;\n",
       "    }\n",
       "\n",
       "    .dataframe thead th {\n",
       "        text-align: right;\n",
       "    }\n",
       "</style>\n",
       "<table border=\"1\" class=\"dataframe\">\n",
       "  <thead>\n",
       "    <tr style=\"text-align: right;\">\n",
       "      <th></th>\n",
       "      <th>y</th>\n",
       "      <th>x</th>\n",
       "      <th>y_norm</th>\n",
       "      <th>x_norm</th>\n",
       "      <th>y_norm_noise</th>\n",
       "      <th>x_norm_noise</th>\n",
       "    </tr>\n",
       "  </thead>\n",
       "  <tbody>\n",
       "    <tr>\n",
       "      <th>43567</th>\n",
       "      <td>42.246179</td>\n",
       "      <td>-83.563086</td>\n",
       "      <td>0.786530</td>\n",
       "      <td>0.206384</td>\n",
       "      <td>0.795350</td>\n",
       "      <td>0.203490</td>\n",
       "    </tr>\n",
       "    <tr>\n",
       "      <th>43617</th>\n",
       "      <td>42.246167</td>\n",
       "      <td>-83.563112</td>\n",
       "      <td>0.785304</td>\n",
       "      <td>0.204631</td>\n",
       "      <td>0.787305</td>\n",
       "      <td>0.203073</td>\n",
       "    </tr>\n",
       "    <tr>\n",
       "      <th>43667</th>\n",
       "      <td>42.246155</td>\n",
       "      <td>-83.563137</td>\n",
       "      <td>0.784089</td>\n",
       "      <td>0.202890</td>\n",
       "      <td>0.788982</td>\n",
       "      <td>0.203170</td>\n",
       "    </tr>\n",
       "    <tr>\n",
       "      <th>43717</th>\n",
       "      <td>42.246143</td>\n",
       "      <td>-83.563163</td>\n",
       "      <td>0.782877</td>\n",
       "      <td>0.201164</td>\n",
       "      <td>0.794082</td>\n",
       "      <td>0.195338</td>\n",
       "    </tr>\n",
       "    <tr>\n",
       "      <th>43767</th>\n",
       "      <td>42.246131</td>\n",
       "      <td>-83.563188</td>\n",
       "      <td>0.781676</td>\n",
       "      <td>0.199454</td>\n",
       "      <td>0.791014</td>\n",
       "      <td>0.203958</td>\n",
       "    </tr>\n",
       "  </tbody>\n",
       "</table>\n",
       "</div>"
      ],
      "text/plain": [
       "               y          x    y_norm    x_norm  y_norm_noise  x_norm_noise\n",
       "43567  42.246179 -83.563086  0.786530  0.206384      0.795350      0.203490\n",
       "43617  42.246167 -83.563112  0.785304  0.204631      0.787305      0.203073\n",
       "43667  42.246155 -83.563137  0.784089  0.202890      0.788982      0.203170\n",
       "43717  42.246143 -83.563163  0.782877  0.201164      0.794082      0.195338\n",
       "43767  42.246131 -83.563188  0.781676  0.199454      0.791014      0.203958"
      ]
     },
     "execution_count": 180,
     "metadata": {},
     "output_type": "execute_result"
    }
   ],
   "source": [
    "# data loading\n",
    "\n",
    "with gzip.open('../data/segment_with_noise/ll_seg_gps_500_noise.pkl.gzip', 'rb') as f:\n",
    "    ll_seg_gps_noise = pickle.load(f)\n",
    "with gzip.open('../data/segment_with_noise/rl_seg_gps_500_noise.pkl.gzip', 'rb') as f:\n",
    "    rl_seg_gps_noise = pickle.load(f)\n",
    "\n",
    "with gzip.open('../data/segment_groud_truth/rl_seg_gps_gt_500.pkl.gzip', 'rb') as f:\n",
    "    ll_seg_gps_gt = pickle.load(f)\n",
    "with gzip.open('../data/segment_groud_truth/ll_seg_gps_gt_500.pkl.gzip', 'rb') as f:\n",
    "    rl_seg_gps_gt = pickle.load(f)\n",
    "\n",
    "print(len(ll_seg_gps_noise))\n",
    "print(ll_seg_gps_noise[0].shape[0])\n",
    "ll_seg_gps_noise[0].head()"
   ]
  },
  {
   "cell_type": "code",
   "execution_count": 192,
   "metadata": {},
   "outputs": [
    {
     "data": {
      "text/plain": [
       "array([0.79535004, 0.20348973])"
      ]
     },
     "execution_count": 192,
     "metadata": {},
     "output_type": "execute_result"
    }
   ],
   "source": [
    "ll_seg_gps_noise[0][['y_norm_noise', 'x_norm_noise']].values[0]"
   ]
  },
  {
   "cell_type": "code",
   "execution_count": 443,
   "metadata": {},
   "outputs": [],
   "source": [
    "x_ll = [] # sampled noisy GPS, list of lists of tuples\n",
    "y_gps_ll = [] # sampled noisy GPS, list of lists of tuples\n",
    "y_ll = [] # unsampled groud truth GPS, list of lists of tuples\n",
    "\n",
    "for df in ll_seg_gps_noise:\n",
    "    x_ll.append(df[['y_norm_noise', 'x_norm_noise']].values)\n",
    "    y_gps_ll.append(df[['y_norm', 'x_norm']].values)\n",
    "    # y_ll.append(list(df[['y_norm', 'x_norm']].itertuples(index=False, name=None)))\n",
    "\n",
    "for df in ll_seg_gps_gt:\n",
    "    y_ll.append(df[['y_norm', 'x_norm']].values)\n",
    "    # y_ll.append(list(df[['y_norm', 'x_norm']].itertuples(index=False, name=None)))"
   ]
  },
  {
   "cell_type": "code",
   "execution_count": 235,
   "metadata": {},
   "outputs": [
    {
     "data": {
      "text/plain": [
       "(500, 77)"
      ]
     },
     "execution_count": 235,
     "metadata": {},
     "output_type": "execute_result"
    }
   ],
   "source": [
    "# 500 segment samples with length 77\n",
    "len(x_ll), len(x_ll[0])"
   ]
  },
  {
   "cell_type": "code",
   "execution_count": 236,
   "metadata": {},
   "outputs": [
    {
     "data": {
      "text/plain": [
       "(77, 77)"
      ]
     },
     "execution_count": 236,
     "metadata": {},
     "output_type": "execute_result"
    }
   ],
   "source": [
    "len(x_ll[0]), len(x_ll[2])"
   ]
  },
  {
   "cell_type": "code",
   "execution_count": 237,
   "metadata": {},
   "outputs": [
    {
     "data": {
      "text/plain": [
       "(500, 3822)"
      ]
     },
     "execution_count": 237,
     "metadata": {},
     "output_type": "execute_result"
    }
   ],
   "source": [
    "# 500 segment samples with length 3822\n",
    "len(y_ll), len(y_ll[0])"
   ]
  },
  {
   "cell_type": "code",
   "execution_count": 238,
   "metadata": {},
   "outputs": [
    {
     "data": {
      "text/plain": [
       "array([[[0.1],\n",
       "        [0.2],\n",
       "        [0.3]]])"
      ]
     },
     "execution_count": 238,
     "metadata": {},
     "output_type": "execute_result"
    }
   ],
   "source": [
    "np.array([0.1, 0.2, 0.3]).reshape((1,3,1))"
   ]
  },
  {
   "cell_type": "markdown",
   "metadata": {},
   "source": [
    "## model 1: LSTM based seq2seq model"
   ]
  },
  {
   "cell_type": "code",
   "execution_count": 246,
   "metadata": {},
   "outputs": [
    {
     "data": {
      "image/png": "[encoded data removed]",
      "text/plain": [
       "<Figure size 432x288 with 2 Axes>"
      ]
     },
     "metadata": {
      "needs_background": "light"
     },
     "output_type": "display_data"
    }
   ],
   "source": [
    "x_count = []\n",
    "y_count = []\n",
    "\n",
    "for x_seg in x_ll:\n",
    "    x_count.append(len(x_seg))\n",
    "for y_seg in y_ll:\n",
    "    y_count.append(len(y_seg))\n",
    "\n",
    "graph_df = pd.DataFrame() \n",
    "\n",
    "graph_df['sampled_noisy_gps'] = x_count\n",
    "graph_df['ground_truth_gps'] = y_count\n",
    "\n",
    "graph_df.hist(bins = 10)\n",
    "plt.xlabel('pairs of coordinates')\n",
    "plt.show()"
   ]
  },
  {
   "cell_type": "code",
   "execution_count": 240,
   "metadata": {},
   "outputs": [
    {
     "data": {
      "text/plain": [
       "(3822, 77)"
      ]
     },
     "execution_count": 240,
     "metadata": {},
     "output_type": "execute_result"
    }
   ],
   "source": [
    "# selecting max_y_len and max_x_len\n",
    "max_x_len = max([len(x_seg) for x_seg in x_ll])\n",
    "max_y_len = max([len(y_seg) for y_seg in y_ll])\n",
    "\n",
    "max_y_len, max_x_len"
   ]
  },
  {
   "cell_type": "code",
   "execution_count": 405,
   "metadata": {},
   "outputs": [
    {
     "name": "stdout",
     "output_type": "stream",
     "text": [
      "(450, 77) (50, 77)\n"
     ]
    },
    {
     "data": {
      "text/plain": [
       "array([[ 0,  1,  2, ..., 74, 75, 76],\n",
       "       [ 0,  1,  2, ..., 74, 75, 76],\n",
       "       [ 0,  1,  2, ..., 74, 75, 76],\n",
       "       ...,\n",
       "       [ 0,  1,  2, ..., 74, 75, 76],\n",
       "       [ 0,  1,  2, ..., 74, 75, 76],\n",
       "       [ 0,  1,  2, ..., 74, 75, 76]])"
      ]
     },
     "execution_count": 405,
     "metadata": {},
     "output_type": "execute_result"
    }
   ],
   "source": [
    "x_temp = np.asarray([np.arange(max_x_len) for i in np.arange(len(x_ll))])\n",
    "y_temp = np.asarray([np.arange(max_y_len) for i in np.arange(len(y_ll))])\n",
    "\n",
    "x_train_temp, x_val_temp = train_test_split(x_temp, test_size=0.1, random_state=0)\n",
    "y_train_temp, y_val_temp = train_test_split(y_temp, test_size=0.1, random_state=0)\n",
    "\n",
    "print(x_train_temp.shape, x_val_temp.shape)\n",
    "x_train_temp"
   ]
  },
  {
   "cell_type": "code",
   "execution_count": 297,
   "metadata": {},
   "outputs": [
    {
     "data": {
      "text/plain": [
       "((450, 77, 2), (50, 77, 2))"
      ]
     },
     "execution_count": 297,
     "metadata": {},
     "output_type": "execute_result"
    }
   ],
   "source": [
    "x_train, x_val, y_train, y_val = train_test_split(\n",
    "    np.asarray(x_ll),\n",
    "    np.asarray(y_ll),\n",
    "    test_size=0.1,\n",
    "    random_state=0,\n",
    "    shuffle=True,\n",
    ")\n",
    "x_train.shape, x_val.shape"
   ]
  },
  {
   "cell_type": "code",
   "execution_count": 212,
   "metadata": {},
   "outputs": [
    {
     "data": {
      "text/plain": [
       "TensorShape([450, 77, 64])"
      ]
     },
     "execution_count": 212,
     "metadata": {},
     "output_type": "execute_result"
    }
   ],
   "source": [
    "# batch, seq_length, embedd_length\n",
    "(Dense(64, )(x_train) + Embedding(max_x_len+1, 64, input_length=max_x_len+1)(x_train_temp)).shape"
   ]
  },
  {
   "cell_type": "code",
   "execution_count": 640,
   "metadata": {},
   "outputs": [],
   "source": [
    "embedding_dim = 128\n",
    "latent_dim = 300"
   ]
  },
  {
   "cell_type": "markdown",
   "metadata": {},
   "source": [
    "### network architecture"
   ]
  },
  {
   "cell_type": "code",
   "execution_count": 641,
   "metadata": {},
   "outputs": [],
   "source": [
    "# assuming all input trajectories have shape 77x2\n",
    "x_train_input = Input(shape=(77,2,))\n",
    "# dense layer of spatial embedding\n",
    "x_spatial_embedd = Dense(embedding_dim)\n",
    "\n",
    "x_train_temp_input = Input(shape=(77,))\n",
    "# temporal embedding\n",
    "x_temporal_embedd = Embedding(max_x_len+1, embedding_dim, input_length=max_x_len+1, trainable=True) \n",
    "\n",
    "# combining two features to get spatio-temporal feature representation of input trajectory\n",
    "x_h_st = Add()([x_spatial_embedd(x_train_input), x_temporal_embedd(x_train_temp_input)])\n",
    "# x_h_st = spatial_embedd(x_train_input)\n",
    "\n",
    "# Encoder\n",
    "## Encoder LSTM 1\n",
    "encoder_lstm1 = LSTM(\n",
    "    latent_dim, return_sequences=True,\n",
    "    return_state=True, dropout=0.2,\n",
    "    recurrent_dropout=0.2\n",
    ")\n",
    "(encoder_output1, state_h1, state_c1) = encoder_lstm1(x_h_st)\n",
    "\n",
    "## Encoder LSTM 2\n",
    "encoder_lstm2 = LSTM(latent_dim, return_sequences=True,\n",
    "                     return_state=True, dropout=0.2,\n",
    "                     recurrent_dropout=0.2)\n",
    "(encoder_output2, state_h2, state_c2) = encoder_lstm2(encoder_output1)\n",
    "\n",
    "## Encoder LSTM 3\n",
    "encoder_lstm3 = LSTM(latent_dim, return_state=True,\n",
    "                     return_sequences=True, dropout=0.2,\n",
    "                     recurrent_dropout=0.2)\n",
    "(encoder_outputs, state_h, state_c) = encoder_lstm3(encoder_output2)\n",
    "\n",
    "\n",
    "# Decoder, assuming all target trajectories have shape 3822x2\n",
    "y_train_input = Input(shape=(None,2,))\n",
    "y_spatial_embedd = Dense(embedding_dim)\n",
    "\n",
    "y_train_temp_input = Input(shape=(None,))\n",
    "y_temporal_embedd = Embedding(max_y_len+1, embedding_dim, input_length=max_y_len+1, trainable=True)\n",
    "\n",
    "y_h_st = Add()([y_spatial_embedd(y_train_input), y_temporal_embedd(y_train_temp_input)])\n",
    "# y_h_st = spatial_embedd(y_train_input)\n",
    "\n",
    "decoder_lstm = LSTM(latent_dim, return_sequences=True,\n",
    "                    return_state=True, dropout=0.2,\n",
    "                    recurrent_dropout=0.1)\n",
    "\n",
    "(decoder_outputs, decoder_fwd_state, decoder_back_state) = \\\n",
    "    decoder_lstm(y_h_st, initial_state=[state_h, state_c])\n",
    "\n",
    "# Dense layer\n",
    "# decoder_dense = TimeDistributed(Dense(2))#))\n",
    "\n",
    "decoder_dense1 = Dense(latent_dim, activation = 'relu')\n",
    "decoder_output1 = decoder_dense1(decoder_outputs)\n",
    "\n",
    "decoder_dense3 = Dropout(0.3)\n",
    "decoder_output2 = decoder_dense1(decoder_output1)\n",
    "\n",
    "decoder_dense2 = TimeDistributed(Dense(2))#))\n",
    "decoder_outputs = decoder_dense2(decoder_output2)\n",
    "\n",
    "model = Model(inputs=[x_train_input, x_train_temp_input, y_train_input, y_train_temp_input], outputs=decoder_outputs)\n",
    "## model = Model(inputs=[x_train_input, y_train_input], outputs=decoder_outputs)\n",
    "model.compile(loss='mean_absolute_error', optimizer='adam', metrics=[metrics.mean_absolute_percentage_error])"
   ]
  },
  {
   "cell_type": "code",
   "execution_count": 642,
   "metadata": {},
   "outputs": [
    {
     "name": "stdout",
     "output_type": "stream",
     "text": [
      "Model: \"model_57\"\n",
      "__________________________________________________________________________________________________\n",
      " Layer (type)                   Output Shape         Param #     Connected to                     \n",
      "==================================================================================================\n",
      " input_157 (InputLayer)         [(None, 77, 2)]      0           []                               \n",
      "                                                                                                  \n",
      " input_158 (InputLayer)         [(None, 77)]         0           []                               \n",
      "                                                                                                  \n",
      " dense_107 (Dense)              (None, 77, 128)      384         ['input_157[0][0]']              \n",
      "                                                                                                  \n",
      " embedding_65 (Embedding)       (None, 77, 128)      9984        ['input_158[0][0]']              \n",
      "                                                                                                  \n",
      " add_52 (Add)                   (None, 77, 128)      0           ['dense_107[0][0]',              \n",
      "                                                                  'embedding_65[0][0]']           \n",
      "                                                                                                  \n",
      " input_159 (InputLayer)         [(None, None, 2)]    0           []                               \n",
      "                                                                                                  \n",
      " input_160 (InputLayer)         [(None, None)]       0           []                               \n",
      "                                                                                                  \n",
      " lstm_80 (LSTM)                 [(None, 77, 300),    514800      ['add_52[0][0]']                 \n",
      "                                 (None, 300),                                                     \n",
      "                                 (None, 300)]                                                     \n",
      "                                                                                                  \n",
      " dense_108 (Dense)              (None, None, 128)    384         ['input_159[0][0]']              \n",
      "                                                                                                  \n",
      " embedding_66 (Embedding)       (None, None, 128)    489344      ['input_160[0][0]']              \n",
      "                                                                                                  \n",
      " lstm_81 (LSTM)                 [(None, 77, 300),    721200      ['lstm_80[0][0]']                \n",
      "                                 (None, 300),                                                     \n",
      "                                 (None, 300)]                                                     \n",
      "                                                                                                  \n",
      " add_53 (Add)                   (None, None, 128)    0           ['dense_108[0][0]',              \n",
      "                                                                  'embedding_66[0][0]']           \n",
      "                                                                                                  \n",
      " lstm_82 (LSTM)                 [(None, 77, 300),    721200      ['lstm_81[0][0]']                \n",
      "                                 (None, 300),                                                     \n",
      "                                 (None, 300)]                                                     \n",
      "                                                                                                  \n",
      " lstm_83 (LSTM)                 [(None, None, 300),  514800      ['add_53[0][0]',                 \n",
      "                                 (None, 300),                     'lstm_82[0][1]',                \n",
      "                                 (None, 300)]                     'lstm_82[0][2]']                \n",
      "                                                                                                  \n",
      " dense_109 (Dense)              (None, None, 300)    90300       ['lstm_83[0][0]',                \n",
      "                                                                  'dense_109[0][0]']              \n",
      "                                                                                                  \n",
      " time_distributed_20 (TimeDistr  (None, None, 2)     602         ['dense_109[1][0]']              \n",
      " ibuted)                                                                                          \n",
      "                                                                                                  \n",
      "==================================================================================================\n",
      "Total params: 3,062,998\n",
      "Trainable params: 3,062,998\n",
      "Non-trainable params: 0\n",
      "__________________________________________________________________________________________________\n",
      "None\n"
     ]
    }
   ],
   "source": [
    "print(model.summary())"
   ]
  },
  {
   "cell_type": "code",
   "execution_count": 555,
   "metadata": {},
   "outputs": [
    {
     "data": {
      "text/plain": [
       "(450, 77)"
      ]
     },
     "execution_count": 555,
     "metadata": {},
     "output_type": "execute_result"
    }
   ],
   "source": [
    "x_train_temp.shape"
   ]
  },
  {
   "cell_type": "code",
   "execution_count": 637,
   "metadata": {},
   "outputs": [
    {
     "name": "stdout",
     "output_type": "stream",
     "text": [
      "Epoch 1/100\n",
      "13/13 [==============================] - 16s 743ms/step - loss: 0.1833 - mean_absolute_percentage_error: 23474.6660 - val_loss: 0.0890 - val_mean_absolute_percentage_error: 4983.0488\n",
      "Epoch 2/100\n",
      "13/13 [==============================] - 9s 682ms/step - loss: 0.0645 - mean_absolute_percentage_error: 5581.6875 - val_loss: 0.0388 - val_mean_absolute_percentage_error: 3412.3584\n",
      "Epoch 3/100\n",
      "13/13 [==============================] - 9s 695ms/step - loss: 0.0338 - mean_absolute_percentage_error: 2767.3018 - val_loss: 0.0246 - val_mean_absolute_percentage_error: 2199.1692\n",
      "Epoch 4/100\n",
      "13/13 [==============================] - 9s 685ms/step - loss: 0.0261 - mean_absolute_percentage_error: 2067.6294 - val_loss: 0.0147 - val_mean_absolute_percentage_error: 1239.0227\n",
      "Epoch 5/100\n",
      "13/13 [==============================] - 9s 687ms/step - loss: 0.0181 - mean_absolute_percentage_error: 1268.9935 - val_loss: 0.0145 - val_mean_absolute_percentage_error: 1095.3771\n",
      "Epoch 6/100\n",
      "13/13 [==============================] - 9s 684ms/step - loss: 0.0169 - mean_absolute_percentage_error: 2436.0474 - val_loss: 0.0122 - val_mean_absolute_percentage_error: 414.3478\n",
      "Epoch 7/100\n",
      "13/13 [==============================] - 9s 688ms/step - loss: 0.0161 - mean_absolute_percentage_error: 1048.6084 - val_loss: 0.0094 - val_mean_absolute_percentage_error: 237.2677\n",
      "Epoch 8/100\n",
      "13/13 [==============================] - 9s 688ms/step - loss: 0.0159 - mean_absolute_percentage_error: 1431.5754 - val_loss: 0.0187 - val_mean_absolute_percentage_error: 925.8314\n",
      "Epoch 9/100\n",
      "13/13 [==============================] - 9s 694ms/step - loss: 0.0173 - mean_absolute_percentage_error: 1233.0333 - val_loss: 0.0134 - val_mean_absolute_percentage_error: 524.0974\n",
      "Epoch 10/100\n",
      "13/13 [==============================] - 9s 686ms/step - loss: 0.0160 - mean_absolute_percentage_error: 1404.6285 - val_loss: 0.0106 - val_mean_absolute_percentage_error: 553.0435\n",
      "Epoch 11/100\n",
      "13/13 [==============================] - 9s 692ms/step - loss: 0.0167 - mean_absolute_percentage_error: 1588.8661 - val_loss: 0.0133 - val_mean_absolute_percentage_error: 581.1171\n",
      "Epoch 12/100\n",
      "13/13 [==============================] - 9s 679ms/step - loss: 0.0174 - mean_absolute_percentage_error: 1323.6752 - val_loss: 0.0256 - val_mean_absolute_percentage_error: 679.6801\n",
      "Epoch 12: early stopping\n"
     ]
    }
   ],
   "source": [
    "# runtime ~= 50min es at epoch = 28\n",
    "\n",
    "# redefine training inputs to use built-in train-test-split in model.fit()\n",
    "x_train = np.asarray(x_ll)\n",
    "# y_train = np.asarray(y_ll)\n",
    "y_train = np.asarray(y_gps_ll)\n",
    "\n",
    "x_temp = np.asarray([np.arange(max_x_len) for i in np.arange(len(x_ll))])\n",
    "# y_temp = np.asarray([np.arange(max_y_len) for i in np.arange(len(y_ll))])\n",
    "y_temp = np.asarray([np.arange(max_x_len) for i in np.arange(len(y_gps_ll))])\n",
    "\n",
    "es = EarlyStopping(monitor='val_loss', mode='min', verbose=1, patience=5)\n",
    "\n",
    "history = model.fit(\n",
    "    [x_train, x_temp, y_train[:, :-1], y_temp[:, :-1]], y_train.reshape(y_train.shape[0], y_train.shape[1], 2)[:, 1:],\n",
    "    # [x_train, y_train[:, :-1]], y_train.reshape(y_train.shape[0], y_train.shape[1], 2)[:, 1:],\n",
    "    # validation_data=[[x_val, x_val_temp, y_val, y_val_temp]],\n",
    "    validation_split=0.2,\n",
    "    batch_size=32, epochs=100, verbose='auto', callbacks=[es]\n",
    ")"
   ]
  },
  {
   "cell_type": "code",
   "execution_count": 638,
   "metadata": {},
   "outputs": [
    {
     "data": {
      "image/png": "[encoded data removed]",
      "text/plain": [
       "<Figure size 432x288 with 1 Axes>"
      ]
     },
     "metadata": {
      "needs_background": "light"
     },
     "output_type": "display_data"
    }
   ],
   "source": [
    "plt.plot(history.history['loss'], label='train')\n",
    "plt.plot(history.history['val_loss'], label='validation')\n",
    "plt.xlabel('epochs')\n",
    "plt.ylabel('loss')\n",
    "plt.legend()\n",
    "plt.show()"
   ]
  },
  {
   "cell_type": "code",
   "execution_count": 639,
   "metadata": {},
   "outputs": [
    {
     "data": {
      "image/png": "[encoded data removed]",
      "text/plain": [
       "<Figure size 432x288 with 1 Axes>"
      ]
     },
     "metadata": {
      "needs_background": "light"
     },
     "output_type": "display_data"
    }
   ],
   "source": [
    "plt.plot(history.history['mean_absolute_percentage_error'], label='train')\n",
    "plt.plot(history.history['val_mean_absolute_percentage_error'], label='validation')\n",
    "plt.xlabel('epochs')\n",
    "plt.ylabel('mean_absolute_percentage_error')\n",
    "plt.legend()\n",
    "plt.show()"
   ]
  },
  {
   "cell_type": "code",
   "execution_count": 615,
   "metadata": {},
   "outputs": [
    {
     "name": "stdout",
     "output_type": "stream",
     "text": [
      "INFO:tensorflow:Assets written to: ../models/v1/assets\n"
     ]
    },
    {
     "name": "stderr",
     "output_type": "stream",
     "text": [
      "INFO:tensorflow:Assets written to: ../models/v1/assets\n",
      "WARNING:absl:<keras.layers.recurrent.LSTMCell object at 0x7fea2543b0a0> has the same name 'LSTMCell' as a built-in Keras object. Consider renaming <class 'keras.layers.recurrent.LSTMCell'> to avoid naming conflicts when loading with `tf.keras.models.load_model`. If renaming is not possible, pass the object in the `custom_objects` parameter of the load function.\n",
      "WARNING:absl:<keras.layers.recurrent.LSTMCell object at 0x7fea2543b370> has the same name 'LSTMCell' as a built-in Keras object. Consider renaming <class 'keras.layers.recurrent.LSTMCell'> to avoid naming conflicts when loading with `tf.keras.models.load_model`. If renaming is not possible, pass the object in the `custom_objects` parameter of the load function.\n",
      "WARNING:absl:<keras.layers.recurrent.LSTMCell object at 0x7fea2a9418e0> has the same name 'LSTMCell' as a built-in Keras object. Consider renaming <class 'keras.layers.recurrent.LSTMCell'> to avoid naming conflicts when loading with `tf.keras.models.load_model`. If renaming is not possible, pass the object in the `custom_objects` parameter of the load function.\n",
      "WARNING:absl:<keras.layers.recurrent.LSTMCell object at 0x7fea7483b070> has the same name 'LSTMCell' as a built-in Keras object. Consider renaming <class 'keras.layers.recurrent.LSTMCell'> to avoid naming conflicts when loading with `tf.keras.models.load_model`. If renaming is not possible, pass the object in the `custom_objects` parameter of the load function.\n"
     ]
    }
   ],
   "source": [
    "model.save('../models/v1')\n",
    "model = keras.models.load_model('../models/v1')"
   ]
  },
  {
   "cell_type": "markdown",
   "metadata": {},
   "source": [
    "## inference models:\n",
    "- input encoder\n",
    "- feature decoder"
   ]
  },
  {
   "cell_type": "code",
   "execution_count": 616,
   "metadata": {},
   "outputs": [],
   "source": [
    "# encoder\n",
    "encoder_model = Model(\n",
    "    inputs=[x_train_input, x_train_temp_input],\n",
    "    outputs=[encoder_outputs, state_h, state_c])\n",
    "\n",
    "# decoder\n",
    "decoder_state_input_h = Input(shape=(latent_dim, ))\n",
    "decoder_state_input_c = Input(shape=(latent_dim, ))\n",
    "decoder_hidden_state_input = Input(shape=(max_x_len, latent_dim))\n",
    "\n",
    "y_h_st2 = Add()([y_spatial_embedd(y_train_input), y_temporal_embedd(y_train_temp_input)])\n",
    "## y_h_st2 = spatial_embedd(y_train_input)\n",
    "\n",
    "(decoder_outputs2, state_h2, state_c2) = decoder_lstm(y_h_st2,\n",
    "        initial_state=[decoder_state_input_h, decoder_state_input_c])\n",
    "\n",
    "# output list of 2d coordinates as prediction directly\n",
    "decoder_outputs2 = decoder_dense(decoder_outputs2)\n",
    "decoder_model = Model(\n",
    "    inputs = [y_train_input, y_train_temp_input] + \\\n",
    "        [decoder_hidden_state_input, decoder_state_input_h, decoder_state_input_c],\n",
    "    ## inputs = [y_train_input] + \\\n",
    "    ##    [decoder_hidden_state_input, decoder_state_input_h, decoder_state_input_c],\n",
    "\n",
    "    outputs = [decoder_outputs2] + [state_h2, state_c2])"
   ]
  },
  {
   "cell_type": "code",
   "execution_count": 617,
   "metadata": {},
   "outputs": [],
   "source": [
    "def decode_sequence(input_traj, pred_traj_length=77):\n",
    "\n",
    "    # encode the input as state vectors\n",
    "    input_traj_temp = np.arange(input_traj.shape[1]).reshape(1, input_traj.shape[1])\n",
    "    ## (e_out, e_h, e_c) = encoder_model.predict(input_traj)\n",
    "    (e_out, e_h, e_c) = encoder_model.predict([input_traj, input_traj_temp])\n",
    "    # ***use the first coordinate pair of input traj to start***\n",
    "    target_traj = input_traj[0][0].reshape(1, 2)\n",
    "    target_traj_temp = np.arange(1).reshape(1, 1)\n",
    "    pred_traj = np.zeros(shape=(pred_traj_length, 2))\n",
    "\n",
    "    for i in np.arange(pred_traj_length):\n",
    "        (output_traj, h, c) = decoder_model.predict(\n",
    "            [target_traj, target_traj_temp] + [e_out, e_h, e_c])\n",
    "        ## (output_traj, h, c) = decoder_model.predict(\n",
    "        ##    [target_traj] + [e_out, e_h, e_c])\n",
    "\n",
    "        # add to results and update next target_traj of length 1\n",
    "        pred_traj[i] = output_traj[0][-1]\n",
    "        target_traj = output_traj\n",
    "\n",
    "        # update internal states for next prediction\n",
    "        (e_h, e_c) = (h, c)\n",
    "        \n",
    "    return pred_traj"
   ]
  },
  {
   "cell_type": "code",
   "execution_count": 621,
   "metadata": {},
   "outputs": [
    {
     "data": {
      "text/plain": [
       "((77, 2), (77, 2))"
      ]
     },
     "execution_count": 621,
     "metadata": {},
     "output_type": "execute_result"
    }
   ],
   "source": [
    "predicted = decode_sequence(x_train[1].reshape(1, max_x_len, 2))\n",
    "predicted.shape, x_train[1].shape"
   ]
  },
  {
   "cell_type": "code",
   "execution_count": 625,
   "metadata": {},
   "outputs": [
    {
     "data": {
      "text/plain": [
       "(array([0.85418522, 0.20302267]), array([0.81042913, 0.23955122]))"
      ]
     },
     "execution_count": 625,
     "metadata": {},
     "output_type": "execute_result"
    }
   ],
   "source": [
    "predicted[0], x_train[1][0]"
   ]
  },
  {
   "cell_type": "code",
   "execution_count": null,
   "metadata": {},
   "outputs": [],
   "source": []
  },
  {
   "cell_type": "code",
   "execution_count": 622,
   "metadata": {},
   "outputs": [
    {
     "data": {
      "text/plain": [
       "70.69801046746865"
      ]
     },
     "execution_count": 622,
     "metadata": {},
     "output_type": "execute_result"
    }
   ],
   "source": [
    "np.mean(tf.keras.metrics.mape(\n",
    "    y_train[1], predicted\n",
    "))"
   ]
  },
  {
   "cell_type": "code",
   "execution_count": 632,
   "metadata": {},
   "outputs": [
    {
     "data": {
      "image/png": "[encoded data removed]",
      "text/plain": [
       "<Figure size 432x288 with 1 Axes>"
      ]
     },
     "metadata": {
      "needs_background": "light"
     },
     "output_type": "display_data"
    }
   ],
   "source": [
    "# plt.plot(ll.x_norm, ll.y_norm)\n",
    "plt.plot(y_train[1][:, 0], y_train[1][:, 1], label='ground truth')\n",
    "plt.plot(x_train[1][:, 0], x_train[1][:, 1], label='sample')\n",
    "plt.plot(predicted[:, 0], predicted[:, 1], label='prediction', linewidth=3)\n",
    "\n",
    "plt.legend()\n",
    "plt.show()"
   ]
  },
  {
   "cell_type": "code",
   "execution_count": null,
   "metadata": {},
   "outputs": [],
   "source": []
  }
 ],
 "metadata": {
  "kernelspec": {
   "display_name": "Python 3.8.3 ('geo_env')",
   "language": "python",
   "name": "python3"
  },
  "language_info": {
   "codemirror_mode": {
    "name": "ipython",
    "version": 3
   },
   "file_extension": ".py",
   "mimetype": "text/x-python",
   "name": "python",
   "nbconvert_exporter": "python",
   "pygments_lexer": "ipython3",
   "version": "3.8.3"
  },
  "orig_nbformat": 4,
  "vscode": {
   "interpreter": {
    "hash": "5275a7a5c7ca3fd70a65904e3b242eaffc13bff6b4373249ccb4466ff1d4eda1"
   }
  }
 },
 "nbformat": 4,
 "nbformat_minor": 2
}
