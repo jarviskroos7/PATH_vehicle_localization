{
 "cells": [
  {
   "cell_type": "markdown",
   "metadata": {},
   "source": [
    "## track trajectory segment generation"
   ]
  },
  {
   "cell_type": "code",
   "execution_count": 2,
   "metadata": {},
   "outputs": [],
   "source": [
    "import pandas as pd\n",
    "import numpy as np\n",
    "from datetime import datetime\n",
    "import matplotlib.pyplot as plt\n",
    "import seaborn as sns\n",
    "import warnings\n",
    "from tqdm import tqdm\n",
    "from rdp import rdp\n",
    "import simplekml\n",
    "import geopandas as gpd\n",
    "warnings.filterwarnings('ignore')\n",
    "from numpy import pi, cos, sin, sqrt, diag\n",
    "from numpy.linalg import inv\n",
    "from numpy.random import randn\n",
    "np.random.seed(0)\n",
    "import pickle\n",
    "import gzip\n",
    "\n",
    "from geopy.distance import great_circle"
   ]
  },
  {
   "cell_type": "code",
   "execution_count": 3,
   "metadata": {},
   "outputs": [
    {
     "data": {
      "text/plain": [
       "((70817, 25), (70817, 25))"
      ]
     },
     "execution_count": 3,
     "metadata": {},
     "output_type": "execute_result"
    }
   ],
   "source": [
    "ll_raw = pd.read_csv('../data/trajectory/Highway Loop Left Lane 11-4-2022 (time stamps).csv')\n",
    "rl_raw = pd.read_csv('../data/trajectory/Highway Loop Left Lane 11-4-2022 (time stamps).csv')\n",
    "\n",
    "ll_raw.shape, rl_raw.shape"
   ]
  },
  {
   "cell_type": "code",
   "execution_count": 4,
   "metadata": {},
   "outputs": [
    {
     "data": {
      "text/plain": [
       "Index(['Time from start of file (s)', 'Latitude (deg)', 'Longitude (deg)',\n",
       "       'Altitude (m)', 'Distance horizontal (m)', 'Velocity forward (m/s)',\n",
       "       'Velocity lateral (m/s)', 'Velocity down (m/s)',\n",
       "       'Speed horizontal (m/s)', 'Heading (deg)', 'Pitch (deg)', 'Roll (deg)',\n",
       "       'Slip angle (deg)', 'Angular rate forward (deg/s)',\n",
       "       'Angular rate lateral (deg/s)', 'Angular rate down (deg/s)',\n",
       "       'Angular rate Xv (deg/s)', 'Angular rate Yv (deg/s)',\n",
       "       'Angular rate Zv (deg/s)', 'Acceleration forward (m/s²)',\n",
       "       'Acceleration lateral (m/s²)', 'Acceleration down (m/s²)',\n",
       "       'Acceleration Xv (m/s²)', 'Acceleration Yv (m/s²)',\n",
       "       'Acceleration Zv (m/s²)'],\n",
       "      dtype='object')"
      ]
     },
     "execution_count": 4,
     "metadata": {},
     "output_type": "execute_result"
    }
   ],
   "source": [
    "ll_raw.columns"
   ]
  },
  {
   "cell_type": "markdown",
   "metadata": {},
   "source": [
    "### Ground Truth Generation\n",
    "- generate 1k ground truth segments from the surveyed test track (center lane)\n",
    "- each ground truth segments is around 200m in length, with 100*standard normal distribution\n",
    "- coordinates are normalized to 0-1\n",
    "- no noise and sub-sampling are performed at this step"
   ]
  },
  {
   "cell_type": "code",
   "execution_count": 4,
   "metadata": {},
   "outputs": [
    {
     "data": {
      "text/html": [
       "<div>\n",
       "<style scoped>\n",
       "    .dataframe tbody tr th:only-of-type {\n",
       "        vertical-align: middle;\n",
       "    }\n",
       "\n",
       "    .dataframe tbody tr th {\n",
       "        vertical-align: top;\n",
       "    }\n",
       "\n",
       "    .dataframe thead th {\n",
       "        text-align: right;\n",
       "    }\n",
       "</style>\n",
       "<table border=\"1\" class=\"dataframe\">\n",
       "  <thead>\n",
       "    <tr style=\"text-align: right;\">\n",
       "      <th></th>\n",
       "      <th>y</th>\n",
       "      <th>x</th>\n",
       "      <th>Vy</th>\n",
       "      <th>Vx</th>\n",
       "      <th>theta</th>\n",
       "      <th>psi</th>\n",
       "      <th>phi</th>\n",
       "      <th>omega_Xv</th>\n",
       "      <th>omega_Yv</th>\n",
       "      <th>alpha_Xv</th>\n",
       "      <th>alpha_Yv</th>\n",
       "    </tr>\n",
       "  </thead>\n",
       "  <tbody>\n",
       "    <tr>\n",
       "      <th>0</th>\n",
       "      <td>42.238643</td>\n",
       "      <td>-83.557448</td>\n",
       "      <td>0.0</td>\n",
       "      <td>0.01</td>\n",
       "      <td>82.408</td>\n",
       "      <td>0.538</td>\n",
       "      <td>0.155</td>\n",
       "      <td>-0.17</td>\n",
       "      <td>-0.87</td>\n",
       "      <td>0.110</td>\n",
       "      <td>-0.005</td>\n",
       "    </tr>\n",
       "    <tr>\n",
       "      <th>1</th>\n",
       "      <td>42.238643</td>\n",
       "      <td>-83.557448</td>\n",
       "      <td>0.0</td>\n",
       "      <td>0.01</td>\n",
       "      <td>82.404</td>\n",
       "      <td>0.540</td>\n",
       "      <td>0.154</td>\n",
       "      <td>-0.04</td>\n",
       "      <td>0.18</td>\n",
       "      <td>0.054</td>\n",
       "      <td>-0.080</td>\n",
       "    </tr>\n",
       "    <tr>\n",
       "      <th>2</th>\n",
       "      <td>42.238643</td>\n",
       "      <td>-83.557448</td>\n",
       "      <td>0.0</td>\n",
       "      <td>0.01</td>\n",
       "      <td>82.404</td>\n",
       "      <td>0.546</td>\n",
       "      <td>0.154</td>\n",
       "      <td>-0.03</td>\n",
       "      <td>0.56</td>\n",
       "      <td>0.054</td>\n",
       "      <td>-0.041</td>\n",
       "    </tr>\n",
       "    <tr>\n",
       "      <th>3</th>\n",
       "      <td>42.238643</td>\n",
       "      <td>-83.557448</td>\n",
       "      <td>0.0</td>\n",
       "      <td>0.01</td>\n",
       "      <td>82.404</td>\n",
       "      <td>0.553</td>\n",
       "      <td>0.154</td>\n",
       "      <td>0.02</td>\n",
       "      <td>0.71</td>\n",
       "      <td>0.132</td>\n",
       "      <td>0.017</td>\n",
       "    </tr>\n",
       "    <tr>\n",
       "      <th>4</th>\n",
       "      <td>42.238643</td>\n",
       "      <td>-83.557448</td>\n",
       "      <td>0.0</td>\n",
       "      <td>0.01</td>\n",
       "      <td>82.410</td>\n",
       "      <td>0.547</td>\n",
       "      <td>0.153</td>\n",
       "      <td>-0.14</td>\n",
       "      <td>-0.55</td>\n",
       "      <td>0.118</td>\n",
       "      <td>-0.009</td>\n",
       "    </tr>\n",
       "  </tbody>\n",
       "</table>\n",
       "</div>"
      ],
      "text/plain": [
       "           y          x   Vy    Vx   theta    psi    phi  omega_Xv  omega_Yv  \\\n",
       "0  42.238643 -83.557448  0.0  0.01  82.408  0.538  0.155     -0.17     -0.87   \n",
       "1  42.238643 -83.557448  0.0  0.01  82.404  0.540  0.154     -0.04      0.18   \n",
       "2  42.238643 -83.557448  0.0  0.01  82.404  0.546  0.154     -0.03      0.56   \n",
       "3  42.238643 -83.557448  0.0  0.01  82.404  0.553  0.154      0.02      0.71   \n",
       "4  42.238643 -83.557448  0.0  0.01  82.410  0.547  0.153     -0.14     -0.55   \n",
       "\n",
       "   alpha_Xv  alpha_Yv  \n",
       "0     0.110    -0.005  \n",
       "1     0.054    -0.080  \n",
       "2     0.054    -0.041  \n",
       "3     0.132     0.017  \n",
       "4     0.118    -0.009  "
      ]
     },
     "execution_count": 4,
     "metadata": {},
     "output_type": "execute_result"
    }
   ],
   "source": [
    "coln_to_keep  = [\n",
    "    'Latitude (deg)', 'Longitude (deg)', # GPS\n",
    "    'Velocity lateral (m/s)', 'Velocity forward (m/s)', # speed\n",
    "    'Heading (deg)', 'Pitch (deg)', 'Roll (deg)', # IMU measurements\n",
    "    'Angular rate Xv (deg/s)', 'Angular rate Yv (deg/s)',\n",
    "    'Acceleration Xv (m/s²)', 'Acceleration Yv (m/s²)',\n",
    "]\n",
    "\n",
    "ll = ll_raw[coln_to_keep]\n",
    "rl = rl_raw[coln_to_keep]\n",
    "\n",
    "ll.rename(columns={\n",
    "    'Latitude (deg)': 'y', 'Longitude (deg)': 'x',\n",
    "    'Velocity lateral (m/s)': 'Vy', 'Velocity forward (m/s)': 'Vx',\n",
    "    'Heading (deg)': 'theta', 'Pitch (deg)': 'psi', 'Roll (deg)': 'phi',\n",
    "    'Angular rate Xv (deg/s)': 'omega_Xv', 'Angular rate Yv (deg/s)': 'omega_Yv',\n",
    "    'Acceleration Xv (m/s²)': 'alpha_Xv', 'Acceleration Yv (m/s²)': 'alpha_Yv'\n",
    "}, inplace=True\n",
    ")\n",
    "\n",
    "rl.rename(columns={\n",
    "    'Latitude (deg)': 'y', 'Longitude (deg)': 'x',\n",
    "    'Velocity lateral (m/s)': 'Vy', 'Velocity forward (m/s)': 'Vx',\n",
    "    'Heading (deg)': 'theta', 'Pitch (deg)': 'psi', 'Roll (deg)': 'phi',\n",
    "    'Angular rate Xv (deg/s)': 'omega_Xv', 'Angular rate Yv (deg/s)': 'omega_Yv',\n",
    "    'Acceleration Xv (m/s²)': 'alpha_Xv', 'Acceleration Yv (m/s²)': 'alpha_Yv'\n",
    "}, inplace=True\n",
    ")\n",
    "\n",
    "ll.head()"
   ]
  },
  {
   "cell_type": "code",
   "execution_count": 5,
   "metadata": {},
   "outputs": [],
   "source": [
    "# normalize GPS trajectory\n",
    "\n",
    "ll_y_max = max(ll['y'])\n",
    "ll_x_max = max(ll['x'])\n",
    "\n",
    "ll_y_min = min(ll['y'])\n",
    "ll_x_min = min(ll['x'])\n",
    "\n",
    "rl_y_max = max(rl['y'])\n",
    "rl_x_max = max(rl['x'])\n",
    "\n",
    "rl_y_min = min(rl['y'])\n",
    "rl_x_min = min(rl['x'])\n",
    "\n",
    "ll['y_norm'] = (ll['y'] - ll_y_min) / (ll_y_max - ll_y_min)\n",
    "ll['x_norm'] = (ll['x'] - ll_x_min) / (ll_x_max - ll_x_min)\n",
    "\n",
    "rl['y_norm'] = (rl['y'] - rl_y_min) / (rl_y_max - rl_y_min)\n",
    "rl['x_norm'] = (rl['x'] - rl_x_min) / (rl_x_max - rl_x_min)\n",
    "\n",
    "# rl = gpd.GeoDataFrame(rl, geometry=gpd.points_from_xy(rl.x, rl.y), crs='EPSG:4326')\n",
    "# ll = ll.to_crs('EPSG:3857')\n",
    "# rl = rl.to_crs('EPSG:3857')"
   ]
  },
  {
   "cell_type": "code",
   "execution_count": 8,
   "metadata": {},
   "outputs": [
    {
     "data": {
      "text/plain": [
       "[<matplotlib.lines.Line2D at 0x7ffa49754d90>]"
      ]
     },
     "execution_count": 8,
     "metadata": {},
     "output_type": "execute_result"
    },
    {
     "data": {
      "image/png": "[encoded data removed]",
      "text/plain": [
       "<Figure size 432x288 with 1 Axes>"
      ]
     },
     "metadata": {
      "needs_background": "light"
     },
     "output_type": "display_data"
    }
   ],
   "source": [
    "plt.plot(rl.x_norm, rl.y_norm)"
   ]
  },
  {
   "cell_type": "code",
   "execution_count": 6,
   "metadata": {},
   "outputs": [
    {
     "data": {
      "text/html": [
       "<div>\n",
       "<style scoped>\n",
       "    .dataframe tbody tr th:only-of-type {\n",
       "        vertical-align: middle;\n",
       "    }\n",
       "\n",
       "    .dataframe tbody tr th {\n",
       "        vertical-align: top;\n",
       "    }\n",
       "\n",
       "    .dataframe thead th {\n",
       "        text-align: right;\n",
       "    }\n",
       "</style>\n",
       "<table border=\"1\" class=\"dataframe\">\n",
       "  <thead>\n",
       "    <tr style=\"text-align: right;\">\n",
       "      <th></th>\n",
       "      <th>y</th>\n",
       "      <th>x</th>\n",
       "      <th>Vy</th>\n",
       "      <th>Vx</th>\n",
       "      <th>theta</th>\n",
       "      <th>psi</th>\n",
       "      <th>phi</th>\n",
       "      <th>omega_Xv</th>\n",
       "      <th>omega_Yv</th>\n",
       "      <th>alpha_Xv</th>\n",
       "      <th>alpha_Yv</th>\n",
       "      <th>y_norm</th>\n",
       "      <th>x_norm</th>\n",
       "      <th>lane</th>\n",
       "    </tr>\n",
       "  </thead>\n",
       "  <tbody>\n",
       "    <tr>\n",
       "      <th>0</th>\n",
       "      <td>42.238643</td>\n",
       "      <td>-83.557448</td>\n",
       "      <td>0.0</td>\n",
       "      <td>0.01</td>\n",
       "      <td>82.408</td>\n",
       "      <td>0.538</td>\n",
       "      <td>0.155</td>\n",
       "      <td>-0.17</td>\n",
       "      <td>-0.87</td>\n",
       "      <td>0.110</td>\n",
       "      <td>-0.005</td>\n",
       "      <td>0.027603</td>\n",
       "      <td>0.590729</td>\n",
       "      <td>0</td>\n",
       "    </tr>\n",
       "    <tr>\n",
       "      <th>1</th>\n",
       "      <td>42.238643</td>\n",
       "      <td>-83.557448</td>\n",
       "      <td>0.0</td>\n",
       "      <td>0.01</td>\n",
       "      <td>82.404</td>\n",
       "      <td>0.540</td>\n",
       "      <td>0.154</td>\n",
       "      <td>-0.04</td>\n",
       "      <td>0.18</td>\n",
       "      <td>0.054</td>\n",
       "      <td>-0.080</td>\n",
       "      <td>0.027603</td>\n",
       "      <td>0.590729</td>\n",
       "      <td>0</td>\n",
       "    </tr>\n",
       "    <tr>\n",
       "      <th>2</th>\n",
       "      <td>42.238643</td>\n",
       "      <td>-83.557448</td>\n",
       "      <td>0.0</td>\n",
       "      <td>0.01</td>\n",
       "      <td>82.404</td>\n",
       "      <td>0.546</td>\n",
       "      <td>0.154</td>\n",
       "      <td>-0.03</td>\n",
       "      <td>0.56</td>\n",
       "      <td>0.054</td>\n",
       "      <td>-0.041</td>\n",
       "      <td>0.027603</td>\n",
       "      <td>0.590729</td>\n",
       "      <td>0</td>\n",
       "    </tr>\n",
       "    <tr>\n",
       "      <th>3</th>\n",
       "      <td>42.238643</td>\n",
       "      <td>-83.557448</td>\n",
       "      <td>0.0</td>\n",
       "      <td>0.01</td>\n",
       "      <td>82.404</td>\n",
       "      <td>0.553</td>\n",
       "      <td>0.154</td>\n",
       "      <td>0.02</td>\n",
       "      <td>0.71</td>\n",
       "      <td>0.132</td>\n",
       "      <td>0.017</td>\n",
       "      <td>0.027603</td>\n",
       "      <td>0.590729</td>\n",
       "      <td>0</td>\n",
       "    </tr>\n",
       "    <tr>\n",
       "      <th>4</th>\n",
       "      <td>42.238643</td>\n",
       "      <td>-83.557448</td>\n",
       "      <td>0.0</td>\n",
       "      <td>0.01</td>\n",
       "      <td>82.410</td>\n",
       "      <td>0.547</td>\n",
       "      <td>0.153</td>\n",
       "      <td>-0.14</td>\n",
       "      <td>-0.55</td>\n",
       "      <td>0.118</td>\n",
       "      <td>-0.009</td>\n",
       "      <td>0.027603</td>\n",
       "      <td>0.590730</td>\n",
       "      <td>0</td>\n",
       "    </tr>\n",
       "  </tbody>\n",
       "</table>\n",
       "</div>"
      ],
      "text/plain": [
       "           y          x   Vy    Vx   theta    psi    phi  omega_Xv  omega_Yv  \\\n",
       "0  42.238643 -83.557448  0.0  0.01  82.408  0.538  0.155     -0.17     -0.87   \n",
       "1  42.238643 -83.557448  0.0  0.01  82.404  0.540  0.154     -0.04      0.18   \n",
       "2  42.238643 -83.557448  0.0  0.01  82.404  0.546  0.154     -0.03      0.56   \n",
       "3  42.238643 -83.557448  0.0  0.01  82.404  0.553  0.154      0.02      0.71   \n",
       "4  42.238643 -83.557448  0.0  0.01  82.410  0.547  0.153     -0.14     -0.55   \n",
       "\n",
       "   alpha_Xv  alpha_Yv    y_norm    x_norm  lane  \n",
       "0     0.110    -0.005  0.027603  0.590729     0  \n",
       "1     0.054    -0.080  0.027603  0.590729     0  \n",
       "2     0.054    -0.041  0.027603  0.590729     0  \n",
       "3     0.132     0.017  0.027603  0.590729     0  \n",
       "4     0.118    -0.009  0.027603  0.590730     0  "
      ]
     },
     "execution_count": 6,
     "metadata": {},
     "output_type": "execute_result"
    }
   ],
   "source": [
    "# lane encoding\n",
    "# 0: left lane\n",
    "# 1: right lane\n",
    "\n",
    "ll['lane'] = 0\n",
    "rl['lane'] = 1\n",
    "\n",
    "ll.head(5)"
   ]
  },
  {
   "cell_type": "code",
   "execution_count": 10,
   "metadata": {},
   "outputs": [
    {
     "data": {
      "text/html": [
       "<div>\n",
       "<style scoped>\n",
       "    .dataframe tbody tr th:only-of-type {\n",
       "        vertical-align: middle;\n",
       "    }\n",
       "\n",
       "    .dataframe tbody tr th {\n",
       "        vertical-align: top;\n",
       "    }\n",
       "\n",
       "    .dataframe thead th {\n",
       "        text-align: right;\n",
       "    }\n",
       "</style>\n",
       "<table border=\"1\" class=\"dataframe\">\n",
       "  <thead>\n",
       "    <tr style=\"text-align: right;\">\n",
       "      <th></th>\n",
       "      <th>y</th>\n",
       "      <th>x</th>\n",
       "      <th>Vy</th>\n",
       "      <th>Vx</th>\n",
       "      <th>theta</th>\n",
       "      <th>psi</th>\n",
       "      <th>phi</th>\n",
       "      <th>omega_Xv</th>\n",
       "      <th>omega_Yv</th>\n",
       "      <th>alpha_Xv</th>\n",
       "      <th>alpha_Yv</th>\n",
       "      <th>y_norm</th>\n",
       "      <th>x_norm</th>\n",
       "      <th>lane</th>\n",
       "    </tr>\n",
       "  </thead>\n",
       "  <tbody>\n",
       "    <tr>\n",
       "      <th>count</th>\n",
       "      <td>70817.000</td>\n",
       "      <td>70817.000</td>\n",
       "      <td>70817.000</td>\n",
       "      <td>70817.000</td>\n",
       "      <td>70817.000</td>\n",
       "      <td>70817.000</td>\n",
       "      <td>70817.000</td>\n",
       "      <td>70817.000</td>\n",
       "      <td>70817.000</td>\n",
       "      <td>70817.000</td>\n",
       "      <td>70817.000</td>\n",
       "      <td>70817.000</td>\n",
       "      <td>70817.000</td>\n",
       "      <td>70817.0</td>\n",
       "    </tr>\n",
       "    <tr>\n",
       "      <th>mean</th>\n",
       "      <td>42.243</td>\n",
       "      <td>-83.558</td>\n",
       "      <td>-0.002</td>\n",
       "      <td>5.232</td>\n",
       "      <td>183.517</td>\n",
       "      <td>0.935</td>\n",
       "      <td>-1.102</td>\n",
       "      <td>0.007</td>\n",
       "      <td>0.015</td>\n",
       "      <td>0.164</td>\n",
       "      <td>0.141</td>\n",
       "      <td>0.492</td>\n",
       "      <td>0.536</td>\n",
       "      <td>0.0</td>\n",
       "    </tr>\n",
       "    <tr>\n",
       "      <th>std</th>\n",
       "      <td>0.004</td>\n",
       "      <td>0.005</td>\n",
       "      <td>0.019</td>\n",
       "      <td>0.620</td>\n",
       "      <td>104.608</td>\n",
       "      <td>1.141</td>\n",
       "      <td>0.837</td>\n",
       "      <td>0.556</td>\n",
       "      <td>0.649</td>\n",
       "      <td>0.259</td>\n",
       "      <td>0.181</td>\n",
       "      <td>0.360</td>\n",
       "      <td>0.344</td>\n",
       "      <td>0.0</td>\n",
       "    </tr>\n",
       "    <tr>\n",
       "      <th>min</th>\n",
       "      <td>42.238</td>\n",
       "      <td>-83.566</td>\n",
       "      <td>-0.100</td>\n",
       "      <td>0.010</td>\n",
       "      <td>0.001</td>\n",
       "      <td>-1.657</td>\n",
       "      <td>-3.367</td>\n",
       "      <td>-5.170</td>\n",
       "      <td>-5.980</td>\n",
       "      <td>-2.033</td>\n",
       "      <td>-1.926</td>\n",
       "      <td>0.000</td>\n",
       "      <td>0.000</td>\n",
       "      <td>0.0</td>\n",
       "    </tr>\n",
       "    <tr>\n",
       "      <th>25%</th>\n",
       "      <td>42.239</td>\n",
       "      <td>-83.563</td>\n",
       "      <td>-0.010</td>\n",
       "      <td>4.870</td>\n",
       "      <td>83.286</td>\n",
       "      <td>0.335</td>\n",
       "      <td>-1.719</td>\n",
       "      <td>-0.320</td>\n",
       "      <td>-0.390</td>\n",
       "      <td>-0.005</td>\n",
       "      <td>0.024</td>\n",
       "      <td>0.105</td>\n",
       "      <td>0.207</td>\n",
       "      <td>0.0</td>\n",
       "    </tr>\n",
       "    <tr>\n",
       "      <th>50%</th>\n",
       "      <td>42.243</td>\n",
       "      <td>-83.558</td>\n",
       "      <td>0.000</td>\n",
       "      <td>5.230</td>\n",
       "      <td>190.418</td>\n",
       "      <td>0.690</td>\n",
       "      <td>-0.988</td>\n",
       "      <td>0.010</td>\n",
       "      <td>0.010</td>\n",
       "      <td>0.138</td>\n",
       "      <td>0.132</td>\n",
       "      <td>0.508</td>\n",
       "      <td>0.552</td>\n",
       "      <td>0.0</td>\n",
       "    </tr>\n",
       "    <tr>\n",
       "      <th>75%</th>\n",
       "      <td>42.247</td>\n",
       "      <td>-83.553</td>\n",
       "      <td>0.010</td>\n",
       "      <td>5.680</td>\n",
       "      <td>258.478</td>\n",
       "      <td>1.768</td>\n",
       "      <td>-0.566</td>\n",
       "      <td>0.330</td>\n",
       "      <td>0.410</td>\n",
       "      <td>0.346</td>\n",
       "      <td>0.251</td>\n",
       "      <td>0.852</td>\n",
       "      <td>0.879</td>\n",
       "      <td>0.0</td>\n",
       "    </tr>\n",
       "    <tr>\n",
       "      <th>max</th>\n",
       "      <td>42.248</td>\n",
       "      <td>-83.551</td>\n",
       "      <td>0.070</td>\n",
       "      <td>6.500</td>\n",
       "      <td>359.996</td>\n",
       "      <td>3.521</td>\n",
       "      <td>1.574</td>\n",
       "      <td>6.460</td>\n",
       "      <td>6.970</td>\n",
       "      <td>2.193</td>\n",
       "      <td>1.762</td>\n",
       "      <td>1.000</td>\n",
       "      <td>1.000</td>\n",
       "      <td>0.0</td>\n",
       "    </tr>\n",
       "  </tbody>\n",
       "</table>\n",
       "</div>"
      ],
      "text/plain": [
       "               y          x         Vy         Vx      theta        psi  \\\n",
       "count  70817.000  70817.000  70817.000  70817.000  70817.000  70817.000   \n",
       "mean      42.243    -83.558     -0.002      5.232    183.517      0.935   \n",
       "std        0.004      0.005      0.019      0.620    104.608      1.141   \n",
       "min       42.238    -83.566     -0.100      0.010      0.001     -1.657   \n",
       "25%       42.239    -83.563     -0.010      4.870     83.286      0.335   \n",
       "50%       42.243    -83.558      0.000      5.230    190.418      0.690   \n",
       "75%       42.247    -83.553      0.010      5.680    258.478      1.768   \n",
       "max       42.248    -83.551      0.070      6.500    359.996      3.521   \n",
       "\n",
       "             phi   omega_Xv   omega_Yv   alpha_Xv   alpha_Yv     y_norm  \\\n",
       "count  70817.000  70817.000  70817.000  70817.000  70817.000  70817.000   \n",
       "mean      -1.102      0.007      0.015      0.164      0.141      0.492   \n",
       "std        0.837      0.556      0.649      0.259      0.181      0.360   \n",
       "min       -3.367     -5.170     -5.980     -2.033     -1.926      0.000   \n",
       "25%       -1.719     -0.320     -0.390     -0.005      0.024      0.105   \n",
       "50%       -0.988      0.010      0.010      0.138      0.132      0.508   \n",
       "75%       -0.566      0.330      0.410      0.346      0.251      0.852   \n",
       "max        1.574      6.460      6.970      2.193      1.762      1.000   \n",
       "\n",
       "          x_norm     lane  \n",
       "count  70817.000  70817.0  \n",
       "mean       0.536      0.0  \n",
       "std        0.344      0.0  \n",
       "min        0.000      0.0  \n",
       "25%        0.207      0.0  \n",
       "50%        0.552      0.0  \n",
       "75%        0.879      0.0  \n",
       "max        1.000      0.0  "
      ]
     },
     "execution_count": 10,
     "metadata": {},
     "output_type": "execute_result"
    }
   ],
   "source": [
    "ll.describe().round(3)"
   ]
  },
  {
   "cell_type": "code",
   "execution_count": 7,
   "metadata": {},
   "outputs": [],
   "source": [
    "def seg_generation(traj_truth_df, seg_size, seg_size_sig, num_samples=500):\n",
    "    \n",
    "    np.random.seed(0)\n",
    "    seg_gt = []\n",
    "\n",
    "    for x in np.random.randint(traj_truth_df.shape[0]-seg_size, size=num_samples):\n",
    "        seg_size += round(seg_size_sig * randn())\n",
    "        # seg_sample.append(traj_truth_df[x:x+seg_size, :])\n",
    "        seg_gt.append(traj_truth_df.iloc[x:x+seg_size])\n",
    "\n",
    "    return seg_gt"
   ]
  },
  {
   "cell_type": "code",
   "execution_count": 41,
   "metadata": {},
   "outputs": [],
   "source": [
    "tot_dist = ll_raw.iloc[-1]['Distance horizontal (m)']\n",
    "seg_dist = 200 # [m]\n",
    "seg_size = round(seg_dist / (tot_dist / ll.shape[0])) # convert to the length of sample\n",
    "seg_size_sig = 0 # 100 # length variance\n",
    "\n",
    "# save all columns\n",
    "ll_seg_gt = seg_generation(ll, seg_size, seg_size_sig)\n",
    "rl_seg_gt = seg_generation(rl, seg_size, seg_size_sig)\n",
    "\n",
    "# save only GPS coordinate columns\n",
    "gps_colns = ['y', 'x', 'y_norm', 'x_norm']\n",
    "ll_seg_gps_gt = seg_generation(ll[gps_colns], seg_size, seg_size_sig)\n",
    "rl_seg_gps_gt = seg_generation(rl[gps_colns], seg_size, seg_size_sig)"
   ]
  },
  {
   "cell_type": "code",
   "execution_count": 42,
   "metadata": {},
   "outputs": [],
   "source": [
    "# runtime ~= 1.5min\n",
    "\n",
    "with gzip.open('../data/segment_groud_truth/ll_seg_gt_500.pkl.gzip', 'wb') as f:\n",
    "    pickle.dump(ll_seg_gt, f)\n",
    "with gzip.open('../data/segment_groud_truth/rl_seg_gt_500.pkl.gzip', 'wb') as f:\n",
    "    pickle.dump(rl_seg_gt, f)\n",
    "\n",
    "with gzip.open('../data/segment_groud_truth/ll_seg_gps_gt_500.pkl.gzip', 'wb') as f:\n",
    "    pickle.dump(ll_seg_gps_gt, f)\n",
    "with gzip.open('../data/segment_groud_truth/rl_seg_gps_gt_500.pkl.gzip', 'wb') as f:\n",
    "    pickle.dump(rl_seg_gps_gt, f)"
   ]
  },
  {
   "cell_type": "code",
   "execution_count": 43,
   "metadata": {},
   "outputs": [
    {
     "name": "stdout",
     "output_type": "stream",
     "text": [
      "500\n",
      "3822\n"
     ]
    },
    {
     "data": {
      "text/html": [
       "<div>\n",
       "<style scoped>\n",
       "    .dataframe tbody tr th:only-of-type {\n",
       "        vertical-align: middle;\n",
       "    }\n",
       "\n",
       "    .dataframe tbody tr th {\n",
       "        vertical-align: top;\n",
       "    }\n",
       "\n",
       "    .dataframe thead th {\n",
       "        text-align: right;\n",
       "    }\n",
       "</style>\n",
       "<table border=\"1\" class=\"dataframe\">\n",
       "  <thead>\n",
       "    <tr style=\"text-align: right;\">\n",
       "      <th></th>\n",
       "      <th>y</th>\n",
       "      <th>x</th>\n",
       "      <th>Vy</th>\n",
       "      <th>Vx</th>\n",
       "      <th>theta</th>\n",
       "      <th>psi</th>\n",
       "      <th>phi</th>\n",
       "      <th>omega_Xv</th>\n",
       "      <th>omega_Yv</th>\n",
       "      <th>alpha_Xv</th>\n",
       "      <th>alpha_Yv</th>\n",
       "      <th>y_norm</th>\n",
       "      <th>x_norm</th>\n",
       "      <th>lane</th>\n",
       "    </tr>\n",
       "  </thead>\n",
       "  <tbody>\n",
       "    <tr>\n",
       "      <th>43567</th>\n",
       "      <td>42.246179</td>\n",
       "      <td>-83.563086</td>\n",
       "      <td>0.03</td>\n",
       "      <td>5.06</td>\n",
       "      <td>237.273</td>\n",
       "      <td>0.538</td>\n",
       "      <td>-1.124</td>\n",
       "      <td>0.26</td>\n",
       "      <td>-0.65</td>\n",
       "      <td>0.114</td>\n",
       "      <td>0.264</td>\n",
       "      <td>0.786530</td>\n",
       "      <td>0.206384</td>\n",
       "      <td>0</td>\n",
       "    </tr>\n",
       "    <tr>\n",
       "      <th>43568</th>\n",
       "      <td>42.246179</td>\n",
       "      <td>-83.563087</td>\n",
       "      <td>0.04</td>\n",
       "      <td>5.06</td>\n",
       "      <td>237.270</td>\n",
       "      <td>0.531</td>\n",
       "      <td>-1.120</td>\n",
       "      <td>0.38</td>\n",
       "      <td>-0.65</td>\n",
       "      <td>-0.068</td>\n",
       "      <td>0.324</td>\n",
       "      <td>0.786505</td>\n",
       "      <td>0.206349</td>\n",
       "      <td>0</td>\n",
       "    </tr>\n",
       "    <tr>\n",
       "      <th>43569</th>\n",
       "      <td>42.246179</td>\n",
       "      <td>-83.563087</td>\n",
       "      <td>0.04</td>\n",
       "      <td>5.05</td>\n",
       "      <td>237.261</td>\n",
       "      <td>0.541</td>\n",
       "      <td>-1.115</td>\n",
       "      <td>0.55</td>\n",
       "      <td>1.01</td>\n",
       "      <td>-0.057</td>\n",
       "      <td>0.244</td>\n",
       "      <td>0.786480</td>\n",
       "      <td>0.206314</td>\n",
       "      <td>0</td>\n",
       "    </tr>\n",
       "    <tr>\n",
       "      <th>43570</th>\n",
       "      <td>42.246178</td>\n",
       "      <td>-83.563088</td>\n",
       "      <td>0.04</td>\n",
       "      <td>5.05</td>\n",
       "      <td>237.262</td>\n",
       "      <td>0.546</td>\n",
       "      <td>-1.110</td>\n",
       "      <td>0.47</td>\n",
       "      <td>0.43</td>\n",
       "      <td>-0.082</td>\n",
       "      <td>0.268</td>\n",
       "      <td>0.786456</td>\n",
       "      <td>0.206278</td>\n",
       "      <td>0</td>\n",
       "    </tr>\n",
       "    <tr>\n",
       "      <th>43571</th>\n",
       "      <td>42.246178</td>\n",
       "      <td>-83.563088</td>\n",
       "      <td>0.04</td>\n",
       "      <td>5.05</td>\n",
       "      <td>237.261</td>\n",
       "      <td>0.539</td>\n",
       "      <td>-1.106</td>\n",
       "      <td>0.45</td>\n",
       "      <td>-0.63</td>\n",
       "      <td>0.063</td>\n",
       "      <td>0.069</td>\n",
       "      <td>0.786431</td>\n",
       "      <td>0.206244</td>\n",
       "      <td>0</td>\n",
       "    </tr>\n",
       "  </tbody>\n",
       "</table>\n",
       "</div>"
      ],
      "text/plain": [
       "               y          x    Vy    Vx    theta    psi    phi  omega_Xv  \\\n",
       "43567  42.246179 -83.563086  0.03  5.06  237.273  0.538 -1.124      0.26   \n",
       "43568  42.246179 -83.563087  0.04  5.06  237.270  0.531 -1.120      0.38   \n",
       "43569  42.246179 -83.563087  0.04  5.05  237.261  0.541 -1.115      0.55   \n",
       "43570  42.246178 -83.563088  0.04  5.05  237.262  0.546 -1.110      0.47   \n",
       "43571  42.246178 -83.563088  0.04  5.05  237.261  0.539 -1.106      0.45   \n",
       "\n",
       "       omega_Yv  alpha_Xv  alpha_Yv    y_norm    x_norm  lane  \n",
       "43567     -0.65     0.114     0.264  0.786530  0.206384     0  \n",
       "43568     -0.65    -0.068     0.324  0.786505  0.206349     0  \n",
       "43569      1.01    -0.057     0.244  0.786480  0.206314     0  \n",
       "43570      0.43    -0.082     0.268  0.786456  0.206278     0  \n",
       "43571     -0.63     0.063     0.069  0.786431  0.206244     0  "
      ]
     },
     "execution_count": 43,
     "metadata": {},
     "output_type": "execute_result"
    }
   ],
   "source": [
    "with gzip.open('../data/segment_groud_truth/ll_seg_gt_500.pkl.gzip', 'rb') as f:\n",
    "    ll_seg_gt = pickle.load(f)\n",
    "\n",
    "print(len(ll_seg_gt))\n",
    "print(ll_seg_gt[0].shape[0])\n",
    "ll_seg_gt[0].head()"
   ]
  },
  {
   "cell_type": "code",
   "execution_count": 54,
   "metadata": {},
   "outputs": [
    {
     "data": {
      "image/png": "[encoded data removed]",
      "text/plain": [
       "<Figure size 432x288 with 1 Axes>"
      ]
     },
     "metadata": {
      "needs_background": "light"
     },
     "output_type": "display_data"
    }
   ],
   "source": [
    "# visualize the generated segments on the test track\n",
    "\n",
    "plt.plot(ll.x_norm, ll.y_norm)\n",
    "\n",
    "for i in np.arange(100):\n",
    "\n",
    "    plt.plot(ll_seg_gt[i].x_norm, ll_seg_gt[i].y_norm, linewidth=7, label='sample segment 1')\n",
    "# plt.plot(ll_seg_gt[100].x_norm, ll_seg_gt[100].y_norm, linewidth=7, label='sample segment 2')"
   ]
  },
  {
   "cell_type": "markdown",
   "metadata": {},
   "source": [
    "### Measurement Noise Generation"
   ]
  },
  {
   "cell_type": "code",
   "execution_count": 12,
   "metadata": {},
   "outputs": [
    {
     "data": {
      "text/plain": [
       "<seaborn.axisgrid.FacetGrid at 0x7fea49bab8b0>"
      ]
     },
     "execution_count": 12,
     "metadata": {},
     "output_type": "execute_result"
    },
    {
     "data": {
      "image/png": "[encoded data removed]",
      "text/plain": [
       "<Figure size 360x360 with 1 Axes>"
      ]
     },
     "metadata": {
      "needs_background": "light"
     },
     "output_type": "display_data"
    }
   ],
   "source": [
    "sns.displot(0.01 * randn(*ll_seg_gt[0]['x'].shape))"
   ]
  },
  {
   "cell_type": "code",
   "execution_count": 47,
   "metadata": {},
   "outputs": [
    {
     "data": {
      "text/plain": [
       "<matplotlib.legend.Legend at 0x7fea3d0ceca0>"
      ]
     },
     "execution_count": 47,
     "metadata": {},
     "output_type": "execute_result"
    },
    {
     "data": {
      "image/png": "[encoded data removed]",
      "text/plain": [
       "<Figure size 432x288 with 1 Axes>"
      ]
     },
     "metadata": {
      "needs_background": "light"
     },
     "output_type": "display_data"
    }
   ],
   "source": [
    "plt.plot(ll.x_norm, ll.y_norm)\n",
    "plt.scatter(ll_seg_gps_gt[1].x_norm + 0.01 * randn(*ll_seg_gps_gt[1]['x'].shape), ll_seg_gps_gt[1].y_norm + 0.005 * randn(*ll_seg_gps_gt[1]['y'].shape), label='0.5% noise added')\n",
    "plt.plot(ll_seg_gps_gt[1].x_norm, ll_seg_gps_gt[1].y_norm, linewidth=7, label='ground truth', color='orange')\n",
    "plt.legend()"
   ]
  },
  {
   "cell_type": "code",
   "execution_count": 60,
   "metadata": {},
   "outputs": [],
   "source": [
    "def add_gps_noise_downsample(seg_samples, sampling_rate, noise_perc):\n",
    "    \"\"\"\n",
    "    seg_samples: list of df, ll_seg_samples\n",
    "    sampling_rate: unit [hz]\n",
    "    noise_perc: 0-1, fraction\n",
    "    \"\"\"\n",
    "\n",
    "    np.random.seed(0)\n",
    "    # known: the sample rate of the RTK-GPS unit is 250hz\n",
    "    rtk_sampling_rate = 250\n",
    "    sampling_spacing = round(rtk_sampling_rate / sampling_rate)\n",
    "    seg_samples_gps = []\n",
    "\n",
    "    for seg_sample in seg_samples:\n",
    "        seg_sample = seg_sample.iloc[::sampling_spacing]\n",
    "        seg_sample['y_norm_noise'] = seg_sample['y_norm'] + noise_perc * randn(*seg_sample['y_norm'].shape)\n",
    "        seg_sample['x_norm_noise'] = seg_sample['x_norm'] + noise_perc * randn(*seg_sample['x_norm'].shape)\n",
    "        seg_samples_gps.append(seg_sample)\n",
    "\n",
    "    return seg_samples_gps"
   ]
  },
  {
   "cell_type": "code",
   "execution_count": 30,
   "metadata": {},
   "outputs": [
    {
     "data": {
      "text/plain": [
       "<AxesSubplot:ylabel='Count'>"
      ]
     },
     "execution_count": 30,
     "metadata": {},
     "output_type": "execute_result"
    },
    {
     "data": {
      "image/png": "[encoded data removed]",
      "text/plain": [
       "<Figure size 432x288 with 1 Axes>"
      ]
     },
     "metadata": {
      "needs_background": "light"
     },
     "output_type": "display_data"
    }
   ],
   "source": [
    "sns.histplot(0.01 * randn(500, 1))"
   ]
  },
  {
   "cell_type": "code",
   "execution_count": 61,
   "metadata": {},
   "outputs": [],
   "source": [
    "# downsample from 250hz to 1hz, adding 1% spatial noise\n",
    "\n",
    "ll_seg_gps_noise = add_gps_noise_downsample(ll_seg_gps_gt, 5, 0.005)\n",
    "rl_seg_gps_noise = add_gps_noise_downsample(rl_seg_gps_gt, 5, 0.005)\n",
    "\n",
    "ll_seg_noise = add_gps_noise_downsample(ll_seg_gt, 5, 0.005)\n",
    "rl_seg_noise = add_gps_noise_downsample(rl_seg_gt, 5, 0.005)"
   ]
  },
  {
   "cell_type": "code",
   "execution_count": 62,
   "metadata": {},
   "outputs": [
    {
     "data": {
      "text/plain": [
       "<matplotlib.legend.Legend at 0x7fea5c058e80>"
      ]
     },
     "execution_count": 62,
     "metadata": {},
     "output_type": "execute_result"
    },
    {
     "data": {
      "image/png": "[encoded data removed]",
      "text/plain": [
       "<Figure size 432x288 with 1 Axes>"
      ]
     },
     "metadata": {
      "needs_background": "light"
     },
     "output_type": "display_data"
    }
   ],
   "source": [
    "# plt.plot(ll.x_norm, ll.y_norm)\n",
    "plt.plot(ll_seg_gps_noise[1].x_norm_noise, ll_seg_gps_noise[1].y_norm_noise, '-o', label='ll: 0.5% noise, 5hz')\n",
    "plt.plot(ll_seg_gt[1].x_norm, ll_seg_gt[1].y_norm, linewidth=7, label='ll: ground truth, 250hz', color='orange')\n",
    "\n",
    "plt.legend()"
   ]
  },
  {
   "cell_type": "code",
   "execution_count": 63,
   "metadata": {},
   "outputs": [
    {
     "data": {
      "text/plain": [
       "<matplotlib.legend.Legend at 0x7fea105e5af0>"
      ]
     },
     "execution_count": 63,
     "metadata": {},
     "output_type": "execute_result"
    },
    {
     "data": {
      "image/png": "[encoded data removed]",
      "text/plain": [
       "<Figure size 432x288 with 1 Axes>"
      ]
     },
     "metadata": {
      "needs_background": "light"
     },
     "output_type": "display_data"
    }
   ],
   "source": [
    "# plt.plot(ll.x_norm, ll.y_norm)\n",
    "plt.plot(ll_seg_gps_noise[200].x_norm_noise, ll_seg_gps_noise[200].y_norm_noise, '-o', label='ll: 0.5% noise, 5hz')\n",
    "plt.plot(ll_seg_gt[200].x_norm, ll_seg_gt[200].y_norm, linewidth=7, label='ll: ground truth, 250hz', color='orange')\n",
    "\n",
    "plt.legend()"
   ]
  },
  {
   "cell_type": "code",
   "execution_count": 51,
   "metadata": {},
   "outputs": [
    {
     "data": {
      "image/png": "[encoded data removed]",
      "text/plain": [
       "<Figure size 432x288 with 2 Axes>"
      ]
     },
     "metadata": {
      "needs_background": "light"
     },
     "output_type": "display_data"
    }
   ],
   "source": [
    "x_count = []\n",
    "y_count = []\n",
    "\n",
    "for x_seg in ll_seg_gps_noise:\n",
    "    x_count.append(len(x_seg))\n",
    "for y_seg in ll_seg_gt:\n",
    "    y_count.append(len(y_seg))\n",
    "\n",
    "graph_df = pd.DataFrame() \n",
    "\n",
    "graph_df['sampled_noisy_gps'] = x_count\n",
    "graph_df['ground_truth_gps'] = y_count\n",
    "\n",
    "graph_df.hist(bins = 10)\n",
    "plt.xlabel('pairs of coordinates')\n",
    "plt.show()"
   ]
  },
  {
   "cell_type": "code",
   "execution_count": 64,
   "metadata": {},
   "outputs": [],
   "source": [
    "# save as pickle objects\n",
    "\n",
    "with gzip.open('../data/segment_with_noise/ll_seg_500_noise.pkl.gzip', 'wb') as f:\n",
    "    pickle.dump(ll_seg_noise, f)\n",
    "with gzip.open('../data/segment_with_noise/rl_seg_500_noise.pkl.gzip', 'wb') as f:\n",
    "    pickle.dump(rl_seg_noise, f)\n",
    "\n",
    "with gzip.open('../data/segment_with_noise/ll_seg_gps_500_noise.pkl.gzip', 'wb') as f:\n",
    "    pickle.dump(ll_seg_gps_noise, f)\n",
    "with gzip.open('../data/segment_with_noise/rl_seg_gps_500_noise.pkl.gzip', 'wb') as f:\n",
    "    pickle.dump(rl_seg_gps_noise, f)"
   ]
  }
 ],
 "metadata": {
  "kernelspec": {
   "display_name": "Python 3.8.3 ('geo_env')",
   "language": "python",
   "name": "python3"
  },
  "language_info": {
   "codemirror_mode": {
    "name": "ipython",
    "version": 3
   },
   "file_extension": ".py",
   "mimetype": "text/x-python",
   "name": "python",
   "nbconvert_exporter": "python",
   "pygments_lexer": "ipython3",
   "version": "3.8.3"
  },
  "orig_nbformat": 4,
  "vscode": {
   "interpreter": {
    "hash": "5275a7a5c7ca3fd70a65904e3b242eaffc13bff6b4373249ccb4466ff1d4eda1"
   }
  }
 },
 "nbformat": 4,
 "nbformat_minor": 2
}
