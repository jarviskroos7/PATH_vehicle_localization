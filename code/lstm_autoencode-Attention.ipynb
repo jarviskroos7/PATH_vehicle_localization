{
 "cells": [
  {
   "cell_type": "code",
   "execution_count": 119,
   "metadata": {},
   "outputs": [],
   "source": [
    "import numpy as np\n",
    "from tensorflow import keras\n",
    "from keras.models import Model\n",
    "from keras.layers import Concatenate, Dense, LSTM, Input, Embedding, Add, TimeDistributed, MultiHeadAttention, Layer\n",
    "from keras.models import Sequential\n",
    "from keras.layers import Dense, Dropout, Embedding, LSTM, GlobalMaxPooling1D, SpatialDropout2D, RepeatVector\n",
    "import keras.backend as K\n",
    "from keras.callbacks import EarlyStopping\n",
    "from sklearn.preprocessing import MinMaxScaler\n",
    "from keras import metrics\n",
    "import gzip\n",
    "import pandas as pd\n",
    "import pickle\n",
    "import matplotlib.pyplot as plt\n",
    "#import seaborn as sns\n",
    "from sklearn.model_selection import train_test_split"
   ]
  },
  {
   "cell_type": "code",
   "execution_count": 3,
   "metadata": {},
   "outputs": [
    {
     "name": "stdout",
     "output_type": "stream",
     "text": [
      "500\n",
      "77\n"
     ]
    },
    {
     "data": {
      "text/html": [
       "<div>\n",
       "<style scoped>\n",
       "    .dataframe tbody tr th:only-of-type {\n",
       "        vertical-align: middle;\n",
       "    }\n",
       "\n",
       "    .dataframe tbody tr th {\n",
       "        vertical-align: top;\n",
       "    }\n",
       "\n",
       "    .dataframe thead th {\n",
       "        text-align: right;\n",
       "    }\n",
       "</style>\n",
       "<table border=\"1\" class=\"dataframe\">\n",
       "  <thead>\n",
       "    <tr style=\"text-align: right;\">\n",
       "      <th></th>\n",
       "      <th>y</th>\n",
       "      <th>x</th>\n",
       "      <th>Vy</th>\n",
       "      <th>Vx</th>\n",
       "      <th>theta</th>\n",
       "      <th>psi</th>\n",
       "      <th>phi</th>\n",
       "      <th>omega_Xv</th>\n",
       "      <th>omega_Yv</th>\n",
       "      <th>alpha_Xv</th>\n",
       "      <th>alpha_Yv</th>\n",
       "      <th>y_norm</th>\n",
       "      <th>x_norm</th>\n",
       "      <th>lane</th>\n",
       "      <th>y_norm_noise</th>\n",
       "      <th>x_norm_noise</th>\n",
       "    </tr>\n",
       "  </thead>\n",
       "  <tbody>\n",
       "    <tr>\n",
       "      <th>43567</th>\n",
       "      <td>42.246179</td>\n",
       "      <td>-83.563086</td>\n",
       "      <td>0.03</td>\n",
       "      <td>5.06</td>\n",
       "      <td>237.273</td>\n",
       "      <td>0.538</td>\n",
       "      <td>-1.124</td>\n",
       "      <td>0.26</td>\n",
       "      <td>-0.65</td>\n",
       "      <td>0.114</td>\n",
       "      <td>0.264</td>\n",
       "      <td>0.786530</td>\n",
       "      <td>0.206384</td>\n",
       "      <td>0</td>\n",
       "      <td>0.795350</td>\n",
       "      <td>0.203490</td>\n",
       "    </tr>\n",
       "    <tr>\n",
       "      <th>43617</th>\n",
       "      <td>42.246167</td>\n",
       "      <td>-83.563112</td>\n",
       "      <td>0.03</td>\n",
       "      <td>5.02</td>\n",
       "      <td>237.211</td>\n",
       "      <td>0.546</td>\n",
       "      <td>-1.151</td>\n",
       "      <td>-0.30</td>\n",
       "      <td>-0.95</td>\n",
       "      <td>-0.011</td>\n",
       "      <td>0.052</td>\n",
       "      <td>0.785304</td>\n",
       "      <td>0.204631</td>\n",
       "      <td>0</td>\n",
       "      <td>0.787305</td>\n",
       "      <td>0.203073</td>\n",
       "    </tr>\n",
       "    <tr>\n",
       "      <th>43667</th>\n",
       "      <td>42.246155</td>\n",
       "      <td>-83.563137</td>\n",
       "      <td>0.03</td>\n",
       "      <td>4.97</td>\n",
       "      <td>237.141</td>\n",
       "      <td>0.579</td>\n",
       "      <td>-1.066</td>\n",
       "      <td>0.35</td>\n",
       "      <td>0.15</td>\n",
       "      <td>-0.034</td>\n",
       "      <td>0.155</td>\n",
       "      <td>0.784089</td>\n",
       "      <td>0.202890</td>\n",
       "      <td>0</td>\n",
       "      <td>0.788982</td>\n",
       "      <td>0.203170</td>\n",
       "    </tr>\n",
       "    <tr>\n",
       "      <th>43717</th>\n",
       "      <td>42.246143</td>\n",
       "      <td>-83.563163</td>\n",
       "      <td>0.03</td>\n",
       "      <td>4.93</td>\n",
       "      <td>237.076</td>\n",
       "      <td>0.566</td>\n",
       "      <td>-0.967</td>\n",
       "      <td>0.66</td>\n",
       "      <td>-0.29</td>\n",
       "      <td>-0.037</td>\n",
       "      <td>0.253</td>\n",
       "      <td>0.782877</td>\n",
       "      <td>0.201164</td>\n",
       "      <td>0</td>\n",
       "      <td>0.794082</td>\n",
       "      <td>0.195338</td>\n",
       "    </tr>\n",
       "    <tr>\n",
       "      <th>43767</th>\n",
       "      <td>42.246131</td>\n",
       "      <td>-83.563188</td>\n",
       "      <td>0.02</td>\n",
       "      <td>4.90</td>\n",
       "      <td>236.990</td>\n",
       "      <td>0.515</td>\n",
       "      <td>-0.921</td>\n",
       "      <td>-0.25</td>\n",
       "      <td>0.01</td>\n",
       "      <td>0.162</td>\n",
       "      <td>0.064</td>\n",
       "      <td>0.781676</td>\n",
       "      <td>0.199454</td>\n",
       "      <td>0</td>\n",
       "      <td>0.791014</td>\n",
       "      <td>0.203958</td>\n",
       "    </tr>\n",
       "  </tbody>\n",
       "</table>\n",
       "</div>"
      ],
      "text/plain": [
       "               y          x    Vy    Vx    theta    psi    phi  omega_Xv  \\\n",
       "43567  42.246179 -83.563086  0.03  5.06  237.273  0.538 -1.124      0.26   \n",
       "43617  42.246167 -83.563112  0.03  5.02  237.211  0.546 -1.151     -0.30   \n",
       "43667  42.246155 -83.563137  0.03  4.97  237.141  0.579 -1.066      0.35   \n",
       "43717  42.246143 -83.563163  0.03  4.93  237.076  0.566 -0.967      0.66   \n",
       "43767  42.246131 -83.563188  0.02  4.90  236.990  0.515 -0.921     -0.25   \n",
       "\n",
       "       omega_Yv  alpha_Xv  alpha_Yv    y_norm    x_norm  lane  y_norm_noise  \\\n",
       "43567     -0.65     0.114     0.264  0.786530  0.206384     0      0.795350   \n",
       "43617     -0.95    -0.011     0.052  0.785304  0.204631     0      0.787305   \n",
       "43667      0.15    -0.034     0.155  0.784089  0.202890     0      0.788982   \n",
       "43717     -0.29    -0.037     0.253  0.782877  0.201164     0      0.794082   \n",
       "43767      0.01     0.162     0.064  0.781676  0.199454     0      0.791014   \n",
       "\n",
       "       x_norm_noise  \n",
       "43567      0.203490  \n",
       "43617      0.203073  \n",
       "43667      0.203170  \n",
       "43717      0.195338  \n",
       "43767      0.203958  "
      ]
     },
     "execution_count": 3,
     "metadata": {},
     "output_type": "execute_result"
    }
   ],
   "source": [
    "# data loading\n",
    "with gzip.open('../data/segment_with_noise/ll_seg_500_noise.pkl.gzip', 'rb') as f:\n",
    "    ll_seg_gps_noise = pickle.load(f)\n",
    "with gzip.open('../data/segment_with_noise/rl_seg_500_noise.pkl.gzip', 'rb') as f:\n",
    "    rl_seg_gps_noise = pickle.load(f)\n",
    "\n",
    "with gzip.open('../data/segment_groud_truth/rl_seg_gt_500.pkl.gzip', 'rb') as f:\n",
    "    ll_seg_gps_gt = pickle.load(f)\n",
    "with gzip.open('../data/segment_groud_truth/ll_seg_gt_500.pkl.gzip', 'rb') as f:\n",
    "    rl_seg_gps_gt = pickle.load(f)\n",
    "\n",
    "print(len(ll_seg_gps_noise))\n",
    "print(ll_seg_gps_noise[0].shape[0])\n",
    "ll_seg_gps_noise[0].head()"
   ]
  },
  {
   "cell_type": "code",
   "execution_count": 4,
   "metadata": {},
   "outputs": [],
   "source": [
    "x_ll = [] # sampled noisy GPS, list of lists of tuples\n",
    "y_gps_ll = [] # sampled noisy GPS, list of lists of tuples\n",
    "y_ll = [] # unsampled groud truth GPS, list of lists of tuples\n",
    "\n",
    "for df in ll_seg_gps_noise:\n",
    "    for coln in ['theta', 'Vx', 'Vy']:\n",
    "        df[f'{coln}_norm'] = MinMaxScaler().fit_transform(np.array(df[coln]).reshape(-1,1))\n",
    "    x_ll.append(df[['y_norm_noise', 'x_norm_noise', 'theta_norm', 'Vx_norm', 'Vy_norm']].values)\n",
    "    y_gps_ll.append(df[['y_norm', 'x_norm']].values)\n",
    "\n",
    "for df in ll_seg_gps_gt:\n",
    "    y_ll.append(df[['y_norm', 'x_norm']].values)"
   ]
  },
  {
   "cell_type": "code",
   "execution_count": 5,
   "metadata": {},
   "outputs": [
    {
     "data": {
      "text/plain": [
       "(77, 3822)"
      ]
     },
     "execution_count": 5,
     "metadata": {},
     "output_type": "execute_result"
    }
   ],
   "source": [
    "# selecting max_y_len and max_x_len\n",
    "max_x_len = max([len(x_seg) for x_seg in x_ll])\n",
    "max_y_len = max([len(y_seg) for y_seg in y_ll])\n",
    "\n",
    "max_x_len, max_y_len"
   ]
  },
  {
   "cell_type": "code",
   "execution_count": 6,
   "metadata": {},
   "outputs": [],
   "source": [
    "embedding_dim = 128\n",
    "latent_dim = 300"
   ]
  },
  {
   "cell_type": "code",
   "execution_count": 115,
   "metadata": {},
   "outputs": [
    {
     "name": "stdout",
     "output_type": "stream",
     "text": [
      "Model: \"model_54\"\n",
      "__________________________________________________________________________________________________\n",
      " Layer (type)                   Output Shape         Param #     Connected to                     \n",
      "==================================================================================================\n",
      " input_109 (InputLayer)         [(None, 77, 5)]      0           []                               \n",
      "                                                                                                  \n",
      " dense_140 (Dense)              (None, 77, 256)      1536        ['input_109[0][0]']              \n",
      "                                                                                                  \n",
      " dense_141 (Dense)              (None, 77, 128)      32896       ['dense_140[0][0]']              \n",
      "                                                                                                  \n",
      " lstm_168 (LSTM)                [(None, 77, 128),    131584      ['dense_141[0][0]']              \n",
      "                                 (None, 128),                                                     \n",
      "                                 (None, 128)]                                                     \n",
      "                                                                                                  \n",
      " lstm_169 (LSTM)                [(None, 128),        131584      ['lstm_168[0][0]']               \n",
      "                                 (None, 128),                                                     \n",
      "                                 (None, 128)]                                                     \n",
      "                                                                                                  \n",
      " repeat_vector_41 (RepeatVector  (None, 77, 128)     0           ['lstm_169[0][0]']               \n",
      " )                                                                                                \n",
      "                                                                                                  \n",
      " lstm_170 (LSTM)                (None, 77, 128)      131584      ['repeat_vector_41[0][0]',       \n",
      "                                                                  'lstm_168[0][1]',               \n",
      "                                                                  'lstm_168[0][2]']               \n",
      "                                                                                                  \n",
      " lstm_171 (LSTM)                (None, 77, 128)      131584      ['lstm_170[0][0]',               \n",
      "                                                                  'lstm_169[0][1]',               \n",
      "                                                                  'lstm_169[0][2]']               \n",
      "                                                                                                  \n",
      " time_distributed_40 (TimeDistr  (None, 77, 2)       258         ['lstm_171[0][0]']               \n",
      " ibuted)                                                                                          \n",
      "                                                                                                  \n",
      "==================================================================================================\n",
      "Total params: 561,026\n",
      "Trainable params: 561,026\n",
      "Non-trainable params: 0\n",
      "__________________________________________________________________________________________________\n"
     ]
    }
   ],
   "source": [
    "def create_LSTM(latent_dim, dense_units, return_sequences, input_shape, activation):\n",
    "    x_train_input = Input(shape=(77,5,))\n",
    "    # dense layer of spatial embedding\n",
    "    x_spatial_embedd1 = Dense(256)\n",
    "    x_spatial_embedd2 = Dense(embedding_dim)\n",
    "\n",
    "    # x_train_temp_input = Input(shape=(77,))\n",
    "    # temporal embedding\n",
    "    # x_temporal_embedd = Embedding(max_x_len+1, embedding_dim, input_length=max_x_len+1, trainable=True) \n",
    "\n",
    "    # combining two features to get spatio-temporal feature representation of input trajectory\n",
    "    # x_h_st = Add()([x_spatial_embedd2(x_spatial_embedd1(x_train_input)), x_temporal_embedd(x_train_temp_input)])\n",
    "    x_h_st = x_spatial_embedd2(x_spatial_embedd1(x_train_input))\n",
    "\n",
    "\n",
    "    encoder_l1 = LSTM(embedding_dim,return_sequences = True, return_state=True)\n",
    "    encoder_outputs1 = encoder_l1(x_h_st)\n",
    "    encoder_states1 = encoder_outputs1[1:]\n",
    "    encoder_l2 = LSTM(embedding_dim, return_state=True)\n",
    "    encoder_outputs2 = encoder_l2(encoder_outputs1[0])\n",
    "    encoder_states2 = encoder_outputs2[1:]\n",
    "\n",
    "    decoder_inputs = RepeatVector(77)(encoder_outputs2[0])\n",
    "\n",
    "    decoder_l1 = LSTM(embedding_dim, return_sequences=True)(decoder_inputs, initial_state = encoder_states1)\n",
    "    decoder_l2 = LSTM(embedding_dim, return_sequences=True)(decoder_l1, initial_state = encoder_states2)\n",
    "    decoder_outputs2 = TimeDistributed(Dense(2))(decoder_l2)\n",
    "\n",
    "    model_e2d2 = Model([x_train_input], decoder_outputs2)\n",
    "    model_e2d2.compile(loss='mean_squared_error', optimizer='adam', metrics=[metrics.mean_absolute_percentage_error])\n",
    "    return model_e2d2\n",
    " \n",
    "model_LSTM = create_LSTM(latent_dim=latent_dim, dense_units=2,return_sequences=True, input_shape=Input(shape=(77,5,)), \n",
    "                   activation=['tanh', 'tanh'])\n",
    "model_LSTM.summary()"
   ]
  },
  {
   "cell_type": "code",
   "execution_count": 125,
   "metadata": {},
   "outputs": [],
   "source": [
    "# Add attention layer to the deep learning network\n",
    "class attention(Layer):\n",
    "    def __init__(self,**kwargs):\n",
    "        super(attention,self).__init__(**kwargs)\n",
    "\n",
    "    def build(self,input_shape):\n",
    "        self.W=self.add_weight(name='attention_weight', shape=(input_shape[-1],1), \n",
    "                               initializer='random_normal', trainable=True)\n",
    "        self.b=self.add_weight(name='attention_bias', shape=(input_shape[1],1), \n",
    "                               initializer='zeros', trainable=True)        \n",
    "        super(attention, self).build(input_shape)\n",
    "\n",
    "    def call(self,x):\n",
    "        # Alignment scores. Pass them through tanh function\n",
    "        e = K.tanh(K.dot(x,self.W)+self.b)\n",
    "        # Remove dimension of size 1\n",
    "        e = K.squeeze(e, axis=-1)   \n",
    "        # Compute the weights\n",
    "        alpha = K.softmax(e)\n",
    "        # Reshape to tensorFlow format\n",
    "        alpha = K.expand_dims(alpha, axis=-1)\n",
    "        # Compute the context vector\n",
    "        context = x * alpha\n",
    "        context = K.sum(context, axis=1)\n",
    "        return context"
   ]
  },
  {
   "cell_type": "code",
   "execution_count": 126,
   "metadata": {},
   "outputs": [
    {
     "name": "stdout",
     "output_type": "stream",
     "text": [
      "Model: \"model_59\"\n",
      "_________________________________________________________________\n",
      " Layer (type)                Output Shape              Param #   \n",
      "=================================================================\n",
      " input_119 (InputLayer)      [(None, 77, 5)]           0         \n",
      "                                                                 \n",
      " model_58 (Functional)       (None, 77, 2)             561026    \n",
      "                                                                 \n",
      " attention_27 (attention)    (None, 2)                 79        \n",
      "                                                                 \n",
      " dense_155 (Dense)           (None, 2)                 6         \n",
      "                                                                 \n",
      "=================================================================\n",
      "Total params: 561,111\n",
      "Trainable params: 561,111\n",
      "Non-trainable params: 0\n",
      "_________________________________________________________________\n"
     ]
    }
   ],
   "source": [
    "def create_LSTM_with_attention(latent_dim, dense_units, input_shape, activation):\n",
    "    x=Input(shape=input_shape)\n",
    "    LSTM_layer = create_LSTM(latent_dim, dense_units, return_sequences=True, input_shape=Input(shape=(77,5,)), activation=activation)(x)\n",
    "    attention_layer = attention()(LSTM_layer)\n",
    "    outputs=Dense(dense_units, trainable=True, activation=activation)(attention_layer)\n",
    "    model=Model(x,outputs)\n",
    "    model.compile(loss='mean_squared_error', optimizer='adam', metrics=[metrics.mean_absolute_percentage_error])    \n",
    "    return model    \n",
    " \n",
    "# Create the model with attention, train and evaluate\n",
    "model_attention = create_LSTM_with_attention(latent_dim=latent_dim, dense_units=2, input_shape=(77,5,), activation='tanh')\n",
    "model_attention.summary()    "
   ]
  },
  {
   "cell_type": "code",
   "execution_count": 127,
   "metadata": {},
   "outputs": [
    {
     "name": "stdout",
     "output_type": "stream",
     "text": [
      "Epoch 1/100\n",
      "5/6 [========================>.....] - ETA: 0s - loss: 0.2404 - mean_absolute_percentage_error: 44179.4648"
     ]
    },
    {
     "ename": "InvalidArgumentError",
     "evalue": "Graph execution error:\n\nDetected at node 'gradient_tape/mean_squared_error/BroadcastGradientArgs' defined at (most recent call last):\n    File \"C:\\Users\\Jessica\\anaconda3\\envs\\Python3-7_Keras_env\\lib\\runpy.py\", line 193, in _run_module_as_main\n      \"__main__\", mod_spec)\n    File \"C:\\Users\\Jessica\\anaconda3\\envs\\Python3-7_Keras_env\\lib\\runpy.py\", line 85, in _run_code\n      exec(code, run_globals)\n    File \"C:\\Users\\Jessica\\anaconda3\\envs\\Python3-7_Keras_env\\lib\\site-packages\\ipykernel_launcher.py\", line 16, in <module>\n      app.launch_new_instance()\n    File \"C:\\Users\\Jessica\\anaconda3\\envs\\Python3-7_Keras_env\\lib\\site-packages\\traitlets\\config\\application.py\", line 846, in launch_instance\n      app.start()\n    File \"C:\\Users\\Jessica\\anaconda3\\envs\\Python3-7_Keras_env\\lib\\site-packages\\ipykernel\\kernelapp.py\", line 677, in start\n      self.io_loop.start()\n    File \"C:\\Users\\Jessica\\anaconda3\\envs\\Python3-7_Keras_env\\lib\\site-packages\\tornado\\platform\\asyncio.py\", line 199, in start\n      self.asyncio_loop.run_forever()\n    File \"C:\\Users\\Jessica\\anaconda3\\envs\\Python3-7_Keras_env\\lib\\asyncio\\base_events.py\", line 541, in run_forever\n      self._run_once()\n    File \"C:\\Users\\Jessica\\anaconda3\\envs\\Python3-7_Keras_env\\lib\\asyncio\\base_events.py\", line 1786, in _run_once\n      handle._run()\n    File \"C:\\Users\\Jessica\\anaconda3\\envs\\Python3-7_Keras_env\\lib\\asyncio\\events.py\", line 88, in _run\n      self._context.run(self._callback, *self._args)\n    File \"C:\\Users\\Jessica\\anaconda3\\envs\\Python3-7_Keras_env\\lib\\site-packages\\ipykernel\\kernelbase.py\", line 471, in dispatch_queue\n      await self.process_one()\n    File \"C:\\Users\\Jessica\\anaconda3\\envs\\Python3-7_Keras_env\\lib\\site-packages\\ipykernel\\kernelbase.py\", line 460, in process_one\n      await dispatch(*args)\n    File \"C:\\Users\\Jessica\\anaconda3\\envs\\Python3-7_Keras_env\\lib\\site-packages\\ipykernel\\kernelbase.py\", line 367, in dispatch_shell\n      await result\n    File \"C:\\Users\\Jessica\\anaconda3\\envs\\Python3-7_Keras_env\\lib\\site-packages\\ipykernel\\kernelbase.py\", line 662, in execute_request\n      reply_content = await reply_content\n    File \"C:\\Users\\Jessica\\anaconda3\\envs\\Python3-7_Keras_env\\lib\\site-packages\\ipykernel\\ipkernel.py\", line 360, in do_execute\n      res = shell.run_cell(code, store_history=store_history, silent=silent)\n    File \"C:\\Users\\Jessica\\anaconda3\\envs\\Python3-7_Keras_env\\lib\\site-packages\\ipykernel\\zmqshell.py\", line 532, in run_cell\n      return super().run_cell(*args, **kwargs)\n    File \"C:\\Users\\Jessica\\anaconda3\\envs\\Python3-7_Keras_env\\lib\\site-packages\\IPython\\core\\interactiveshell.py\", line 2915, in run_cell\n      raw_cell, store_history, silent, shell_futures)\n    File \"C:\\Users\\Jessica\\anaconda3\\envs\\Python3-7_Keras_env\\lib\\site-packages\\IPython\\core\\interactiveshell.py\", line 2960, in _run_cell\n      return runner(coro)\n    File \"C:\\Users\\Jessica\\anaconda3\\envs\\Python3-7_Keras_env\\lib\\site-packages\\IPython\\core\\async_helpers.py\", line 78, in _pseudo_sync_runner\n      coro.send(None)\n    File \"C:\\Users\\Jessica\\anaconda3\\envs\\Python3-7_Keras_env\\lib\\site-packages\\IPython\\core\\interactiveshell.py\", line 3186, in run_cell_async\n      interactivity=interactivity, compiler=compiler, result=result)\n    File \"C:\\Users\\Jessica\\anaconda3\\envs\\Python3-7_Keras_env\\lib\\site-packages\\IPython\\core\\interactiveshell.py\", line 3377, in run_ast_nodes\n      if (await self.run_code(code, result,  async_=asy)):\n    File \"C:\\Users\\Jessica\\anaconda3\\envs\\Python3-7_Keras_env\\lib\\site-packages\\IPython\\core\\interactiveshell.py\", line 3457, in run_code\n      exec(code_obj, self.user_global_ns, self.user_ns)\n    File \"C:\\Users\\Jessica\\AppData\\Local\\Temp\\ipykernel_16172\\333222997.py\", line 13, in <module>\n      epochs = 100, batch_size = 77, callbacks=[es]\n    File \"C:\\Users\\Jessica\\anaconda3\\envs\\Python3-7_Keras_env\\lib\\site-packages\\keras\\utils\\traceback_utils.py\", line 64, in error_handler\n      return fn(*args, **kwargs)\n    File \"C:\\Users\\Jessica\\anaconda3\\envs\\Python3-7_Keras_env\\lib\\site-packages\\keras\\engine\\training.py\", line 1384, in fit\n      tmp_logs = self.train_function(iterator)\n    File \"C:\\Users\\Jessica\\anaconda3\\envs\\Python3-7_Keras_env\\lib\\site-packages\\keras\\engine\\training.py\", line 1021, in train_function\n      return step_function(self, iterator)\n    File \"C:\\Users\\Jessica\\anaconda3\\envs\\Python3-7_Keras_env\\lib\\site-packages\\keras\\engine\\training.py\", line 1010, in step_function\n      outputs = model.distribute_strategy.run(run_step, args=(data,))\n    File \"C:\\Users\\Jessica\\anaconda3\\envs\\Python3-7_Keras_env\\lib\\site-packages\\keras\\engine\\training.py\", line 1000, in run_step\n      outputs = model.train_step(data)\n    File \"C:\\Users\\Jessica\\anaconda3\\envs\\Python3-7_Keras_env\\lib\\site-packages\\keras\\engine\\training.py\", line 863, in train_step\n      self.optimizer.minimize(loss, self.trainable_variables, tape=tape)\n    File \"C:\\Users\\Jessica\\anaconda3\\envs\\Python3-7_Keras_env\\lib\\site-packages\\keras\\optimizer_v2\\optimizer_v2.py\", line 531, in minimize\n      loss, var_list=var_list, grad_loss=grad_loss, tape=tape)\n    File \"C:\\Users\\Jessica\\anaconda3\\envs\\Python3-7_Keras_env\\lib\\site-packages\\keras\\optimizer_v2\\optimizer_v2.py\", line 583, in _compute_gradients\n      grads_and_vars = self._get_gradients(tape, loss, var_list, grad_loss)\n    File \"C:\\Users\\Jessica\\anaconda3\\envs\\Python3-7_Keras_env\\lib\\site-packages\\keras\\optimizer_v2\\optimizer_v2.py\", line 464, in _get_gradients\n      grads = tape.gradient(loss, var_list, grad_loss)\nNode: 'gradient_tape/mean_squared_error/BroadcastGradientArgs'\nIncompatible shapes: [65,2] vs. [65,77,2]\n\t [[{{node gradient_tape/mean_squared_error/BroadcastGradientArgs}}]] [Op:__inference_train_function_232673]",
     "output_type": "error",
     "traceback": [
      "\u001b[1;31m---------------------------------------------------------------------------\u001b[0m",
      "\u001b[1;31mInvalidArgumentError\u001b[0m                      Traceback (most recent call last)",
      "\u001b[1;32m~\\AppData\\Local\\Temp\\ipykernel_16172\\333222997.py\u001b[0m in \u001b[0;36m<module>\u001b[1;34m\u001b[0m\n\u001b[0;32m     11\u001b[0m     \u001b[0mx_train\u001b[0m\u001b[1;33m,\u001b[0m \u001b[0my_train\u001b[0m\u001b[1;33m,\u001b[0m\u001b[1;33m\u001b[0m\u001b[1;33m\u001b[0m\u001b[0m\n\u001b[0;32m     12\u001b[0m     \u001b[0mvalidation_split\u001b[0m \u001b[1;33m=\u001b[0m \u001b[1;36m0.1\u001b[0m\u001b[1;33m,\u001b[0m\u001b[1;33m\u001b[0m\u001b[1;33m\u001b[0m\u001b[0m\n\u001b[1;32m---> 13\u001b[1;33m     \u001b[0mepochs\u001b[0m \u001b[1;33m=\u001b[0m \u001b[1;36m100\u001b[0m\u001b[1;33m,\u001b[0m \u001b[0mbatch_size\u001b[0m \u001b[1;33m=\u001b[0m \u001b[1;36m77\u001b[0m\u001b[1;33m,\u001b[0m \u001b[0mcallbacks\u001b[0m\u001b[1;33m=\u001b[0m\u001b[1;33m[\u001b[0m\u001b[0mes\u001b[0m\u001b[1;33m]\u001b[0m\u001b[1;33m\u001b[0m\u001b[1;33m\u001b[0m\u001b[0m\n\u001b[0m\u001b[0;32m     14\u001b[0m )\n",
      "\u001b[1;32m~\\anaconda3\\envs\\Python3-7_Keras_env\\lib\\site-packages\\keras\\utils\\traceback_utils.py\u001b[0m in \u001b[0;36merror_handler\u001b[1;34m(*args, **kwargs)\u001b[0m\n\u001b[0;32m     65\u001b[0m     \u001b[1;32mexcept\u001b[0m \u001b[0mException\u001b[0m \u001b[1;32mas\u001b[0m \u001b[0me\u001b[0m\u001b[1;33m:\u001b[0m  \u001b[1;31m# pylint: disable=broad-except\u001b[0m\u001b[1;33m\u001b[0m\u001b[1;33m\u001b[0m\u001b[0m\n\u001b[0;32m     66\u001b[0m       \u001b[0mfiltered_tb\u001b[0m \u001b[1;33m=\u001b[0m \u001b[0m_process_traceback_frames\u001b[0m\u001b[1;33m(\u001b[0m\u001b[0me\u001b[0m\u001b[1;33m.\u001b[0m\u001b[0m__traceback__\u001b[0m\u001b[1;33m)\u001b[0m\u001b[1;33m\u001b[0m\u001b[1;33m\u001b[0m\u001b[0m\n\u001b[1;32m---> 67\u001b[1;33m       \u001b[1;32mraise\u001b[0m \u001b[0me\u001b[0m\u001b[1;33m.\u001b[0m\u001b[0mwith_traceback\u001b[0m\u001b[1;33m(\u001b[0m\u001b[0mfiltered_tb\u001b[0m\u001b[1;33m)\u001b[0m \u001b[1;32mfrom\u001b[0m \u001b[1;32mNone\u001b[0m\u001b[1;33m\u001b[0m\u001b[1;33m\u001b[0m\u001b[0m\n\u001b[0m\u001b[0;32m     68\u001b[0m     \u001b[1;32mfinally\u001b[0m\u001b[1;33m:\u001b[0m\u001b[1;33m\u001b[0m\u001b[1;33m\u001b[0m\u001b[0m\n\u001b[0;32m     69\u001b[0m       \u001b[1;32mdel\u001b[0m \u001b[0mfiltered_tb\u001b[0m\u001b[1;33m\u001b[0m\u001b[1;33m\u001b[0m\u001b[0m\n",
      "\u001b[1;32m~\\anaconda3\\envs\\Python3-7_Keras_env\\lib\\site-packages\\tensorflow\\python\\eager\\execute.py\u001b[0m in \u001b[0;36mquick_execute\u001b[1;34m(op_name, num_outputs, inputs, attrs, ctx, name)\u001b[0m\n\u001b[0;32m     53\u001b[0m     \u001b[0mctx\u001b[0m\u001b[1;33m.\u001b[0m\u001b[0mensure_initialized\u001b[0m\u001b[1;33m(\u001b[0m\u001b[1;33m)\u001b[0m\u001b[1;33m\u001b[0m\u001b[1;33m\u001b[0m\u001b[0m\n\u001b[0;32m     54\u001b[0m     tensors = pywrap_tfe.TFE_Py_Execute(ctx._handle, device_name, op_name,\n\u001b[1;32m---> 55\u001b[1;33m                                         inputs, attrs, num_outputs)\n\u001b[0m\u001b[0;32m     56\u001b[0m   \u001b[1;32mexcept\u001b[0m \u001b[0mcore\u001b[0m\u001b[1;33m.\u001b[0m\u001b[0m_NotOkStatusException\u001b[0m \u001b[1;32mas\u001b[0m \u001b[0me\u001b[0m\u001b[1;33m:\u001b[0m\u001b[1;33m\u001b[0m\u001b[1;33m\u001b[0m\u001b[0m\n\u001b[0;32m     57\u001b[0m     \u001b[1;32mif\u001b[0m \u001b[0mname\u001b[0m \u001b[1;32mis\u001b[0m \u001b[1;32mnot\u001b[0m \u001b[1;32mNone\u001b[0m\u001b[1;33m:\u001b[0m\u001b[1;33m\u001b[0m\u001b[1;33m\u001b[0m\u001b[0m\n",
      "\u001b[1;31mInvalidArgumentError\u001b[0m: Graph execution error:\n\nDetected at node 'gradient_tape/mean_squared_error/BroadcastGradientArgs' defined at (most recent call last):\n    File \"C:\\Users\\Jessica\\anaconda3\\envs\\Python3-7_Keras_env\\lib\\runpy.py\", line 193, in _run_module_as_main\n      \"__main__\", mod_spec)\n    File \"C:\\Users\\Jessica\\anaconda3\\envs\\Python3-7_Keras_env\\lib\\runpy.py\", line 85, in _run_code\n      exec(code, run_globals)\n    File \"C:\\Users\\Jessica\\anaconda3\\envs\\Python3-7_Keras_env\\lib\\site-packages\\ipykernel_launcher.py\", line 16, in <module>\n      app.launch_new_instance()\n    File \"C:\\Users\\Jessica\\anaconda3\\envs\\Python3-7_Keras_env\\lib\\site-packages\\traitlets\\config\\application.py\", line 846, in launch_instance\n      app.start()\n    File \"C:\\Users\\Jessica\\anaconda3\\envs\\Python3-7_Keras_env\\lib\\site-packages\\ipykernel\\kernelapp.py\", line 677, in start\n      self.io_loop.start()\n    File \"C:\\Users\\Jessica\\anaconda3\\envs\\Python3-7_Keras_env\\lib\\site-packages\\tornado\\platform\\asyncio.py\", line 199, in start\n      self.asyncio_loop.run_forever()\n    File \"C:\\Users\\Jessica\\anaconda3\\envs\\Python3-7_Keras_env\\lib\\asyncio\\base_events.py\", line 541, in run_forever\n      self._run_once()\n    File \"C:\\Users\\Jessica\\anaconda3\\envs\\Python3-7_Keras_env\\lib\\asyncio\\base_events.py\", line 1786, in _run_once\n      handle._run()\n    File \"C:\\Users\\Jessica\\anaconda3\\envs\\Python3-7_Keras_env\\lib\\asyncio\\events.py\", line 88, in _run\n      self._context.run(self._callback, *self._args)\n    File \"C:\\Users\\Jessica\\anaconda3\\envs\\Python3-7_Keras_env\\lib\\site-packages\\ipykernel\\kernelbase.py\", line 471, in dispatch_queue\n      await self.process_one()\n    File \"C:\\Users\\Jessica\\anaconda3\\envs\\Python3-7_Keras_env\\lib\\site-packages\\ipykernel\\kernelbase.py\", line 460, in process_one\n      await dispatch(*args)\n    File \"C:\\Users\\Jessica\\anaconda3\\envs\\Python3-7_Keras_env\\lib\\site-packages\\ipykernel\\kernelbase.py\", line 367, in dispatch_shell\n      await result\n    File \"C:\\Users\\Jessica\\anaconda3\\envs\\Python3-7_Keras_env\\lib\\site-packages\\ipykernel\\kernelbase.py\", line 662, in execute_request\n      reply_content = await reply_content\n    File \"C:\\Users\\Jessica\\anaconda3\\envs\\Python3-7_Keras_env\\lib\\site-packages\\ipykernel\\ipkernel.py\", line 360, in do_execute\n      res = shell.run_cell(code, store_history=store_history, silent=silent)\n    File \"C:\\Users\\Jessica\\anaconda3\\envs\\Python3-7_Keras_env\\lib\\site-packages\\ipykernel\\zmqshell.py\", line 532, in run_cell\n      return super().run_cell(*args, **kwargs)\n    File \"C:\\Users\\Jessica\\anaconda3\\envs\\Python3-7_Keras_env\\lib\\site-packages\\IPython\\core\\interactiveshell.py\", line 2915, in run_cell\n      raw_cell, store_history, silent, shell_futures)\n    File \"C:\\Users\\Jessica\\anaconda3\\envs\\Python3-7_Keras_env\\lib\\site-packages\\IPython\\core\\interactiveshell.py\", line 2960, in _run_cell\n      return runner(coro)\n    File \"C:\\Users\\Jessica\\anaconda3\\envs\\Python3-7_Keras_env\\lib\\site-packages\\IPython\\core\\async_helpers.py\", line 78, in _pseudo_sync_runner\n      coro.send(None)\n    File \"C:\\Users\\Jessica\\anaconda3\\envs\\Python3-7_Keras_env\\lib\\site-packages\\IPython\\core\\interactiveshell.py\", line 3186, in run_cell_async\n      interactivity=interactivity, compiler=compiler, result=result)\n    File \"C:\\Users\\Jessica\\anaconda3\\envs\\Python3-7_Keras_env\\lib\\site-packages\\IPython\\core\\interactiveshell.py\", line 3377, in run_ast_nodes\n      if (await self.run_code(code, result,  async_=asy)):\n    File \"C:\\Users\\Jessica\\anaconda3\\envs\\Python3-7_Keras_env\\lib\\site-packages\\IPython\\core\\interactiveshell.py\", line 3457, in run_code\n      exec(code_obj, self.user_global_ns, self.user_ns)\n    File \"C:\\Users\\Jessica\\AppData\\Local\\Temp\\ipykernel_16172\\333222997.py\", line 13, in <module>\n      epochs = 100, batch_size = 77, callbacks=[es]\n    File \"C:\\Users\\Jessica\\anaconda3\\envs\\Python3-7_Keras_env\\lib\\site-packages\\keras\\utils\\traceback_utils.py\", line 64, in error_handler\n      return fn(*args, **kwargs)\n    File \"C:\\Users\\Jessica\\anaconda3\\envs\\Python3-7_Keras_env\\lib\\site-packages\\keras\\engine\\training.py\", line 1384, in fit\n      tmp_logs = self.train_function(iterator)\n    File \"C:\\Users\\Jessica\\anaconda3\\envs\\Python3-7_Keras_env\\lib\\site-packages\\keras\\engine\\training.py\", line 1021, in train_function\n      return step_function(self, iterator)\n    File \"C:\\Users\\Jessica\\anaconda3\\envs\\Python3-7_Keras_env\\lib\\site-packages\\keras\\engine\\training.py\", line 1010, in step_function\n      outputs = model.distribute_strategy.run(run_step, args=(data,))\n    File \"C:\\Users\\Jessica\\anaconda3\\envs\\Python3-7_Keras_env\\lib\\site-packages\\keras\\engine\\training.py\", line 1000, in run_step\n      outputs = model.train_step(data)\n    File \"C:\\Users\\Jessica\\anaconda3\\envs\\Python3-7_Keras_env\\lib\\site-packages\\keras\\engine\\training.py\", line 863, in train_step\n      self.optimizer.minimize(loss, self.trainable_variables, tape=tape)\n    File \"C:\\Users\\Jessica\\anaconda3\\envs\\Python3-7_Keras_env\\lib\\site-packages\\keras\\optimizer_v2\\optimizer_v2.py\", line 531, in minimize\n      loss, var_list=var_list, grad_loss=grad_loss, tape=tape)\n    File \"C:\\Users\\Jessica\\anaconda3\\envs\\Python3-7_Keras_env\\lib\\site-packages\\keras\\optimizer_v2\\optimizer_v2.py\", line 583, in _compute_gradients\n      grads_and_vars = self._get_gradients(tape, loss, var_list, grad_loss)\n    File \"C:\\Users\\Jessica\\anaconda3\\envs\\Python3-7_Keras_env\\lib\\site-packages\\keras\\optimizer_v2\\optimizer_v2.py\", line 464, in _get_gradients\n      grads = tape.gradient(loss, var_list, grad_loss)\nNode: 'gradient_tape/mean_squared_error/BroadcastGradientArgs'\nIncompatible shapes: [65,2] vs. [65,77,2]\n\t [[{{node gradient_tape/mean_squared_error/BroadcastGradientArgs}}]] [Op:__inference_train_function_232673]"
     ]
    }
   ],
   "source": [
    "# redefine training inputs to use built-in train-test-split in model.fit()\n",
    "x_train = np.asarray(x_ll)\n",
    "# x_temp = np.asarray([np.arange(max_x_len) for i in np.arange(len(x_ll))])\n",
    "# y_train = np.asarray(y_ll)\n",
    "y_train = np.asarray(y_gps_ll)\n",
    "\n",
    "# reduce_lr = keras.callbacks.LearningRateScheduler(lambda x: 1e-3 * 0.90 ** x)\n",
    "es = EarlyStopping(monitor='val_loss', mode='min', verbose=1, patience=10)\n",
    "\n",
    "history = model_attention.fit(\n",
    "    x_train, y_train,\n",
    "    validation_split = 0.1,\n",
    "    epochs = 100, batch_size = 77, callbacks=[es]\n",
    ")"
   ]
  },
  {
   "cell_type": "markdown",
   "metadata": {},
   "source": [
    "### loading and saving model\n",
    "\n",
    "- mode/autoencode_v1: baseline model to be improved, epoch=100, val_loss~=800"
   ]
  },
  {
   "cell_type": "code",
   "execution_count": 18,
   "metadata": {},
   "outputs": [],
   "source": [
    "# model_e2d2.save('../models/autoencode_v1')\n",
    "model_e2d2 = keras.models.load_model('../models/autoencode_v1')"
   ]
  },
  {
   "cell_type": "code",
   "execution_count": 12,
   "metadata": {},
   "outputs": [
    {
     "data": {
      "image/png": "[encoded data removed]",
      "text/plain": [
       "<Figure size 432x288 with 1 Axes>"
      ]
     },
     "metadata": {
      "needs_background": "light"
     },
     "output_type": "display_data"
    }
   ],
   "source": [
    "plt.plot(history.history['loss'], label='train')\n",
    "plt.plot(history.history['val_loss'], label='validation')\n",
    "plt.xlabel('epochs')\n",
    "plt.ylabel('loss')\n",
    "plt.legend()\n",
    "plt.show()"
   ]
  },
  {
   "cell_type": "code",
   "execution_count": 13,
   "metadata": {},
   "outputs": [
    {
     "data": {
      "image/png": "[encoded data removed]",
      "text/plain": [
       "<Figure size 432x288 with 1 Axes>"
      ]
     },
     "metadata": {
      "needs_background": "light"
     },
     "output_type": "display_data"
    }
   ],
   "source": [
    "plt.plot(history.history['mean_absolute_percentage_error'], label='train')\n",
    "plt.plot(history.history['val_mean_absolute_percentage_error'], label='validation')\n",
    "plt.xlabel('epochs')\n",
    "plt.ylabel('mean_absolute_percentage_error')\n",
    "plt.legend()\n",
    "plt.show()"
   ]
  },
  {
   "cell_type": "code",
   "execution_count": 20,
   "metadata": {},
   "outputs": [
    {
     "data": {
      "text/plain": [
       "((77, 2), (77, 5))"
      ]
     },
     "execution_count": 20,
     "metadata": {},
     "output_type": "execute_result"
    }
   ],
   "source": [
    "sample = 2\n",
    "\n",
    "y_pred = model_e2d2.predict(\n",
    "    [x_train[sample].reshape(1, max_x_len, 5), np.arange(max_x_len).reshape(1, max_x_len)]\n",
    "    ).reshape(max_x_len, 2)\n",
    "\n",
    "y_pred.shape, x_train[sample].shape"
   ]
  },
  {
   "cell_type": "code",
   "execution_count": 21,
   "metadata": {},
   "outputs": [
    {
     "data": {
      "image/png": "[encoded data removed]",
      "text/plain": [
       "<Figure size 432x288 with 1 Axes>"
      ]
     },
     "metadata": {
      "needs_background": "light"
     },
     "output_type": "display_data"
    }
   ],
   "source": [
    "plt.plot(y_train[sample][:, 0], y_train[sample][:, 1], label='ground truth')\n",
    "plt.plot(x_train[sample][:, 0], x_train[sample][:, 1], label='noisy sample')\n",
    "plt.plot(y_pred[:, 0], y_pred[:, 1], label='prediction', linewidth=3)\n",
    "plt.scatter(y_pred[:, 0][0], y_pred[:, 1][0], label='start', s=100)\n",
    "\n",
    "plt.legend()\n",
    "plt.show()"
   ]
  },
  {
   "cell_type": "code",
   "execution_count": null,
   "metadata": {},
   "outputs": [],
   "source": []
  }
 ],
 "metadata": {
  "kernelspec": {
   "display_name": "Python 3 (ipykernel)",
   "language": "python",
   "name": "python3"
  },
  "language_info": {
   "codemirror_mode": {
    "name": "ipython",
    "version": 3
   },
   "file_extension": ".py",
   "mimetype": "text/x-python",
   "name": "python",
   "nbconvert_exporter": "python",
   "pygments_lexer": "ipython3",
   "version": "3.7.13"
  },
  "vscode": {
   "interpreter": {
    "hash": "5275a7a5c7ca3fd70a65904e3b242eaffc13bff6b4373249ccb4466ff1d4eda1"
   }
  }
 },
 "nbformat": 4,
 "nbformat_minor": 2
}
